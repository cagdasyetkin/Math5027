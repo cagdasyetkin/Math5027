{
 "cells": [
  {
   "cell_type": "markdown",
   "metadata": {},
   "source": [
    "<div class=\"frontmatter text-center\">\n",
    "<h1> MATH5027 Scientific Python</h1>\n",
    "<h3>Central European University, Fall 2017/2018</h3>\n",
    "<h3>Instructor: Prof. Roberta Sinatra, TA: Johannes Wachs</h3>\n",
    "inspired to the Python lectures of J.R. Johansson, available at [http://github.com/jrjohansson/scientific-python-lectures](http://github.com/jrjohansson/scientific-python-lectures).\n",
    "</div>"
   ]
  },
  {
   "cell_type": "markdown",
   "metadata": {},
   "source": [
    "# Today\n",
    "We will \n",
    "* learn an important feature of lists: comprehension \n",
    "* do more exercises with lists and strings\n",
    "* one more exercise with web scraping"
   ]
  },
  {
   "cell_type": "markdown",
   "metadata": {},
   "source": [
    "When you iterate over a list, like done before, you get the elements in the list, not their index!"
   ]
  },
  {
   "cell_type": "code",
   "execution_count": 16,
   "metadata": {
    "scrolled": true
   },
   "outputs": [
    {
     "name": "stdout",
     "output_type": "stream",
     "text": [
      "scientific\n",
      "computing\n",
      "with\n",
      "python\n"
     ]
    }
   ],
   "source": [
    "words=[\"scientific\", \"computing\", \"with\", \"python\"]\n",
    "for word in words:\n",
    "    print(word)"
   ]
  },
  {
   "cell_type": "markdown",
   "metadata": {},
   "source": [
    "If you want also the indexes in the list, you need to use enumerate:"
   ]
  },
  {
   "cell_type": "code",
   "execution_count": 17,
   "metadata": {},
   "outputs": [
    {
     "name": "stdout",
     "output_type": "stream",
     "text": [
      "0 scientific\n",
      "1 computing\n",
      "2 with\n",
      "3 python\n"
     ]
    }
   ],
   "source": [
    "words=[\"scientific\", \"computing\", \"with\", \"python\"]\n",
    "for idx, word in enumerate(words):\n",
    "    print(idx,word)"
   ]
  },
  {
   "cell_type": "code",
   "execution_count": 18,
   "metadata": {},
   "outputs": [
    {
     "data": {
      "text/plain": [
       "enumerate"
      ]
     },
     "execution_count": 18,
     "metadata": {},
     "output_type": "execute_result"
    }
   ],
   "source": [
    "type(enumerate(words))"
   ]
  },
  {
   "cell_type": "code",
   "execution_count": 19,
   "metadata": {},
   "outputs": [
    {
     "name": "stdout",
     "output_type": "stream",
     "text": [
      "0\n",
      "1\n",
      "2\n",
      "3\n",
      "4\n",
      "5\n",
      "6\n",
      "7\n",
      "8\n",
      "9\n"
     ]
    }
   ],
   "source": [
    "for x in range(10): # by default range start at 0\n",
    "    print(x)"
   ]
  },
  {
   "cell_type": "code",
   "execution_count": 11,
   "metadata": {},
   "outputs": [
    {
     "data": {
      "text/plain": [
       "range"
      ]
     },
     "execution_count": 11,
     "metadata": {},
     "output_type": "execute_result"
    }
   ],
   "source": [
    "type((range(10)))"
   ]
  },
  {
   "cell_type": "markdown",
   "metadata": {},
   "source": [
    "Range and enumerate are an objects, but you can convert them easily to a list and to a list of tuples: "
   ]
  },
  {
   "cell_type": "code",
   "execution_count": 20,
   "metadata": {},
   "outputs": [
    {
     "data": {
      "text/plain": [
       "[0, 1, 2, 3, 4, 5, 6, 7, 8, 9]"
      ]
     },
     "execution_count": 20,
     "metadata": {},
     "output_type": "execute_result"
    }
   ],
   "source": [
    "list(range(10))"
   ]
  },
  {
   "cell_type": "code",
   "execution_count": 13,
   "metadata": {},
   "outputs": [
    {
     "data": {
      "text/plain": [
       "[(0, -3), (1, -2), (2, -1), (3, 0), (4, 1), (5, 2)]"
      ]
     },
     "execution_count": 13,
     "metadata": {},
     "output_type": "execute_result"
    }
   ],
   "source": [
    "list(enumerate(range(-3,3)))"
   ]
  },
  {
   "cell_type": "code",
   "execution_count": 15,
   "metadata": {},
   "outputs": [
    {
     "data": {
      "text/plain": [
       "[(0, 'scientific'), (1, 'computing'), (2, 'with'), (3, 'python')]"
      ]
     },
     "execution_count": 15,
     "metadata": {},
     "output_type": "execute_result"
    }
   ],
   "source": [
    "words=[\"scientific\", \"computing\", \"with\", \"python\"]\n",
    "list(enumerate(words))"
   ]
  },
  {
   "cell_type": "markdown",
   "metadata": {},
   "source": [
    "# Example of web scraping\n",
    "Complete the exercises from last time (reported below)."
   ]
  },
  {
   "cell_type": "markdown",
   "metadata": {},
   "source": [
    "## Exercise &#x1F4D8;\n",
    "* Select all the annual and quarterly tickets\n",
    "* How much do you save if you buy four quarterly tickets instead of one annual ticket (use the average price)?\n",
    "\n",
    "## Exercise &#x1F4D7;\n",
    "* If you look at the webpage, you'll notice that we missed some tickets, like the Suburban railway extension ticket. Write code to get that information too and merge it with the list of pairs we found it already \n",
    "* Some ticket types have been truncated, like \"Pass certificate &#8211; genera\" - it should be \"Pass certificate &#8211; general\". Can you handle this exception?"
   ]
  },
  {
   "cell_type": "markdown",
   "metadata": {},
   "source": [
    "## List comprehensions: Creating lists using `for` loops:"
   ]
  },
  {
   "cell_type": "markdown",
   "metadata": {},
   "source": [
    "A convenient and compact way to initialize lists is through **list comprehension**. A list comprehension mimics the mathematic formalism of defining sets. For example:\n",
    "$$ L=\\lbrace x^2 : x \\in \\lbrace 0, 1, 2, 3, 4\\rbrace \\rbrace.$$\n",
    "This translates into:"
   ]
  },
  {
   "cell_type": "code",
   "execution_count": 32,
   "metadata": {},
   "outputs": [
    {
     "name": "stdout",
     "output_type": "stream",
     "text": [
      "[0, 1, 4, 9, 16]\n"
     ]
    }
   ],
   "source": [
    "L = [x**2 for x in range(0,5)]\n",
    "\n",
    "print(L)\n"
   ]
  },
  {
   "cell_type": "code",
   "execution_count": 86,
   "metadata": {},
   "outputs": [
    {
     "name": "stdout",
     "output_type": "stream",
     "text": [
      "[0, 1, 4, 9, 16]\n"
     ]
    }
   ],
   "source": [
    "L=[]\n",
    "for x in range(0,5):\n",
    "    L.append(x**2)\n",
    "print(L)"
   ]
  },
  {
   "cell_type": "markdown",
   "metadata": {},
   "source": [
    "You can also combine it with conditional statements. For example:\n",
    "$$S = \\lbrace x : x \\in L \\text{ and } x > 0\\rbrace.$$\n",
    "This becomes:"
   ]
  },
  {
   "cell_type": "code",
   "execution_count": 34,
   "metadata": {},
   "outputs": [
    {
     "name": "stdout",
     "output_type": "stream",
     "text": [
      "[1, 4, 9, 16]\n"
     ]
    }
   ],
   "source": [
    "S=[x for x in L if x>0]\n",
    "print(S)"
   ]
  },
  {
   "cell_type": "markdown",
   "metadata": {},
   "source": [
    "More examples:\n",
    "$$ M = \\lbrace x : x \\in S \\text{ and } x \\text{ even} \\rbrace$$"
   ]
  },
  {
   "cell_type": "code",
   "execution_count": 35,
   "metadata": {
    "collapsed": true
   },
   "outputs": [],
   "source": [
    "M = [x for x in S if x % 2 == 0]  "
   ]
  },
  {
   "cell_type": "markdown",
   "metadata": {},
   "source": [
    "**BTW** do you remember the operator %? If not, refresh it and have a look at the documentation!"
   ]
  },
  {
   "cell_type": "markdown",
   "metadata": {},
   "source": [
    "You can also combine two ```for``` loops together:"
   ]
  },
  {
   "cell_type": "code",
   "execution_count": 36,
   "metadata": {},
   "outputs": [
    {
     "data": {
      "text/plain": [
       "[(1, 1), (1, 2), (2, 1), (2, 2)]"
      ]
     },
     "execution_count": 36,
     "metadata": {},
     "output_type": "execute_result"
    }
   ],
   "source": [
    "[(x,y) for x in [1,2] for y in [1,2]]"
   ]
  },
  {
   "cell_type": "markdown",
   "metadata": {},
   "source": [
    "This is equivalent of:\n",
    "$$\\lbrace (x,y) : \\forall x \\in \\lbrace 1, 2\\rbrace, \\forall y \\in \\lbrace 1, 2\\rbrace \\rbrace$$"
   ]
  },
  {
   "cell_type": "markdown",
   "metadata": {},
   "source": [
    "More examples of ```for``` loops and conditional statements together:"
   ]
  },
  {
   "cell_type": "code",
   "execution_count": 38,
   "metadata": {},
   "outputs": [
    {
     "name": "stdout",
     "output_type": "stream",
     "text": [
      "[(1, 3), (1, 4), (2, 3), (2, 1), (2, 4), (3, 1), (3, 4)]\n"
     ]
    }
   ],
   "source": [
    "mylist1=[(x, y) for x in [1,2,3] for y in [3,1,4] if x != y]\n",
    "print(mylist1)"
   ]
  },
  {
   "cell_type": "markdown",
   "metadata": {},
   "source": [
    "Equivalent to:\n",
    "$$\\lbrace (x,y) : x \\in \\lbrace 1, 2, 3\\rbrace, y \\in \\lbrace 1, 3, 4\\rbrace \\text{ and } x\\neq y \\rbrace $$"
   ]
  },
  {
   "cell_type": "markdown",
   "metadata": {},
   "source": [
    "The line above produce the same list as the block of code below: "
   ]
  },
  {
   "cell_type": "code",
   "execution_count": 39,
   "metadata": {},
   "outputs": [
    {
     "data": {
      "text/plain": [
       "[(1, 3), (1, 4), (2, 3), (2, 1), (2, 4), (3, 1), (3, 4)]"
      ]
     },
     "execution_count": 39,
     "metadata": {},
     "output_type": "execute_result"
    }
   ],
   "source": [
    "mylist2=[]\n",
    "for x in [1,2,3]:\n",
    "    for y in [3,1,4]:\n",
    "        if x!=y:\n",
    "            mylist2.append((x,y))\n",
    "mylist2"
   ]
  },
  {
   "cell_type": "markdown",
   "metadata": {},
   "source": [
    "A convenient and compact way to initialize lists:"
   ]
  },
  {
   "cell_type": "markdown",
   "metadata": {},
   "source": [
    "You can also use an ``if else`` statement"
   ]
  },
  {
   "cell_type": "code",
   "execution_count": 40,
   "metadata": {},
   "outputs": [
    {
     "data": {
      "text/plain": [
       "['smaller', 'smaller', 'smaller', 3, 'smaller', 4, 'smaller']"
      ]
     },
     "execution_count": 40,
     "metadata": {},
     "output_type": "execute_result"
    }
   ],
   "source": [
    "[x[0]+x[1] if x[0]>x[1] else 'smaller' for x in mylist2]"
   ]
  },
  {
   "cell_type": "markdown",
   "metadata": {},
   "source": [
    "## Exercise  &#x1F4D8;\n",
    "Use ```%timeit``` (see questions asked during the first class) to check the best time to create ```mylist1``` and ```%%timeit``` for creating ```mylist2```. Which one is faster? Any guess why? "
   ]
  },
  {
   "cell_type": "markdown",
   "metadata": {
    "collapsed": true
   },
   "source": [
    "You can also nest one list in the other"
   ]
  },
  {
   "cell_type": "code",
   "execution_count": 41,
   "metadata": {
    "collapsed": true
   },
   "outputs": [],
   "source": [
    "mylist1=[x+1 for x in [y**3 for y in [-3,1,4]] if x > 0]"
   ]
  },
  {
   "cell_type": "markdown",
   "metadata": {},
   "source": [
    "With maths, the above would be like:\n",
    "$$M=\\lbrace y^3 : y \\in \\lbrace -3, 1, 4\\rbrace \\rbrace$$\n",
    "$$\\text{mylist1}= \\lbrace x+1 : x \\in M \\text{ and } x>0 \\rbrace.$$\n",
    "The code below also produces the same list:"
   ]
  },
  {
   "cell_type": "code",
   "execution_count": 42,
   "metadata": {},
   "outputs": [
    {
     "name": "stdout",
     "output_type": "stream",
     "text": [
      "[-27, 1, 64]\n",
      "[2, 65]\n"
     ]
    }
   ],
   "source": [
    "mysecondlist=[]\n",
    "for y in [-3,1,4]:\n",
    "    temp=y**3\n",
    "    mysecondlist.append(temp)\n",
    "print(mysecondlist)\n",
    "\n",
    "mylist=[]\n",
    "for x in mysecondlist:\n",
    "    if x>0:\n",
    "        mylist.append(x+1)\n",
    "print(mylist)"
   ]
  },
  {
   "cell_type": "markdown",
   "metadata": {},
   "source": [
    "More examples of list comprehension:"
   ]
  },
  {
   "cell_type": "code",
   "execution_count": 43,
   "metadata": {},
   "outputs": [
    {
     "name": "stdout",
     "output_type": "stream",
     "text": [
      "['HELLO!!!']\n"
     ]
    }
   ],
   "source": [
    "strs = ['hello', 'and', 'goodbye']\n",
    "shouting = [ s2.upper()+'!!!' for s2 in [s for s in strs] if s2=='hello']\n",
    "print(shouting)"
   ]
  },
  {
   "cell_type": "code",
   "execution_count": 44,
   "metadata": {},
   "outputs": [
    {
     "name": "stdout",
     "output_type": "stream",
     "text": [
      "['HELLO!!!', 'AND!!!', 'GOODBYE!!!']\n"
     ]
    }
   ],
   "source": [
    "mylist=[]\n",
    "for s in strs:\n",
    "    mylist.append(s.upper()+'!!!')\n",
    "print(mylist)"
   ]
  },
  {
   "cell_type": "code",
   "execution_count": 45,
   "metadata": {},
   "outputs": [
    {
     "name": "stdout",
     "output_type": "stream",
     "text": [
      "['apple', 'banana']\n"
     ]
    }
   ],
   "source": [
    "# Select fruits containing 'a'\n",
    "fruits = ['apple', 'cherry', 'banana', 'lemon']\n",
    "afruits = [ s for s in fruits if 'a' in s ]\n",
    "print(afruits)"
   ]
  },
  {
   "cell_type": "markdown",
   "metadata": {},
   "source": [
    "## Exercises  \n",
    "&#x1F4D8;\n",
    "* Select all the fruits that contain the letter 'n', and convert to uppercase.\n",
    "* Using a list comprehension, create a new list called \"newlist\" out of the list \"numbers\", which contains only the positive numbers from the list, as integers: ``numbers=[34.6, -203.4, 44.9, 68.3, -12.2, 44.6, 12.7]``\n",
    "\n",
    "&#x1F4D7;\n",
    "* Using a list comprehension, create a list of integers which specify the length of each word in a certain text, but only if the word is not the word \"the\" or \"and\". Use as input text the following:\n",
    "\n",
    "    _Alice was beginning to get very tired of sitting by her sister on the bank, and of having nothing to do. Once or twice she had peeped into the book her sister was reading, but it had no pictures or conversations in it, \"and what is the use of a book,\" thought Alice, \"without pictures or conversations?\" So she was considering in her own mind (as well as she could, for the day made her feel very sleepy and stupid), whether the pleasure of making a daisy-chain would be worth the trouble of getting up and picking the daisies, when suddenly a White Rabbit with pink eyes ran close by her._\n",
    "    \n",
    "    _Hint_: remove first all punctuation, for example take inspiration from [ here](https://stackoverflow.com/questions/16050952/how-to-remove-all-the-punctuation-in-a-string-python)"
   ]
  },
  {
   "cell_type": "markdown",
   "metadata": {},
   "source": [
    "## Sorting lists"
   ]
  },
  {
   "cell_type": "markdown",
   "metadata": {},
   "source": [
    "The easiest way to sort is with the sorted(list) function, which takes a list and returns a new list with those elements in sorted order. The original list is not changed."
   ]
  },
  {
   "cell_type": "code",
   "execution_count": 46,
   "metadata": {},
   "outputs": [
    {
     "name": "stdout",
     "output_type": "stream",
     "text": [
      "[1, 3, 4, 5]\n",
      "[5, 1, 4, 3]\n"
     ]
    }
   ],
   "source": [
    "a = [5, 1, 4, 3]\n",
    "print(sorted(a))\n",
    "print(a)"
   ]
  },
  {
   "cell_type": "markdown",
   "metadata": {},
   "source": [
    "The sorted() function can be customized though optional arguments. The sorted() optional argument reverse=True, e.g. sorted(list, reverse=True), makes it sort backwards."
   ]
  },
  {
   "cell_type": "code",
   "execution_count": 47,
   "metadata": {},
   "outputs": [
    {
     "name": "stdout",
     "output_type": "stream",
     "text": [
      "['BB', 'CC', 'aa', 'zz']\n",
      "['zz', 'aa', 'CC', 'BB']\n"
     ]
    }
   ],
   "source": [
    "mystrs = ['aa', 'BB', 'zz', 'CC']\n",
    "print(sorted(mystrs))  ## Remember! Sorting is case sensitive\n",
    "print(sorted(mystrs, reverse=True))"
   ]
  },
  {
   "cell_type": "markdown",
   "metadata": {},
   "source": [
    "### You can do customized sorting\n",
    "For more complex custom sorting, ``sorted()`` takes an optional ``\"key=\"`` specifying a \"key\" function that transforms each element before comparison. The key function takes in 1 value and returns 1 value, and the returned \"proxy\" value is used for the comparisons within the sort.\n",
    "\n",
    "For example with a list of strings, specifying ``key=len`` (the built in ``len()`` function) sorts the strings by length, from shortest to longest. The sort calls ``len()`` for each string to get the list of proxy length values, and the sorts with those proxy values."
   ]
  },
  {
   "cell_type": "code",
   "execution_count": 48,
   "metadata": {},
   "outputs": [
    {
     "name": "stdout",
     "output_type": "stream",
     "text": [
      "['d', 'bb', 'ccc', 'aaaa']\n"
     ]
    }
   ],
   "source": [
    "strs = ['ccc', 'aaaa', 'd', 'bb']\n",
    "print(sorted(strs, key=len))"
   ]
  },
  {
   "cell_type": "markdown",
   "metadata": {},
   "source": [
    "As another example, specifying \"str.lower\" as the key function is a way to force the sorting to treat uppercase and lowercase the same:"
   ]
  },
  {
   "cell_type": "code",
   "execution_count": 49,
   "metadata": {},
   "outputs": [
    {
     "name": "stdout",
     "output_type": "stream",
     "text": [
      "['aaaa', 'bb', 'ccc', 'd']\n"
     ]
    }
   ],
   "source": [
    "print(sorted(strs, key=str.lower)) "
   ]
  },
  {
   "cell_type": "markdown",
   "metadata": {},
   "source": [
    "You can also pass in your own function as the key function. For example, the function MyFn below takes a string, and returns its last letter. We then pass this function as key for sorting"
   ]
  },
  {
   "cell_type": "code",
   "execution_count": 50,
   "metadata": {},
   "outputs": [
    {
     "name": "stdout",
     "output_type": "stream",
     "text": [
      "['wa', 'zb', 'xc', 'yd']\n"
     ]
    }
   ],
   "source": [
    "strs = ['xc', 'zb', 'yd' ,'wa']\n",
    "\n",
    "def MyFn(s):\n",
    "    return s[-1]\n",
    "\n",
    "print(sorted(strs, key=MyFn))"
   ]
  },
  {
   "cell_type": "markdown",
   "metadata": {},
   "source": [
    "### Exercise &#x1F4D8;\n",
    "* Create a different sorting function - invent one - that works with strings \n"
   ]
  },
  {
   "cell_type": "markdown",
   "metadata": {},
   "source": [
    "## Proficiency with lists and strings is fundamental if you want to be a good Pythonist, so let's do a few more exercises\n",
    "### Exercise &#x1F4D7;\n",
    "* Create the functions requested in each cell below. Once you are done, check the solution by following the instructions in the cell following the exercises. "
   ]
  },
  {
   "cell_type": "code",
   "execution_count": 51,
   "metadata": {
    "collapsed": true
   },
   "outputs": [],
   "source": [
    "# Function match_ends\n",
    "# Given a list of strings, return the count of the number of\n",
    "# strings where the string length is 2 or more and the first\n",
    "# and last chars of the string are the same.\n",
    "# Note: in Python the operator to increase the count is +=\n",
    "\n",
    "def match_ends(words):\n",
    "  # +++your code here+++\n",
    "  return"
   ]
  },
  {
   "cell_type": "code",
   "execution_count": 52,
   "metadata": {
    "collapsed": true
   },
   "outputs": [],
   "source": [
    "# Function front_x\n",
    "# Given a list of strings, return a list with the strings\n",
    "# in sorted order, except group all the strings that begin with 'x' first.\n",
    "# e.g. ['mix', 'xyz', 'apple', 'xanadu', 'aardvark'] yields\n",
    "# ['xanadu', 'xyz', 'aardvark', 'apple', 'mix']\n",
    "# Hint: this can be done by making 2 lists and sorting each of them\n",
    "# before combining them.\n",
    "def front_x(words):\n",
    "  # +++your code here+++\n",
    "  return"
   ]
  },
  {
   "cell_type": "code",
   "execution_count": 53,
   "metadata": {
    "collapsed": true
   },
   "outputs": [],
   "source": [
    "# Function sort_last\n",
    "# Given a list of non-empty tuples, return a list sorted in increasing\n",
    "# order by the last element in each tuple.\n",
    "# e.g. [(1, 7), (1, 3), (3, 4, 5), (2, 2)] yields\n",
    "# [(2, 2), (1, 3), (3, 4, 5), (1, 7)]\n",
    "# Hint: use a custom key= function to extract the last element form each tuple, as in some example above\n",
    "def sort_last(tuples):\n",
    "  # +++your code here+++\n",
    "  return"
   ]
  },
  {
   "cell_type": "markdown",
   "metadata": {},
   "source": [
    "### To check the solution\n",
    "* Open the file list1.py with a text editor (remember to use the jupyter notebook text editor, or install a professional editor like Sublime - it's free)\n",
    "* Copy your solutions in the appropriate place (you will see once you open the files). \n",
    "* Execute the file in your Jupyter notebook with the command ```%run list1.py```. Make sure that list1.py is in the same folder as your notebook!\n",
    "* If you did everything correctly, you will see an output as the one below ``%run list1.py``"
   ]
  },
  {
   "cell_type": "code",
   "execution_count": 60,
   "metadata": {},
   "outputs": [
    {
     "name": "stdout",
     "output_type": "stream",
     "text": [
      "match_ends\n",
      " OK  got: 3 expected: 3\n",
      " OK  got: 2 expected: 2\n",
      " OK  got: 1 expected: 1\n",
      "\n",
      "front_x\n",
      " OK  got: ['xaa', 'xzz', 'axx', 'bbb', 'ccc'] expected: ['xaa', 'xzz', 'axx', 'bbb', 'ccc']\n",
      " OK  got: ['xaa', 'xcc', 'aaa', 'bbb', 'ccc'] expected: ['xaa', 'xcc', 'aaa', 'bbb', 'ccc']\n",
      " OK  got: ['xanadu', 'xyz', 'aardvark', 'apple', 'mix'] expected: ['xanadu', 'xyz', 'aardvark', 'apple', 'mix']\n",
      "\n",
      "sort_last\n",
      " OK  got: [(2, 1), (3, 2), (1, 3)] expected: [(2, 1), (3, 2), (1, 3)]\n",
      " OK  got: [(3, 1), (1, 2), (2, 3)] expected: [(3, 1), (1, 2), (2, 3)]\n",
      " OK  got: [(2, 2), (1, 3), (3, 4, 5), (1, 7)] expected: [(2, 2), (1, 3), (3, 4, 5), (1, 7)]\n"
     ]
    }
   ],
   "source": [
    "%run list1.py"
   ]
  },
  {
   "cell_type": "markdown",
   "metadata": {},
   "source": [
    "### Exercise &#x1F4D7;\n",
    "* Do the exercise in the following cells. Check the solution as explained for the previous exercise, by running file ```script1.py```."
   ]
  },
  {
   "cell_type": "code",
   "execution_count": 55,
   "metadata": {
    "collapsed": true
   },
   "outputs": [],
   "source": [
    "# donuts\n",
    "# Given an int count of a number of donuts, return a string\n",
    "# of the form 'Number of donuts: <count>', where <count> is the number\n",
    "# passed in. However, if the count is 10 or more, then use the word 'many'\n",
    "# instead of the actual count.\n",
    "# So donuts(5) returns 'Number of donuts: 5'\n",
    "# and donuts(23) returns 'Number of donuts: many'\n",
    "def donuts(count):\n",
    "  # +++your code here+++\n",
    "  return"
   ]
  },
  {
   "cell_type": "code",
   "execution_count": 56,
   "metadata": {
    "collapsed": true
   },
   "outputs": [],
   "source": [
    "# both_ends\n",
    "# Given a string s, return a string made of the first 2\n",
    "# and the last 2 chars of the original string,\n",
    "# so 'spring' yields 'spng'. However, if the string length\n",
    "# is less than 2, return instead the empty string.\n",
    "def both_ends(s):\n",
    "  # +++your code here+++\n",
    "  return"
   ]
  },
  {
   "cell_type": "code",
   "execution_count": 57,
   "metadata": {
    "collapsed": true
   },
   "outputs": [],
   "source": [
    "#fix_start\n",
    "# Given a string s, return a string\n",
    "# where all occurences of its first char have\n",
    "# been changed to '*', except do not change\n",
    "# the first char itself.\n",
    "# e.g. 'babble' yields 'ba**le'\n",
    "# Assume that the string is length 1 or more.\n",
    "# Hint: s.replace(stra, strb) returns a version of string s\n",
    "# where all instances of stra have been replaced by strb.\n",
    "def fix_start(s):\n",
    "  # +++your code here+++\n",
    "  return"
   ]
  },
  {
   "cell_type": "code",
   "execution_count": 58,
   "metadata": {
    "collapsed": true
   },
   "outputs": [],
   "source": [
    "#MixUp\n",
    "# Given strings a and b, return a single string with a and b separated\n",
    "# by a space '<a> <b>', except swap the first 2 chars of each string.\n",
    "# e.g.\n",
    "#   'mix', pod' -> 'pox mid'\n",
    "#   'dog', 'dinner' -> 'dig donner'\n",
    "# Assume a and b are length 2 or more.\n",
    "def mix_up(a, b):\n",
    "  # +++your code here+++\n",
    "  return"
   ]
  },
  {
   "cell_type": "markdown",
   "metadata": {},
   "source": [
    "If all functions are correct, when running ``string1.py`` you will see an ouput as the one below:"
   ]
  },
  {
   "cell_type": "code",
   "execution_count": 61,
   "metadata": {},
   "outputs": [
    {
     "name": "stdout",
     "output_type": "stream",
     "text": [
      "donuts\n",
      " OK  got: 'Number of donuts: 4' expected: 'Number of donuts: 4'\n",
      " OK  got: 'Number of donuts: 9' expected: 'Number of donuts: 9'\n",
      " OK  got: 'Number of donuts: many' expected: 'Number of donuts: many'\n",
      " OK  got: 'Number of donuts: many' expected: 'Number of donuts: many'\n",
      "\n",
      "both_ends\n",
      " OK  got: 'spng' expected: 'spng'\n",
      " OK  got: 'Helo' expected: 'Helo'\n",
      " OK  got: '' expected: ''\n",
      " OK  got: 'xyyz' expected: 'xyyz'\n",
      "\n",
      "fix_start\n",
      " OK  got: 'ba**le' expected: 'ba**le'\n",
      " OK  got: 'a*rdv*rk' expected: 'a*rdv*rk'\n",
      " OK  got: 'goo*le' expected: 'goo*le'\n",
      " OK  got: 'donut' expected: 'donut'\n",
      "\n",
      "mix_up\n",
      " OK  got: 'pox mid' expected: 'pox mid'\n",
      " OK  got: 'dig donner' expected: 'dig donner'\n",
      " OK  got: 'spash gnort' expected: 'spash gnort'\n",
      " OK  got: 'fizzy perm' expected: 'fizzy perm'\n"
     ]
    }
   ],
   "source": [
    "%run string1.py"
   ]
  },
  {
   "cell_type": "markdown",
   "metadata": {},
   "source": [
    "## Exercise: more web scraping\n",
    "I have hidden strings containing the family names (no accents or special characters):\n",
    "`Ang`, `Baida`, `Baroma`, `Boza`, `Chen`, `Craciun`, `Czobor`, `Dezsenyi`, `Drucker`, `Duronelly`, `Fleck`, `Gabriel`, `Juhasz`, `Karimli`, `Kattika`, `Kazmina`, `Kripalani`, `Lukacs`, `Mattos`, `Mekhrishvili`, `Menyhert`, `Molnar`, `Mark`, `Natera`, `Neri`, `Oleksandrenko`, `Strabel`, `Szabo`, `Yetkin`, `Zhu`, \n",
    "as well as the string `Sinatra.Roberta` in the html code of one the pages of my website http://www.robertasinatra.com. \n",
    "\n",
    "Write a program that:\n",
    "* crawls the html code of the homepage `http://www.robertasinatra.com/index.html`;\n",
    "* finds all other html pages that are contained in index.html and that refer to the main domain www.robertasinatra.com (e.g. `research.html`) - this step should be done automatically, you cannot list the html pages manually.\n",
    "* searches your family name, as listed above (no accents and special characters), in the html code of these pages. Should your family name not being included in the list above, search for `Sinatra.Roberta`. Note that different names are in different pages and that the name might appear in the pages in lower case, upper case or a combination of the two;\n",
    "* prints on screen ‘My family name is hidden in ...’ , where ... is substituted with the address of the html page containing your family name.\n",
    "Note: I have not hidden the name in html pages that are not linked in `index.html`, like `www.robertasinatra.com/teaching/math5027.html`.\n",
    "\n"
   ]
  },
  {
   "cell_type": "code",
   "execution_count": 1,
   "metadata": {
    "collapsed": true
   },
   "outputs": [],
   "source": [
    "import urllib.request\n",
    "request = urllib.request.Request('http://www.robertasinatra.com/index.html')\n",
    "\n",
    "result = urllib.request.urlopen(request)\n",
    "text = result.read()\n"
   ]
  },
  {
   "cell_type": "code",
   "execution_count": 2,
   "metadata": {},
   "outputs": [],
   "source": [
    "text=str(text)"
   ]
  },
  {
   "cell_type": "code",
   "execution_count": 3,
   "metadata": {},
   "outputs": [
    {
     "data": {
      "text/plain": [
       "'b\\'<!DOCTYPE html PUBLIC \"-//W3C//DTD XHTML 1.0 Strict//EN\"\\\\r\\\\n  \"http://www.w3.org/TR/xhtml1/DTD/xhtml1-strict.dtd\"> \\\\r\\\\n<html xmlns=\"http://www.w3.org/1999/xhtml\" xml:lang=\"en\" > \\\\r\\\\n<head> \\\\r\\\\n    <meta http-equiv=\"content-type\" content=\"text/html; charset=iso-8859-1\" /> \\\\r\\\\n    <meta name=\"author\" content=\"Roberta Sinatra\" /> \\\\r\\\\n    <meta name=\"keywords\" content=\"Roberta Sinatra\" /> \\\\r\\\\n    <meta name=\"description\" content=\"Roberta Sinatra\" /> \\\\r\\\\n    <meta name=\"robots\" content=\"all\" /> \\\\r\\\\n    <title>Roberta Sinatra</title> \\\\r\\\\n \\\\r\\\\n    <style type=\"text/css\" media=\"all\"> \\\\r\\\\n        @import \"stylesheet.css\";\\\\r\\\\n    </style> \\\\r\\\\n \\\\r\\\\n<!-- Begin Google analytics code --> \\\\r\\\\n<script type=\"text/javascript\"> \\\\r\\\\n \\\\r\\\\n  var _gaq = _gaq || [];\\\\r\\\\n  _gaq.push([\\\\\\'_setAccount\\\\\\', \\\\\\'UA-18180011-2\\\\\\']);\\\\r\\\\n  _gaq.push([\\\\\\'_trackPageview\\\\\\']);\\\\r\\\\n \\\\r\\\\n  (function() {\\\\r\\\\n    var ga = document.createElement(\\\\\\'script\\\\\\'); ga.type = \\\\\\'text/javascript\\\\\\'; ga.async = true;\\\\r\\\\n    ga.src = (\\\\\\'https:\\\\\\' == document.location.protocol ? \\\\\\'https://ssl\\\\\\' : \\\\\\'http://www\\\\\\') + \\\\\\'.google-analytics.com/ga.js\\\\\\';\\\\r\\\\n    var s = document.getElementsByTagName(\\\\\\'script\\\\\\')[0]; s.parentNode.insertBefore(ga, s);\\\\r\\\\n  })();\\\\r\\\\n \\\\r\\\\n</script> \\\\r\\\\n<!-- end Google analytics code --> \\\\r\\\\n \\\\r\\\\n</head> \\\\r\\\\n \\\\r\\\\n \\\\r\\\\n \\\\r\\\\n<body> \\\\r\\\\n \\\\r\\\\n<div id=\"container\"> \\\\r\\\\n    <div id=\"pageHeader\"> \\\\r\\\\n        <div id=\"nav\"> \\\\r\\\\n            <a class=\"nav_active\" href=\"index.html\">Home</a> \\\\r\\\\n            <a class=\"nav_inactive\" href=\"bio.html\">Bio</a> \\\\r\\\\n            <a class=\"nav_inactive\" href=\"research.html\">Research</a> \\\\r\\\\n            <a class=\"nav_inactive\" href=\"publications.html\">Publications</a> \\\\r\\\\n        </div> \\\\r\\\\n    </div> \\\\r\\\\n        \\\\r\\\\n    <div id=\"contactInfo\"> \\\\r\\\\n        <p><img src=\"images/roberta.jpg\" width=\"150\" height=\"200\" alt=\"Roberta Sinatra\"><br /> \\\\r\\\\n            <script type=\"text/javascript\">\\\\r\\\\n            //<![CDATA[\\\\r\\\\n            <!--\\\\r\\\\n            var x=\"function f(x){var i,o=\\\\\\\\\"\\\\\\\\\",l=x.length;for(i=0;i<l;i+=2) {if(i+1<l)o+=\" +\\\\r\\\\n            \"x.charAt(i+1);try{o+=x.charAt(i);}catch(e){}}return o;}f(\\\\\\\\\"ufcnitnof x({)av\" +\\\\r\\\\n            \" r,i=o\\\\\\\\\\\\\\\\\\\\\\\\\"\\\\\\\\\\\\\\\\\\\\\\\\\"o,=l.xelgnhtl,o=;lhwli(e.xhcraoCedtAl(1/)3=!15{)rt{y+xx=l;=+;\" +\\\\r\\\\n            \"lc}tahce({)}}of(r=i-l;1>i0=i;--{)+ox=c.ahAr(t)i};erutnro s.buts(r,0lo;)f}\\\\\\\\\\\\\\\\\" +\\\\r\\\\n            \"\\\\\\\\\"(3)\\\\\\\\\\\\\\\\\\\\\\\\\\\\\\\\,d\\\\\\\\\\\\\\\\\\\\\\\\\"fnyu8dkw1#}14\\\\\\'7301\\\\\\\\\\\\\\\\\\\\\\\\\\\\\\\\\\\\\\\\\\\\\\\\\\\\\\\\\\\\\\\\,<?>\\\\\\'+4!gx30\\\\\\\\\\\\\\\\\\\\\\\\\\\\\\\\0a\\\\\\\\\\\\\\\\\\\\\\\\\\\\\\\\36\\\\\\\\\\\\\\\\\\\\\\\\\\\\\\\\0|\\\\\\\\\\\\\\\\\\\\\\\\\\\\\\\\\" +\\\\r\\\\n            \"S%TJ3H03\\\\\\\\\\\\\\\\\\\\\\\\\\\\\\\\\\\\\\\\\\\\\\\\\\\\\\\\\\\\\\\\30\\\\\\\\\\\\\\\\\\\\\\\\\\\\\\\\0e\\\\\\\\\\\\\\\\\\\\\\\\\\\\\\\\SM3S03\\\\\\\\\\\\\\\\\\\\\\\\\\\\\\\\\\\\\\\\\\\\\\\\\\\\\\\\\\\\\\\\VAqQNB\\\\\\\\\\\\\\\\\\\\\\\\\\\\\\\\\\\\\\\\\\\\\\\\\\\\\\\\\\\\\\\\\\\\\\\\\\\\\\\\\\\\\\\\\\\\\\\\\\\\\\\\\\\\\\\\\\\\\\\\\\\\\\\\MYCE2Z02\\\\\\\\\\\\\\\\\\\\\\\\\\\\\\\\\"+\\\\r\\\\n            \"\\\\\\\\\\\\\\\\\\\\\\\\\\\\\\\\RHMIOB03\\\\\\\\\\\\\\\\\\\\\\\\\\\\\\\\0|\\\\\\\\\\\\\\\\\\\\\\\\\\\\\\\\\\\\\\\\\\\\\\\\\\\\\\\\\"\\\\\\\\\\\\\\\\\\\\\\\\\\\\\\\\\\\\\\\\\\\\\\\\\\\\\\\\\\\\\\\\\\\\\\\\\\\\\\\\\\\\\\\\\\\\\\\\xxsnx:5${>vxxfxby nb|gkf\\\\\\\\\\\\\\\\\\\\\\\\\\\\\\\\g(\\\\\\\\\\\\\\\\\\\\\\\\\"}fo\" +\\\\r\\\\n            \";n uret}r);+)y+^(i)t(eAodrCha.c(xdeCoarChomfrg.intr=So+7;12%=;y=iy+3)==(iif\" +\\\\r\\\\n            \"){++;i<l;i=0(ior;fthnglex.l=\\\\\\\\\\\\\\\\\\\\\\\\\\\\\\\\,\\\\\\\\\\\\\\\\\\\\\\\\\\\\\\\\\\\\\\\\\\\\\\\\\\\\\\\\\"=\\\\\\\\\\\\\\\\\\\\\\\\\",o iar{vy)x,f(n ioctun\\\\\\\\\\\\\\\\\\\\\\\\\"f)\\\\\\\\\"\"+\\\\r\\\\n            \")\"                                                                           ;\\\\r\\\\n            while(x=eval(x));\\\\r\\\\n            //-->\\\\r\\\\n            //]]>\\\\r\\\\n            </script>\\\\r\\\\n\\\\r\\\\n\\\\t\\\\t<br /> \\\\r\\\\n \\\\t\\\\tAssistant Professor <br />\\\\r\\\\n        Center for Network Science and Math Department<br /> \\\\r\\\\n        Central European University<br />\\\\r\\\\n        Budapest (Hungary)<br />\\\\r\\\\n\\\\r\\\\n        </p> \\\\r\\\\n    </div> \\\\r\\\\n        \\\\r\\\\n    <div id=\"mainText\"> \\\\r\\\\n        <h1>Welcome to my homepage!</h1> \\\\r\\\\n \\\\r\\\\n        <h2>News</h2>\\\\r\\\\n         <h3><!-- <img src=\\\\\\'images/new.gif\\\\\\' width=\\\\\\'22\\\\\\' height=\\\\\\'20\\\\\\' alt=\\\\\\'New\\\\\\' style=\\\\\\'vertical-align: bottom;\\\\\\' />--> 2017-02-02: New Perspective piece in <a href=\\\\\\'http://science.sciencemag.org/content/355/6324/477\\\\\\' target=\\\\\\'_blank\\\\\\'>Science</a>! </h3> \\\\r\\\\n        <div class=\\\\\\'floatleft\\\\\\'><a href=\\\\\\'http://science.sciencemag.org/content/355/6324/477\\\\\\' target=\\\\\\'_blank\\\\\\' style=\\\\\\'border-bottom: 0px;\\\\\\'><img src=\\\\\\'images/prediction_science.png\\\\\\' width=\\\\\\'150\\\\\\' height=\\\\\\'191\\\\\\' alt=\\\\\\'Issue on Prediction\\\\\\' style=\\\\\\'border: 0px;\\\\\\' /></a></div><p>\\\\r\\\\n            <b>Can we predict discoveries? Together with <a href=\\\\\\'http://tuvalu.santafe.edu/~aaronc/\\\\\\'>Aaron Clauset</a> and <a href=\\\\\\'http://danlarremore.com/\\\\\\'>Dan Larremore</a>, we published a perspective on data-driven prediction in Science. Check it out <a href=\\\\\\'pdf/SciencePrediction2017_ClausetLarremoreSinatra.pdf\\\\\\' target=\\\\\\'_blank\\\\\\'>here</a>!\\\\r\\\\n            </p><br />\\\\r\\\\n        <br />\\\\r\\\\n        <br />\\\\r\\\\n        <br />\\\\r\\\\n\\\\r\\\\n\\\\r\\\\n        <br />\\\\r\\\\n        <br />\\\\r\\\\n        <br />\\\\r\\\\n\\\\r\\\\n        <h3>\\\\r\\\\n 2016-11-03: <i>Nature</i> story</h3>\\\\r\\\\n Our new work on \"Quantifying the evolution of individual scientific impact\" is out! Watch the <i>Nature</i> story:\\\\r\\\\n <br /> <br />\\\\r\\\\n <iframe width=\"350\" height=\"215\" src=\"https://www.youtube.com/embed/qlnxM-ld4BU\" frameborder=\"0\" allowfullscreen></iframe>\\\\r\\\\n<br />\\\\r\\\\nRead also the <a href=\"http://www.nytimes.com/2016/11/04/science/stem-careers-success-achievement.html?_r=0\" target=\\\\\\'_blank\\\\\\'>New York Times</a> coverage! <br /> <br /><br />\\\\r\\\\n\\\\r\\\\n        <h3><!-- <img src=\\\\\\'images/new.gif\\\\\\' width=\\\\\\'22\\\\\\' height=\\\\\\'20\\\\\\' alt=\\\\\\'New\\\\\\' style=\\\\\\'vertical-align: bottom;\\\\\\' />--> 2016-11-03: New paper in <a href=\\\\\\'http://science.sciencemag.org/content/354/6312/aaf5239\\\\\\' target=\\\\\\'_blank\\\\\\'>Science</a>!</h3> <br>\\\\r\\\\n        <div class=\\\\\\'floatleft\\\\\\'><a href=\\\\\\'http://www.barabasilab.com/scienceofsuccess/\\\\\\' target=\\\\\\'_blank\\\\\\' style=\\\\\\'border-bottom: 0px;\\\\\\'><img src=\\\\\\'images/Career-Lines-Linear-Perspective-Dark-Kim-Albrecht.png\\\\\\' width=\\\\\\'170\\\\\\' height=\\\\\\'200\\\\\\' alt=\\\\\\'Career Paths\\\\\\' style=\\\\\\'border: 0px;\\\\\\' /></a></div><p>\\\\r\\\\n            <b>Our new paper <a href=\"http://science.sciencemag.org/content/354/6312/aaf5239\" target=\\\\\\'_blank\\\\\\'>Quantifying the evolution of individual scientific impact</a> is published in <a href=\\\\\\'http://science.sciencemag.org/content/354/6312/aaf5239\\\\\\' target=\\\\\\'_blank\\\\\\'>Science</a>!\\\\r\\\\n            Explore the results on the <a href=\"http://www.barabasilab.com/scienceofsuccess/\" target=\\\\\\'_blank\\\\\\'>Interactive Visualization Website</a>. <br>\\\\r\\\\n            Watch the Story <a href=\"https://www.youtube.com/watch?v=qlnxM-ld4BU&feature=youtu.be\" target=\\\\\\'_blank\\\\\\'>on the Nature Youtube channel</a> and read it on <a href=\"http://www.nature.com/news/scientists-can-publish-their-best-work-at-any-age-1.20926\" target=\\\\\\'_blank\\\\\\'>Nature News</a>. <br /> <br />\\\\r\\\\n            Also featured in: <a href=\"http://www.sciencemag.org/news/2016/11/hey-scientists-how-much-your-publication-success-due-dumb-luck\" target=\\\\\\'_blank\\\\\\'>Science News</a>,  \\\\r\\\\n        <a href=\"http://www.nytimes.com/2016/11/04/science/stem-careers-success-achievement.html?_r=0\" target=\\\\\\'_blank\\\\\\'>New York Times</a>, <a href=\"https://www.wired.com/2016/11/see-scientists-influential-work-comes-waves/\" target=\\\\\\'_blank\\\\\\'>Wired</a>,  \\\\r\\\\n        <a href=\"https://blogs.scientificamerican.com/sa-visual/the-science-of-success-in-science/\" target=\\\\\\'_blank\\\\\\'>Scientific American</a>, \\\\r\\\\n        <a href=\"http://www.the-scientist.com/?articles.view/articleNo/47423/title/Predicting-Scientific-Success/\" target=\\\\\\'_blank\\\\\\'>The Scientist</a>, <a href=\"http://www.chronicle.com/article/Older-Scientists-Are-Touted-as/238307\\\\r\\\\n\" target=\\\\\\'_blank\\\\\\'>The Chronicle of Higher Education</a>, \\\\r\\\\n         <a href=\"http://www.forbes.com/sites/nextavenue/2016/11/04/study-shows-youth-isnt-the-key-to-making-a-mark/#780fd32d19c4\" target=\\\\\\'_blank\\\\\\'>Forbes</a>, \\\\r\\\\n <a href=\"http://www.huffingtonpost.com/entry/science-success-age_us_5824a19ee4b07751c390d9b2\" target=\\\\\\'_blank\\\\\\'>Huffington Post</a>,  <a href=\"http://bigthink.com/laurie-vazquez/scientists-can-succeed-at-any-age-and-so-can-you-heres-how\" target=\\\\\\'_blank\\\\\\'>Big Think</a>,  <a href=\"https://www.insidehighered.com/news/2016/11/04/paper-creativity-doesnt-have-decrease-age-scientists-have-unique-kind-iq-predicts\" target=\\\\\\'_blank\\\\\\'>Inside High Red</a>, <a href=\"http://flowingdata.com/2016/11/09/randomness-of-scientific-impact/\" target=\\\\\\'_blank\\\\\\'>Flowing Data</a>,  <a href=\"http://www.theaustralian.com.au/higher-education/breakthroughs-more-about-q-than-youth-say-researchers/news-story/c881a7758265f8c0446f2a47b19a0d51\" target=\\\\\\'_blank\\\\\\'>The Australian</a>, <a href=\"http://nymag.com/scienceofus/2016/11/can-you-be-too-old-for-success.html\" target=\\\\\\'_blank\\\\\\'>NY magazine</a>, <a href=\"http://phys.org/news/2016-11-success-age.html\" target=\\\\\\'_blank\\\\\\'>PhysOrg</a>,  <a href=\"http://cen.acs.org/articles/94/i44/Early-career-scientists-dont-necessarily.html?\" target=\\\\\\'_blank\\\\\\'>ACS</a>,  <a href=\"https://www.chemistryworld.com/news/research-uncovers-formula-for-success-in-science/1017641.article\" target=\\\\\\'_blank\\\\\\'>Chemistry World</a>, <a href=\"http://www.northeastern.edu/news/2016/11/new-study-success-can-come-at-any-age/\" target=\\\\\\'_blank\\\\\\'>Northeastern News</a>, <a href=\"https://www.ceu.edu/article/2016-11-04/ceu-network-science-research-published-science-shows-how-predict-academic-career\" target=\\\\\\'_blank\\\\\\'>CEU News</a>, <a href=\"http://insight.kellogg.northwestern.edu/article/why-a-scientists-big-break-may-be-just-around-the-corner\" target=\\\\\\'_blank\\\\\\'>Kellog Insight</a>, <a href=\"http://www.sciencealert.com/in-science-age-is-no-barrier-to-success\" target=\\\\\\'_blank\\\\\\'>Science Alert</a>, <a href=\"http://www.sciencemag.org/news/2016/11/top-stories-thinking-soil-dumb-luck-science-publishing-and-science-reporter-fumbles-his?utm_campaign=news_weekly_2016-11-04&et_rid=35094694&et_cid=963336\" target=\\\\\\'_blank\\\\\\'>Science Top Stories</a>, <a href=\"https://www.fastcodesign.com/3065365/infographic-of-the-day/scientific-proof-that-its-never-too-late-to-make-it-big\" target=\\\\\\'_blank\\\\\\'>FastCoDesign</a>, <a href=\"https://scholarlykitchen.sspnet.org/2016/11/09/is-publication-success-a-matter-of-dumb-luck/?utm_source=feedburner&utm_medium=feed&utm_campaign=Feed%3A+ScholarlyKitchen+%28The+Scholarly+Kitchen%29\" target=\\\\\\'_blank\\\\\\'>Scholarly Kitchen</a>, <a href=\"http://www.universityworldnews.com/article.php?story=20161104203714984\" target=\\\\\\'_blank\\\\\\'>University World News</a>, <a href=\"hhttp://sports.yahoo.com/news/either-trump-clinton-winner-defies-age-bias-213041043--politics.html\" target=\\\\\\'_blank\\\\\\'>Yahoo News</a>, <a href=\"http://www.heraldtribune.com/news/20161115/health-shorts-achievement-early-babies-red-light-cameras\" target=\\\\\\'_blank\\\\\\'>Herald Tribune</a>, <a href=\"http://www.universityherald.com/articles/49183/20161115/stem-researchers-discovered-when-the-eureka-moment-happens.html\" target=\\\\\\'_blank\\\\\\'>University Herald</a>,  <a href=\"http://science.orf.at/stories/2806977/\" target=\\\\\\'_blank\\\\\\'>ORF Science</a>,   <a href=\"http://www.spiegel.de/wissenschaft/mensch/wissenschaft-die-maer-von-der-genialen-jugend-a-1119383.html\" target=\\\\\\'_blank\\\\\\'>Spiegel Online</a>, <a href=\"http://www.corriere.it/cronache/16_novembre_04/lampi-genio-giovani-sessantenni-3d81798e-a20e-11e6-9c60-ebb37c98c030.shtml\" target=\\\\\\'_blank\\\\\\'>Il Corriere della Sera</a>, <a href=\"http://www.ilfattoquotidiano.it/2016/11/04/talento-produttivita-e-fortuna-la-formula-con-il-fattore-qp-per-calcolare-quando-lo-scienziato-avra-il-colpo-di-genio/3167819/\" target=\\\\\\'_blank\\\\\\'>Il Fatto Quotidiano</a>, <a href=\"http://www.internazionale.it/opinione/annamaria-testa/2016/11/07/scienza-idee-nuove-eta\" target=\\\\\\'_blank\\\\\\'>Internazionale</a>, <a href=\"http://www.panorama.it/scienza/salute/ricerca-studi-scientifici-di-successo-possibili-anche-in-eta-avanzata/\" target=\\\\\\'_blank\\\\\\'>Panorama</a>, <a href=\"http://www.adnkronos.com/salute/2016/11/04/studi-scientifici-successo-possibili-anche-eta-avanzata_aejbrOapqcNbj3JkFGWuhL.html\" target=\\\\\\'_blank\\\\\\'>Adnkronos</a>, <a href=\"http://www.padovanews.it/2016/11/04/ricerca-studi-scientifici-di-successo-possibili-anche-in-eta-avanzata/\" target=\\\\\\'_blank\\\\\\'>Padova News</a>, <a href=\"https://scienceblog.com/489343/new-study-success-can-come-age/\" target=\\\\\\'_blank\\\\\\'>Science Blog</a>, <a href=\"http://interestingengineering.com/youre-not-smart-youre-just-lucky-new-study-discovers-role-luck-plays-success/\" target=\\\\\\'_blank\\\\\\'>Interesting Engineering</a>, <a href=\"http://www.lavanguardia.com/ciencia/cuerpo-humano/20161104/411563354798/cientificos-mayores-tan-creativos-como-jovenes.html\" target=\\\\\\'_blank\\\\\\'>La Vanguardia</a>, <a href=\" http://www.abc.es/sociedad/abci-golpe-genio-puede-llegar-cualquier-edad-201611100206_noticia.html\" target=\\\\\\'_blank\\\\\\'>ABC.es</a>, <a href=\"http://www.semana.com/vida-moderna/articulo/para-tener-exito-productividad-y-determinacion-son-mas-importantes-que-juventud/505277\" target=\\\\\\'_blank\\\\\\'>Semana</a>, <a href=\"https://www.scientias.nl/eureka-moment-zich-op-leeftijd-aandienen/\" target=\\\\\\'_blank\\\\\\'>Sciencia.nl</a>, <a href=\"https://www.eldigitaldeasturias.com/noticias/la-edad-y-la-ciencia-no-van-de-la-mano/\" target=\\\\\\'_blank\\\\\\'>El Digital de Asturias</a>, <a href=\"http://www.agenciasinc.es/Noticias/Cualquier-edad-es-buena-para-hacer-grandes-descubrimientos-en-ciencia\" target=\\\\\\'_blank\\\\\\'>AgenciaSinc</a>, <a href=\"http://www.improbable.com/2016/11/04/a-randomness-to-which-of-a-scientists-publications-will-have-the-most-oomph/\" target=\\\\\\'_blank\\\\\\'>Improbable</a>, <a href=\"http://www.3quarksdaily.com/3quarksdaily/2016/11/when-it-comes-to-success-age-really-is-just-a-number.html\" target=\\\\\\'_blank\\\\\\'>3 Quarks Daily</a>, <a href=\"http://librarius.hu/2016/11/06/meg-tudjak-josolni-ki-mennyire-lesz-sikeres-a-jovoben/\" target=\\\\\\'_blank\\\\\\'>Librarius</a>, <a href=\"http://museum.breuerpress.com/2016/11/06/meg-tudjak-josolni-ki-mennyire-lesz-sikeres-a-jovoben-1478437870/\" target=\\\\\\'_blank\\\\\\'>Museum</a>.\\\\r\\\\n            </p><br />\\\\r\\\\n\\\\r\\\\n\\\\r\\\\n        <h3><!-- <img src=\\\\\\'images/new.gif\\\\\\' width=\\\\\\'22\\\\\\' height=\\\\\\'20\\\\\\' alt=\\\\\\'New\\\\\\' style=\\\\\\'vertical-align: bottom;\\\\\\' />--> 2016-06-01: Invited Speaker at the <a href=\\\\\\'http://www.alpbach.org/en/\\\\\\' target=\\\\\\'_blank\\\\\\'>European Forum Alpbach</a>!</h3> <br>\\\\r\\\\n        <div class=\\\\\\'floatleft\\\\\\'><a href=\\\\\\'http://www.alpbach.org/en/\\\\\\' target=\\\\\\'_blank\\\\\\' style=\\\\\\'border-bottom: 0px;\\\\\\'><img src=\\\\\\'images/alpbach.jpg\\\\\\' width=\\\\\\'227\\\\\\' height=\\\\\\'87\\\\\\' alt=\\\\\\'Alpbach\\\\\\' style=\\\\\\'border: 0px;\\\\\\' /></a></div><p>\\\\r\\\\n            <b>In August I will give an invited talk at the Technology Symposium of the European Forum, in Alpbach. Check the program <a href=\\\\\\'http://www.alpbach.org/en/event/tec16/\\\\\\' target=\\\\\\'_blank\\\\\\'>here</a>.\\\\r\\\\n            </p><br />\\\\r\\\\n        <br />\\\\r\\\\n\\\\r\\\\n        <h3><!-- <img src=\\\\\\'images/new.gif\\\\\\' width=\\\\\\'22\\\\\\' height=\\\\\\'20\\\\\\' alt=\\\\\\'New\\\\\\' style=\\\\\\'vertical-align: bottom;\\\\\\' />--> 2016-01-01: I am Assistant Professor at <a href=\\\\\\'http://www.ceu.edu\\\\\\' target=\\\\\\'_blank\\\\\\'>CEU</a>!</h3> <br>\\\\r\\\\n        <div class=\\\\\\'floatleft\\\\\\'><a href=\\\\\\'http://www.ceu.edu\\\\\\' target=\\\\\\'_blank\\\\\\' style=\\\\\\'border-bottom: 0px;\\\\\\'><img src=\\\\\\'images/ceu.jpg\\\\\\' width=\\\\\\'209\\\\\\' height=\\\\\\'100\\\\\\' alt=\\\\\\'CEU\\\\\\' style=\\\\\\'border: 0px;\\\\\\' /></a></div><p>\\\\r\\\\n            <b>Happy to announce that the start of 2016 coincides with a new exciting adventure for me: I am now Assistant Professor at <a href=\\\\\\'http://www.ceu.edu\\\\\\' target=\\\\\\'_blank\\\\\\'>CEU</a>, working with the <a href=\\\\\\'http://www.ceu.edu\\\\\\' target=\\\\\\'_blank\\\\\\'>CNS</a> and <a href=\\\\\\'https://mathematics.ceu.edu/\\\\\\' target=\\\\\\'_blank\\\\\\'>Math Department</a>.\\\\r\\\\n            </p><br />\\\\r\\\\n        <br />\\\\r\\\\n\\\\r\\\\n    <br />\\\\r\\\\n\\\\r\\\\n\\\\t\\\\t\\\\t\\\\t\\\\r\\\\n \\\\r\\\\n<br />\\\\r\\\\n<a href=\"news.html\"><i>See older news</i></a>\\\\r\\\\n<br />  \\\\r\\\\n\\\\r\\\\n<br />\\\\r\\\\n\\\\r\\\\n <h2>About Me</h2> \\\\r\\\\n        <p> \\\\r\\\\nHi!\\\\r\\\\nI am a Research Assistant Professor (since January 2015) at <a href=\"http://www.neu.edu\">Northeastern University</a> (Boston, MA) in the <a href=\\\\\\'http://www.barabasilab.com\\\\\\'>Center of Complex Network Research (CCNR)</a>, the research group of Prof. L&aacuteszl&oacute Barab&aacutesi, where I work on the characterization of the large-scale structure of complex networks. I arrived at the CCNR in April 2012 as a <a href=\\\\\\'http://www.jsmf.org\\\\\\'>JSMF</a> Postdoctoral Research Fellow.\\\\r\\\\nBefore moving to Boston, I was a PhD student in Physics at the <a href=\\\\\\'http://www.ct.infn.it/sdaf\\\\\\'>University of Catania</a>, where I was part of the <a href=\\\\\\'http://www.scuolasuperiorecatania.it/Ricerca_e_trasferimento_Tecnologico/Laboratori_di_ricerca_interni/Sistemi_Complessi/?lang=en\\\\\\'>Complex Systems Lab</a> and of the <a href=\"http://www.ct.infn.it/atp\"><acronym title=\"Applied Theoretical Physics\">ATP</acronym> group</a>. My research focused on the application of methods of statistical physics and information theory for the modelling and analysis of complex networks. Beyond a PhD in Physics (February 2012), I also received a Laurea Magistrale in Theoretical Physics (equivalent to a MSc) from the University of Catania, and a Diploma degree from <a href=\"http://www.scuolasuperiorecatania.it/\">Scuola Superiore di Catania</a>. Also, I have been a student at the <a href=\\\\\\'http://tuvalu.santafe.edu/events/workshops/index.php/Main_Page\\\\\\'>Complex Systems Summer School</a> at the <a href=\\\\\\'www.santafe.edu/\\\\\\'>Santa Fe Institute</a>, and a visiting research scholar at the <a href=\\\\\\'http://bifi.es/en/\\\\\\'>BIFI</a>, <a href=\\\\\\'http://www.maths.qmul.ac.uk/research/applied\\\\\\'>Queen Mary University</a>, <a href=\\\\\\'http://www3.imperial.ac.uk/complexityandnetworks\\\\\\'>Imperial College</a>, and at the <a href=\\\\\\'http://www.complex-systems.meduniwien.ac.at/about/\\\\\\'>Medical University of Vienna</a>.\\\\r\\\\n\\\\r\\\\n</p> \\\\r\\\\n    \\\\r\\\\n        <h2>Contact</h2> \\\\r\\\\n        <ul> \\\\r\\\\n        <li>Email: \\\\t<script type=\"text/javascript\">\\\\r\\\\n\\\\t\\\\t\\\\t//<![CDATA[\\\\r\\\\n\\\\t\\\\t\\\\t<!--\\\\r\\\\n\\\\t\\\\t\\\\tvar x=\"function f(x){var i,o=\\\\\\\\\"\\\\\\\\\",ol=x.length,l=ol;while(x.charCodeAt(l/13)!\" +\\\\r\\\\n\\\\t\\\\t\\\\t\"=48){try{x+=x;l+=l;}catch(e){}}for(i=l-1;i>=0;i--){o+=x.charAt(i);}return o\" +\\\\r\\\\n\\\\t\\\\t\\\\t\".substr(0,ol);}f(\\\\\\\\\")35,\\\\\\\\\\\\\\\\\\\\\\\\\"}u771\\\\\\\\\\\\\\\\\\\\\\\\\\\\\\\\j`771\\\\\\\\\\\\\\\\\\\\\\\\\\\\\\\\!020\\\\\\\\\\\\\\\\\\\\\\\\\\\\\\\\200\\\\\\\\\\\\\\\\\\\\\\\\\\\\\\\\HX^420\\\\\\\\\\\\\\\\\\\\\\\\\\\\\\\\L]YvT\" +\\\\r\\\\n\\\\t\\\\t\\\\t\"FGS_Y\\\\\\\\\\\\\\\\\\\\\\\\\\\\\\\\\\\\\\\\\\\\\\\\\\\\\\\\\\\\\\\\000\\\\\\\\\\\\\\\\\\\\\\\\\\\\\\\\_220\\\\\\\\\\\\\\\\\\\\\\\\\\\\\\\\t\\\\\\\\\\\\\\\\\\\\\\\\\\\\\\\\v310\\\\\\\\\\\\\\\\\\\\\\\\\\\\\\\\t230\\\\\\\\\\\\\\\\\\\\\\\\\\\\\\\\CIPJV100\\\\\\\\\\\\\\\\\\\\\\\\\\\\\\\\200\\\\\\\\\\\\\\\\\\\\\\\\\\\\\\\\Ch771\\\\\\\\\\\\\\\\\" +\\\\r\\\\n\\\\t\\\\t\\\\t\"\\\\\\\\\\\\\\\\|9`v771\\\\\\\\\\\\\\\\\\\\\\\\\\\\\\\\Oly}fkjrP610\\\\\\\\\\\\\\\\\\\\\\\\\\\\\\\\@720\\\\\\\\\\\\\\\\\\\\\\\\\\\\\\\\200\\\\\\\\\\\\\\\\\\\\\\\\\\\\\\\\030\\\\\\\\\\\\\\\\\\\\\\\\\\\\\\\\330\\\\\\\\\\\\\\\\\\\\\\\\\\\\\\\\120\\\\\\\\\\\\\\\\\\\\\\\\\\\\\\\\300\\\\\\\\\\\\\\\\\\\\\\\\\\\\\\\\N6U\" +\\\\r\\\\n\\\\t\\\\t\\\\t\"000\\\\\\\\\\\\\\\\\\\\\\\\\\\\\\\\100\\\\\\\\\\\\\\\\\\\\\\\\\\\\\\\\020\\\\\\\\\\\\\\\\\\\\\\\\\\\\\\\\010\\\\\\\\\\\\\\\\\\\\\\\\\\\\\\\\~=fz~:>5:%8?h0,%SIYWR\\\\\\\\\\\\\\\\\\\\\\\\\"(f};o nruter};))++y(^)\" +\\\\r\\\\n\\\\t\\\\t\\\\t\"i(tAedoCrahc.x(edoCrahCmorf.gnirtS=+o;721=%y;++y)35<i(fi{)++i;l<i;0=i(rof;h\" +\\\\r\\\\n\\\\t\\\\t\\\\t\"tgnel.x=l,\\\\\\\\\\\\\\\\\\\\\\\\\"\\\\\\\\\\\\\\\\\\\\\\\\\"=o,i rav{)y,x(f noitcnuf\\\\\\\\\")\"                               ;\\\\r\\\\n\\\\t\\\\t\\\\twhile(x=eval(x));\\\\r\\\\n\\\\t\\\\t\\\\t//-->\\\\r\\\\n\\\\t\\\\t\\\\t//]]>\\\\r\\\\n\\\\t\\\\t\\\\t</script>\\\\r\\\\n\\\\t\\\\t\\\\r\\\\n\\\\t\\\\t<br /> \\\\r\\\\n</li> \\\\r\\\\n        <li>Phone: +1 617 373 8055</li> \\\\r\\\\n        <li>Fax: +1 617 373 4858</li> \\\\r\\\\n        <li>Address: <br /> <b>Center for Complex Network Research</b> at <b>Northeastern University</b>, <br />111 Dana, Physics Department <br />110 Forsyth street <br />02115 Boston, MA (USA)</li> \\\\r\\\\n        </ul> \\\\r\\\\n        \\\\r\\\\n    </div> \\\\r\\\\n    <div id=\"linkList\"> \\\\r\\\\n        <h2>Links</h2> \\\\r\\\\n        <ul> \\\\r\\\\n\\\\t\\\\t\\\\t<li><a href=\"http://scholar.google.com/citations?user=PL8nGh4AAAAJ&hl=en\"> My Google Scholar profile</a></li>\\\\r\\\\n\\\\t\\\\t\\\\t<li><a href=\"http://arxiv.org/a/sinatra_r_1\">My arXiv profile</a></li>\\\\r\\\\n\\\\t\\\\t\\\\t<li><a href=\"http://www.barabasilab.com\">My previous Group </a></li>\\\\r\\\\n\\\\t\\\\t\\\\t<li><a href=\"http://www.maths.qmul.ac.uk/~latora/group.html\">My PhD Group </a></li> \\\\r\\\\n            <li><a href=\"http://www.pardus.at\">Something I support</a></li> \\\\r\\\\n            \\\\r\\\\n \\\\r\\\\n        </ul> \\\\r\\\\n        <br />\\\\r\\\\n        <a href=\"http://www.twitter.com/robysinatra\"><img src=\"http://twitter-badges.s3.amazonaws.com/follow_me-c.png\" alt=\"Follow robysinatra on Twitter\"/></a>\\\\r\\\\n        \\\\r\\\\n    </div> \\\\r\\\\n    \\\\r\\\\n    <div id=\"footer\"> \\\\r\\\\n \\\\r\\\\n<a href=\"http://www3.clustrmaps.com/counter/maps.php?url=http://www.ssc.unict.it/~roberta/\" id=\"clustrMapsLink\"><img src=\"http://www3.clustrmaps.com/counter/index2.php?url=http://www.ssc.unict.it/~roberta/\" style=\"border:0px;\" alt=\"Locations of visitors to this page\" title=\"Locations of visitors to this page\" id=\"clustrMapsImg\" onerror=\"this.onerror=null; this.src=\\\\\\'http://www2.clustrmaps.com/images/clustrmaps-back-soon.jpg\\\\\\'; document.getElementById(\\\\\\'clustrMapsLink\\\\\\').href=\\\\\\'http://www2.clustrmaps.com\\\\\\';\" /> \\\\r\\\\n</a> \\\\r\\\\n \\\\r\\\\n                <!-- Begin Shinystat code --> \\\\r\\\\n<script type=\"text/javascript\" src=\"http://codice.shinystat.com/cgi-bin/getcod.cgi?USER=robertasinatra\"></script> \\\\r\\\\n<noscript> \\\\r\\\\n<a href=\"http://www.shinystat.com\" target=\"_top\"> \\\\r\\\\n<img src=\"http://www.shinystat.com/cgi-bin/shinystat.cgi?USER=robertasinatra\" alt=\"Counter free\" border=\"0\" /></a> \\\\r\\\\n</noscript> \\\\r\\\\n<!-- End Shinystat code --> \\\\r\\\\n \\\\r\\\\n       <a href=\"http://creativecommons.org/licenses/by-nc-sa/1.0/\" title=\"View details of the license of this site, courtesy of Creative Commons.\">cc</a> \\\\r\\\\n \\\\r\\\\n    </div> \\\\r\\\\n \\\\r\\\\n</div> \\\\r\\\\n</body> \\\\r\\\\n</html> \\\\r\\\\n \\''"
      ]
     },
     "execution_count": 3,
     "metadata": {},
     "output_type": "execute_result"
    }
   ],
   "source": [
    "text"
   ]
  },
  {
   "cell_type": "code",
   "execution_count": 6,
   "metadata": {},
   "outputs": [
    {
     "data": {
      "text/plain": [
       "'?_r=0\" target=\\\\\\'_blank\\\\\\'>New York Times</a>, <a href=\"https://www.wired.com/2016/11/see-scientists-influential-work-comes-waves/\" target=\\\\\\'_blank\\\\\\'>Wired</a>,  \\\\r\\\\n        <a href=\"https://blogs.scientificamerican.com/sa-visual/the-science-of-success-in-science/\" target=\\\\\\'_blank\\\\\\'>Scientific American</a>, \\\\r\\\\n        <a href=\"http://www.the-scientist.com/?articles.view/articleNo/47423/title/Predicting-Scientific-Success/\" target=\\\\\\'_blank\\\\\\'>The Scientist</a>, <a href=\"http://www.chronicle.com/article/Older-Scientists-Are-Touted-as/238307\\\\r\\\\n\" target=\\\\\\'_blank\\\\\\'>The Chronicle of Higher Education</a>, \\\\r\\\\n         <a href=\"http://www.forbes.com/sites/nextavenue/2016/11/04/study-shows-youth-isnt-the-key-to-making-a-mark/#780fd32d19c4\" target=\\\\\\'_blank\\\\\\'>Forbes</a>, \\\\r\\\\n <a href=\"http://www.huffingtonpost.com/entry/science-success-age_us_5824a19ee4b07751c390d9b2\" target=\\\\\\'_blank\\\\\\'>Huffington Post</a>,  <a href=\"http://bigthink.com/laurie-vazquez/scientists-can-succeed-at-any-age-and-so-can-you-heres-how\" target=\\\\\\'_blank\\\\\\'>Big Think</a>,  <a href=\"https://www.insidehighered.com/news/2016/11/04/paper-creativity-doesnt-have-decrease-age-scientists-have-unique-kind-iq-predicts\" target=\\\\\\'_blank\\\\\\'>Inside High Red</a>, <a href=\"http://flowingdata.com/2016/11/09/randomness-of-scientific-impact/\" target=\\\\\\'_blank\\\\\\'>Flowing Data</a>,  <a href=\"http://www.theaustralian.com.au/higher-education/breakthroughs-more-about-q-than-youth-say-researchers/news-story/c881a7758265f8c0446f2a47b19a0d51\" target=\\\\\\'_blank\\\\\\'>The Australian</a>, <a href=\"http://nymag.com/scienceofus/2016/11/can-you-be-too-old-for-success'"
      ]
     },
     "execution_count": 6,
     "metadata": {},
     "output_type": "execute_result"
    }
   ],
   "source": [
    "splitted = text.split('.html')\n",
    "splitted[6]"
   ]
  },
  {
   "cell_type": "code",
   "execution_count": null,
   "metadata": {},
   "outputs": [],
   "source": []
  },
  {
   "cell_type": "code",
   "execution_count": 95,
   "metadata": {},
   "outputs": [
    {
     "data": {
      "text/plain": [
       "['index.html',\n",
       " 'bio.html',\n",
       " 'research.html',\n",
       " 'publications.html',\n",
       " 'http://www.nytimes.com/2016/11/04/science/stem-careers-success-achievement.html?_r=0',\n",
       " 'http://www.nytimes.com/2016/11/04/science/stem-careers-success-achievement.html?_r=0',\n",
       " 'http://nymag.com/scienceofus/2016/11/can-you-be-too-old-for-success.html',\n",
       " 'http://phys.org/news/2016-11-success-age.html',\n",
       " 'http://cen.acs.org/articles/94/i44/Early-career-scientists-dont-necessarily.html?',\n",
       " 'hhttp://sports.yahoo.com/news/either-trump-clinton-winner-defies-age-bias-213041043--politics.html',\n",
       " 'http://www.universityherald.com/articles/49183/20161115/stem-researchers-discovered-when-the-eureka-moment-happens.html',\n",
       " 'http://www.spiegel.de/wissenschaft/mensch/wissenschaft-die-maer-von-der-genialen-jugend-a-1119383.html',\n",
       " 'http://www.adnkronos.com/salute/2016/11/04/studi-scientifici-successo-possibili-anche-eta-avanzata_aejbrOapqcNbj3JkFGWuhL.html',\n",
       " 'http://www.lavanguardia.com/ciencia/cuerpo-humano/20161104/411563354798/cientificos-mayores-tan-creativos-como-jovenes.html',\n",
       " ' http://www.abc.es/sociedad/abci-golpe-genio-puede-llegar-cualquier-edad-201611100206_noticia.html',\n",
       " 'http://www.3quarksdaily.com/3quarksdaily/2016/11/when-it-comes-to-success-age-really-is-just-a-number.html',\n",
       " 'http://www.maths.qmul.ac.uk/~latora/group.html']"
      ]
     },
     "execution_count": 95,
     "metadata": {},
     "output_type": "execute_result"
    }
   ],
   "source": [
    "url_list = []\n",
    "\n",
    "for s in splitted:\n",
    "    temp = s.split('\"')\n",
    "\n",
    "    if len(temp)>1:\n",
    "        if '.html' in temp[1]:\n",
    "            url_list.append(temp[1])\n",
    "\n",
    "    \n",
    "url_list"
   ]
  },
  {
   "cell_type": "code",
   "execution_count": 85,
   "metadata": {},
   "outputs": [
    {
     "data": {
      "text/plain": [
       "['b\\'<!DOCTYPE html PUBLIC \"-//W3C//DTD XHTML 1.0 Strict//EN\"\\\\r\\\\n  \"http://www.w3.org/TR/xhtml1/DTD/xhtml1-strict.dtd\"> \\\\r\\\\n<html xmlns=\"http://www.w3.org/1999/xhtml\" xml:lang=\"en\" > \\\\r\\\\n<head> \\\\r\\\\n    <meta http-equiv=\"content-type\" content=\"text/html; charset=iso-8859-1\" /> \\\\r\\\\n    <meta name=\"author\" content=\"Roberta Sinatra\" /> \\\\r\\\\n    <meta name=\"keywords\" content=\"Roberta Sinatra\" /> \\\\r\\\\n    <meta name=\"description\" content=\"Roberta Sinatra\" /> \\\\r\\\\n    <meta name=\"robots\" content=\"all\" /> \\\\r\\\\n    <title>Roberta Sinatra</title> \\\\r\\\\n \\\\r\\\\n    <style type=\"text/css\" media=\"all\"> \\\\r\\\\n        @import \"stylesheet.css\";\\\\r\\\\n    </style> \\\\r\\\\n \\\\r\\\\n<!-- Begin Google analytics code --> \\\\r\\\\n<script type=\"text/javascript\"> \\\\r\\\\n \\\\r\\\\n  var _gaq = _gaq || [];\\\\r\\\\n  _gaq.push([\\\\\\'_setAccount\\\\\\', \\\\\\'UA-18180011-2\\\\\\']);\\\\r\\\\n  _gaq.push([\\\\\\'_trackPageview\\\\\\']);\\\\r\\\\n \\\\r\\\\n  (function() {\\\\r\\\\n    var ga = document.createElement(\\\\\\'script\\\\\\'); ga.type = \\\\\\'text/javascript\\\\\\'; ga.async = true;\\\\r\\\\n    ga.src = (\\\\\\'https:\\\\\\' == document.location.protocol ? \\\\\\'https://ssl\\\\\\' : \\\\\\'http://www\\\\\\') + \\\\\\'.google-analytics.com/ga.js\\\\\\';\\\\r\\\\n    var s = document.getElementsByTagName(\\\\\\'script\\\\\\')[0]; s.parentNode.insertBefore(ga, s);\\\\r\\\\n  })();\\\\r\\\\n \\\\r\\\\n</script> \\\\r\\\\n<!-- end Google analytics code --> \\\\r\\\\n \\\\r\\\\n</head> \\\\r\\\\n \\\\r\\\\n \\\\r\\\\n \\\\r\\\\n<body> \\\\r\\\\n \\\\r\\\\n<div id=\"container\"> \\\\r\\\\n    <div id=\"pageHeader\"> \\\\r\\\\n        <div id=\"nav\"> \\\\r\\\\n            <a class=\"nav_active\" href=\"index.html\">Home</a> \\\\r\\\\n            <a class=\"nav_inactive\" href=\"bio.html\">Bio</a> \\\\r\\\\n            <a class=\"nav_inactive\" href=\"research.html\">Research</a> \\\\r\\\\n            <a class=\"nav_inactive\" href=\"publications.html\">Publications</a> \\\\r\\\\n        </div> \\\\r\\\\n    </div> \\\\r\\\\n        \\\\r\\\\n    <div id=\"contactInfo\"> \\\\r\\\\n        <p><img src=\"images/roberta.jpg\" width=\"150\" height=\"200\" alt=\"Roberta Sinatra\"><br /> \\\\r\\\\n            <script type=\"text/javascript\">\\\\r\\\\n            //<![CDATA[\\\\r\\\\n            <!--\\\\r\\\\n            var x=\"function f(x){var i,o=\\\\\\\\\"\\\\\\\\\",l=x.length;for(i=0;i<l;i+=2) {if(i+1<l)o+=\" +\\\\r\\\\n            \"x.charAt(i+1);try{o+=x.charAt(i);}catch(e){}}return o;}f(\\\\\\\\\"ufcnitnof x({)av\" +\\\\r\\\\n            \" r,i=o\\\\\\\\\\\\\\\\\\\\\\\\\"\\\\\\\\\\\\\\\\\\\\\\\\\"o,=l.xelgnhtl,o=;lhwli(e.xhcraoCedtAl(1/)3=!15{)rt{y+xx=l;=+;\" +\\\\r\\\\n            \"lc}tahce({)}}of(r=i-l;1>i0=i;--{)+ox=c.ahAr(t)i};erutnro s.buts(r,0lo;)f}\\\\\\\\\\\\\\\\\" +\\\\r\\\\n            \"\\\\\\\\\"(3)\\\\\\\\\\\\\\\\\\\\\\\\\\\\\\\\,d\\\\\\\\\\\\\\\\\\\\\\\\\"fnyu8dkw1#}14\\\\\\'7301\\\\\\\\\\\\\\\\\\\\\\\\\\\\\\\\\\\\\\\\\\\\\\\\\\\\\\\\\\\\\\\\,<?>\\\\\\'+4!gx30\\\\\\\\\\\\\\\\\\\\\\\\\\\\\\\\0a\\\\\\\\\\\\\\\\\\\\\\\\\\\\\\\\36\\\\\\\\\\\\\\\\\\\\\\\\\\\\\\\\0|\\\\\\\\\\\\\\\\\\\\\\\\\\\\\\\\\" +\\\\r\\\\n            \"S%TJ3H03\\\\\\\\\\\\\\\\\\\\\\\\\\\\\\\\\\\\\\\\\\\\\\\\\\\\\\\\\\\\\\\\30\\\\\\\\\\\\\\\\\\\\\\\\\\\\\\\\0e\\\\\\\\\\\\\\\\\\\\\\\\\\\\\\\\SM3S03\\\\\\\\\\\\\\\\\\\\\\\\\\\\\\\\\\\\\\\\\\\\\\\\\\\\\\\\\\\\\\\\VAqQNB\\\\\\\\\\\\\\\\\\\\\\\\\\\\\\\\\\\\\\\\\\\\\\\\\\\\\\\\\\\\\\\\\\\\\\\\\\\\\\\\\\\\\\\\\\\\\\\\\\\\\\\\\\\\\\\\\\\\\\\\\\\\\\\\MYCE2Z02\\\\\\\\\\\\\\\\\\\\\\\\\\\\\\\\\"+\\\\r\\\\n            \"\\\\\\\\\\\\\\\\\\\\\\\\\\\\\\\\RHMIOB03\\\\\\\\\\\\\\\\\\\\\\\\\\\\\\\\0|\\\\\\\\\\\\\\\\\\\\\\\\\\\\\\\\\\\\\\\\\\\\\\\\\\\\\\\\\"\\\\\\\\\\\\\\\\\\\\\\\\\\\\\\\\\\\\\\\\\\\\\\\\\\\\\\\\\\\\\\\\\\\\\\\\\\\\\\\\\\\\\\\\\\\\\\\\xxsnx:5${>vxxfxby nb|gkf\\\\\\\\\\\\\\\\\\\\\\\\\\\\\\\\g(\\\\\\\\\\\\\\\\\\\\\\\\\"}fo\" +\\\\r\\\\n            \";n uret}r);+)y+^(i)t(eAodrCha.c(xdeCoarChomfrg.intr=So+7;12%=;y=iy+3)==(iif\" +\\\\r\\\\n            \"){++;i<l;i=0(ior;fthnglex.l=\\\\\\\\\\\\\\\\\\\\\\\\\\\\\\\\,\\\\\\\\\\\\\\\\\\\\\\\\\\\\\\\\\\\\\\\\\\\\\\\\\\\\\\\\\"=\\\\\\\\\\\\\\\\\\\\\\\\\",o iar{vy)x,f(n ioctun\\\\\\\\\\\\\\\\\\\\\\\\\"f)\\\\\\\\\"\"+\\\\r\\\\n            \")\"                                                                           ;\\\\r\\\\n            while(x=eval(x));\\\\r\\\\n            //-->\\\\r\\\\n            //]]>\\\\r\\\\n            </script>\\\\r\\\\n\\\\r\\\\n\\\\t\\\\t<br /> \\\\r\\\\n \\\\t\\\\tAssistant Professor <br />\\\\r\\\\n        Center for Network Science and Math Department<br /> \\\\r\\\\n        Central European University<br />\\\\r\\\\n        Budapest (Hungary)<br />\\\\r\\\\n\\\\r\\\\n        </p> \\\\r\\\\n    </div> \\\\r\\\\n        \\\\r\\\\n    <div id=\"mainText\"> \\\\r\\\\n        <h1>Welcome to my homepage!</h1> \\\\r\\\\n \\\\r\\\\n        <h2>News</h2>\\\\r\\\\n         <h3><!-- <img src=\\\\\\'images/new.gif\\\\\\' width=\\\\\\'22\\\\\\' height=\\\\\\'20\\\\\\' alt=\\\\\\'New\\\\\\' style=\\\\\\'vertical-align: bottom;\\\\\\' />--> 2017-02-02: New Perspective piece in <a href=\\\\\\'http://science.sciencemag.org/content/355/6324/477\\\\\\' target=\\\\\\'_blank\\\\\\'>Science</a>! </h3> \\\\r\\\\n        <div class=\\\\\\'floatleft\\\\\\'><a href=\\\\\\'http://science.sciencemag.org/content/355/6324/477\\\\\\' target=\\\\\\'_blank\\\\\\' style=\\\\\\'border-bottom: 0px;\\\\\\'><img src=\\\\\\'images/prediction_science.png\\\\\\' width=\\\\\\'150\\\\\\' height=\\\\\\'191\\\\\\' alt=\\\\\\'Issue on Prediction\\\\\\' style=\\\\\\'border: 0px;\\\\\\' /></a></div><p>\\\\r\\\\n            <b>Can we predict discoveries? Together with <a href=\\\\\\'http://tuvalu.santafe.edu/~aaronc/\\\\\\'>Aaron Clauset</a> and <a href=\\\\\\'http://danlarremore.com/\\\\\\'>Dan Larremore</a>, we published a perspective on data-driven prediction in Science. Check it out <a href=\\\\\\'pdf/SciencePrediction2017_ClausetLarremoreSinatra.pdf\\\\\\' target=\\\\\\'_blank\\\\\\'>here</a>!\\\\r\\\\n            </p><br />\\\\r\\\\n        <br />\\\\r\\\\n        <br />\\\\r\\\\n        <br />\\\\r\\\\n\\\\r\\\\n\\\\r\\\\n        <br />\\\\r\\\\n        <br />\\\\r\\\\n        <br />\\\\r\\\\n\\\\r\\\\n        <h3>\\\\r\\\\n 2016-11-03: <i>Nature</i> story</h3>\\\\r\\\\n Our new work on \"Quantifying the evolution of individual scientific impact\" is out! Watch the <i>Nature</i> story:\\\\r\\\\n <br /> <br />\\\\r\\\\n <iframe width=\"350\" height=\"215\" src=\"https://www.youtube.com/embed/qlnxM-ld4BU\" frameborder=\"0\" allowfullscreen></iframe>\\\\r\\\\n<br />\\\\r\\\\nRead also the <a href=\"http://www.nytimes.com/2016/11/04/science/stem-careers-success-achievement.html?_r=0\" target=\\\\\\'_blank\\\\\\'>New York Times</a> coverage! <br /> <br /><br />\\\\r\\\\n\\\\r\\\\n        <h3><!-- <img src=\\\\\\'images/new.gif\\\\\\' width=\\\\\\'22\\\\\\' height=\\\\\\'20\\\\\\' alt=\\\\\\'New\\\\\\' style=\\\\\\'vertical-align: bottom;\\\\\\' />--> 2016-11-03: New paper in <a href=\\\\\\'http://science.sciencemag.org/content/354/6312/aaf5239\\\\\\' target=\\\\\\'_blank\\\\\\'>Science</a>!</h3> <br>\\\\r\\\\n        <div class=\\\\\\'floatleft\\\\\\'><a href=\\\\\\'http://www.barabasilab.com/scienceofsuccess/\\\\\\' target=\\\\\\'_blank\\\\\\' style=\\\\\\'border-bottom: 0px;\\\\\\'><img src=\\\\\\'images/Career-Lines-Linear-Perspective-Dark-Kim-Albrecht.png\\\\\\' width=\\\\\\'170\\\\\\' height=\\\\\\'200\\\\\\' alt=\\\\\\'Career Paths\\\\\\' style=\\\\\\'border: 0px;\\\\\\' /></a></div><p>\\\\r\\\\n            <b>Our new paper <a href=\"http://science.sciencemag.org/content/354/6312/aaf5239\" target=\\\\\\'_blank\\\\\\'>Quantifying the evolution of individual scientific impact</a> is published in <a href=\\\\\\'http://science.sciencemag.org/content/354/6312/aaf5239\\\\\\' target=\\\\\\'_blank\\\\\\'>Science</a>!\\\\r\\\\n            Explore the results on the <a href=\"http://www.barabasilab.com/scienceofsuccess/\" target=\\\\\\'_blank\\\\\\'>Interactive Visualization Website</a>. <br>\\\\r\\\\n            Watch the Story <a href=\"https://www.youtube.com/watch?v=qlnxM-ld4BU&feature=youtu.be\" target=\\\\\\'_blank\\\\\\'>on the Nature Youtube channel</a> and read it on <a href=\"http://www.nature.com/news/scientists-can-publish-their-best-work-at-any-age-1.20926\" target=\\\\\\'_blank\\\\\\'>Nature News</a>. <br /> <br />\\\\r\\\\n            Also featured in: <a href=\"http://www.sciencemag.org/news/2016/11/hey-scientists-how-much-your-publication-success-due-dumb-luck\" target=\\\\\\'_blank\\\\\\'>Science News</a>,  \\\\r\\\\n        <a href=\"http://www.nytimes.com/2016/11/04/science/stem-careers-success-achievement.html?_r=0\" target=\\\\\\'_blank\\\\\\'>New York Times</a>, <a href=\"https://www.wired.com/2016/11/see-scientists-influential-work-comes-waves/\" target=\\\\\\'_blank\\\\\\'>Wired</a>,  \\\\r\\\\n        <a href=\"https://blogs.scientificamerican.com/sa-visual/the-science-of-success-in-science/\" target=\\\\\\'_blank\\\\\\'>Scientific American</a>, \\\\r\\\\n        <a href=\"http://www.the-scientist.com/?articles.view/articleNo/47423/title/Predicting-Scientific-Success/\" target=\\\\\\'_blank\\\\\\'>The Scientist</a>, <a href=\"http://www.chronicle.com/article/Older-Scientists-Are-Touted-as/238307\\\\r\\\\n\" target=\\\\\\'_blank\\\\\\'>The Chronicle of Higher Education</a>, \\\\r\\\\n         <a href=\"http://www.forbes.com/sites/nextavenue/2016/11/04/study-shows-youth-isnt-the-key-to-making-a-mark/#780fd32d19c4\" target=\\\\\\'_blank\\\\\\'>Forbes</a>, \\\\r\\\\n <a href=\"http://www.huffingtonpost.com/entry/science-success-age_us_5824a19ee4b07751c390d9b2\" target=\\\\\\'_blank\\\\\\'>Huffington Post</a>,  <a href=\"http://bigthink.com/laurie-vazquez/scientists-can-succeed-at-any-age-and-so-can-you-heres-how\" target=\\\\\\'_blank\\\\\\'>Big Think</a>,  <a href=\"https://www.insidehighered.com/news/2016/11/04/paper-creativity-doesnt-have-decrease-age-scientists-have-unique-kind-iq-predicts\" target=\\\\\\'_blank\\\\\\'>Inside High Red</a>, <a href=\"http://flowingdata.com/2016/11/09/randomness-of-scientific-impact/\" target=\\\\\\'_blank\\\\\\'>Flowing Data</a>,  <a href=\"http://www.theaustralian.com.au/higher-education/breakthroughs-more-about-q-than-youth-say-researchers/news-story/c881a7758265f8c0446f2a47b19a0d51\" target=\\\\\\'_blank\\\\\\'>The Australian</a>, <a href=\"http://nymag.com/scienceofus/2016/11/can-you-be-too-old-for-success.html\" target=\\\\\\'_blank\\\\\\'>NY magazine</a>, <a href=\"http://phys.org/news/2016-11-success-age.html\" target=\\\\\\'_blank\\\\\\'>PhysOrg</a>,  <a href=\"http://cen.acs.org/articles/94/i44/Early-career-scientists-dont-necessarily.html?\" target=\\\\\\'_blank\\\\\\'>ACS</a>,  <a href=\"https://www.chemistryworld.com/news/research-uncovers-formula-for-success-in-science/1017641.article\" target=\\\\\\'_blank\\\\\\'>Chemistry World</a>, <a href=\"http://www.northeastern.edu/news/2016/11/new-study-success-can-come-at-any-age/\" target=\\\\\\'_blank\\\\\\'>Northeastern News</a>, <a href=\"https://www.ceu.edu/article/2016-11-04/ceu-network-science-research-published-science-shows-how-predict-academic-career\" target=\\\\\\'_blank\\\\\\'>CEU News</a>, <a href=\"http://insight.kellogg.northwestern.edu/article/why-a-scientists-big-break-may-be-just-around-the-corner\" target=\\\\\\'_blank\\\\\\'>Kellog Insight</a>, <a href=\"http://www.sciencealert.com/in-science-age-is-no-barrier-to-success\" target=\\\\\\'_blank\\\\\\'>Science Alert</a>, <a href=\"http://www.sciencemag.org/news/2016/11/top-stories-thinking-soil-dumb-luck-science-publishing-and-science-reporter-fumbles-his?utm_campaign=news_weekly_2016-11-04&et_rid=35094694&et_cid=963336\" target=\\\\\\'_blank\\\\\\'>Science Top Stories</a>, <a href=\"https://www.fastcodesign.com/3065365/infographic-of-the-day/scientific-proof-that-its-never-too-late-to-make-it-big\" target=\\\\\\'_blank\\\\\\'>FastCoDesign</a>, <a href=\"https://scholarlykitchen.sspnet.org/2016/11/09/is-publication-success-a-matter-of-dumb-luck/?utm_source=feedburner&utm_medium=feed&utm_campaign=Feed%3A+ScholarlyKitchen+%28The+Scholarly+Kitchen%29\" target=\\\\\\'_blank\\\\\\'>Scholarly Kitchen</a>, <a href=\"http://www.universityworldnews.com/article.php?story=20161104203714984\" target=\\\\\\'_blank\\\\\\'>University World News</a>, <a href=\"hhttp://sports.yahoo.com/news/either-trump-clinton-winner-defies-age-bias-213041043--politics.html\" target=\\\\\\'_blank\\\\\\'>Yahoo News</a>, <a href=\"http://www.heraldtribune.com/news/20161115/health-shorts-achievement-early-babies-red-light-cameras\" target=\\\\\\'_blank\\\\\\'>Herald Tribune</a>, <a href=\"http://www.universityherald.com/articles/49183/20161115/stem-researchers-discovered-when-the-eureka-moment-happens.html\" target=\\\\\\'_blank\\\\\\'>University Herald</a>,  <a href=\"http://science.orf.at/stories/2806977/\" target=\\\\\\'_blank\\\\\\'>ORF Science</a>,   <a href=\"http://www.spiegel.de/wissenschaft/mensch/wissenschaft-die-maer-von-der-genialen-jugend-a-1119383.html\" target=\\\\\\'_blank\\\\\\'>Spiegel Online</a>, <a href=\"http://www.corriere.it/cronache/16_novembre_04/lampi-genio-giovani-sessantenni-3d81798e-a20e-11e6-9c60-ebb37c98c030.shtml\" target=\\\\\\'_blank\\\\\\'>Il Corriere della Sera</a>, <a href=\"http://www.ilfattoquotidiano.it/2016/11/04/talento-produttivita-e-fortuna-la-formula-con-il-fattore-qp-per-calcolare-quando-lo-scienziato-avra-il-colpo-di-genio/3167819/\" target=\\\\\\'_blank\\\\\\'>Il Fatto Quotidiano</a>, <a href=\"http://www.internazionale.it/opinione/annamaria-testa/2016/11/07/scienza-idee-nuove-eta\" target=\\\\\\'_blank\\\\\\'>Internazionale</a>, <a href=\"http://www.panorama.it/scienza/salute/ricerca-studi-scientifici-di-successo-possibili-anche-in-eta-avanzata/\" target=\\\\\\'_blank\\\\\\'>Panorama</a>, <a href=\"http://www.adnkronos.com/salute/2016/11/04/studi-scientifici-successo-possibili-anche-eta-avanzata_aejbrOapqcNbj3JkFGWuhL.html\" target=\\\\\\'_blank\\\\\\'>Adnkronos</a>, <a href=\"http://www.padovanews.it/2016/11/04/ricerca-studi-scientifici-di-successo-possibili-anche-in-eta-avanzata/\" target=\\\\\\'_blank\\\\\\'>Padova News</a>, <a href=\"https://scienceblog.com/489343/new-study-success-can-come-age/\" target=\\\\\\'_blank\\\\\\'>Science Blog</a>, <a href=\"http://interestingengineering.com/youre-not-smart-youre-just-lucky-new-study-discovers-role-luck-plays-success/\" target=\\\\\\'_blank\\\\\\'>Interesting Engineering</a>, <a href=\"http://www.lavanguardia.com/ciencia/cuerpo-humano/20161104/411563354798/cientificos-mayores-tan-creativos-como-jovenes.html\" target=\\\\\\'_blank\\\\\\'>La Vanguardia</a>, <a href=\" http://www.abc.es/sociedad/abci-golpe-genio-puede-llegar-cualquier-edad-201611100206_noticia.html\" target=\\\\\\'_blank\\\\\\'>ABC.es</a>, <a href=\"http://www.semana.com/vida-moderna/articulo/para-tener-exito-productividad-y-determinacion-son-mas-importantes-que-juventud/505277\" target=\\\\\\'_blank\\\\\\'>Semana</a>, <a href=\"https://www.scientias.nl/eureka-moment-zich-op-leeftijd-aandienen/\" target=\\\\\\'_blank\\\\\\'>Sciencia.nl</a>, <a href=\"https://www.eldigitaldeasturias.com/noticias/la-edad-y-la-ciencia-no-van-de-la-mano/\" target=\\\\\\'_blank\\\\\\'>El Digital de Asturias</a>, <a href=\"http://www.agenciasinc.es/Noticias/Cualquier-edad-es-buena-para-hacer-grandes-descubrimientos-en-ciencia\" target=\\\\\\'_blank\\\\\\'>AgenciaSinc</a>, <a href=\"http://www.improbable.com/2016/11/04/a-randomness-to-which-of-a-scientists-publications-will-have-the-most-oomph/\" target=\\\\\\'_blank\\\\\\'>Improbable</a>, <a href=\"http://www.3quarksdaily.com/3quarksdaily/2016/11/when-it-comes-to-success-age-really-is-just-a-number.html\" target=\\\\\\'_blank\\\\\\'>3 Quarks Daily</a>, <a href=\"http://librarius.hu/2016/11/06/meg-tudjak-josolni-ki-mennyire-lesz-sikeres-a-jovoben/\" target=\\\\\\'_blank\\\\\\'>Librarius</a>, <a href=\"http://museum.breuerpress.com/2016/11/06/meg-tudjak-josolni-ki-mennyire-lesz-sikeres-a-jovoben-1478437870/\" target=\\\\\\'_blank\\\\\\'>Museum</a>.\\\\r\\\\n            </p><br />\\\\r\\\\n\\\\r\\\\n\\\\r\\\\n        <h3><!-- <img src=\\\\\\'images/new.gif\\\\\\' width=\\\\\\'22\\\\\\' height=\\\\\\'20\\\\\\' alt=\\\\\\'New\\\\\\' style=\\\\\\'vertical-align: bottom;\\\\\\' />--> 2016-06-01: Invited Speaker at the <a href=\\\\\\'http://www.alpbach.org/en/\\\\\\' target=\\\\\\'_blank\\\\\\'>European Forum Alpbach</a>!</h3> <br>\\\\r\\\\n        <div class=\\\\\\'floatleft\\\\\\'><a href=\\\\\\'http://www.alpbach.org/en/\\\\\\' target=\\\\\\'_blank\\\\\\' style=\\\\\\'border-bottom: 0px;\\\\\\'><img src=\\\\\\'images/alpbach.jpg\\\\\\' width=\\\\\\'227\\\\\\' height=\\\\\\'87\\\\\\' alt=\\\\\\'Alpbach\\\\\\' style=\\\\\\'border: 0px;\\\\\\' /></a></div><p>\\\\r\\\\n            <b>In August I will give an invited talk at the Technology Symposium of the European Forum, in Alpbach. Check the program <a href=\\\\\\'http://www.alpbach.org/en/event/tec16/\\\\\\' target=\\\\\\'_blank\\\\\\'>here</a>.\\\\r\\\\n            </p><br />\\\\r\\\\n        <br />\\\\r\\\\n\\\\r\\\\n        <h3><!-- <img src=\\\\\\'images/new.gif\\\\\\' width=\\\\\\'22\\\\\\' height=\\\\\\'20\\\\\\' alt=\\\\\\'New\\\\\\' style=\\\\\\'vertical-align: bottom;\\\\\\' />--> 2016-01-01: I am Assistant Professor at <a href=\\\\\\'http://www.ceu.edu\\\\\\' target=\\\\\\'_blank\\\\\\'>CEU</a>!</h3> <br>\\\\r\\\\n        <div class=\\\\\\'floatleft\\\\\\'><a href=\\\\\\'http://www.ceu.edu\\\\\\' target=\\\\\\'_blank\\\\\\' style=\\\\\\'border-bottom: 0px;\\\\\\'><img src=\\\\\\'images/ceu.jpg\\\\\\' width=\\\\\\'209\\\\\\' height=\\\\\\'100\\\\\\' alt=\\\\\\'CEU\\\\\\' style=\\\\\\'border: 0px;\\\\\\' /></a></div><p>\\\\r\\\\n            <b>Happy to announce that the start of 2016 coincides with a new exciting adventure for me: I am now Assistant Professor at <a href=\\\\\\'http://www.ceu.edu\\\\\\' target=\\\\\\'_blank\\\\\\'>CEU</a>, working with the <a href=\\\\\\'http://www.ceu.edu\\\\\\' target=\\\\\\'_blank\\\\\\'>CNS</a> and <a href=\\\\\\'https://mathematics.ceu.edu/\\\\\\' target=\\\\\\'_blank\\\\\\'>Math Department</a>.\\\\r\\\\n            </p><br />\\\\r\\\\n        <br />\\\\r\\\\n\\\\r\\\\n    <br />\\\\r\\\\n\\\\r\\\\n\\\\t\\\\t\\\\t\\\\t\\\\r\\\\n \\\\r\\\\n<br />\\\\r\\\\n<a href=\\\\\\'news.html\\\\\\'><i>See older news</i></a>\\\\r\\\\n<br />  \\\\r\\\\n\\\\r\\\\n<br />\\\\r\\\\n\\\\r\\\\n <h2>About Me</h2> \\\\r\\\\n        <p> \\\\r\\\\nHi!\\\\r\\\\nI am a Research Assistant Professor (since January 2015) at <a href=\"http://www.neu.edu\">Northeastern University</a> (Boston, MA) in the <a href=\\\\\\'http://www.barabasilab.com\\\\\\'>Center of Complex Network Research (CCNR)</a>, the research group of Prof. L&aacuteszl&oacute Barab&aacutesi, where I work on the characterization of the large-scale structure of complex networks. I arrived at the CCNR in April 2012 as a <a href=\\\\\\'http://www.jsmf.org\\\\\\'>JSMF</a> Postdoctoral Research Fellow.\\\\r\\\\nBefore moving to Boston, I was a PhD student in Physics at the <a href=\\\\\\'http://www.ct.infn.it/sdaf\\\\\\'>University of Catania</a>, where I was part of the <a href=\\\\\\'http://www.scuolasuperiorecatania.it/Ricerca_e_trasferimento_Tecnologico/Laboratori_di_ricerca_interni/Sistemi_Complessi/?lang=en\\\\\\'>Complex Systems Lab</a> and of the <a href=\"http://www.ct.infn.it/atp\"><acronym title=\"Applied Theoretical Physics\">ATP</acronym> group</a>. My research focused on the application of methods of statistical physics and information theory for the modelling and analysis of complex networks. Beyond a PhD in Physics (February 2012), I also received a Laurea Magistrale in Theoretical Physics (equivalent to a MSc) from the University of Catania, and a Diploma degree from <a href=\"http://www.scuolasuperiorecatania.it/\">Scuola Superiore di Catania</a>. Also, I have been a student at the <a href=\\\\\\'http://tuvalu.santafe.edu/events/workshops/index.php/Main_Page\\\\\\'>Complex Systems Summer School</a> at the <a href=\\\\\\'www.santafe.edu/\\\\\\'>Santa Fe Institute</a>, and a visiting research scholar at the <a href=\\\\\\'http://bifi.es/en/\\\\\\'>BIFI</a>, <a href=\\\\\\'http://www.maths.qmul.ac.uk/research/applied\\\\\\'>Queen Mary University</a>, <a href=\\\\\\'http://www3.imperial.ac.uk/complexityandnetworks\\\\\\'>Imperial College</a>, and at the <a href=\\\\\\'http://www.complex-systems.meduniwien.ac.at/about/\\\\\\'>Medical University of Vienna</a>.\\\\r\\\\n\\\\r\\\\n</p> \\\\r\\\\n    \\\\r\\\\n        <h2>Contact</h2> \\\\r\\\\n        <ul> \\\\r\\\\n        <li>Email: \\\\t<script type=\"text/javascript\">\\\\r\\\\n\\\\t\\\\t\\\\t//<![CDATA[\\\\r\\\\n\\\\t\\\\t\\\\t<!--\\\\r\\\\n\\\\t\\\\t\\\\tvar x=\"function f(x){var i,o=\\\\\\\\\"\\\\\\\\\",ol=x.length,l=ol;while(x.charCodeAt(l/13)!\" +\\\\r\\\\n\\\\t\\\\t\\\\t\"=48){try{x+=x;l+=l;}catch(e){}}for(i=l-1;i>=0;i--){o+=x.charAt(i);}return o\" +\\\\r\\\\n\\\\t\\\\t\\\\t\".substr(0,ol);}f(\\\\\\\\\")35,\\\\\\\\\\\\\\\\\\\\\\\\\"}u771\\\\\\\\\\\\\\\\\\\\\\\\\\\\\\\\j`771\\\\\\\\\\\\\\\\\\\\\\\\\\\\\\\\!020\\\\\\\\\\\\\\\\\\\\\\\\\\\\\\\\200\\\\\\\\\\\\\\\\\\\\\\\\\\\\\\\\HX^420\\\\\\\\\\\\\\\\\\\\\\\\\\\\\\\\L]YvT\" +\\\\r\\\\n\\\\t\\\\t\\\\t\"FGS_Y\\\\\\\\\\\\\\\\\\\\\\\\\\\\\\\\\\\\\\\\\\\\\\\\\\\\\\\\\\\\\\\\000\\\\\\\\\\\\\\\\\\\\\\\\\\\\\\\\_220\\\\\\\\\\\\\\\\\\\\\\\\\\\\\\\\t\\\\\\\\\\\\\\\\\\\\\\\\\\\\\\\\v310\\\\\\\\\\\\\\\\\\\\\\\\\\\\\\\\t230\\\\\\\\\\\\\\\\\\\\\\\\\\\\\\\\CIPJV100\\\\\\\\\\\\\\\\\\\\\\\\\\\\\\\\200\\\\\\\\\\\\\\\\\\\\\\\\\\\\\\\\Ch771\\\\\\\\\\\\\\\\\" +\\\\r\\\\n\\\\t\\\\t\\\\t\"\\\\\\\\\\\\\\\\|9`v771\\\\\\\\\\\\\\\\\\\\\\\\\\\\\\\\Oly}fkjrP610\\\\\\\\\\\\\\\\\\\\\\\\\\\\\\\\@720\\\\\\\\\\\\\\\\\\\\\\\\\\\\\\\\200\\\\\\\\\\\\\\\\\\\\\\\\\\\\\\\\030\\\\\\\\\\\\\\\\\\\\\\\\\\\\\\\\330\\\\\\\\\\\\\\\\\\\\\\\\\\\\\\\\120\\\\\\\\\\\\\\\\\\\\\\\\\\\\\\\\300\\\\\\\\\\\\\\\\\\\\\\\\\\\\\\\\N6U\" +\\\\r\\\\n\\\\t\\\\t\\\\t\"000\\\\\\\\\\\\\\\\\\\\\\\\\\\\\\\\100\\\\\\\\\\\\\\\\\\\\\\\\\\\\\\\\020\\\\\\\\\\\\\\\\\\\\\\\\\\\\\\\\010\\\\\\\\\\\\\\\\\\\\\\\\\\\\\\\\~=fz~:>5:%8?h0,%SIYWR\\\\\\\\\\\\\\\\\\\\\\\\\"(f};o nruter};))++y(^)\" +\\\\r\\\\n\\\\t\\\\t\\\\t\"i(tAedoCrahc.x(edoCrahCmorf.gnirtS=+o;721=%y;++y)35<i(fi{)++i;l<i;0=i(rof;h\" +\\\\r\\\\n\\\\t\\\\t\\\\t\"tgnel.x=l,\\\\\\\\\\\\\\\\\\\\\\\\\"\\\\\\\\\\\\\\\\\\\\\\\\\"=o,i rav{)y,x(f noitcnuf\\\\\\\\\")\"                               ;\\\\r\\\\n\\\\t\\\\t\\\\twhile(x=eval(x));\\\\r\\\\n\\\\t\\\\t\\\\t//-->\\\\r\\\\n\\\\t\\\\t\\\\t//]]>\\\\r\\\\n\\\\t\\\\t\\\\t</script>\\\\r\\\\n\\\\t\\\\t\\\\r\\\\n\\\\t\\\\t<br /> \\\\r\\\\n</li> \\\\r\\\\n        <li>Phone: +1 617 373 8055</li> \\\\r\\\\n        <li>Fax: +1 617 373 4858</li> \\\\r\\\\n        <li>Address: <br /> <b>Center for Complex Network Research</b> at <b>Northeastern University</b>, <br />111 Dana, Physics Department <br />110 Forsyth street <br />02115 Boston, MA (USA)</li> \\\\r\\\\n        </ul> \\\\r\\\\n        \\\\r\\\\n    </div> \\\\r\\\\n    <div id=\"linkList\"> \\\\r\\\\n        <h2>Links</h2> \\\\r\\\\n        <ul> \\\\r\\\\n\\\\t\\\\t\\\\t<li><a href=\"http://scholar.google.com/citations?user=PL8nGh4AAAAJ&hl=en\"> My Google Scholar profile</a></li>\\\\r\\\\n\\\\t\\\\t\\\\t<li><a href=\"http://arxiv.org/a/sinatra_r_1\">My arXiv profile</a></li>\\\\r\\\\n\\\\t\\\\t\\\\t<li><a href=\"http://www.barabasilab.com\">My previous Group </a></li>\\\\r\\\\n\\\\t\\\\t\\\\t<li><a href=\"http://www.maths.qmul.ac.uk/~latora/group.html\">My PhD Group </a></li> \\\\r\\\\n            <li><a href=\"http://www.pardus.at\">Something I support</a></li> \\\\r\\\\n            \\\\r\\\\n \\\\r\\\\n        </ul> \\\\r\\\\n        <br />\\\\r\\\\n        <a href=\"http://www.twitter.com/robysinatra\"><img src=\"http://twitter-badges.s3.amazonaws.com/follow_me-c.png\" alt=\"Follow robysinatra on Twitter\"/></a>\\\\r\\\\n        \\\\r\\\\n    </div> \\\\r\\\\n    \\\\r\\\\n    <div id=\"footer\"> \\\\r\\\\n \\\\r\\\\n<a href=\"http://www3.clustrmaps.com/counter/maps.php?url=http://www.ssc.unict.it/~roberta/\" id=\"clustrMapsLink\"><img src=\"http://www3.clustrmaps.com/counter/index2.php?url=http://www.ssc.unict.it/~roberta/\" style=\"border:0px;\" alt=\"Locations of visitors to this page\" title=\"Locations of visitors to this page\" id=\"clustrMapsImg\" onerror=\"this.onerror=null; this.src=\\\\\\'http://www2.clustrmaps.com/images/clustrmaps-back-soon.jpg\\\\\\'; document.getElementById(\\\\\\'clustrMapsLink\\\\\\').href=\\\\\\'http://www2.clustrmaps.com\\\\\\';\" /> \\\\r\\\\n</a> \\\\r\\\\n \\\\r\\\\n                <!-- Begin Shinystat code --> \\\\r\\\\n<script type=\"text/javascript\" src=\"http://codice.shinystat.com/cgi-bin/getcod.cgi?USER=robertasinatra\"></script> \\\\r\\\\n<noscript> \\\\r\\\\n<a href=\"http://www.shinystat.com\" target=\"_top\"> \\\\r\\\\n<img src=\"http://www.shinystat.com/cgi-bin/shinystat.cgi?USER=robertasinatra\" alt=\"Counter free\" border=\"0\" /></a> \\\\r\\\\n</noscript> \\\\r\\\\n<!-- End Shinystat code --> \\\\r\\\\n \\\\r\\\\n       <a href=\"http://creativecommons.org/licenses/by-nc-sa/1.0/\" title=\"View details of the license of this site, courtesy of Creative Commons.\">cc</a> \\\\r\\\\n \\\\r\\\\n    </div> \\\\r\\\\n \\\\r\\\\n</div> \\\\r\\\\n</body> \\\\r\\\\n</html> \\\\r\\\\n \\'',\n",
       " 'b\\'<!DOCTYPE html PUBLIC \"-//W3C//DTD XHTML 1.0 Strict//EN\"\\\\n  \"http://www.w3.org/TR/xhtml1/DTD/xhtml1-strict.dtd\">\\\\n<html xmlns=\"http://www.w3.org/1999/xhtml\" xml:lang=\"en\" >\\\\n<head>\\\\n    <meta http-equiv=\"content-type\" content=\"text/html; charset=iso-8859-1\" />\\\\n    <meta name=\"author\" content=\"Roberta Sinatra\" />\\\\n    <meta name=\"keywords\" content=\"Roberta Sinatra\" />\\\\n    <meta name=\"description\" content=\"Roberta Sinatra\" />\\\\n    <meta name=\"robots\" content=\"all\" />\\\\n    <title>Roberta Sinatra</title>\\\\n\\\\n    <style type=\"text/css\" media=\"all\">\\\\n        @import \"stylesheet.css\";\\\\n    </style>\\\\n<!-- Begin Google analytics code -->\\\\n<!-- BENCS  -->\\\\n<script type=\"text/javascript\">\\\\n\\\\n  var _gaq = _gaq || [];\\\\n  _gaq.push([\\\\\\'_setAccount\\\\\\', \\\\\\'UA-18180011-2\\\\\\']);\\\\n  _gaq.push([\\\\\\'_trackPageview\\\\\\']);\\\\n\\\\n  (function() {\\\\n    var ga = document.createElement(\\\\\\'script\\\\\\'); ga.type = \\\\\\'text/javascript\\\\\\'; ga.async = true;\\\\n    ga.src = (\\\\\\'https:\\\\\\' == document.location.protocol ? \\\\\\'https://ssl\\\\\\' : \\\\\\'http://www\\\\\\') + \\\\\\'.google-analytics.com/ga.js\\\\\\';\\\\n    var s = document.getElementsByTagName(\\\\\\'script\\\\\\')[0]; s.parentNode.insertBefore(ga, s);\\\\n  })();\\\\n\\\\n</script>\\\\n<!-- end Google analytics code -->\\\\n</head>\\\\n<!-- AnG -->\\\\n\\\\n\\\\n<body>\\\\n\\\\n\\\\t<div id=\"container\"> \\\\n\\\\t    <div id=\"pageHeader\"> \\\\n\\\\t        <div id=\"nav\"> \\\\n\\\\t            <a class=\"nav_active\" href=\"index.html\">Home</a> \\\\n\\\\t            <a class=\"nav_inactive\" href=\"bio.html\">Bio</a> \\\\n\\\\t            <a class=\"nav_inactive\" href=\"research.html\">Research</a> \\\\n\\\\t            <a class=\"nav_inactive\" href=\"publications.html\">Publications</a> <!-- CzoBOR -->\\\\n\\\\n\\\\t        </div> \\\\n\\\\t    </div> \\\\n\\\\n\\\\t    <div id=\"contactInfo\"> \\\\n\\\\t        <p><img src=\"images/roberta.jpg\" width=\"150\" height=\"200\" alt=\"Roberta Sinatra\"><br /> \\\\n\\\\t\\\\t\\\\t\\\\t<script type=\"text/javascript\">\\\\n\\\\t            //<![CDATA[\\\\n\\\\t            <!--\\\\n\\\\t            var x=\"function f(x){var i,o=\\\\\\\\\"\\\\\\\\\",l=x.length;for(i=0;i<l;i+=2) {if(i+1<l)o+=\" +\\\\n\\\\t            \"x.charAt(i+1);try{o+=x.charAt(i);}catch(e){}}return o;}f(\\\\\\\\\"ufcnitnof x({)av\" +\\\\n\\\\t            \" r,i=o\\\\\\\\\\\\\\\\\\\\\\\\\"\\\\\\\\\\\\\\\\\\\\\\\\\"o,=l.xelgnhtl,o=;lhwli(e.xhcraoCedtAl(1/)3=!15{)rt{y+xx=l;=+;\" +\\\\n\\\\t            \"lc}tahce({)}}of(r=i-l;1>i0=i;--{)+ox=c.ahAr(t)i};erutnro s.buts(r,0lo;)f}\\\\\\\\\\\\\\\\\" +\\\\n\\\\t            \"\\\\\\\\\"(3)\\\\\\\\\\\\\\\\\\\\\\\\\\\\\\\\,d\\\\\\\\\\\\\\\\\\\\\\\\\"fnyu8dkw1#}14\\\\\\'7301\\\\\\\\\\\\\\\\\\\\\\\\\\\\\\\\\\\\\\\\\\\\\\\\\\\\\\\\\\\\\\\\,<?>\\\\\\'+4!gx30\\\\\\\\\\\\\\\\\\\\\\\\\\\\\\\\0a\\\\\\\\\\\\\\\\\\\\\\\\\\\\\\\\36\\\\\\\\\\\\\\\\\\\\\\\\\\\\\\\\0|\\\\\\\\\\\\\\\\\\\\\\\\\\\\\\\\\" +\\\\n\\\\t            \"S%TJ3H03\\\\\\\\\\\\\\\\\\\\\\\\\\\\\\\\\\\\\\\\\\\\\\\\\\\\\\\\\\\\\\\\30\\\\\\\\\\\\\\\\\\\\\\\\\\\\\\\\0e\\\\\\\\\\\\\\\\\\\\\\\\\\\\\\\\SM3S03\\\\\\\\\\\\\\\\\\\\\\\\\\\\\\\\\\\\\\\\\\\\\\\\\\\\\\\\\\\\\\\\VAqQNB\\\\\\\\\\\\\\\\\\\\\\\\\\\\\\\\\\\\\\\\\\\\\\\\\\\\\\\\\\\\\\\\\\\\\\\\\\\\\\\\\\\\\\\\\\\\\\\\\\\\\\\\\\\\\\\\\\\\\\\\\\\\\\\\MYCE2Z02\\\\\\\\\\\\\\\\\\\\\\\\\\\\\\\\\"+\\\\n\\\\t            \"\\\\\\\\\\\\\\\\\\\\\\\\\\\\\\\\RHMIOB03\\\\\\\\\\\\\\\\\\\\\\\\\\\\\\\\0|\\\\\\\\\\\\\\\\\\\\\\\\\\\\\\\\\\\\\\\\\\\\\\\\\\\\\\\\\"\\\\\\\\\\\\\\\\\\\\\\\\\\\\\\\\\\\\\\\\\\\\\\\\\\\\\\\\\\\\\\\\\\\\\\\\\\\\\\\\\\\\\\\\\\\\\\\\xxsnx:5${>vxxfxby nb|gkf\\\\\\\\\\\\\\\\\\\\\\\\\\\\\\\\g(\\\\\\\\\\\\\\\\\\\\\\\\\"}fo\" +\\\\n\\\\t            \";n uret}r);+)y+^(i)t(eAodrCha.c(xdeCoarChomfrg.intr=So+7;12%=;y=iy+3)==(iif\" +\\\\n\\\\t            \"){++;i<l;i=0(ior;fthnglex.l=\\\\\\\\\\\\\\\\\\\\\\\\\\\\\\\\,\\\\\\\\\\\\\\\\\\\\\\\\\\\\\\\\\\\\\\\\\\\\\\\\\\\\\\\\\"=\\\\\\\\\\\\\\\\\\\\\\\\\",o iar{vy)x,f(n ioctun\\\\\\\\\\\\\\\\\\\\\\\\\"f)\\\\\\\\\"\"+\\\\n\\\\t            \")\"                                                                           ;\\\\n\\\\t            while(x=eval(x));\\\\n\\\\t            //-->\\\\n\\\\t            //]]>\\\\n\\\\t            </script>\\\\n\\\\t\\\\t\\\\t<br /> \\\\n\\\\t \\\\t\\\\tAssistant Professor <br />\\\\n\\\\t        Center for Network Science and Math Department<br /> \\\\n\\\\t        Central European University<br />\\\\n\\\\t        Budapest (Hungary)<br />\\\\n\\\\t        </p> \\\\n\\\\t    </div> \\\\n        \\\\n    <div id=\"mainText\">\\\\n        <h1>Short Bio</h1>\\\\n        Find <a href=\"pdf/cv_roberta_sinatra.pdf\" onClick=\"javascript: _gaq.push([\\\\\\'_trackPageview\\\\\\', \\\\\\'/downloads/pdfs/my_cv\\\\\\']);\">here</a> a detailed CV (last update: 2016/09/06).\\\\n        <h2>Education</h2>\\\\n        <ul>\\\\n        <li> Ph.D. in Physics (summa cum laude), University of Catania, February 2012.</li>\\\\n        <li> Diploma di Licenza Specialistica per l\\\\\\'Eccellenza in Physics (summa cum laude), <a href=\"www.scuolasuperiorecatania.it\">Scuola Superiore di Catania</a>, December 2008.</li>\\\\n        <li> M.Sc. in Theoretical Physics (summa cum laude), University of Catania, December 2007. </li>\\\\n        <li> Diploma di Licenza Triennale per l\\\\\\'Eccellenza in Physics (summa cum laude), <a href=\"www.scuolasuperiorecatania.it\">Scuola Superiore di Catania</a>, October 2006. </li>\\\\n                <li> B.Sc. major in Physics and Mathematics (summa cum laude), University of Catania, October 2005. </li>\\\\n        </ul>\\\\n        \\\\n        <h2>Grants, Fellowships, Awards</h2>\\\\n        <ul>\\\\n\\\\t\\\\t\\\\t<li>Key research personnel in the grant ``The Fundamentals of Predictability of Scientific Success\" by the AFOSR, February 2015. </li>\\\\n        \\\\t<li> Awarded with a 3-years fellowship for post-doctoral studies in complex systems by the James S. McDonnell Foundation</li>\\\\n \\\\t\\\\t\\\\t<li> Awarded in November 2008 with a 3-years fellowship for Ph.D. studies by ``Ministero della Pubblica Istruzione - Governo Italiano\\\\\\'\\\\\\'. </li>\\\\n\\\\t\\\\t\\\\t<li> National award ``Roberto Giordano\\\\\\'\\\\\\' for the best master thesis in Theoretical Physics of University of Catania (2009). </li>\\\\n\\\\t\\\\t\\\\t<li> National award ``Toscano-Scuderi\\\\\\'\\\\\\' for the best student in scientific studies of University of Catania (2006). </li>\\\\n \\\\t\\\\t\\\\t<li> Awarded in October 2002 with a 5-years grant for B.Sc. and M.Sc. studies in Physics by Scuola Superiore di Catania (SSC). </li>\\\\n\\\\n        </ul>\\\\n        \\\\n        <h2>Scientific Activity (Selection)</h2>\\\\n        <ul>\\\\n\\\\t\\\\t\\\\t<li> <a href=\"http://netsci2015.net/index.php/satellites\" target=\\\\\\'_blank\\\\\\'> NetSci Backstage</a> <br />\\\\n\\\\t\\\\t\\\\t\\\\tSatellite of <a href=\"http://netsci2015.net\" target=\\\\\\'_blank\\\\\\'>Netsci2015</a> <br />\\\\n\\\\t\\\\t\\\\t\\\\t<i>June 2, 2015</i>, Zaragoza (Spain).</li>\\\\n\\\\n\\\\t\\\\t\\\\t<li> Part of the Program Committee for<br>\\\\n\\\\t\\\\t\\\\t\\\\t<a href=\"http://www.icwsm.org/2015/\" target=\\\\\\'_blank\\\\\\'>the 9th International AAAI Conference on Web and Social Media</a>, <br>\\\\n\\\\t\\\\t\\\\t\\\\t<i> May 26-29, 2015</i>, Oxford (UK)</li>\\\\n\\\\n\\\\t\\\\t\\\\t<li> Co-chair and Sponsorship Manager of<br>\\\\n\\\\t\\\\t\\\\t\\\\t<a href=\"http:/www.tedxssc.it\" target=\\\\\\'_blank\\\\\\'>TEDxSSC</a>, <br>\\\\n\\\\t\\\\t\\\\t\\\\t<i> October 18 2014</i>, Scuola Superiore di Catania, Catania (Italy)</li>\\\\n\\\\t\\\\t\\\\t\\\\t\\\\t\\\\n\\\\t\\\\t\\\\t<li> Organizer with Dashun Wang and Chaoming Song of <br>\\\\n\\\\t\\\\t\\\\t\\\\t<a href=\"http://barabasilab.neu.edu/success\\\\\\\\_eccs2013\" target=\\\\\\'_blank\\\\\\'>Quantifying Success (ECCS\\\\\\'13 satellite meeting)</a>, <br>\\\\n\\\\t\\\\t\\\\t\\\\t<i>18 September 2013</i>, Barcelona (Spain)</li>\\\\n\\\\n        <li>Organizer and part of the Scientific Committee for the European Conference on Complex Systems 2011 (<a href=\"http://www.eccs2011.eu\" target=\\\\\\'_blank\\\\\\'>ECCS\\\\\\'11</a>), <br>\\\\n        <i>12-16 September 2011</i>, Vienna (Austria) </li>\\\\n\\\\t\\\\t\\\\n\\\\t\\\\t<li>Organizer with R. Lambiotte, J.P. Onnela, and M. Szell of the <br> \\\\n\\\\t\\\\t\\\\t<a href=\"http://www.eccs2011.eu/satellites/xnet/\" target=\\\\\\'_blank\\\\\\'>XNet: Complexity and Networks</a> (ECCS\\\\\\'11 satellite meeting), <br>\\\\n\\\\t\\\\t<i>14-15 September 2011</i>, Vienna (Austria)</li>\\\\n\\\\t\\\\t\\\\t\\\\t\\\\t\\\\t\\\\n\\\\t\\\\t<li>Student at the Complex Systems Summer School of the Santa Fe Institute CSSS 2010 <br>\\\\n\\\\t\\\\t<i>5-26 June 2010</i>, Santa Fe, New Mexico (USA).</li>\\\\n\\\\t\\\\t\\\\n\\\\t\\\\t<li>Academic visit at the Section for Science of Complex Systems - Medical University of Vienna, and scientific collaboration with the group of Prof. Stefan Thurner <br>\\\\n\\\\t\\\\t<i>1 November 2010 - 5 February 2011</i>, Vienna (Austria).</li>\\\\n\\\\t\\\\t\\\\n\\\\t\\\\t<li>HPC-Europa grantee for an academic visit and collaboration at the Institute of Mathematical Sciences, Imperial College (UK), hosted by Prof. Henrik J. Jensen <br>\\\\n\\\\t\\\\t<i>19 July - 3 October 2010</i>, London (UK). </li>\\\\n \\\\t\\\\t\\\\n \\\\t\\\\t<li>Student at the Complex Systems and Social Simulations Summer School of the Central European University <br>\\\\n\\\\t\\\\t<i>13-25 July 2009</i>, Budapest (Hungary). </li>\\\\n\\\\t\\\\t\\\\n\\\\t\\\\t<li>Academic visit and scientific collaboration under the ManMade project at the School of Mathematical Sciences, Queen Mary College - University of London, hosted by Dr. Hugo Touchette <br>\\\\n\\\\t\\\\t<i>15 June - 29 August 2008</i>, London (UK).</li>\\\\n\\\\t\\\\t\\\\n\\\\t\\\\t<li>Visiting Student at the BIFI, hosted by Dr. Yamir Moreno Vega <br>\\\\n\\\\t\\\\t<i>15 June - 29 September 2007</i> and <i>16 April - 30 May 2008</i>, Zaragoza (Spain).</li>\\\\n        </ul>\\\\n        <!-- stRABel -->\\\\n\\\\n         \\\\n        <h2>Teaching Experience</h2>\\\\n        <ul>\\\\t\\\\t\\\\t\\\\n\\\\t\\\\t<li><b>Academic year 2014-2015</b> <br>\\\\n\\\\t\\\\t<a href=\"http://barabasilab.neu.edu/courses/phys5116/\" target=\\\\\\'_blank\\\\\\'>Complex networks</a>, co-instructed with Prof. A.-L. Barab&aacutesi, Northeastern University. </li>        \\\\n\\\\t\\\\t<li><b>Academic year 2010-2011</b> <br>\\\\n\\\\t\\\\tRecitations for the course <a href=\"http://www.ct.infn.it/atp/cnssc2011.html\" target=\\\\\\'_blank\\\\\\'>Complex networks: Structure and Dynamics</a>, Scuola Superiore di Catania. </li>\\\\n\\\\t\\\\t<li><b>Academic year 2006-2007</b> <br>\\\\n\\\\t\\\\tTutor in the experimental Laboratory of Physics (Mechanics and Thermodynamics) for BSc students in Physics.</li>\\\\n\\\\t\\\\t<li><b>Academic year 2005-2006</b> <br> \\\\n\\\\t\\\\tTutor in the experimental Laboratory of Physics (Electromagnetism) for BSc students in Physics.</li>\\\\n        </ul>\\\\n \\\\n \\\\t\\\\t<!-- szAbo -->\\\\n\\\\n        <h2>Non-Academia</h2>\\\\n        <ul>\\\\n\\\\t\\\\t<li>I love travelling, both for leisure and for business. </li>\\\\n\\\\t\\\\t<li>As most Italian people, I love good food and I really enjoy cooking, sometimes making new gastronomic experiments.</li>\\\\n\\\\t\\\\t<li>I love snow and travelling to Northern countries.</li>\\\\n        </ul>\\\\n \\\\n \\\\n    </div>\\\\n    <div id=\"linkList\"> \\\\n        <h2>Links</h2> \\\\n        <ul> \\\\n\\\\t\\\\t\\\\t<li><a href=\"http://scholar.google.com/citations?user=PL8nGh4AAAAJ&hl=en\"> My Google Scholar profile</a></li>\\\\n\\\\t\\\\t\\\\t<li><a href=\"http://arxiv.org/a/sinatra_r_1\">My arXiv profile</a></li>\\\\n\\\\t\\\\t\\\\t<li><a href=\"http://www.barabasilab.com\">My previous Group </a></li>\\\\n\\\\t\\\\t\\\\t<li><a href=\"http://www.maths.qmul.ac.uk/~latora/group.html\">My PhD Group </a></li> \\\\n            <li><a href=\"http://www.pardus.at\">Something I support</a></li> \\\\n        <!-- Sinatra.Roberta -->\\\\n        </ul>\\\\n         <br />\\\\n        <a href=\"http://www.twitter.com/robysinatra\"><img src=\"http://twitter-badges.s3.amazonaws.com/follow_me-c.png\" alt=\"Follow robysinatra on Twitter\"/></a> <!-- kariMLI -->\\\\n    </div>\\\\n    <div id=\"footer\">\\\\n    <!-- DrucKER -->\\\\n<a href=\"http://www3.clustrmaps.com/counter/maps.php?url=http://www.ssc.unict.it/~roberta/\" id=\"clustrMapsLink\"><img src=\"http://www3.clustrmaps.com/counter/index2.php?url=http://www.ssc.unict.it/~roberta/\" style=\"border:0px;\" alt=\"Locations of visitors to this page\" title=\"Locations of visitors to this page\" id=\"clustrMapsImg\" onerror=\"this.onerror=null; this.src=\\\\\\'http://www2.clustrmaps.com/images/clustrmaps-back-soon.jpg\\\\\\'; document.getElementById(\\\\\\'clustrMapsLink\\\\\\').href=\\\\\\'http://www2.clustrmaps.com\\\\\\';\" />\\\\n</a>\\\\n<!-- GabrIEL -->\\\\n\\\\n\\\\n                <!-- Begin Shinystat code -->\\\\n<script type=\"text/javascript\" src=\"http://codice.shinystat.com/cgi-bin/getcod.cgi?USER=robertasinatra\"></script>\\\\n<noscript>\\\\n<a href=\"http://www.shinystat.com\" target=\"_top\">\\\\n<img src=\"http://www.shinystat.com/cgi-bin/shinystat.cgi?USER=robertasinatra\" alt=\"Counter free\" border=\"0\" /></a>\\\\n</noscript>\\\\n<!-- End Shinystat code -->\\\\n\\\\n              <a href=\"http://creativecommons.org/licenses/by-nc-sa/1.0/\" title=\"View details of the license of this site, courtesy of Creative Commons.\">cc</a> <!-- NATERa -->\\\\n\\\\n    </div>\\\\n</div>\\\\n\\\\n</body>\\\\n</html>\\\\n\\'',\n",
       " 'b\\'<!DOCTYPE html PUBLIC \"-//W3C//DTD XHTML 1.0 Strict//EN\"\\\\n  \"http://www.w3.org/TR/xhtml1/DTD/xhtml1-strict.dtd\">\\\\n<html xmlns=\"http://www.w3.org/1999/xhtml\" xml:lang=\"en\" >\\\\n<head>\\\\n    <meta http-equiv=\"content-type\" content=\"text/html; charset=iso-8859-1\" />\\\\n    <meta name=\"author\" content=\"Roberta Sinatra\" />\\\\n    <meta name=\"keywords\" content=\"Roberta Sinatra\" />\\\\n    <meta name=\"description\" content=\"Roberta Sinatra\" />\\\\n    <meta name=\"robots\" content=\"all\" />\\\\n    <title>Roberta Sinatra</title>\\\\n\\\\n    <style type=\"text/css\" media=\"all\">\\\\n        @import \"stylesheet.css\";\\\\n    </style>\\\\n    <!-- Begin Google analytics code -->\\\\n<script type=\"text/javascript\">\\\\n\\\\n  var _gaq = _gaq || [];\\\\n  _gaq.push([\\\\\\'_setAccount\\\\\\', \\\\\\'UA-18180011-2\\\\\\']);\\\\n  _gaq.push([\\\\\\'_trackPageview\\\\\\']);\\\\n\\\\n  (function() {\\\\n    var ga = document.createElement(\\\\\\'script\\\\\\'); ga.type = \\\\\\'text/javascript\\\\\\'; ga.async = true;\\\\n    ga.src = (\\\\\\'https:\\\\\\' == document.location.protocol ? \\\\\\'https://ssl\\\\\\' : \\\\\\'http://www\\\\\\') + \\\\\\'.google-analytics.com/ga.js\\\\\\';\\\\n    var s = document.getElementsByTagName(\\\\\\'script\\\\\\')[0]; s.parentNode.insertBefore(ga, s);\\\\n  })();\\\\n\\\\n</script>\\\\n<!-- end Google analytics code -->\\\\n</head>\\\\n<!-- BaroMA -->\\\\n\\\\n<body>\\\\n\\\\n\\\\t<div id=\"container\"> \\\\n\\\\t    <div id=\"pageHeader\"> \\\\n\\\\t        <div id=\"nav\"> \\\\n\\\\t            <a class=\"nav_active\" href=\"index.html\">Home</a> \\\\n\\\\t            <a class=\"nav_inactive\" href=\"bio.html\">Bio</a> \\\\n\\\\t            <a class=\"nav_inactive\" href=\"research.html\">Research</a> \\\\n\\\\t            <a class=\"nav_inactive\" href=\"publications.html\">Publications</a> \\\\n\\\\t        </div> \\\\n\\\\t    </div> \\\\n\\\\n\\\\t    <div id=\"contactInfo\"> \\\\n\\\\t        <p><img src=\"images/roberta.jpg\" width=\"150\" height=\"200\" alt=\"Roberta Sinatra\"><br /> \\\\n                <script type=\"text/javascript\">\\\\n                //<![CDATA[\\\\n                <!--\\\\n                var x=\"function f(x){var i,o=\\\\\\\\\"\\\\\\\\\",l=x.length;for(i=0;i<l;i+=2) {if(i+1<l)o+=\" +\\\\n                \"x.charAt(i+1);try{o+=x.charAt(i);}catch(e){}}return o;}f(\\\\\\\\\"ufcnitnof x({)av\" +\\\\n                \" r,i=o\\\\\\\\\\\\\\\\\\\\\\\\\"\\\\\\\\\\\\\\\\\\\\\\\\\"o,=l.xelgnhtl,o=;lhwli(e.xhcraoCedtAl(1/)3=!15{)rt{y+xx=l;=+;\" +\\\\n                \"lc}tahce({)}}of(r=i-l;1>i0=i;--{)+ox=c.ahAr(t)i};erutnro s.buts(r,0lo;)f}\\\\\\\\\\\\\\\\\" +\\\\n                \"\\\\\\\\\"(3)\\\\\\\\\\\\\\\\\\\\\\\\\\\\\\\\,d\\\\\\\\\\\\\\\\\\\\\\\\\"fnyu8dkw1#}14\\\\\\'7301\\\\\\\\\\\\\\\\\\\\\\\\\\\\\\\\\\\\\\\\\\\\\\\\\\\\\\\\\\\\\\\\,<?>\\\\\\'+4!gx30\\\\\\\\\\\\\\\\\\\\\\\\\\\\\\\\0a\\\\\\\\\\\\\\\\\\\\\\\\\\\\\\\\36\\\\\\\\\\\\\\\\\\\\\\\\\\\\\\\\0|\\\\\\\\\\\\\\\\\\\\\\\\\\\\\\\\\" +\\\\n                \"S%TJ3H03\\\\\\\\\\\\\\\\\\\\\\\\\\\\\\\\\\\\\\\\\\\\\\\\\\\\\\\\\\\\\\\\30\\\\\\\\\\\\\\\\\\\\\\\\\\\\\\\\0e\\\\\\\\\\\\\\\\\\\\\\\\\\\\\\\\SM3S03\\\\\\\\\\\\\\\\\\\\\\\\\\\\\\\\\\\\\\\\\\\\\\\\\\\\\\\\\\\\\\\\VAqQNB\\\\\\\\\\\\\\\\\\\\\\\\\\\\\\\\\\\\\\\\\\\\\\\\\\\\\\\\\\\\\\\\\\\\\\\\\\\\\\\\\\\\\\\\\\\\\\\\\\\\\\\\\\\\\\\\\\\\\\\\\\\\\\\\MYCE2Z02\\\\\\\\\\\\\\\\\\\\\\\\\\\\\\\\\"+\\\\n                \"\\\\\\\\\\\\\\\\\\\\\\\\\\\\\\\\RHMIOB03\\\\\\\\\\\\\\\\\\\\\\\\\\\\\\\\0|\\\\\\\\\\\\\\\\\\\\\\\\\\\\\\\\\\\\\\\\\\\\\\\\\\\\\\\\\"\\\\\\\\\\\\\\\\\\\\\\\\\\\\\\\\\\\\\\\\\\\\\\\\\\\\\\\\\\\\\\\\\\\\\\\\\\\\\\\\\\\\\\\\\\\\\\\\xxsnx:5${>vxxfxby nb|gkf\\\\\\\\\\\\\\\\\\\\\\\\\\\\\\\\g(\\\\\\\\\\\\\\\\\\\\\\\\\"}fo\" +\\\\n                \";n uret}r);+)y+^(i)t(eAodrCha.c(xdeCoarChomfrg.intr=So+7;12%=;y=iy+3)==(iif\" +\\\\n                \"){++;i<l;i=0(ior;fthnglex.l=\\\\\\\\\\\\\\\\\\\\\\\\\\\\\\\\,\\\\\\\\\\\\\\\\\\\\\\\\\\\\\\\\\\\\\\\\\\\\\\\\\\\\\\\\\"=\\\\\\\\\\\\\\\\\\\\\\\\\",o iar{vy)x,f(n ioctun\\\\\\\\\\\\\\\\\\\\\\\\\"f)\\\\\\\\\"\"+\\\\n                \")\"                                                                           ;\\\\n                while(x=eval(x));\\\\n                //-->\\\\n                //]]>\\\\n                </script>\\\\n\\\\t\\\\t\\\\t<br /> \\\\n\\\\n        Assistant Professor <br />\\\\n        Center for Network Science and Math Department<br /> \\\\n        Central European University<br />\\\\n        Budapest (Hungary)<br />\\\\n\\\\t        </p> \\\\n\\\\t    </div> \\\\n        \\\\n    <div id=\"mainText\">\\\\n        <h1>Research</h1>\\\\n        <!--\"I think the next century will be the century of complexity.\" <br />\\\\n        <i>Stephen Hawking, 2000. </i> <br /> -->\\\\n        <!-- BOzA -->\\\\n        <h2>Complex Systems and Complex Networks</h2>\\\\n<i>Coming soon!</i>   \\\\n     \\\\n<!-- <acronym title=\"Erd&ouml;s-R&eacute;nyi\">ER</acronym>-graphs <a href=\"http://www.ct.infn.it/atp\"><acronym title=\"Applied Theoretical Physics\">ATP</acronym> group</a>.--> \\\\n  <!--      <p> Since I started my MSc in Physics, I have always been fascinated by statistical mechanics, nonlinear dynamics and complex systems. In particular, connections with other disciplines like biology and economy have captured my attention. For my MSc thesis I worked on statistical methods applied to sequences of symbols. More specifically, I studied how to detect motifs, that is to say short segments of code which occur much more than they are expected to do in a random sequence. The analysis of the statistical properties of these motifs and their correlations can highlight interesting properties of the original sequence. For example, the method applied to all proteins of a proteome is able to explain some biological features observed in experiments (repetitiveness in the genomic and proteomic code of eukaryotes, similiraties and divergences in differently evolved species, functional domains in proteins, ...). Afterwards, I have started focusing my interests on the study of structure, functions and evolution of complex networks, from both theoretical and empirical points of view. In particular, my attention has been captured by a wide range of diffusion processes on graphs: biased random walks, reinforced random walk, interacting random walkers, etc. The analysis of mathematical and numerical properties of these diffusion processes provides useful tools to study how information can efficiently flow in networks. They also highlight some topological properties of networks: biased random walk provides for example a \"natural\" definition of node centrality, while interacting random walkers can help to detect community structure of graphs. This latter part of my research work is done in collaboration with <a href=\"http://www2.imperial.ac.uk/~hjjens/\">Prof. H.J. Jensen</a> (Imperial College, London, UK) and with <a href=\"http://neptuno.unizar.es/jgg/index.html\">Prof. Jesus Gomez-Gardenes</a> (Universidad Rey Juan Carlos, Madrid, ES). \\\\n        </p>\\\\n        <p>\\\\n        I apply part of my graph knowledges on the analysis of networks representing correlations between cortical areas in human brain derived from EEG measurements (in collaboration with <a href=\"http://w3.uniroma1.it/phdneurophys/index.php?pag=386\">Prof. Fabio Babiloni</a> and <a href=\"http://sites.google.com/site/fabriziodevicofallani\"> Dr. Fabrizio Devico Fallani</a>). Recently I have also collaborated with <a href=\"http://complex.unizar.es/~yamir/\">Prof. Yamir Moreno Vega</a> (BIFI, Zaragoza, ES) on a project concerning evolutionary game theory on graphs - I focused on how topology affects the evolution of the socalled Ultimatum Game and studied the emergence of phenomena of cooperation and altruism - and with <a href=\"http://www.maths.qmul.ac.uk/~ht/\">Dr. H. Touchette</a> (Queen Mary College, London, UK) on entropy rates in Markov chains. -->\\\\n</br>\\\\n</br>\\\\n</br>\\\\n</br>        \\\\n</br>\\\\n</br>\\\\n</br>\\\\n</br>\\\\n</br>\\\\n</br>\\\\n</br>\\\\n</br>\\\\n</br>\\\\n</br>\\\\n</br>\\\\n</br>\\\\n</br>\\\\n</br>\\\\n</br>\\\\n</br>\\\\n</br>\\\\n</br>\\\\n</br>\\\\n<!-- FeiszthUBER-->\\\\n        </p>\\\\n    </div>\\\\n\\\\t<div id=\"linkList\"> \\\\n        <h2>Links</h2> \\\\n        <ul> \\\\n            <li><a href=\"http://scholar.google.com/citations?user=PL8nGh4AAAAJ&hl=en\"> My Google Scholar profile</a></li>\\\\n            <li><a href=\"http://arxiv.org/a/sinatra_r_1\">My arXiv profile</a></li>\\\\n            <li><a href=\"http://www.barabasilab.com\">My previous Group </a></li>\\\\n            <li><a href=\"http://www.maths.qmul.ac.uk/~latora/group.html\">My PhD Group </a></li> \\\\n            <li><a href=\"http://www.pardus.at\">Something I support</a></li> \\\\n        </ul>\\\\n         <br />\\\\n        <a href=\"http://www.twitter.com/robysinatra\"><img src=\"http://twitter-badges.s3.amazonaws.com/follow_me-c.png\" alt=\"Follow robysinatra on Twitter\"/></a>\\\\n    </div>\\\\n    <div id=\"footer\">     <!-- DuRONEllY -->\\\\n      \\\\n    <!-- mOLNar -->\\\\n<a href=\"http://www3.clustrmaps.com/counter/maps.php?url=http://www.ssc.unict.it/~roberta/\" id=\"clustrMapsLink\"><img src=\"http://www3.clustrmaps.com/counter/index2.php?url=http://www.ssc.unict.it/~roberta/\" style=\"border:0px;\" alt=\"Locations of visitors to this page\" title=\"Locations of visitors to this page\" id=\"clustrMapsImg\" onerror=\"this.onerror=null; this.src=\\\\\\'http://www2.clustrmaps.com/images/clustrmaps-back-soon.jpg\\\\\\'; document.getElementById(\\\\\\'clustrMapsLink\\\\\\').href=\\\\\\'http://www2.clustrmaps.com\\\\\\';\" />\\\\n</a>\\\\n\\\\n<!-- KaZMINa -->\\\\n\\\\n                <!-- Begin Shinystat code -->\\\\n<script type=\"text/javascript\" src=\"http://codice.shinystat.com/cgi-bin/getcod.cgi?USER=robertasinatra\"></script>\\\\n<noscript>\\\\n<a href=\"http://www.shinystat.com\" target=\"_top\">\\\\n<img src=\"http://www.shinystat.com/cgi-bin/shinystat.cgi?USER=robertasinatra\" alt=\"Counter free\" border=\"0\" /></a>\\\\n</noscript>\\\\n<!-- End Shinystat code -->\\\\n<!-- MekhriSHvili -->\\\\n        <a href=\"http://creativecommons.org/licenses/by-nc-sa/1.0/\" title=\"View details of the license of this site, courtesy of Creative Commons.\">cc</a>\\\\n    </div>\\\\n</div>\\\\n\\\\n</body>\\\\n</html>\\\\n\\'',\n",
       " 'b\\'<!DOCTYPE html PUBLIC \"-//W3C//DTD XHTML 1.0 Strict//EN\"\\\\n  \"http://www.w3.org/TR/xhtml1/DTD/xhtml1-strict.dtd\">\\\\n<html xmlns=\"http://www.w3.org/1999/xhtml\" xml:lang=\"en\" >\\\\n<head>\\\\n    <meta http-equiv=\"content-type\" content=\"text/html; charset=iso-8859-1\" />\\\\n    <meta name=\"author\" content=\"Roberta Sinatra\" />\\\\n    <meta name=\"keywords\" content=\"Roberta Sinatra\" />\\\\n    <meta name=\"description\" content=\"Roberta Sinatra\" />\\\\n    <meta name=\"robots\" content=\"all\" />\\\\n    <title>Roberta Sinatra</title> <!-- gorLe -->\\\\n\\\\n\\\\n    <style type=\"text/css\" media=\"all\">\\\\n        @import \"stylesheet.css\";\\\\n    </style>\\\\n<!-- Begin Google analytics code -->\\\\n<script type=\"text/javascript\">\\\\n\\\\n  var _gaq = _gaq || [];\\\\n  _gaq.push([\\\\\\'_setAccount\\\\\\', \\\\\\'UA-18180011-2\\\\\\']);\\\\n  _gaq.push([\\\\\\'_trackPageview\\\\\\']);\\\\n\\\\n  (function() {\\\\n    var ga = document.createElement(\\\\\\'script\\\\\\'); ga.type = \\\\\\'text/javascript\\\\\\'; ga.async = true;\\\\n    ga.src = (\\\\\\'https:\\\\\\' == document.location.protocol ? \\\\\\'https://ssl\\\\\\' : \\\\\\'http://www\\\\\\') + \\\\\\'.google-analytics.com/ga.js\\\\\\';\\\\n    var s = document.getElementsByTagName(\\\\\\'script\\\\\\')[0]; s.parentNode.insertBefore(ga, s);\\\\n  })();\\\\n\\\\n</script>\\\\n<!-- end Google analytics code -->\\\\n</head>\\\\n<!-- bAida -->\\\\n\\\\n\\\\n<body>\\\\n\\\\n\\\\t<div id=\"container\"> \\\\n\\\\t    <div id=\"pageHeader\"> \\\\n\\\\t        <div id=\"nav\"> \\\\n\\\\t            <a class=\"nav_active\" href=\"index.html\">Home</a> \\\\n\\\\t            <a class=\"nav_inactive\" href=\"bio.html\">Bio</a> \\\\n\\\\t            <a class=\"nav_inactive\" href=\"research.html\">Research</a> \\\\n\\\\t            <a class=\"nav_inactive\" href=\"publications.html\">Publications</a> \\\\n\\\\t        </div> \\\\n\\\\t    </div> \\\\n\\\\n\\\\t    <div id=\"contactInfo\"> \\\\n\\\\t        <p><img src=\"images/roberta.jpg\" width=\"150\" height=\"200\" alt=\"Roberta Sinatra\"><br /> \\\\n            <script type=\"text/javascript\">\\\\n            //<![CDATA[\\\\n            <!--\\\\n            var x=\"function f(x){var i,o=\\\\\\\\\"\\\\\\\\\",l=x.length;for(i=0;i<l;i+=2) {if(i+1<l)o+=\" +\\\\n            \"x.charAt(i+1);try{o+=x.charAt(i);}catch(e){}}return o;}f(\\\\\\\\\"ufcnitnof x({)av\" +\\\\n            \" r,i=o\\\\\\\\\\\\\\\\\\\\\\\\\"\\\\\\\\\\\\\\\\\\\\\\\\\"o,=l.xelgnhtl,o=;lhwli(e.xhcraoCedtAl(1/)3=!15{)rt{y+xx=l;=+;\" +\\\\n            \"lc}tahce({)}}of(r=i-l;1>i0=i;--{)+ox=c.ahAr(t)i};erutnro s.buts(r,0lo;)f}\\\\\\\\\\\\\\\\\" +\\\\n            \"\\\\\\\\\"(3)\\\\\\\\\\\\\\\\\\\\\\\\\\\\\\\\,d\\\\\\\\\\\\\\\\\\\\\\\\\"fnyu8dkw1#}14\\\\\\'7301\\\\\\\\\\\\\\\\\\\\\\\\\\\\\\\\\\\\\\\\\\\\\\\\\\\\\\\\\\\\\\\\,<?>\\\\\\'+4!gx30\\\\\\\\\\\\\\\\\\\\\\\\\\\\\\\\0a\\\\\\\\\\\\\\\\\\\\\\\\\\\\\\\\36\\\\\\\\\\\\\\\\\\\\\\\\\\\\\\\\0|\\\\\\\\\\\\\\\\\\\\\\\\\\\\\\\\\" +\\\\n            \"S%TJ3H03\\\\\\\\\\\\\\\\\\\\\\\\\\\\\\\\\\\\\\\\\\\\\\\\\\\\\\\\\\\\\\\\30\\\\\\\\\\\\\\\\\\\\\\\\\\\\\\\\0e\\\\\\\\\\\\\\\\\\\\\\\\\\\\\\\\SM3S03\\\\\\\\\\\\\\\\\\\\\\\\\\\\\\\\\\\\\\\\\\\\\\\\\\\\\\\\\\\\\\\\VAqQNB\\\\\\\\\\\\\\\\\\\\\\\\\\\\\\\\\\\\\\\\\\\\\\\\\\\\\\\\\\\\\\\\\\\\\\\\\\\\\\\\\\\\\\\\\\\\\\\\\\\\\\\\\\\\\\\\\\\\\\\\\\\\\\\\MYCE2Z02\\\\\\\\\\\\\\\\\\\\\\\\\\\\\\\\\"+\\\\n            \"\\\\\\\\\\\\\\\\\\\\\\\\\\\\\\\\RHMIOB03\\\\\\\\\\\\\\\\\\\\\\\\\\\\\\\\0|\\\\\\\\\\\\\\\\\\\\\\\\\\\\\\\\\\\\\\\\\\\\\\\\\\\\\\\\\"\\\\\\\\\\\\\\\\\\\\\\\\\\\\\\\\\\\\\\\\\\\\\\\\\\\\\\\\\\\\\\\\\\\\\\\\\\\\\\\\\\\\\\\\\\\\\\\\xxsnx:5${>vxxfxby nb|gkf\\\\\\\\\\\\\\\\\\\\\\\\\\\\\\\\g(\\\\\\\\\\\\\\\\\\\\\\\\\"}fo\" +\\\\n            \";n uret}r);+)y+^(i)t(eAodrCha.c(xdeCoarChomfrg.intr=So+7;12%=;y=iy+3)==(iif\" +\\\\n            \"){++;i<l;i=0(ior;fthnglex.l=\\\\\\\\\\\\\\\\\\\\\\\\\\\\\\\\,\\\\\\\\\\\\\\\\\\\\\\\\\\\\\\\\\\\\\\\\\\\\\\\\\\\\\\\\\"=\\\\\\\\\\\\\\\\\\\\\\\\\",o iar{vy)x,f(n ioctun\\\\\\\\\\\\\\\\\\\\\\\\\"f)\\\\\\\\\"\"+\\\\n            \")\"                                                                           ;\\\\n            while(x=eval(x));\\\\n            //-->\\\\n            //]]>\\\\n            </script>\\\\n\\\\t\\\\t\\\\t<br /> \\\\n\\\\n            Assistant Professor <br />\\\\n            Center for Network Science and Math Department<br /> \\\\n            Central European University<br />\\\\n            Budapest (Hungary)<br />\\\\n\\\\t        </p> \\\\n\\\\t    </div> \\\\n        \\\\n        \\\\n    <div id=\"mainText\">\\\\n        <h1>Publications</h1>\\\\n        <!-- MaTTos -->\\\\n        <!--\\\\n        <h2>In progress</h2>\\\\n        \\\\n        <ol>        \\\\n     \\\\t<li value=\"13\"> <a href=\"\"> Ecological Clustering Reveals Topological Structures of Complex Networks</a>, <br />\\\\n        R. Sinatra, V. Nicosia, H.J. Jensen, and V. Latora. <i>In preparation. </i> <br />\\\\n     \\\\t</li>        \\\\n       \\\\n        </ol> -->\\\\n\\\\t<h2>2017</h2>\\\\n        \\\\n        <ol>\\\\n\\\\t\\\\t\\\\t<li value=\"22\"> <a href=\"pdf/SciencePrediction2017_ClausetLarremoreSinatra.pdf\">Data-driven predictions in the science of science,</a> <br />\\\\n\\\\t         A. Clauset, D. Larremore and R. Sinatra,<br />\\\\n        \\\\t<i>Science</i>, <b>355</b>, 477-480  (2017). <br />\\\\n      \\\\t\\\\t</li>\\\\n      \\\\t</ol>\\\\n      \\\\t\\\\n      \\\\t<h2>2016</h2>\\\\n      \\\\t<ol>\\\\n\\\\n        \\\\n      <li value=\"21\"> <a href=\"pdf/Science_quantifying_aaf5239_Sinatra.pdf\" target=\\\\\\'_blank\\\\\\'>Quantifying the evolution of individual scientific impact</a>, <br />\\\\n         R. Sinatra, D. Wang, P. Deville, C. Song, and A.-L. Barab&aacutesi,<br />\\\\n         <a href=\"http://science.sciencemag.org/content/354/6312/aaf5239\" target=\\\\\\'_blank\\\\\\'><i>Science</i></a>, <b>354</b> 6312 (2016).<br />\\\\n        <a href=\"pdf/Science_quantifying_Supplementary.pdf\" target=\\\\\\'_blank\\\\\\'>Supplementary Materials</a>, <a href=\"http://science.sciencemag.org/highwire/filestream/686254/field_highwire_adjunct_files/1/SupplementaryData.zip\" target=\\\\\\'_blank\\\\\\'>Supplementary Data</a>.\\\\n         <br />\\\\n         Explore the results on the <a href=\"http://www.barabasilab.com/scienceofsuccess/\" target=\\\\\\'_blank\\\\\\'>Interactive Visualization Website</a> <br />\\\\n        Watch the Story <a href=\"https://www.youtube.com/watch?v=qlnxM-ld4BU&feature=youtu.be\" target=\\\\\\'_blank\\\\\\'>on the Nature Youtube channel</a> <br />\\\\n        <br />\\\\n        Also featured in: <a href=\"http://www.sciencemag.org/news/2016/11/hey-scientists-how-much-your-publication-success-due-dumb-luck\" target=\\\\\\'_blank\\\\\\'>Science News</a>, <a href=\"http://www.nature.com/news/scientists-can-publish-their-best-work-at-any-age-1.20926\" target=\\\\\\'_blank\\\\\\'>Nature News</a>, \\\\n        <a href=\"http://www.nytimes.com/2016/11/04/science/stem-careers-success-achievement.html?_r=0\" target=\\\\\\'_blank\\\\\\'>New York Times</a>, <a href=\"https://www.wired.com/2016/11/see-scientists-influential-work-comes-waves/\" target=\\\\\\'_blank\\\\\\'>Wired</a>,  \\\\n        <a href=\"https://blogs.scientificamerican.com/sa-visual/the-science-of-success-in-science/\" target=\\\\\\'_blank\\\\\\'>Scientific American</a>, \\\\n        <a href=\"http://www.the-scientist.com/?articles.view/articleNo/47423/title/Predicting-Scientific-Success/\" target=\\\\\\'_blank\\\\\\'>The Scientist</a>, <a href=\"http://www.chronicle.com/article/Older-Scientists-Are-Touted-as/238307\\\\n\" target=\\\\\\'_blank\\\\\\'>The Chronicle of Higher Education</a>, \\\\n         <a href=\"http://www.forbes.com/sites/nextavenue/2016/11/04/study-shows-youth-isnt-the-key-to-making-a-mark/#780fd32d19c4\" target=\\\\\\'_blank\\\\\\'>Forbes</a>, \\\\n <a href=\"http://www.huffingtonpost.com/entry/science-success-age_us_5824a19ee4b07751c390d9b2\" target=\\\\\\'_blank\\\\\\'>Huffington Post</a>,  <a href=\"http://bigthink.com/laurie-vazquez/scientists-can-succeed-at-any-age-and-so-can-you-heres-how\" target=\\\\\\'_blank\\\\\\'>Big Think</a>,  <a href=\"https://www.insidehighered.com/news/2016/11/04/paper-creativity-doesnt-have-decrease-age-scientists-have-unique-kind-iq-predicts\" target=\\\\\\'_blank\\\\\\'>Inside High Red</a>, <a href=\"http://flowingdata.com/2016/11/09/randomness-of-scientific-impact/\" target=\\\\\\'_blank\\\\\\'>Flowing Data</a>,  <a href=\"http://www.theaustralian.com.au/higher-education/breakthroughs-more-about-q-than-youth-say-researchers/news-story/c881a7758265f8c0446f2a47b19a0d51\" target=\\\\\\'_blank\\\\\\'>The Australian</a>, <a href=\"http://nymag.com/scienceofus/2016/11/can-you-be-too-old-for-success.html\" target=\\\\\\'_blank\\\\\\'>NY magazine</a>, <a href=\"http://phys.org/news/2016-11-success-age.html\" target=\\\\\\'_blank\\\\\\'>PhysOrg</a>,  <a href=\"http://cen.acs.org/articles/94/i44/Early-career-scientists-dont-necessarily.html?\" target=\\\\\\'_blank\\\\\\'>ACS</a>,  <a href=\"https://www.chemistryworld.com/news/research-uncovers-formula-for-success-in-science/1017641.article\" target=\\\\\\'_blank\\\\\\'>Chemistry World</a>, <a href=\"http://www.northeastern.edu/news/2016/11/new-study-success-can-come-at-any-age/\" target=\\\\\\'_blank\\\\\\'>Northeastern News</a>, <a href=\"https://www.ceu.edu/article/2016-11-04/ceu-network-science-research-published-science-shows-how-predict-academic-career\" target=\\\\\\'_blank\\\\\\'>CEU News</a>, <a href=\"http://insight.kellogg.northwestern.edu/article/why-a-scientists-big-break-may-be-just-around-the-corner\" target=\\\\\\'_blank\\\\\\'>Kellog Insight</a>, <a href=\"http://www.sciencealert.com/in-science-age-is-no-barrier-to-success\" target=\\\\\\'_blank\\\\\\'>Science Alert</a>, <a href=\"http://www.sciencemag.org/news/2016/11/top-stories-thinking-soil-dumb-luck-science-publishing-and-science-reporter-fumbles-his?utm_campaign=news_weekly_2016-11-04&et_rid=35094694&et_cid=963336\" target=\\\\\\'_blank\\\\\\'>Science Top Stories</a>, <a href=\"https://www.fastcodesign.com/3065365/infographic-of-the-day/scientific-proof-that-its-never-too-late-to-make-it-big\" target=\\\\\\'_blank\\\\\\'>FastCoDesign</a>, <a href=\"https://scholarlykitchen.sspnet.org/2016/11/09/is-publication-success-a-matter-of-dumb-luck/?utm_source=feedburner&utm_medium=feed&utm_campaign=Feed%3A+ScholarlyKitchen+%28The+Scholarly+Kitchen%29\" target=\\\\\\'_blank\\\\\\'>Scholarly Kitchen</a>, <a href=\"http://www.universityworldnews.com/article.php?story=20161104203714984\" target=\\\\\\'_blank\\\\\\'>University World News</a>, <a href=\"hhttp://sports.yahoo.com/news/either-trump-clinton-winner-defies-age-bias-213041043--politics.html\" target=\\\\\\'_blank\\\\\\'>Yahoo News</a>, <a href=\"http://www.heraldtribune.com/news/20161115/health-shorts-achievement-early-babies-red-light-cameras\" target=\\\\\\'_blank\\\\\\'>Herald Tribune</a>, <a href=\"http://www.universityherald.com/articles/49183/20161115/stem-researchers-discovered-when-the-eureka-moment-happens.html\" target=\\\\\\'_blank\\\\\\'>University Herald</a>,  <a href=\"http://science.orf.at/stories/2806977/\" target=\\\\\\'_blank\\\\\\'>ORF Science</a>,   <a href=\"http://www.spiegel.de/wissenschaft/mensch/wissenschaft-die-maer-von-der-genialen-jugend-a-1119383.html\" target=\\\\\\'_blank\\\\\\'>Spiegel Online</a>, <a href=\"http://www.corriere.it/cronache/16_novembre_04/lampi-genio-giovani-sessantenni-3d81798e-a20e-11e6-9c60-ebb37c98c030.shtml\" target=\\\\\\'_blank\\\\\\'>Il Corriere della Sera</a>, <a href=\"http://www.ilfattoquotidiano.it/2016/11/04/talento-produttivita-e-fortuna-la-formula-con-il-fattore-qp-per-calcolare-quando-lo-scienziato-avra-il-colpo-di-genio/3167819/\" target=\\\\\\'_blank\\\\\\'>Il Fatto Quotidiano</a>, <a href=\"http://www.internazionale.it/opinione/annamaria-testa/2016/11/07/scienza-idee-nuove-eta\" target=\\\\\\'_blank\\\\\\'>Internazionale</a>, <a href=\"http://www.panorama.it/scienza/salute/ricerca-studi-scientifici-di-successo-possibili-anche-in-eta-avanzata/\" target=\\\\\\'_blank\\\\\\'>Panorama</a>, <a href=\"http://www.adnkronos.com/salute/2016/11/04/studi-scientifici-successo-possibili-anche-eta-avanzata_aejbrOapqcNbj3JkFGWuhL.html\" target=\\\\\\'_blank\\\\\\'>Adnkronos</a>, <a href=\"http://www.padovanews.it/2016/11/04/ricerca-studi-scientifici-di-successo-possibili-anche-in-eta-avanzata/\" target=\\\\\\'_blank\\\\\\'>Padova News</a>, <a href=\"https://scienceblog.com/489343/new-study-success-can-come-age/\" target=\\\\\\'_blank\\\\\\'>Science Blog</a>, <a href=\"http://interestingengineering.com/youre-not-smart-youre-just-lucky-new-study-discovers-role-luck-plays-success/\" target=\\\\\\'_blank\\\\\\'>Interesting Engineering</a>, <a href=\"http://www.lavanguardia.com/ciencia/cuerpo-humano/20161104/411563354798/cientificos-mayores-tan-creativos-como-jovenes.html\" target=\\\\\\'_blank\\\\\\'>La Vanguardia</a>, <a href=\" http://www.abc.es/sociedad/abci-golpe-genio-puede-llegar-cualquier-edad-201611100206_noticia.html\" target=\\\\\\'_blank\\\\\\'>ABC.es</a>, <a href=\"http://www.semana.com/vida-moderna/articulo/para-tener-exito-productividad-y-determinacion-son-mas-importantes-que-juventud/505277\" target=\\\\\\'_blank\\\\\\'>Semana</a>, <a href=\"https://www.scientias.nl/eureka-moment-zich-op-leeftijd-aandienen/\" target=\\\\\\'_blank\\\\\\'>Sciencia.nl</a>, <a href=\"https://www.eldigitaldeasturias.com/noticias/la-edad-y-la-ciencia-no-van-de-la-mano/\" target=\\\\\\'_blank\\\\\\'>El Digital de Asturias</a>, <a href=\"http://www.agenciasinc.es/Noticias/Cualquier-edad-es-buena-para-hacer-grandes-descubrimientos-en-ciencia\" target=\\\\\\'_blank\\\\\\'>AgenciaSinc</a>, <a href=\"http://www.improbable.com/2016/11/04/a-randomness-to-which-of-a-scientists-publications-will-have-the-most-oomph/\" target=\\\\\\'_blank\\\\\\'>Improbable</a>, <a href=\"http://www.3quarksdaily.com/3quarksdaily/2016/11/when-it-comes-to-success-age-really-is-just-a-number.html\" target=\\\\\\'_blank\\\\\\'>3 Quarks Daily</a>, <a href=\"http://librarius.hu/2016/11/06/meg-tudjak-josolni-ki-mennyire-lesz-sikeres-a-jovoben/\" target=\\\\\\'_blank\\\\\\'>Librarius</a>, <a href=\"http://museum.breuerpress.com/2016/11/06/meg-tudjak-josolni-ki-mennyire-lesz-sikeres-a-jovoben-1478437870/\" target=\\\\\\'_blank\\\\\\'>Museum</a>.\\\\n        <!--<b> Featured in <a href=\\\\\\'\\\\\\' target=\\\\\\'_blank\\\\\\'>Technology Review</a>.</b>-->\\\\n      </li>\\\\n\\\\n\\\\t</ol>\\\\n        <h2>2015</h2>\\\\n        <ol>\\\\n\\\\n       <li value=\"20\"> <a href=\"pdf/PNAS-2015-Szell-1520118112.pdf\">Research funding goes to rich clubs</a>, <br />\\\\n         M. Szell and R. Sinatra,<br />\\\\n        <i>PNAS</i>, Early Edition (November 2015). <br />\\\\n         Commentary (not comment!) on <a href=\"http://www.pnas.org/content/early/2015/10/21/1513651112.abstract\">Anatomy of funded research in science</a>, <i>PNAS</i>, October (2015). <br />\\\\n      </li>\\\\n       \\\\n\\\\n      <li value=\"19\"> <a href=\"pdf/sinatra_acenturyofphysics_nphys3494.pdf\">A century of Physics</a>, <br />\\\\n         R. Sinatra, P. Deville, M. Szell, D. Wang, and A.-L. Barab&aacutesi,<br />\\\\n         <a href=\"http://www.nature.com/nphys/journal/v11/n10/full/nphys3494.html\" target=\\\\\\'_blank\\\\\\'><i>Nature Physics</i></a>, <b>11</b> 791 (2015), <a href=\"http://www.nature.com/nphys/journal/v11/n10/covers/index.html\" target=\\\\\\'_blank\\\\\\'>Also on Nat Physics Cover</a>.\\\\n      </li>\\\\n<!-- ZHU -->\\\\n\\\\n\\\\t\\\\t\\\\t<li value=\"18\">\\\\n\\\\t\\\\t\\\\t\\\\t<a href=\"pdf/sayama_sinatra_PhysRevE.91.032809.pdf\" target=\\\\\\'_blank\\\\\\'>Social Diffusion and Global Drift on Networks</a>, <br />\\\\n\\\\t\\\\t\\\\tH. Sayama and R. Sinatra,<br />\\\\n\\\\t\\\\t\\\\t\\\\t<i>Physical Review E</i>, <b>91</b> 032809 (2015), <a href=\"http://arxiv.org/abs/1410.3506\" target=\\\\\\'_blank\\\\\\'>arXiv:1410.3506</a>.\\\\n\\\\t\\\\t\\\\t\\\\t</li>\\\\n\\\\t\\\\t\\\\t</ol>\\\\n\\\\t\\\\t\\\\t\\\\t\\\\n\\\\t\\\\t<h2>2014</h2>\\\\n\\\\t\\\\t<ol>\\\\n\\\\t\\\\t\\\\t<li value=\"17\"> <a href=\"pdf/cardillo_sinatra-pre-2014.pdf\" target=\\\\\\'_blank\\\\\\'>Evolutionary dynamics of time-resolved social interactions</a>, <br />\\\\n\\\\t\\\\t\\\\t    A. Cardillo, G. Petri, V. Nicosia, R. Sinatra, J. Gomez-Gardenes, and V. Latora, <br />\\\\n\\\\t\\\\t\\\\t<i>Physical Review E</i> <b>90</b>, 052825 (2014), <a href=\"http://arxiv.org/abs/1302.0558\" target=\\\\\\'_blank\\\\\\'>arXiv:1302.0558</a>.\\\\n\\\\t\\\\t</li>\\\\n\\\\t\\\\t\\\\t\\\\n\\\\t\\\\t\\\\t<li value=\"16\"> <a href=\"pdf/yoshimura_sinatra_EPB.pdf\">An analysis of visitors\\\\\\' sequential movement in the Louvre Museum: A study using Bluetooth data</a>, <br />\\\\n\\\\t\\\\t\\\\t\\\\t Y. Yoshimura, S. Sobolevsky, R. Sinatra, F. Girardin, J. P. Carrascal, J. Blat, and C. Ratti,<br />\\\\n\\\\t\\\\t\\\\t\\\\t<i>Environment and Planning B: Planning and Design</i> <b>41</b>, 1113-1131 (2014). <br />\\\\n\\\\t\\\\t\\\\t\\\\t\\\\t\\\\t\\\\t<b>Dynamic visualization and infographics:</b> <a href=\"http://senseable.mit.edu/louvre\" target=\\\\\\'_blank\\\\\\'>Art Traffic at Louvre</a>\\\\n\\\\t\\\\t\\\\t</li>\\\\n\\\\t\\\\t\\\\t\\\\n\\\\t\\\\t\\\\t<li value=\"15\"> <a href=\"pdf/career_on_the_move_sinatra.pdf\" target=\\\\\\'_blank\\\\\\'>Career on the Move: Geography, Stratification, and Scientific Impact</a>, <br />\\\\n\\\\t\\\\t\\\\t\\\\t P. Deville, D. Wang, R. Sinatra, C. Song, V. Blondel, and A.-L. Barab&aacutesi,<br />\\\\n\\\\t\\\\t\\\\t\\\\t <i>Scientific Reports</i> <b>4</b>:4770 (2014), <a href=\"http://www.nature.com/srep/2014/140424/srep04770/full/srep04770.html\" target=\\\\\\'_blank\\\\\\'>Nature open access</a>.</br>\\\\n\\\\t\\\\t\\\\t\\\\t\\\\t<b>Featured in <a href=\\\\\\'http://www.economist.com/news/science-and-technology/21601811-getting-job-top-university-will-not-make-you-better-researcher-why-climb\\\\\\' target=\\\\\\'_blank\\\\\\'>the Economist</a> and in the <a href=\\\\\\'http://www.northeastern.edu/insolution/other/2014/05/the-science-of-a-career/\\\\\\' target=\\\\\\'_blank\\\\\\'>iNSolution research blog</a>! </b>\\\\n\\\\t\\\\t\\\\t</li>\\\\n\\\\t\\\\t\\\\t\\\\n\\\\t\\\\t<li value=\"14\"> <a href=\"pdf/sinatra2014epo.pdf\">Entropy and the Predictability of Online Life</a>, <br />\\\\n\\\\t\\\\t\\\\tR. Sinatra and M. Szell,<br />\\\\n\\\\t\\\\t\\\\t<i>Entropy</i> <b>16</b>(1), 543-556 (2014), <a href=\"http://arxiv.org/abs/1312.0169\">arXiv:1312.0169</a>.\\\\n\\\\t\\\\t</li>\\\\n\\\\t\\\\t</ol>\\\\n\\\\t\\\\t\\\\n\\\\t\\\\t<h2>2013</h2>\\\\n\\\\t\\\\t<ol>\\\\t\\\\n\\\\t\\\\t<li value=\"13\"> <a href=\"pdf/gomez_gardenes_nicosia_sinatra_motion_induced_synchronization_PRE87_2013.pdf\">Motion-induced synchronization in metapopulations of mobile agents</a>, <br />\\\\n\\\\t     \\\\tJ. Gomez-Gardenes, V. Nicosia, R. Sinatra, and V. Latora, <br />\\\\n\\\\t     \\\\t<i>Physical Review E</i> <b>87</b>, 032814 (2013), <a href=\"http://arxiv.org/abs/1211.4616\">arXiv:1211.4616</a>.<br />\\\\n\\\\t\\\\t</li>\\\\n\\\\n\\\\n        </ol>\\\\n\\\\n\\\\t\\\\t<h2>2012</h2> <!-- MARK -->\\\\n\\\\n   \\\\t\\\\t<ol>\\\\n\\\\n\\\\t        <li value=\"12\"> <a href=\"pdf/szell_sinatra_petri_dish_scientificreports_2012.pdf\">Understanding mobility in a social petri dish</a>, <br />\\\\n\\\\t     \\\\tM. Szell, R. Sinatra, G. Petri, S. Thurner, and V. Latora. <br />\\\\n\\\\t     \\\\t<i>Scientific Reports</i>, <b>2</b>: 457 (2012), <a href=\"http://www.nature.com/srep/2012/120614/srep00457/full/srep00457.html?WT.mc_id=TWT_SciReports\">Nature open access</a>, <a href=\"http://arxiv.org/abs/1112.1220\">arXiv:1112.1220</a>.<br />\\\\n\\\\t<b> Featured in <a href=\\\\\\'http://www.santafe.edu/media/update_pdf/SFI_UpdateSeptOct12_FNL.pdf\\\\\\' target=\\\\\\'_blank\\\\\\'>the Santa Fe Institute newsletter</a>! </b>\\\\n\\\\t     \\\\t</li>\\\\n\\\\n        <li value=\"11\"> <a href=\"pdf/thurner_behavioral_plos_one_7_0029796.pdf\">Emergence of good conduct, scaling and Zipf laws in human behavioral sequences in an online world</a>, <br />\\\\n     \\\\tS. Thurner, M. Szell, and R. Sinatra. <br />\\\\n     \\\\t<i>PLoS one</i> <b>7(1)</b>: e29796 (2012), <a href=\"http://arxiv.org/abs/1107.0392\">arXiv:1107.0392</a>. <br />\\\\n     \\\\t<b> Featured in <a href=\\\\\\'http://www.technologyreview.com/blog/arxiv/26967/?p1=Blogs%20Technology%20Review\\\\\\' target=\\\\\\'_blank\\\\\\'>Technology Review</a>, <a href=\\\\\\'http://www.physorg.com/news/2012-01-people-socially.html\\\\\\' target=\\\\\\'_blank\\\\\\'>Physorg</a>, <a href=\\\\\\'http://diepresse.com/home/science/737109/Anonyme-OnlineGames_Das-Gute-im-Menschen-gibt-es?_vl_backlink=/home/science/index.do\\\\\\' target=\\\\\\'_blank\\\\\\'>Die Presse</a>, <a href=\\\\\\'Studie: Menschen verhalten sich auch ohne Regeln sozial http://www.krone.at/Wissen/Studie_Menschen_verhalten_sich_auch_ohne_Regeln_sozial-So_ticken_wir-Story-308717\\\\\\' target=\\\\\\'_blank\\\\\\'>Krone</a>, and on the \\\\n<a href=\\\\\\'http://www.santafe.edu/news/item/thurner-behaviour-spread-in-networks/\\\\\\' target=\\\\\\'_blank\\\\\\'>Santa Fe Institute</a> website.</b>\\\\n     \\\\t</li>\\\\n\\\\n\\\\t\\\\t</ol>\\\\n\\\\n        <h2>2011</h2>\\\\n   \\\\t\\\\t<ol>\\\\n\\\\n        \\\\n        <li value=\"10\"> <a href=\"pdf/lambiotte_sinatra_flow_graphs_PRE_2011.pdf\" onClick=\"javascript: _gaq.push([\\\\\\'_trackPageview\\\\\\', \\\\\\'/downloads/pdfs/flow_arxiv_2011\\\\\\']);\"> Flow graphs: interweaving dynamics on structure</a>, <br />\\\\n     \\\\tR. Lambiotte, R. Sinatra, M. Barahona, J.-C. Delvenne, T.S. Evans, and V. Latora. <br />\\\\n     \\\\t<i>Physical Review E</i> <b>84</b>, 017102 (2011), <a href=\"http://arxiv.org/abs/1012.1211\">arXiv:1012.1211</a>. <br />\\\\n\\\\n        \\\\n        <li value=\"9\"> <a href=\"pdf/sinatra_maximal_entropy.pdf\" onClick=\"javascript: _gaq.push([\\\\\\'_trackPageview\\\\\\', \\\\\\'/downloads/pdfs/entropy_pre_2011\\\\\\']);\"> Maximal-entropy random walks in complex networks with limited information</a>, <br />\\\\n        R. Sinatra, J. Gomez-Gardenes, R. Lambiotte, V. Nicosia, and V. Latora. <br />\\\\n        <i> Physical Review E</i> <b>83</b>, 030103(R) (2011), <a href=\"http://arxiv.org/abs/1007.4936\">arXiv:1007.4936</a>.\\\\n     \\\\t</li>\\\\n     \\\\t\\\\n        </ol>\\\\n        \\\\n        <h2>2010</h2>\\\\n   \\\\t\\\\t<ol>\\\\n   \\\\t\\\\t\\\\n   \\\\t\\\\t<li value=\"8\"> <a href=\"\">Ecological Clustering Reveals Topological Structures of Complex Networks</a>, <br />\\\\n   \\\\t\\\\tR. Sinatra. <br />\\\\n\\\\t\\\\t<i>HPC-Europa2 Final Report 2010</i>, to appear.\\\\n   \\\\t\\\\t</li>\\\\n        <li value=\"7\"> <a href=\"http://www.plosone.org/article/info%3Adoi%2F10.1371%2Fjournal.pone.0014187\">Defecting or Not Defecting: How to \"Read\" Human Behavior during Cooperative Games by EEG Measurements</a>, <br />\\\\n        F. De Vico Fallani, V. Nicosia, R. Sinatra, L. Astolfi, F. Cincotti, D. Mattia, C. Wilke, A. Doud, V. Latora, B. He and F. Babiloni.  <br />\\\\n        <i>PloS One</i> <b>5</b>, 12:e14187 (2010).</li>        \\\\n    \\\\t\\\\n        <li value=\"6\"> <a href=\"pdf/sinatra_motifs_PhysRevLett.105.178702_2010.pdf\" onClick=\"javascript: _gaq.push([\\\\\\'_trackPageview\\\\\\', \\\\\\'/downloads/pdfs/motifs_prl_2010\\\\\\']);\">Networks of motifs from sequences of symbols</a>, <br />\\\\n        R. Sinatra, D. Condorelli, V. Latora. <br />\\\\n        <i> Physical Review Letters</i>, <b>105</b>, 178702 (2010), <br />\\\\n        <a href=\"http://arxiv.org/abs/1002.0668\"> arXiv:1002.0668</a>. <br />\\\\n        <a href=\"pdf/suppl_sinatra_motifs_PRL2010.pdf\" onClick=\"javascript: _gaq.push([\\\\\\'_trackPageview\\\\\\', \\\\\\'/downloads/pdfs/suppl_motifs_prl_2010\\\\\\']);\"> Supplementary material</a> is available for this paper. <br />\\\\n        <b> Featured in <a href=\\\\\\'http://www.physorg.com/news204800347.html\\\\\\' target=\\\\\\'_blank\\\\\\'>Physorg</a>, <a href=\\\\\\'http://www.tendencias21.net/Desarrollan-una-formula-universal-para-desvelar-codigos-ocultos_a4930.html\\\\\\' target=\\\\\\'_blank\\\\\\'> Tendencia21</a> and <a href=\\\\\\'http://www.physicscentral.com/explore/multimedia/podcast.cfm?uid=20101027115243\\\\\\' target=\\\\\\'_blank\\\\\\'>Physicscentral</a>! </b>\\\\n\\\\n        </li>\\\\n\\\\n\\\\t\\\\t<li value=\"5\">\\\\n\\\\t\\\\t<a href=\"pdf/sinatra_evolutionary_random_walk_csss_santafe_2010.pdf\" onClick=\"javascript: _gaq.push([\\\\\\'_trackPageview\\\\\\', \\\\\\'/downloads/pdfs/report_santafe_2010\\\\\\']);\"> Evolutionary dynamics of fitness driven walkers on a graph</a>, <br />\\\\n\\\\t\\\\tR. Sinatra, C. Gokhale, E. Fille Legara, <br /> \\\\n\\\\t\\\\t <i>Proceeding paper for the <a href=\"http://tuvalu.santafe.edu/events/workshops/index.php/CSSS_2010_Santa_Fe-Final_Papers\">Complex Systems Summer School 2010</i></a>, Santa Fe Institue (USA).</li>\\\\n\\\\n\\\\n        </ol>\\\\n\\\\n        <h2>2009</h2>\\\\n        <ol>\\\\n        \\\\n        <!-- lukaCS -->\\\\n\\\\n        <li value=\"4\"> <a href=\"pdf/sinatra_ultimatum_game_jstat_2009_p09012.pdf\" onClick=\"javascript: _gaq.push([\\\\\\'_trackPageview\\\\\\', \\\\\\'/downloads/pdfs/ultimatum_jstat_2009\\\\\\']);\">The Ultimatum Game in Complex Networks</a>, <br />\\\\n        R. Sinatra, J. Iranzo, J. Gomez-Gardenes, M. Floria, V. Latora, Y. Moreno,\\\\n        <i> Journal of Statistical Mechanics - Theory and Experiments</i>, P09012 (2009), <a href=\"http://arxiv.org/abs/0807.0750\"> arXiv:0807.0750v3</a>.</li>\\\\n        \\\\n        \\\\n        <li value=\"3\"><a href=\"pdf/sinatra_clusters_brain_IJBC_2009_1902_P665.pdf\" onClick=\"javascript: _gaq.push([\\\\\\'_trackPageview\\\\\\', \\\\\\'/downloads/pdfs/brain_IJBC_2009\\\\\\']);\"> Cluster structure of functional networks estimated from high-resolution EEG data</a>, <br />\\\\n        R. Sinatra, F. De Vico Fallani, V. Latora, L. Astolfi, D. Mattia, F. Cincotti, and F. Babiloni, <i> Int. Journal of Bifurcation and Chaos </i> 19, 665-676 (2009), <a href=\"http://arxiv.org/abs/0806.2840\"> arXiv:0806.2840v1</a>. </li>\\\\n        \\\\n        <li value=\"2\"><a href=\"pdf/sinatra_biological_networks_chapter_statistics_cell_systems_2009.pdf\" onClick=\"javascript: _gaq.push([\\\\\\'_trackPageview\\\\\\', \\\\\\'/downloads/pdfs/bookchapter_2009\\\\\\']);\">Structural and dynamical properties of cellular and regulatory networks</a>, <br />\\\\n        R. Sinatra, J.Gomez-Gardenes, Y. Moreno, D. Condorelli, L. M. Floria, V. Latora, in <a href=\"http://www.cambridge.org/catalogue/catalogue.asp?isbn=9780521886086\"><i>Statistical Mechanics of Cellular Systems and Processes</i></a>, edited by M. H. Zaman, Cambridge University Press (2009).</li>\\\\n        \\\\n        </ol>\\\\n        <!-- kaTtikA -->\\\\n\\\\n        <h2>2008</h2>\\\\n        <ol>\\\\n        <li value=\"1\"> \\\\n        \\\\n        <a href=\"pdf/fallani_sinatra_clusters_injured_patients_ieee_proc_2008.pdf\" onClick=\"javascript: _gaq.push([\\\\\\'_trackPageview\\\\\\', \\\\\\'/downloads/pdfs/ieee_2008\\\\\\']);\"> Community structure of cortical networks in spinal cord injured patients</a>, <br />\\\\n        F. De Vico Fallani, R. Sinatra, L. Astolfi, D. Mattia, F. Cincotti, V. Latora, S. Salinari, M.G. Marciani, A. Colosimo, and F. Babiloni, <i>Conf. Proc. IEEE Eng. Med. Biol. Soc. 2008 </i>, 3995-8 (2008). </li>\\\\n        </ol>\\\\n        \\\\n        <h2>Theses</h2>\\\\n        <ul> \\\\n        <li> <a href=\"pdf/tesi_SSC_specialistica_sinatra.pdf\"><i>\"Evolutionary Games on Graphs: the Ultimatum Game\"</i></a>, Thesis discussed for Diploma di Secondo Livello (second level Diploma degree) of Scuola Superiore di Catania <br />\\\\n        Supervisors: <i> Prof. Vito Latora</i>, <i>Prof. Yamir Moreno Vega</i>, <i>Dott. Jesus Gomez Gardenes</i> <br />\\\\n        </li>\\\\n        \\\\n        <li> <a href=\"pdf/tesi_specialistica_sinatra.pdf\"><i>\"Analisi statistica del proteoma mediante studio di motivi significativi\"</i></a> (in Italian), \\\\n        Thesis discussed for Laurea Specialistica in Fisica Teorica (equivalent to MSc in Theoretical Physics), Universit&agrave; di Catania <br />\\\\n        Supervisors: <i> Prof. Vito Latora</i>, <i>Prof. Daniele Condorelli </i><br />\\\\n        </li>\\\\n        \\\\n                <li> <a href=\"pdf/tesi_SSC_triennale_sinatra.pdf\"><i>\"Distanza Filogenetica basata sulla Coespressione di Motivi Aminoacidici Statisticamente significativi\"</i></a> (in Italian), Thesis discussed for Diploma di Primo Livello (first level Diploma degree) of Scuola Superiore di Catania <br />\\\\n        Supervisors: <i> Prof. Vito Latora</i>, <i>Prof. Daniele Condorelli </i> <br />\\\\n        </li>\\\\n        \\\\n        <li> <a href=\"pdf/tesi_triennale_sinatra.pdf\"><i>\"Analisi statistica del proteoma e filogenesi\"</i></a> (in Italian), \\\\n        Thesis discussed for Laurea Triennale in Fisica (equivalent to BSc in Physics), Universit&agrave; di Catania <br />\\\\n        Supervisor: <i> Prof. Vito Latora </i><br />\\\\n        </li>\\\\n        \\\\n        </ul>\\\\n        <!-- MENyHERT -->\\\\n\\\\n        \\\\n    </div>\\\\n\\\\t<div id=\"linkList\"> \\\\n        <h2>Links</h2> \\\\n        <ul> \\\\n      <li><a href=\"http://scholar.google.com/citations?user=PL8nGh4AAAAJ&hl=en\"> My Google Scholar profile</a></li>\\\\n      <li><a href=\"http://arxiv.org/a/sinatra_r_1\">My arXiv profile</a></li>\\\\n      <li><a href=\"http://www.barabasilab.com\">My previous Group </a></li>\\\\n      <li><a href=\"http://www.maths.qmul.ac.uk/~latora/group.html\">My PhD Group </a></li> \\\\n            <li><a href=\"http://www.pardus.at\">Something I support</a></li> \\\\n        </ul>\\\\n         <br />\\\\n        <a href=\"http://www.twitter.com/robysinatra\"><img src=\"http://twitter-badges.s3.amazonaws.com/follow_me-c.png\" alt=\"Follow robysinatra on Twitter\"/></a>\\\\n    </div>\\\\n    <div id=\"footer\">\\\\n    \\\\n<a href=\"http://www3.clustrmaps.com/counter/maps.php?url=http://www.ssc.unict.it/~roberta/\" id=\"clustrMapsLink\"><img src=\"http://www3.clustrmaps.com/counter/index2.php?url=http://www.ssc.unict.it/~roberta/\" style=\"border:0px;\" alt=\"Locations of visitors to this page\" title=\"Locations of visitors to this page\" id=\"clustrMapsImg\" onerror=\"this.onerror=null; this.src=\\\\\\'http://www2.clustrmaps.com/images/clustrmaps-back-soon.jpg\\\\\\'; document.getElementById(\\\\\\'clustrMapsLink\\\\\\').href=\\\\\\'http://www2.clustrmaps.com\\\\\\';\" />\\\\n</a>\\\\n\\\\n<!-- FLECK -->\\\\n\\\\n<!-- Begin Shinystat code -->\\\\n<script type=\"text/javascript\" src=\"http://codice.shinystat.com/cgi-bin/getcod.cgi?USER=robertasinatra\"></script>\\\\n<noscript>\\\\n<a href=\"http://www.shinystat.com\" target=\"_top\">\\\\n<img src=\"http://www.shinystat.com/cgi-bin/shinystat.cgi?USER=robertasinatra\" alt=\"Counter free\" border=\"0\" /></a>\\\\n</noscript>\\\\n<!-- End Shinystat code -->\\\\n\\\\n       \\\\n        <a href=\"http://creativecommons.org/licenses/by-nc-sa/1.0/\" title=\"View details of the license of this site, courtesy of Creative Commons.\">cc</a>\\\\n    </div>\\\\n</div>\\\\n\\\\n</body>\\\\n</html>\\\\n\\'']"
      ]
     },
     "execution_count": 85,
     "metadata": {},
     "output_type": "execute_result"
    }
   ],
   "source": [
    "strings = []\n",
    "for i in url_list:\n",
    "    request = urllib.request.Request('http://www.robertasinatra.com/' + i)\n",
    "    #print('http://www.robertasinatra.com/' + i)\n",
    "    result = urllib.request.urlopen(request)\n",
    "    text = result.read()\n",
    "    mystring = str(text)\n",
    "    strings.append(mystring)\n",
    "\n",
    "\n",
    "strings\n",
    "\n"
   ]
  },
  {
   "cell_type": "code",
   "execution_count": 39,
   "metadata": {},
   "outputs": [],
   "source": []
  },
  {
   "cell_type": "code",
   "execution_count": null,
   "metadata": {},
   "outputs": [],
   "source": []
  },
  {
   "cell_type": "code",
   "execution_count": null,
   "metadata": {},
   "outputs": [],
   "source": []
  },
  {
   "cell_type": "code",
   "execution_count": null,
   "metadata": {
    "collapsed": true
   },
   "outputs": [],
   "source": []
  },
  {
   "cell_type": "markdown",
   "metadata": {},
   "source": [
    "## Exercise &#x1F4D9;\n",
    "Create a list of n lists, each having N elements. The values of the first list should go from 1 to N, the elements of the second list from N+1 to 2N,... the elements of the last list, should go from $N^2-N+1$ to $N^2$. In other words, this is like creating a matrix\n",
    "\n",
    " \\begin{pmatrix}\n",
    "  1 & 2 & \\cdots & N \\\\\n",
    "  N+1 & N+2 & \\cdots & 2N \\\\\n",
    "  \\vdots  & \\vdots  & \\ddots & \\vdots  \\\\\n",
    "  N^2-N+1 & N^2-N+2 & \\cdots & N^2 \n",
    " \\end{pmatrix}\n",
    " Can you create it with only one line of code? _Hint_: try first with multiple lines of code, and then make it more compact."
   ]
  },
  {
   "cell_type": "code",
   "execution_count": 6,
   "metadata": {},
   "outputs": [
    {
     "data": {
      "text/plain": [
       "[1, 2, 3, 4]"
      ]
     },
     "execution_count": 6,
     "metadata": {},
     "output_type": "execute_result"
    }
   ],
   "source": [
    "list1 = list(range(1,5))"
   ]
  },
  {
   "cell_type": "code",
   "execution_count": 7,
   "metadata": {},
   "outputs": [
    {
     "ename": "TypeError",
     "evalue": "list() takes at most 1 argument (2 given)",
     "output_type": "error",
     "traceback": [
      "\u001b[1;31m---------------------------------------------------------------------------\u001b[0m",
      "\u001b[1;31mTypeError\u001b[0m                                 Traceback (most recent call last)",
      "\u001b[1;32m<ipython-input-7-804cf901720f>\u001b[0m in \u001b[0;36m<module>\u001b[1;34m()\u001b[0m\n\u001b[1;32m----> 1\u001b[1;33m \u001b[0mlist2\u001b[0m \u001b[1;33m=\u001b[0m \u001b[0mlist\u001b[0m\u001b[1;33m(\u001b[0m\u001b[0mrange\u001b[0m\u001b[1;33m(\u001b[0m\u001b[0mlen\u001b[0m\u001b[1;33m(\u001b[0m\u001b[0mlist1\u001b[0m\u001b[1;33m)\u001b[0m\u001b[1;33m)\u001b[0m\u001b[1;33m,\u001b[0m \u001b[1;36m8\u001b[0m\u001b[1;33m)\u001b[0m\u001b[1;33m\u001b[0m\u001b[0m\n\u001b[0m\u001b[0;32m      2\u001b[0m \u001b[0mlist2\u001b[0m\u001b[1;33m\u001b[0m\u001b[0m\n",
      "\u001b[1;31mTypeError\u001b[0m: list() takes at most 1 argument (2 given)"
     ]
    }
   ],
   "source": []
  },
  {
   "cell_type": "code",
   "execution_count": null,
   "metadata": {
    "collapsed": true
   },
   "outputs": [],
   "source": []
  },
  {
   "cell_type": "code",
   "execution_count": null,
   "metadata": {
    "collapsed": true
   },
   "outputs": [],
   "source": []
  },
  {
   "cell_type": "markdown",
   "metadata": {},
   "source": [
    "### More on loops and iterators:\n",
    "* [ an overview of for loops and iterators](https://www.codementor.io/sheena/python-generators-and-iterators-du1082iua)\n",
    "* What are the most basic definitions of \"iterable\", \"iterator\" and \"iteration\"?  [ A good explanation from stackoverflow](https://stackoverflow.com/questions/9884132/what-exactly-are-pythons-iterator-iterable-and-iteration-protocols)\n",
    "\n",
    "### Authentication with urllib \n",
    "* [ Python 3 documentation](https://docs.python.org/3/howto/urllib2.html)\n",
    "* [ Step by step explanation, with examples](http://www.voidspace.org.uk/python/articles/authentication.shtml)"
   ]
  },
  {
   "cell_type": "markdown",
   "metadata": {},
   "source": [
    "## Further reading"
   ]
  },
  {
   "cell_type": "markdown",
   "metadata": {},
   "source": [
    "* http://www.python.org - The official web page of the Python programming language.\n",
    "* [Python Essential Reference](http://www.amazon.com/Python-Essential-Reference-4th-Edition/dp/0672329786) - A good reference book on Python programming."
   ]
  },
  {
   "cell_type": "code",
   "execution_count": null,
   "metadata": {
    "collapsed": true
   },
   "outputs": [],
   "source": []
  }
 ],
 "metadata": {
  "kernelspec": {
   "display_name": "Python 3",
   "language": "python",
   "name": "python3"
  },
  "language_info": {
   "codemirror_mode": {
    "name": "ipython",
    "version": 3
   },
   "file_extension": ".py",
   "mimetype": "text/x-python",
   "name": "python",
   "nbconvert_exporter": "python",
   "pygments_lexer": "ipython3",
   "version": "3.6.1"
  }
 },
 "nbformat": 4,
 "nbformat_minor": 1
}
