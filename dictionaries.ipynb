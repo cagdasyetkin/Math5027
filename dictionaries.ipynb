{
 "cells": [
  {
   "cell_type": "markdown",
   "metadata": {},
   "source": [
    "<div class=\"frontmatter text-center\">\n",
    "<h2> MATH5027 Scientific Python, Fall 2017</h2>"
   ]
  },
  {
   "cell_type": "markdown",
   "metadata": {},
   "source": [
    "1) Write a Python program to concatenate following dictionaries to create a new one.\n",
    "\n",
    "Sample Dictionary: \n",
    "\n",
    "``dic1={1:10, 2:20} \n",
    "dic2={3:30, 4:40} \n",
    "dic3={5:50,6:60} ``\n",
    "\n",
    "_Hint_: Have a look at the documentation for dict.update().\n",
    "\n",
    "2) Write a Python program to map two lists into a dictionary. For example:\n",
    "```keys = ['red', 'green', 'blue']  \n",
    "values = ['#FF0000','#008000', '#0000FF']  ```\n",
    "\n",
    "should become:\n",
    "```{'blue': '#0000FF', 'green': '#008000', 'red': '#FF0000'}```\n",
    "\n",
    "Try to use a dictionary comprehension.\n",
    "\n",
    "3) Write a Python program to multiply all the values in a dictionary, assuming you have a dictionary with floats or ints as your values.\n",
    "\n",
    "4) Write a ***function*** to print keys and values of a dictionary:\n",
    "* sorted by key\n",
    "* sorted by value\n",
    "\n",
    "_Hint_: there are many ways to do this, but give it a try with lambda functions."
   ]
  },
  {
   "cell_type": "markdown",
   "metadata": {},
   "source": [
    "<h2>Answers from Class 4</h2>"
   ]
  },
  {
   "cell_type": "markdown",
   "metadata": {},
   "source": [
    "1) concat the dicts"
   ]
  },
  {
   "cell_type": "code",
   "execution_count": 1,
   "metadata": {},
   "outputs": [
    {
     "data": {
      "text/plain": [
       "{1: 10, 2: 20, 3: 30, 4: 40, 5: 50, 6: 60}"
      ]
     },
     "execution_count": 1,
     "metadata": {},
     "output_type": "execute_result"
    }
   ],
   "source": [
    "dic1={1:10, 2:20} \n",
    "dic2={3:30, 4:40} \n",
    "dic3={5:50,6:60}\n",
    "\n",
    "def DoomsDayDevice(x, y, z):\n",
    "    x.update(y)\n",
    "    x.update(z)\n",
    "    return x\n",
    "\n",
    "DoomsDayDevice(dic1, dic2, dic3)"
   ]
  },
  {
   "cell_type": "markdown",
   "metadata": {},
   "source": [
    "2) map the lists into a dict"
   ]
  },
  {
   "cell_type": "code",
   "execution_count": 2,
   "metadata": {},
   "outputs": [
    {
     "data": {
      "text/plain": [
       "{'blue': '#0000FF', 'green': '#008000', 'red': '#FF0000'}"
      ]
     },
     "execution_count": 2,
     "metadata": {},
     "output_type": "execute_result"
    }
   ],
   "source": [
    "keys = ['red', 'green', 'blue']\n",
    "values = ['#FF0000','#008000', '#0000FF']\n",
    "# {'blue': '#0000FF', 'green': '#008000', 'red': '#FF0000'}\n",
    "\n",
    "\n",
    "finalDict = {}\n",
    "for key, value in zip(keys, values):\n",
    "    finalDict[key] = value\n",
    "\n",
    "finalDict"
   ]
  },
  {
   "cell_type": "code",
   "execution_count": 3,
   "metadata": {},
   "outputs": [
    {
     "data": {
      "text/plain": [
       "{'blue': '#0000FF', 'green': '#008000', 'red': '#FF0000'}"
      ]
     },
     "execution_count": 3,
     "metadata": {},
     "output_type": "execute_result"
    }
   ],
   "source": [
    "# trying the same question with dict comprehension\n",
    "keys = ['red', 'green', 'blue']\n",
    "values = ['#FF0000','#008000', '#0000FF']\n",
    "# {'blue': '#0000FF', 'green': '#008000', 'red': '#FF0000'}\n",
    "\n",
    "\n",
    "finalDict = {key : value for key,value in zip(keys, values)}\n",
    "\n",
    "finalDict"
   ]
  },
  {
   "cell_type": "markdown",
   "metadata": {},
   "source": [
    "3) multiply all the values in a dictionary, assuming you have a dictionary with floats or ints as your values."
   ]
  },
  {
   "cell_type": "code",
   "execution_count": 4,
   "metadata": {},
   "outputs": [
    {
     "name": "stdout",
     "output_type": "stream",
     "text": [
      "720000000\n"
     ]
    },
    {
     "data": {
      "text/plain": [
       "720000000"
      ]
     },
     "execution_count": 4,
     "metadata": {},
     "output_type": "execute_result"
    }
   ],
   "source": [
    "dic1 = {1: 10, 2: 20, 3: 30, 4: 40, 5: 50, 6: 60}\n",
    "\n",
    "def dicMultiplier(dic):\n",
    "    \n",
    "    mult = 1\n",
    "    for key in dic1:\n",
    "        mult = mult * dic1[key]\n",
    "    \n",
    "    return(mult) \n",
    "\n",
    "print(10*20*30*40*50*60) #test case\n",
    "dicMultiplier(dic1) #proof of concept"
   ]
  },
  {
   "cell_type": "markdown",
   "metadata": {},
   "source": [
    "4) Write a function to print keys and values of a dictionary: sorted by key and sorted by value <p>\n",
    "Hint: there are many ways to do this, but give it a try with lambda functions."
   ]
  },
  {
   "cell_type": "code",
   "execution_count": 5,
   "metadata": {},
   "outputs": [
    {
     "name": "stdout",
     "output_type": "stream",
     "text": [
      "[('apple', 10), ('avakado', 7), ('bananas', 3), ('oranges', 2), ('strawberries', 0)]\n",
      "strawberries 0\n",
      "oranges 2\n",
      "bananas 3\n",
      "avakado 7\n",
      "apple 10\n",
      "None\n"
     ]
    }
   ],
   "source": [
    "myfruits={'bananas':3, 'strawberries':0, 'apple':10, 'oranges':2, 'avakado': 7}\n",
    "\n",
    "#I can do it in one funtion all together however I want to try with and without lambda separately\n",
    "\n",
    "#without lambda (make list of tuples), return sorted by keys\n",
    "def keySorter(dic):    \n",
    "    return [i for i in sorted(myfruits.items())]\n",
    "\n",
    "\n",
    "#with lambda (print keys and values), print sorted by values\n",
    "def valueSorter(dic):  \n",
    "    for k,v in sorted(myfruits.items(), key=lambda x: x[1]):\n",
    "        print(k, v)\n",
    "    \n",
    "    \n",
    "#test cases\n",
    "print(keySorter(myfruits)) # Sorted by keys\n",
    "print(valueSorter(myfruits)) # Sorted by values"
   ]
  },
  {
   "cell_type": "markdown",
   "metadata": {},
   "source": [
    "\n",
    "### From Class 5:\n",
    "\n",
    "1) Create the list flips with a one-liner (hint: use list comprehension and google how to use if/else statements within the comprehension).\n",
    "\n",
    "2) What type of variable is run2count? Can you do casting (i.e. can you change the type to something more familiar)?\n",
    "\n",
    "3) Write code to create a dictionary like run2count, without using Counter\n",
    "\n",
    "4) Take the logarithms of the number of runs and plot that vs run length\n",
    "_Note_: writing ```log(count)``` will return an error. The goal of the exercise is to find the solution to this :)\n",
    "\n",
    "5) Use ```semilogy``` to put the y-axis in a log scale\n",
    "\n",
    "6) Figure out how to plot the x-axis in log scale, then both axes.\n"
   ]
  },
  {
   "cell_type": "markdown",
   "metadata": {},
   "source": [
    "<h2>Answers from Class 5</h2>"
   ]
  },
  {
   "cell_type": "markdown",
   "metadata": {},
   "source": [
    "1) flips with list comprehension"
   ]
  },
  {
   "cell_type": "code",
   "execution_count": 6,
   "metadata": {},
   "outputs": [
    {
     "data": {
      "text/plain": [
       "['H', 'H', 'H', 'H', 'T', 'H', 'H', 'H', 'H', 'H']"
      ]
     },
     "execution_count": 6,
     "metadata": {},
     "output_type": "execute_result"
    }
   ],
   "source": [
    "import random\n",
    "p = 0.7\n",
    "\n",
    "flips = [\"H\" if random.random() < p else \"T\" for i in range(1000)]\n",
    "\n",
    "flips[:10] # lets check the first elements of the list"
   ]
  },
  {
   "cell_type": "markdown",
   "metadata": {},
   "source": [
    "2) variable is run2count"
   ]
  },
  {
   "cell_type": "code",
   "execution_count": 7,
   "metadata": {},
   "outputs": [
    {
     "name": "stdout",
     "output_type": "stream",
     "text": [
      "Counter({1: 59, 2: 48, 3: 28, 4: 23, 6: 13, 5: 9, 10: 8, 7: 5, 8: 4, 11: 2, 9: 2, 14: 2, 20: 1, 13: 1, 18: 1})\n"
     ]
    }
   ],
   "source": [
    "from collections import Counter\n",
    "\n",
    "S = \"\".join( flips )\n",
    "heads_runs = S.split(\"T\")\n",
    "run_lengths = [ len(run) for run in heads_runs if run ]\n",
    "\n",
    "run2count = Counter(run_lengths)\n",
    "print(run2count)"
   ]
  },
  {
   "cell_type": "code",
   "execution_count": 8,
   "metadata": {},
   "outputs": [
    {
     "data": {
      "text/plain": [
       "collections.Counter"
      ]
     },
     "execution_count": 8,
     "metadata": {},
     "output_type": "execute_result"
    }
   ],
   "source": [
    "type(run2count)"
   ]
  },
  {
   "cell_type": "markdown",
   "metadata": {},
   "source": [
    "from official documentation:\n",
    "Collections module implements specialized <b>container datatypes</b> providing alternatives to Python’s general purpose built-in containers, dict, list, set, and tuple.\n",
    "Counter method creates <b>dict subclass</b> for counting a hashable object. In this case our object is run_lenghts and we got ourselves a Counter.\n",
    "\n",
    "Let's see if we can cast it to a different type which is more familiar"
   ]
  },
  {
   "cell_type": "code",
   "execution_count": 9,
   "metadata": {},
   "outputs": [
    {
     "data": {
      "text/plain": [
       "[4, 5, 2, 1, 3, 6, 20, 13, 7, 10, 11, 9, 14, 8, 18]"
      ]
     },
     "execution_count": 9,
     "metadata": {},
     "output_type": "execute_result"
    }
   ],
   "source": [
    "list(run2count) #keys are returned however the values are not coming. Might be useful if I was only interested in keys."
   ]
  },
  {
   "cell_type": "code",
   "execution_count": 10,
   "metadata": {},
   "outputs": [
    {
     "name": "stdout",
     "output_type": "stream",
     "text": [
      "{4: 23, 5: 9, 2: 48, 1: 59, 3: 28, 6: 13, 20: 1, 13: 1, 7: 5, 10: 8, 11: 2, 9: 2, 14: 2, 8: 4, 18: 1}\n"
     ]
    }
   ],
   "source": [
    "casted = dict(run2count)\n",
    "print(casted) #both keys and values are returned. This is a good one. \n",
    "#It is good to know that i can use this Counter first and then convert the object to a dict"
   ]
  },
  {
   "cell_type": "code",
   "execution_count": 11,
   "metadata": {},
   "outputs": [
    {
     "data": {
      "text/plain": [
       "(4, 5, 2, 1, 3, 6, 20, 13, 7, 10, 11, 9, 14, 8, 18)"
      ]
     },
     "execution_count": 11,
     "metadata": {},
     "output_type": "execute_result"
    }
   ],
   "source": [
    "tuple(run2count) #again keys are returned but values are not"
   ]
  },
  {
   "cell_type": "code",
   "execution_count": 12,
   "metadata": {},
   "outputs": [
    {
     "ename": "TypeError",
     "evalue": "int() argument must be a string, a bytes-like object or a number, not 'Counter'",
     "output_type": "error",
     "traceback": [
      "\u001b[1;31m---------------------------------------------------------------------------\u001b[0m",
      "\u001b[1;31mTypeError\u001b[0m                                 Traceback (most recent call last)",
      "\u001b[1;32m<ipython-input-12-759c4897b309>\u001b[0m in \u001b[0;36m<module>\u001b[1;34m()\u001b[0m\n\u001b[1;32m----> 1\u001b[1;33m \u001b[0mint\u001b[0m\u001b[1;33m(\u001b[0m\u001b[0mrun2count\u001b[0m\u001b[1;33m)\u001b[0m \u001b[1;31m#this operation doesnt make sense however I would like to show what happens:\u001b[0m\u001b[1;33m\u001b[0m\u001b[0m\n\u001b[0m",
      "\u001b[1;31mTypeError\u001b[0m: int() argument must be a string, a bytes-like object or a number, not 'Counter'"
     ]
    }
   ],
   "source": [
    "int(run2count) #this operation doesnt make sense however I would like to show what happens:"
   ]
  },
  {
   "cell_type": "markdown",
   "metadata": {},
   "source": [
    "3) Write code to <b>create a dictionary</b> like run2count, without using Counter"
   ]
  },
  {
   "cell_type": "code",
   "execution_count": 13,
   "metadata": {},
   "outputs": [
    {
     "name": "stdout",
     "output_type": "stream",
     "text": [
      "[4, 5, 2, 1, 2, 4, 1, 2, 3, 4, 1, 3, 3, 1, 3, 6, 3, 3, 1, 1, 1, 3, 1, 1, 6, 1, 3, 2, 1, 2, 1, 1, 20, 5, 2, 1, 5, 13, 3, 6, 3, 1, 1, 3, 1, 1, 2, 2, 4, 3, 4, 1, 6, 7, 3, 3, 4, 2, 10, 2, 4, 2, 2, 11, 3, 10, 5, 1, 3, 2, 10, 3, 1, 2, 2, 4, 6, 4, 2, 3, 2, 4, 4, 4, 7, 5, 4, 9, 1, 2, 1, 1, 4, 11, 5, 6, 10, 1, 1, 1, 10, 14, 3, 8, 3, 2, 4, 1, 1, 1, 9, 2, 10, 3, 7, 10, 1, 4, 1, 1, 6, 1, 1, 2, 2, 1, 4, 2, 2, 1, 1, 1, 1, 3, 3, 1, 1, 6, 6, 8, 1, 2, 1, 5, 1, 4, 2, 1, 1, 2, 2, 6, 1, 1, 2, 2, 2, 2, 2, 3, 1, 8, 1, 4, 5, 2, 2, 6, 1, 3, 5, 2, 3, 1, 2, 3, 8, 2, 18, 1, 2, 2, 2, 4, 6, 2, 2, 4, 7, 1, 2, 1, 6, 2, 7, 14, 4, 3, 1, 1, 4, 1, 2, 2, 2, 10]\n",
      "***********************************************************************************\n",
      "{4: 23, 5: 9, 2: 48, 1: 59, 3: 28, 6: 13, 20: 1, 13: 1, 7: 5, 10: 8, 11: 2, 9: 2, 14: 2, 8: 4, 18: 1}\n"
     ]
    }
   ],
   "source": [
    "S = \"\".join( flips )\n",
    "heads_runs = S.split(\"T\")\n",
    "run_lengths = [ len(run) for run in heads_runs if run ]\n",
    "\n",
    "print(run_lengths)\n",
    "print(\"***********************************************************************************\")\n",
    "\n",
    "d = {}\n",
    "for i in run_lengths:\n",
    "    \n",
    "    if i in d:\n",
    "        d[i] = d[i] + 1\n",
    "    else:\n",
    "        d[i] = 1\n",
    "\n",
    "print(d)\n"
   ]
  },
  {
   "cell_type": "markdown",
   "metadata": {},
   "source": [
    "4) Take the logarithms of the number of runs and plot that vs run length Note: writing log(count) will return an error. The goal of the exercise is to find the solution to this :)"
   ]
  },
  {
   "cell_type": "code",
   "execution_count": 14,
   "metadata": {
    "collapsed": true
   },
   "outputs": [],
   "source": [
    "import matplotlib\n",
    "import matplotlib.pyplot as plt \n",
    "import math\n",
    "import copy\n",
    "%matplotlib inline"
   ]
  },
  {
   "cell_type": "code",
   "execution_count": 15,
   "metadata": {},
   "outputs": [
    {
     "name": "stdout",
     "output_type": "stream",
     "text": [
      "{4: 1.36, 5: 0.95, 2: 1.68, 1: 1.77, 3: 1.45, 6: 1.11, 20: 0.0, 13: 0.0, 7: 0.7, 10: 0.9, 11: 0.3, 9: 0.3, 14: 0.3, 8: 0.6, 18: 0.0}\n"
     ]
    }
   ],
   "source": [
    "#first make a copy of my dict and take the logs of number of runs\n",
    "\n",
    "d_copy = copy.deepcopy(d)\n",
    "\n",
    "\n",
    "for i in d_copy:\n",
    "    d_copy[i] = round(math.log10(d_copy[i]), 2)\n",
    "\n",
    "print(d_copy)"
   ]
  },
  {
   "cell_type": "code",
   "execution_count": 16,
   "metadata": {},
   "outputs": [
    {
     "name": "stdout",
     "output_type": "stream",
     "text": [
      "(20, 13, 18, 11, 9, 14, 8, 7, 10, 5, 6, 4, 3, 2, 1) (0.0, 0.0, 0.0, 0.3, 0.3, 0.3, 0.6, 0.7, 0.9, 0.95, 1.11, 1.36, 1.45, 1.68, 1.77)\n"
     ]
    },
    {
     "data": {
      "text/plain": [
       "<matplotlib.text.Text at 0x1ac38025dd8>"
      ]
     },
     "execution_count": 16,
     "metadata": {},
     "output_type": "execute_result"
    },
    {
     "data": {
      "image/png": "[encoded data removed]",
      "text/plain": [
       "<matplotlib.figure.Figure at 0x1ac37ef77f0>"
      ]
     },
     "metadata": {},
     "output_type": "display_data"
    }
   ],
   "source": [
    "#run lenghts are 5,1,3,9,4... to be y axis\n",
    "#number of runs are the values 1.26, 2.72, 1.43... the log of number of runs.. to be x axis\n",
    "\n",
    "# split run and count into separate lists:\n",
    "run_count_sorted=sorted(d_copy.items(), key=lambda x: x[1])\n",
    "run,count = zip(*run_count_sorted) \n",
    "    \n",
    "print(run, count)\n",
    "\n",
    "fig = plt.figure()\n",
    "axes = fig.add_axes([0.1, 0.1, 0.8, 0.8]) \n",
    "axes.plot(count, run, 'b')\n",
    "\n",
    "axes.set_xlabel('log(number of runs)')\n",
    "axes.set_ylabel('run_lenghts')\n",
    "axes.set_title('log(number of runs) vs. run_lenghts')\n",
    "\n"
   ]
  },
  {
   "cell_type": "markdown",
   "metadata": {
    "collapsed": true
   },
   "source": [
    "5) Use semilogy to put the y-axis in a log scale"
   ]
  },
  {
   "cell_type": "code",
   "execution_count": 17,
   "metadata": {},
   "outputs": [
    {
     "data": {
      "text/plain": [
       "[<matplotlib.lines.Line2D at 0x1ac38228f98>]"
      ]
     },
     "execution_count": 17,
     "metadata": {},
     "output_type": "execute_result"
    },
    {
     "data": {
      "image/png": "[encoded data removed]",
      "text/plain": [
       "<matplotlib.figure.Figure at 0x1ac37eeaf28>"
      ]
     },
     "metadata": {},
     "output_type": "display_data"
    }
   ],
   "source": [
    "plt.semilogy(run)"
   ]
  },
  {
   "cell_type": "markdown",
   "metadata": {
    "collapsed": true
   },
   "source": [
    "6) Figure out how to plot the x-axis in log scale, then both axes"
   ]
  },
  {
   "cell_type": "code",
   "execution_count": 20,
   "metadata": {},
   "outputs": [
    {
     "data": {
      "text/plain": [
       "[<matplotlib.lines.Line2D at 0x1ac38a0ef28>]"
      ]
     },
     "execution_count": 20,
     "metadata": {},
     "output_type": "execute_result"
    },
    {
     "data": {
      "image/png": "[encoded data removed]",
      "text/plain": [
       "<matplotlib.figure.Figure at 0x1ac388d79e8>"
      ]
     },
     "metadata": {},
     "output_type": "display_data"
    }
   ],
   "source": [
    "plt.semilogx(run)"
   ]
  },
  {
   "cell_type": "code",
   "execution_count": 21,
   "metadata": {},
   "outputs": [
    {
     "name": "stdout",
     "output_type": "stream",
     "text": [
      "(0.0, 0.0, 0.0, 0.3, 0.3, 0.3, 0.6, 0.7, 0.9, 0.95, 1.11, 1.36, 1.45, 1.68, 1.77) (20, 13, 18, 11, 9, 14, 8, 7, 10, 5, 6, 4, 3, 2, 1)\n"
     ]
    },
    {
     "data": {
      "image/png": "[encoded data removed]",
      "text/plain": [
       "<matplotlib.figure.Figure at 0x1ac39ad25c0>"
      ]
     },
     "metadata": {},
     "output_type": "display_data"
    }
   ],
   "source": [
    "fig = plt.figure()\n",
    "axes = fig.add_axes([0.1, 0.1, 0.8, 0.8]) \n",
    "axes.plot(count, run, 'b')\n",
    "\n",
    "print(count, run)\n",
    "\n",
    "axes.set_xlabel('log of number of runs')\n",
    "axes.set_ylabel('run_lenghts')\n",
    "plt.title('logscaleX vs logscaleY')\n",
    "\n",
    "plt.yscale('log')\n",
    "plt.xscale('log')\n",
    "\n"
   ]
  },
  {
   "cell_type": "code",
   "execution_count": null,
   "metadata": {
    "collapsed": true
   },
   "outputs": [],
   "source": []
  }
 ],
 "metadata": {
  "kernelspec": {
   "display_name": "Python 3",
   "language": "python",
   "name": "python3"
  },
  "language_info": {
   "codemirror_mode": {
    "name": "ipython",
    "version": 3
   },
   "file_extension": ".py",
   "mimetype": "text/x-python",
   "name": "python",
   "nbconvert_exporter": "python",
   "pygments_lexer": "ipython3",
   "version": "3.6.2"
  }
 },
 "nbformat": 4,
 "nbformat_minor": 2
}
