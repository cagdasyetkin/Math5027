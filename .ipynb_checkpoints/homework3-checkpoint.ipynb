{
 "cells": [
  {
   "cell_type": "markdown",
   "metadata": {},
   "source": [
    "<div class=\"frontmatter text-center\">\n",
    "<h2> MATH5027 Scientific Python, Fall 2017</h2>\n",
    "<h2> Homework 3, Due: Tuesday October 10th, 3pm </h2>\n",
    "</div>\n",
    "\n",
    "Instructions: complete the selection of exercises from the week's class notebooks. Use markdown cells between code examples to explain."
   ]
  },
  {
   "cell_type": "markdown",
   "metadata": {},
   "source": [
    "## Questions \n",
    "### From Class 4:\n",
    "\n",
    "1) Write a Python program to concatenate following dictionaries to create a new one.\n",
    "\n",
    "Sample Dictionary: \n",
    "\n",
    "``dic1={1:10, 2:20} \n",
    "dic2={3:30, 4:40} \n",
    "dic3={5:50,6:60} ``\n",
    "\n",
    "_Hint_: Have a look at the documentation for dict.update().\n",
    "\n",
    "2) Write a Python program to map two lists into a dictionary. For example:\n",
    "```keys = ['red', 'green', 'blue']  \n",
    "values = ['#FF0000','#008000', '#0000FF']  ```\n",
    "\n",
    "should become:\n",
    "```{'blue': '#0000FF', 'green': '#008000', 'red': '#FF0000'}```\n",
    "\n",
    "Try to use a dictionary comprehension.\n",
    "\n",
    "3) Write a Python program to multiply all the values in a dictionary, assuming you have a dictionary with floats or ints as your values.\n",
    "\n",
    "4) Write a ***function*** to print keys and values of a dictionary:\n",
    "* sorted by key\n",
    "* sorted by value\n",
    "\n",
    "_Hint_: there are many ways to do this, but give it a try with lambda functions."
   ]
  },
  {
   "cell_type": "markdown",
   "metadata": {},
   "source": [
    "<h2>Answers from Class 4</h2>"
   ]
  },
  {
   "cell_type": "markdown",
   "metadata": {},
   "source": [
    "1) concat the dicts"
   ]
  },
  {
   "cell_type": "code",
   "execution_count": 1,
   "metadata": {},
   "outputs": [
    {
     "data": {
      "text/plain": [
       "{1: 10, 2: 20, 3: 30, 4: 40, 5: 50, 6: 60}"
      ]
     },
     "execution_count": 1,
     "metadata": {},
     "output_type": "execute_result"
    }
   ],
   "source": [
    "dic1={1:10, 2:20} \n",
    "dic2={3:30, 4:40} \n",
    "dic3={5:50,6:60}\n",
    "\n",
    "def DoomsDayDevice(x, y, z):\n",
    "    x.update(y)\n",
    "    x.update(z)\n",
    "    return x\n",
    "\n",
    "DoomsDayDevice(dic1, dic2, dic3)"
   ]
  },
  {
   "cell_type": "markdown",
   "metadata": {},
   "source": [
    "2) map the lists into a dict"
   ]
  },
  {
   "cell_type": "code",
   "execution_count": 2,
   "metadata": {},
   "outputs": [
    {
     "data": {
      "text/plain": [
       "{'blue': '#0000FF', 'green': '#008000', 'red': '#FF0000'}"
      ]
     },
     "execution_count": 2,
     "metadata": {},
     "output_type": "execute_result"
    }
   ],
   "source": [
    "keys = ['red', 'green', 'blue']\n",
    "values = ['#FF0000','#008000', '#0000FF']\n",
    "# {'blue': '#0000FF', 'green': '#008000', 'red': '#FF0000'}\n",
    "\n",
    "\n",
    "finalDict = {}\n",
    "for key, value in zip(keys, values):\n",
    "    finalDict[key] = value\n",
    "\n",
    "finalDict"
   ]
  },
  {
   "cell_type": "code",
   "execution_count": 5,
   "metadata": {},
   "outputs": [
    {
     "data": {
      "text/plain": [
       "{'blue': '#0000FF', 'green': '#008000', 'red': '#FF0000'}"
      ]
     },
     "execution_count": 5,
     "metadata": {},
     "output_type": "execute_result"
    }
   ],
   "source": [
    "# trying the same question with dict comprehension\n",
    "keys = ['red', 'green', 'blue']\n",
    "values = ['#FF0000','#008000', '#0000FF']\n",
    "# {'blue': '#0000FF', 'green': '#008000', 'red': '#FF0000'}\n",
    "\n",
    "\n",
    "finalDict = {key : value for key,value in zip(keys, values)}\n",
    "\n",
    "finalDict"
   ]
  },
  {
   "cell_type": "markdown",
   "metadata": {},
   "source": [
    "3) multiply all the values in a dictionary, assuming you have a dictionary with floats or ints as your values."
   ]
  },
  {
   "cell_type": "code",
   "execution_count": 18,
   "metadata": {},
   "outputs": [
    {
     "name": "stdout",
     "output_type": "stream",
     "text": [
      "720000000\n"
     ]
    },
    {
     "data": {
      "text/plain": [
       "720000000"
      ]
     },
     "execution_count": 18,
     "metadata": {},
     "output_type": "execute_result"
    }
   ],
   "source": [
    "dic1 = {1: 10, 2: 20, 3: 30, 4: 40, 5: 50, 6: 60}\n",
    "\n",
    "def dicMultiplier(dic):\n",
    "    \n",
    "    mult = 1\n",
    "    for key in dic1:\n",
    "        mult = mult * dic1[key]\n",
    "    \n",
    "    return(mult) \n",
    "\n",
    "print(10*20*30*40*50*60) #test case\n",
    "dicMultiplier(dic1) #proof of concept"
   ]
  },
  {
   "cell_type": "markdown",
   "metadata": {},
   "source": [
    "4) Write a function to print keys and values of a dictionary: sorted by key and sorted by value <p>\n",
    "Hint: there are many ways to do this, but give it a try with lambda functions."
   ]
  },
  {
   "cell_type": "code",
   "execution_count": 36,
   "metadata": {},
   "outputs": [
    {
     "name": "stdout",
     "output_type": "stream",
     "text": [
      "[('apple', 10), ('avakado', 7), ('bananas', 3), ('oranges', 2), ('strawberries', 0)]\n",
      "strawberries 0\n",
      "oranges 2\n",
      "bananas 3\n",
      "avakado 7\n",
      "apple 10\n",
      "None\n"
     ]
    }
   ],
   "source": [
    "myfruits={'bananas':3, 'strawberries':0, 'apple':10, 'oranges':2, 'avakado': 7}\n",
    "\n",
    "\n",
    "#without lambda (make list of tuples)\n",
    "def keySorter(dic):    \n",
    "    return [i for i in sorted(myfruits.items())]\n",
    "\n",
    "\n",
    "#with lambda (print keys and values)\n",
    "def valueSorter(dic):\n",
    "    \n",
    "    for k,v in sorted(myfruits.items(), key=lambda x: x[1]):\n",
    "        print(k, v)\n",
    "    \n",
    "    \n",
    "#test cases\n",
    "print(keySorter(myfruits)) # Sorted by keys\n",
    "print(valueSorter(myfruits)) # Sorted by values"
   ]
  },
  {
   "cell_type": "markdown",
   "metadata": {},
   "source": [
    "\n",
    "### From Class 5:\n",
    "\n",
    "1) Create the list flips with a one-liner (hint: use list comprehension and google how to use if/else statements within the comprehension).\n",
    "\n",
    "2) What type of variable is run2count? Can you do casting (i.e. can you change the type to something more familiar)?\n",
    "\n",
    "3) Write code to create a dictionary like run2count, without using Counter\n",
    "\n",
    "4) Take the logarithms of the number of runs and plot that vs run length\n",
    "_Note_: writing ```log(count)``` will return an error. The goal of the exercise is to find the solution to this :)\n",
    "\n",
    "5) Use ```semilogy``` to put the y-axis in a log scale\n",
    "\n",
    "6) Figure out how to plot the x-axis in log scale, then both axes.\n"
   ]
  },
  {
   "cell_type": "markdown",
   "metadata": {},
   "source": [
    "<h2>Answers from Class 5</h2>"
   ]
  },
  {
   "cell_type": "markdown",
   "metadata": {},
   "source": [
    "1) flips with list comprehension"
   ]
  },
  {
   "cell_type": "code",
   "execution_count": 87,
   "metadata": {},
   "outputs": [
    {
     "data": {
      "text/plain": [
       "['H', 'H', 'H', 'H', 'T', 'T', 'H', 'H', 'H', 'H']"
      ]
     },
     "execution_count": 87,
     "metadata": {},
     "output_type": "execute_result"
    }
   ],
   "source": [
    "import random\n",
    "p = 0.7\n",
    "\n",
    "flips = [\"H\" if random.random() < p else \"T\" for i in range(1000)]\n",
    "\n",
    "flips[:10] # lets check the first elements of the list"
   ]
  },
  {
   "cell_type": "markdown",
   "metadata": {},
   "source": [
    "2) variable is run2count"
   ]
  },
  {
   "cell_type": "code",
   "execution_count": 88,
   "metadata": {},
   "outputs": [
    {
     "name": "stdout",
     "output_type": "stream",
     "text": [
      "Counter({1: 70, 2: 52, 3: 34, 4: 16, 5: 14, 6: 12, 7: 9, 8: 6, 10: 3, 9: 3, 13: 2, 12: 2})\n"
     ]
    }
   ],
   "source": [
    "from collections import Counter\n",
    "\n",
    "S = \"\".join( flips )\n",
    "heads_runs = S.split(\"T\")\n",
    "run_lengths = [ len(run) for run in heads_runs if run ]\n",
    "\n",
    "run2count = Counter(run_lengths)\n",
    "print(run2count)"
   ]
  },
  {
   "cell_type": "code",
   "execution_count": 89,
   "metadata": {},
   "outputs": [
    {
     "data": {
      "text/plain": [
       "collections.Counter"
      ]
     },
     "execution_count": 89,
     "metadata": {},
     "output_type": "execute_result"
    }
   ],
   "source": [
    "type(run2count)"
   ]
  },
  {
   "cell_type": "markdown",
   "metadata": {},
   "source": [
    "from official documentation:\n",
    "Collections module implements specialized container datatypes providing alternatives to Python’s general purpose built-in containers, dict, list, set, and tuple.\n",
    "\n",
    "Counter method creates <b>dict subclass</b> for counting a hashable object. In this case our object is run_lenghts and we got ourselves a Counter.\n",
    "\n",
    "Let's see if we can cast it to a different type which is more familiar"
   ]
  },
  {
   "cell_type": "code",
   "execution_count": 90,
   "metadata": {},
   "outputs": [
    {
     "data": {
      "text/plain": [
       "[4, 2, 1, 5, 6, 3, 10, 9, 7, 8, 13, 12]"
      ]
     },
     "execution_count": 90,
     "metadata": {},
     "output_type": "execute_result"
    }
   ],
   "source": [
    "list(run2count) #keys are returned however the values are not coming. Might be useful if I was only interested in keys."
   ]
  },
  {
   "cell_type": "code",
   "execution_count": 91,
   "metadata": {},
   "outputs": [
    {
     "name": "stdout",
     "output_type": "stream",
     "text": [
      "{4: 16, 2: 52, 1: 70, 5: 14, 6: 12, 3: 34, 10: 3, 9: 3, 7: 9, 8: 6, 13: 2, 12: 2}\n"
     ]
    }
   ],
   "source": [
    "casted = dict(run2count)\n",
    "print(casted) #both keys and values are returned. This is a good one."
   ]
  },
  {
   "cell_type": "code",
   "execution_count": 92,
   "metadata": {},
   "outputs": [
    {
     "data": {
      "text/plain": [
       "(4, 2, 1, 5, 6, 3, 10, 9, 7, 8, 13, 12)"
      ]
     },
     "execution_count": 92,
     "metadata": {},
     "output_type": "execute_result"
    }
   ],
   "source": [
    "tuple(run2count) #again keys are returned but values are not"
   ]
  },
  {
   "cell_type": "code",
   "execution_count": 82,
   "metadata": {},
   "outputs": [
    {
     "ename": "TypeError",
     "evalue": "int() argument must be a string, a bytes-like object or a number, not 'Counter'",
     "output_type": "error",
     "traceback": [
      "\u001b[1;31m---------------------------------------------------------------------------\u001b[0m",
      "\u001b[1;31mTypeError\u001b[0m                                 Traceback (most recent call last)",
      "\u001b[1;32m<ipython-input-82-759c4897b309>\u001b[0m in \u001b[0;36m<module>\u001b[1;34m()\u001b[0m\n\u001b[1;32m----> 1\u001b[1;33m \u001b[0mint\u001b[0m\u001b[1;33m(\u001b[0m\u001b[0mrun2count\u001b[0m\u001b[1;33m)\u001b[0m \u001b[1;31m#this operation doesnt make sense however I would like to show what happens:\u001b[0m\u001b[1;33m\u001b[0m\u001b[0m\n\u001b[0m",
      "\u001b[1;31mTypeError\u001b[0m: int() argument must be a string, a bytes-like object or a number, not 'Counter'"
     ]
    }
   ],
   "source": [
    "int(run2count) #this operation doesnt make sense however I would like to show what happens:"
   ]
  },
  {
   "cell_type": "markdown",
   "metadata": {},
   "source": [
    "3) Write code to <b>create a dictionary</b> like run2count, without using Counter"
   ]
  },
  {
   "cell_type": "code",
   "execution_count": 93,
   "metadata": {},
   "outputs": [
    {
     "name": "stdout",
     "output_type": "stream",
     "text": [
      "[4, 4, 2, 1, 5, 6, 5, 6, 3, 4, 10, 5, 3, 6, 5, 1, 4, 2, 2, 2, 2, 2, 9, 2, 2, 1, 9, 3, 4, 7, 3, 1, 3, 2, 8, 2, 1, 1, 5, 13, 1, 2, 1, 2, 3, 2, 3, 2, 2, 2, 1, 4, 1, 1, 1, 1, 1, 6, 1, 3, 1, 2, 1, 4, 3, 1, 6, 2, 4, 7, 7, 1, 2, 1, 1, 2, 3, 2, 1, 8, 6, 12, 1, 5, 1, 2, 3, 1, 1, 1, 2, 2, 2, 6, 8, 3, 2, 1, 12, 6, 3, 3, 5, 1, 5, 3, 3, 3, 1, 1, 1, 1, 2, 1, 1, 7, 2, 3, 2, 1, 8, 8, 1, 1, 2, 1, 10, 4, 6, 2, 2, 2, 6, 1, 2, 1, 1, 1, 2, 1, 1, 3, 1, 2, 4, 6, 5, 2, 1, 1, 3, 1, 3, 2, 3, 1, 1, 3, 1, 3, 3, 1, 1, 3, 3, 4, 7, 2, 1, 2, 3, 1, 3, 2, 1, 3, 2, 5, 1, 2, 2, 2, 1, 5, 2, 9, 2, 2, 3, 2, 4, 2, 5, 1, 3, 7, 1, 1, 3, 4, 7, 5, 1, 1, 1, 1, 1, 10, 4, 2, 1, 6, 2, 5, 1, 13, 7, 4, 3, 4, 7, 8, 1]\n",
      "***********************************************************************************\n",
      "{4: 16, 2: 52, 1: 70, 5: 14, 6: 12, 3: 34, 10: 3, 9: 3, 7: 9, 8: 6, 13: 2, 12: 2}\n"
     ]
    }
   ],
   "source": [
    "S = \"\".join( flips )\n",
    "heads_runs = S.split(\"T\")\n",
    "run_lengths = [ len(run) for run in heads_runs if run ]\n",
    "\n",
    "print(run_lengths)\n",
    "print(\"***********************************************************************************\")\n",
    "\n",
    "d = {}\n",
    "for i in run_lengths:\n",
    "    \n",
    "    if i in d:\n",
    "        d[i] = d[i] + 1\n",
    "    else:\n",
    "        d[i] = 1\n",
    "\n",
    "print(d)\n"
   ]
  },
  {
   "cell_type": "markdown",
   "metadata": {},
   "source": [
    "4) Take the logarithms of the number of runs and plot that vs run length Note: writing log(count) will return an error. The goal of the exercise is to find the solution to this :)"
   ]
  },
  {
   "cell_type": "code",
   "execution_count": 94,
   "metadata": {
    "collapsed": true
   },
   "outputs": [],
   "source": [
    "import matplotlib\n",
    "import matplotlib.pyplot as plt \n",
    "import math\n",
    "%matplotlib inline"
   ]
  },
  {
   "cell_type": "code",
   "execution_count": 95,
   "metadata": {},
   "outputs": [
    {
     "name": "stdout",
     "output_type": "stream",
     "text": [
      "{4: 2.77, 2: 3.95, 1: 4.25, 5: 2.64, 6: 2.48, 3: 3.53, 10: 1.1, 9: 1.1, 7: 2.2, 8: 1.79, 13: 0.69, 12: 0.69}\n"
     ]
    }
   ],
   "source": [
    "for i in d:\n",
    "    d[i] = round(math.log(d[i]), 2)\n",
    "\n",
    "print(d)"
   ]
  },
  {
   "cell_type": "code",
   "execution_count": 96,
   "metadata": {},
   "outputs": [
    {
     "name": "stdout",
     "output_type": "stream",
     "text": [
      "(13, 12, 10, 9, 8, 7, 6, 5, 4, 3, 2, 1) (0.69, 0.69, 1.1, 1.1, 1.79, 2.2, 2.48, 2.64, 2.77, 3.53, 3.95, 4.25)\n"
     ]
    },
    {
     "data": {
      "text/plain": [
       "<matplotlib.text.Text at 0x2991b5d7d30>"
      ]
     },
     "execution_count": 96,
     "metadata": {},
     "output_type": "execute_result"
    },
    {
     "data": {
      "image/png": "[encoded data removed]",
      "text/plain": [
       "<matplotlib.figure.Figure at 0x2991b4e10b8>"
      ]
     },
     "metadata": {},
     "output_type": "display_data"
    }
   ],
   "source": [
    "#run lenghts are 2,1,3,6,13... y axis\n",
    "#number of runs are 50, 64, 21, 9, 1... take the log of these.. x axis\n",
    "\n",
    "# split run and count into separate lists:\n",
    "run_count_sorted=sorted(d.items(), key=lambda x: x[1])\n",
    "run,count = zip(*run_count_sorted) \n",
    "    \n",
    "print(run, count)\n",
    "\n",
    "fig = plt.figure()\n",
    "axes = fig.add_axes([0.1, 0.1, 0.8, 0.8]) \n",
    "axes.plot(count, run, 'r')\n",
    "\n",
    "axes.set_xlabel('log(number of runs)')\n",
    "axes.set_ylabel('run_lenghts')\n",
    "axes.set_title('log(number of runs) vs. run_lenghts')\n",
    "\n"
   ]
  },
  {
   "cell_type": "markdown",
   "metadata": {
    "collapsed": true
   },
   "source": [
    "5) Use semilogy to put the y-axis in a log scale"
   ]
  },
  {
   "cell_type": "code",
   "execution_count": 101,
   "metadata": {},
   "outputs": [
    {
     "data": {
      "text/plain": [
       "[<matplotlib.lines.Line2D at 0x2991ca2e1d0>]"
      ]
     },
     "execution_count": 101,
     "metadata": {},
     "output_type": "execute_result"
    },
    {
     "data": {
      "image/png": "[encoded data removed]",
      "text/plain": [
       "<matplotlib.figure.Figure at 0x2991c9dcd30>"
      ]
     },
     "metadata": {},
     "output_type": "display_data"
    }
   ],
   "source": [
    "fig = plt.figure()\n",
    "axes = fig.add_axes([0.1, 0.1, 0.8, 0.8]) \n",
    "\n",
    "axes.set_xlabel('log(number of runs)')\n",
    "axes.set_ylabel('run_lenghts')\n",
    "axes.set_title('log(number of runs) vs. log(run)')\n",
    "plt.semilogy(run)\n",
    "plt.semilogx(count)"
   ]
  },
  {
   "cell_type": "code",
   "execution_count": null,
   "metadata": {
    "collapsed": true
   },
   "outputs": [],
   "source": []
  }
 ],
 "metadata": {
  "kernelspec": {
   "display_name": "Python 3",
   "language": "python",
   "name": "python3"
  },
  "language_info": {
   "codemirror_mode": {
    "name": "ipython",
    "version": 3
   },
   "file_extension": ".py",
   "mimetype": "text/x-python",
   "name": "python",
   "nbconvert_exporter": "python",
   "pygments_lexer": "ipython3",
   "version": "3.6.2"
  }
 },
 "nbformat": 4,
 "nbformat_minor": 2
}
