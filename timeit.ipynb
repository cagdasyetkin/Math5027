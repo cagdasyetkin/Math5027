{
 "cells": [
  {
   "cell_type": "markdown",
   "metadata": {},
   "source": [
    "<div class=\"frontmatter text-center\">\n",
    "<h2> MATH5027 Scientific Python, Fall 2017</h2>\n",
    "<h2> Homework 1, Due: Monday September 25th, 3pm </h2>\n",
    "</div>\n",
    "\n",
    "Instructions: complete the selection of exercises from the week's class notebooks. Use markdown cells between code examples to explain."
   ]
  },
  {
   "cell_type": "markdown",
   "metadata": {},
   "source": [
    "## Questions \n",
    "### From notebook 0:\n",
    "\n",
    "1) Which potential uses can you see for these notebooks (not just in a teaching setting)? Illustrate 3 examples and explain\n",
    "\n",
    "2) Why did we put a ! before head or ipython? Can you figure out the trick?\n",
    "\n",
    "3) Explore the function %timeit (online, with help, in the cell, ..) and explain what it does.\n",
    "\n",
    "### From notebook 1:\n",
    "\n",
    "1) Explore the functions floor and ceil, part of the math module. What do they do? What are the differences between them? What about the function round, which is built in to Python.\n",
    "\n",
    "2) Define the following function: max_of_three() that takes three numbers, integer or float, as arguments and returns the largest of them?\n",
    "\n",
    "_Hint 1_: you don't need if statements to solve this problem. Look up the documentation to see how to find the maximum in a list.\n",
    "\n",
    "_Hint 2_: To write a function, write code similar to the following (showed during the previous class):\n",
    "\n",
    "```def product(x,y):\n",
    "\tp=x*y\n",
    "    return p```"
   ]
  },
  {
   "cell_type": "markdown",
   "metadata": {
    "collapsed": true
   },
   "source": [
    "### ANSWERS"
   ]
  },
  {
   "cell_type": "markdown",
   "metadata": {},
   "source": [
    "### From Notebook 0:"
   ]
  },
  {
   "cell_type": "markdown",
   "metadata": {},
   "source": [
    "1 ) 3 use case examples of Jupyter Notebook: \n",
    "\n",
    "    a) I can share code with my colleagues in a reproducable way. Markdown and Latex make it easy to communicate (the narrative) ideas and solutions. Command history can also help a lot.\n",
    "    b) Prototyping and manual testing can be quicker and more convenient. Doing quick fixes and then shift+enter to see the result over and over again. It provides a more user friendly workflow especially if you are not an expert programmer. It can create additional value during workshops and brain storming sessions.\n",
    "    c) After finalizing my analysis I can export it as a .pdf document for the big boss who only knows about ppt and pdf files.\n"
   ]
  },
  {
   "cell_type": "markdown",
   "metadata": {},
   "source": [
    "2) I think this question is referring to the cell where we used \" !jupyter nbconvert --to markdown \". Normally nbcovert converts the notebook to other formats such as HTML. Here when we use '!' it returns a raw Python file just like in the classO notebook example.\n",
    "\n",
    "'!' refers to 'NOT'. Here it might be saying \"please, what I want is NOT nbconvert, so give me the raw python format."
   ]
  },
  {
   "cell_type": "markdown",
   "metadata": {},
   "source": [
    "3) %timeit"
   ]
  },
  {
   "cell_type": "code",
   "execution_count": 2,
   "metadata": {
    "collapsed": false
   },
   "outputs": [
    {
     "name": "stdout",
     "output_type": "stream",
     "text": [
      "The slowest run took 5.38 times longer than the fastest. This could mean that an intermediate result is being cached.\n",
      "1000000 loops, best of 3: 995 ns per loop\n"
     ]
    }
   ],
   "source": [
    "%timeit A = [i for i in range(10)]"
   ]
  },
  {
   "cell_type": "markdown",
   "metadata": {},
   "source": [
    "It is a magic function which will automatically determine the execution time of the single-line Python statement that follows it. For example, we may want to check the performance of a list comprehension like I did above.\n",
    "\n",
    "The benefit of %timeit is that for short commands it will automatically perform multiple runs in order to attain more robust results. I checked it on https://jakevdp.github.io/PythonDataScienceHandbook/ . It is a famous book from O'Reilly."
   ]
  },
  {
   "cell_type": "markdown",
   "metadata": {},
   "source": [
    "### From Notebook 1:"
   ]
  },
  {
   "cell_type": "markdown",
   "metadata": {},
   "source": [
    "Floor reduces a float to lower integer. \n",
    "<p>7.42 to <b>7</b>.</p> \n",
    "5.99 to <b>5</b>.\n",
    "\n",
    "Let's see it in action:"
   ]
  },
  {
   "cell_type": "code",
   "execution_count": 3,
   "metadata": {
    "collapsed": false
   },
   "outputs": [
    {
     "name": "stdout",
     "output_type": "stream",
     "text": [
      "7\n",
      "5\n"
     ]
    }
   ],
   "source": [
    "# first import math module where floor and ceil functions live in\n",
    "import math\n",
    "\n",
    "print(math.floor(7.42))\n",
    "print(math.floor(5.99))"
   ]
  },
  {
   "cell_type": "markdown",
   "metadata": {},
   "source": [
    "Ceil increases a float to higher integer. \n",
    "<p>7.42 to <b>8</b>.</p> \n",
    "5.99 to <b>6</b>.\n",
    "\n",
    "Let's see it in action:"
   ]
  },
  {
   "cell_type": "code",
   "execution_count": 4,
   "metadata": {
    "collapsed": false
   },
   "outputs": [
    {
     "name": "stdout",
     "output_type": "stream",
     "text": [
      "8\n",
      "6\n"
     ]
    }
   ],
   "source": [
    "print(math.ceil(7.42))\n",
    "print(math.ceil(5.99))"
   ]
  },
  {
   "cell_type": "markdown",
   "metadata": {},
   "source": [
    "Round function gives us mathematical (algebraic) rounding result.\n",
    "\n",
    "<p>7.42 to <b>7</b>.</p> \n",
    "5.99 to <b>6</b>.\n",
    "\n",
    "Let's see it in action:"
   ]
  },
  {
   "cell_type": "code",
   "execution_count": 5,
   "metadata": {
    "collapsed": false
   },
   "outputs": [
    {
     "name": "stdout",
     "output_type": "stream",
     "text": [
      "7\n",
      "6\n"
     ]
    }
   ],
   "source": [
    "print(round(7.42))\n",
    "print(round(5.99))"
   ]
  },
  {
   "cell_type": "code",
   "execution_count": 6,
   "metadata": {
    "collapsed": false
   },
   "outputs": [
    {
     "data": {
      "text/plain": [
       "3.142"
      ]
     },
     "execution_count": 6,
     "metadata": {},
     "output_type": "execute_result"
    }
   ],
   "source": [
    "#or...\n",
    "\n",
    "round(math.pi, 3)"
   ]
  },
  {
   "cell_type": "markdown",
   "metadata": {},
   "source": [
    "2) max_of_three function..."
   ]
  },
  {
   "cell_type": "code",
   "execution_count": 7,
   "metadata": {
    "collapsed": true
   },
   "outputs": [],
   "source": [
    "def max_of_three(x, y, z):\n",
    "    return max(x, y, z)"
   ]
  },
  {
   "cell_type": "code",
   "execution_count": 8,
   "metadata": {
    "collapsed": false
   },
   "outputs": [
    {
     "data": {
      "text/plain": [
       "12987823"
      ]
     },
     "execution_count": 8,
     "metadata": {},
     "output_type": "execute_result"
    }
   ],
   "source": [
    "max_of_three(934502, 12987823, 12738213)"
   ]
  },
  {
   "cell_type": "code",
   "execution_count": 9,
   "metadata": {
    "collapsed": false
   },
   "outputs": [
    {
     "data": {
      "text/plain": [
       "9"
      ]
     },
     "execution_count": 9,
     "metadata": {},
     "output_type": "execute_result"
    }
   ],
   "source": [
    "max_of_three(1, 7, 9)"
   ]
  },
  {
   "cell_type": "code",
   "execution_count": null,
   "metadata": {
    "collapsed": true
   },
   "outputs": [],
   "source": []
  }
 ],
 "metadata": {
  "anaconda-cloud": {},
  "kernelspec": {
   "display_name": "Python [default]",
   "language": "python",
   "name": "python3"
  },
  "language_info": {
   "codemirror_mode": {
    "name": "ipython",
    "version": 3
   },
   "file_extension": ".py",
   "mimetype": "text/x-python",
   "name": "python",
   "nbconvert_exporter": "python",
   "pygments_lexer": "ipython3",
   "version": "3.5.2"
  }
 },
 "nbformat": 4,
 "nbformat_minor": 2
}
