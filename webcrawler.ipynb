{
 "cells": [
  {
   "cell_type": "markdown",
   "metadata": {},
   "source": [
    "<div class=\"frontmatter text-center\">\n",
    "<h2> MATH5027 Scientific Python, Fall 2017</h2>"
   ]
  },
  {
   "cell_type": "markdown",
   "metadata": {},
   "source": [
    "## What we will do:\n",
    "\n",
    "1) From the BKK website scraping task, select all the annual and quarterly tickets. How much do you save if you buy four quarterly tickets instead of one annual ticket (use the average price)? Please focus on coding - the point is not to get exactly the 'right' answer, but to show code that downloads the page, parses the html text in a reasonable way, and makes a reasonable inference about the question.\n",
    "\n",
    "2) Use ```%timeit``` (see questions asked during the first class) to check the best time to create ```mylist1``` and ```%%timeit``` for creating ```mylist2```, both defined in the cells below. Which one is faster? Any guess why? \n"
   ]
  },
  {
   "cell_type": "code",
   "execution_count": 1,
   "metadata": {
    "collapsed": true
   },
   "outputs": [],
   "source": [
    "#First let's make a request and convert to string:\n",
    "import urllib.request\n",
    "request = urllib.request.Request('http://www.bkk.hu/en/tickets-and-passes/prices/')\n",
    "result = urllib.request.urlopen(request)\n",
    "text = result.read()\n",
    "text=str(text)"
   ]
  },
  {
   "cell_type": "code",
   "execution_count": 2,
   "metadata": {
    "collapsed": true
   },
   "outputs": [],
   "source": [
    "#split from the '<div><span>' string into chunks\n",
    "splitted=text.split('<div><span>')"
   ]
  },
  {
   "cell_type": "code",
   "execution_count": 3,
   "metadata": {
    "collapsed": true
   },
   "outputs": [],
   "source": [
    "#get my ticket types\n",
    "type_ticket=[]\n",
    "for element in splitted[1::2]:\n",
    "    temp=element.split('</span></div>')[0]\n",
    "    ticket=temp[temp.find('>')+len('>'):temp.rfind('</a')]\n",
    "    type_ticket.append(ticket)"
   ]
  },
  {
   "cell_type": "code",
   "execution_count": 4,
   "metadata": {
    "collapsed": true
   },
   "outputs": [],
   "source": [
    "#and get my prices\n",
    "price=[]\n",
    "for element in splitted[2::2]:\n",
    "    temp=element.split('</span></div>')[0]\n",
    "    price.append(temp)"
   ]
  },
  {
   "cell_type": "code",
   "execution_count": 5,
   "metadata": {},
   "outputs": [
    {
     "data": {
      "text/plain": [
       "[('Single ticket', 'HUF 350'),\n",
       " ('Single ticket bought on the spot', 'HUF 450'),\n",
       " ('Block of 10 tickets', 'HUF 3 000'),\n",
       " ('Airport shuttle bus single ticket ', 'HUF 900'),\n",
       " ('Transfer ticket', 'HUF 530'),\n",
       " ('Short section metro ticket for up to 3 stops', 'HUF 300'),\n",
       " ('Single ticket for public transport boat', 'HUF 750'),\n",
       " ('Single ticket for public transport boat Children (under 15)', 'HUF 550'),\n",
       " ('Metropolitan area ticket', 'HUF 250'),\n",
       " ('Metropolitan area single ticket (50 % price discount)', 'HUF 125'),\n",
       " ('Metropolitan area single ticket (90 % price discount)', 'HUF 25'),\n",
       " ('Airport bus extension ticket', 'HUF 300'),\n",
       " ('Pupil group travelcard', 'HUF 650/person'),\n",
       " ('Budapest 24-hour travelcard', 'HUF 1 650'),\n",
       " ('Budapest 24-hour group travelcard (for 1-5 passengers traveling together)',\n",
       "  'HUF 3 300'),\n",
       " ('5/30 BKK 24-hour travelcard', 'HUF 4 550'),\n",
       " ('Budapest 72-hour travelcard', 'HUF 4,150'),\n",
       " ('Budapest 7-day travelcard', 'HUF 4 950'),\n",
       " ('Budapest Card for 24 hours', 'HUF 5,500'),\n",
       " ('Budapest Card for 48 hours', 'HUF 8,500'),\n",
       " ('Budapest Card for 72 hours', 'HUF 10,900'),\n",
       " ('Budapest Card for 96 hours', 'HUF 14,500'),\n",
       " ('Budapest Card for 120 hours', 'HUF 17,500'),\n",
       " ('Domestic Budapest Card for 48 hours', 'HUF 5,900'),\n",
       " ('Budapest Card for Juniors for 72 hours', 'HUF 8,900'),\n",
       " ('Budapest-pass 1-week supplement', 'HUF 2 450'),\n",
       " ('Budapest-pass 1-week supplement (business)', 'HUF 2 700'),\n",
       " ('15-day Budapest-pass', 'HUF 6 300'),\n",
       " ('15-day Budapest-pass (business)', 'HUF 7 000'),\n",
       " ('15-day Budapest-pass for pupils', 'HUF 2 300'),\n",
       " ('Monthly Budapest-pass', 'HUF 9 500'),\n",
       " ('Monthly Budapest-pass (business)', 'HUF 10 500'),\n",
       " ('Monthly Budapest-pass for pupils', 'HUF 3 450'),\n",
       " ('Monthly Budapest-pass for students', 'HUF 3 450'),\n",
       " ('Monthly Budapest-pass for pensioners', 'HUF 3 330'),\n",
       " ('Monthly Budapest-pass for parents with small children', 'HUF 3 450'),\n",
       " ('Transferable monthly Budapest-pass', 'HUF 4 125'),\n",
       " ('Monthly dog pass', 'HUF 5 250'),\n",
       " ('Metropolitan area pass (5 km)', 'HUF 5 940'),\n",
       " ('Metropolitan area pass (10 km)', 'HUF 9 580'),\n",
       " ('Metropolitan area pass (5 km) with 90% price reduction', 'HUF 595'),\n",
       " ('Metropolitan area pass (10km) with 90% price reduction', 'HUF 960'),\n",
       " ('Metropolitan area local pass', 'HUF 5 200'),\n",
       " ('Metropolitan area local pass for students', 'HUF 2 600'),\n",
       " ('Metropolitan area local pass for pensioners', 'HUF 2 600'),\n",
       " ('Bicycle pass', 'HUF 540'),\n",
       " ('Quarterly Budapest-pass', 'HUF 28 500'),\n",
       " ('Quarterly Budapest-pass (business)', 'HUF 31 500'),\n",
       " ('Quarterly Budapest-pass for pupils', 'HUF 10 350'),\n",
       " ('Quarterly Budapest-pass for students', 'HUF 10 350'),\n",
       " ('Quarterly Budapest-pass for pensioners', 'HUF 9 990'),\n",
       " ('Semester pass for pupils', 'HUF 16 200'),\n",
       " ('Semester pass for students', 'HUF 16 200'),\n",
       " ('Annual all-line Budapest-pass', 'HUF 217 960'),\n",
       " ('Annual all-line Budapest-pass (business)', 'HUF 219 860'),\n",
       " ('Transferable annual Budapest-pass', 'HUF 189 000'),\n",
       " ('Annual Budapest-pass', 'HUF 9 500/month'),\n",
       " ('Annual Budapest-pass (business)', 'HUF 10 500/month'),\n",
       " ('Discounted annual BP-pass', 'HUF 103 000'),\n",
       " ('Discounted annual BP-pass (business)', 'HUF 114 600'),\n",
       " ('Discounted annual BP-pass for pupils', 'HUF 37 800'),\n",
       " ('Discounted annual BP-pass for students', 'HUF 37 800'),\n",
       " ('Discounted annual BP-pass for pensioners', 'HUF 36 600'),\n",
       " ('Discounted annual Budapest- and MOL Bubi pass (business)', 'HUF 120 600'),\n",
       " ('Full-fare ferry ticket', 'HUF 170'),\n",
       " ('Pupil ferry ticket (under 15)', 'HUF 110'),\n",
       " ('Pensioner ferry ticket', 'HUF 110'),\n",
       " ('Ferry ticket for standard vehicle (vehicle only)', 'HUF 420'),\n",
       " ('Ferry ticket for lorries (up to 3.5 tons)', 'HUF 1 050'),\n",
       " ('Ferry ticket for lorries (above 3.5 tons)', 'HUF 1 750'),\n",
       " ('Ferry ticket for bicycle (vehicle only)', 'HUF 170'),\n",
       " ('Ferry ticket for motorcycle (vehicle only)', 'HUF 290'),\n",
       " ('', ''),\n",
       " ('Amount of penalty far', 'HUF 16 000'),\n",
       " ('Penalty fare paid on the spo', 'HUF 8 000'),\n",
       " ('Late payment fe', 'HUF 16 000'),\n",
       " ('Administration fee for payment over 30 day', 'HUF 500'),\n",
       " ('Administration fee for later presentation of annual, semester and quarterly passes',\n",
       "  'HUF 1 000'),\n",
       " ('Administration fee for later presentation of all other types of passe',\n",
       "  'HUF 2 000'),\n",
       " ('Handling fe', 'HUF 250'),\n",
       " ('Handling fee for discounted annual passe', 'HUF 500'),\n",
       " ('General pass ID', 'HUF 250'),\n",
       " ('Pass ID for pensioners', 'HUF 250'),\n",
       " ('Pass ID for parents with small children', 'HUF 250'),\n",
       " ('Old pass holder \\\\xe2\\\\x80\\\\x93 transparent plastic', 'HUF 35'),\n",
       " ('Pass holde', 'HUF 55')]"
      ]
     },
     "execution_count": 5,
     "metadata": {},
     "output_type": "execute_result"
    }
   ],
   "source": [
    "#form a pricelist using the lists created above ticket type and price\n",
    "pricelist = []\n",
    "for pair in zip(type_ticket,price):\n",
    "    pricelist.append(pair)\n",
    "pricelist\n"
   ]
  },
  {
   "cell_type": "markdown",
   "metadata": {},
   "source": [
    "Here the tricky part is that prices are actually strings. This will require some munging...\n",
    "I will use a regular expressions package"
   ]
  },
  {
   "cell_type": "code",
   "execution_count": 6,
   "metadata": {},
   "outputs": [
    {
     "data": {
      "text/plain": [
       "(['217960',\n",
       "  '219860',\n",
       "  '189000',\n",
       "  '9500',\n",
       "  '10500',\n",
       "  '103000',\n",
       "  '114600',\n",
       "  '37800',\n",
       "  '37800',\n",
       "  '36600',\n",
       "  '120600',\n",
       "  '1000'],\n",
       " ['28500', '31500', '10350', '10350', '9990'])"
      ]
     },
     "execution_count": 6,
     "metadata": {},
     "output_type": "execute_result"
    }
   ],
   "source": [
    "import re #I found this 're' package during my research on stackoverflow\n",
    "\n",
    "annuals =  []\n",
    "quarters = []\n",
    "for i in range(len(pricelist)):\n",
    "    try:\n",
    "        \n",
    "        if 'Annual' in pricelist[i][0]:\n",
    "            strng = pricelist[i][1]\n",
    "            annuals.append(re.findall('\\d+', strng )[0] + re.findall('\\d+', strng )[1])\n",
    "    \n",
    "        elif 'annual' in pricelist[i][0]:\n",
    "            strng = pricelist[i][1]\n",
    "            annuals.append(re.findall('\\d+', strng )[0] + re.findall('\\d+', strng )[1])\n",
    "    \n",
    "        elif 'Quarter' in pricelist[i][0]:\n",
    "            strng = pricelist[i][1]\n",
    "            quarters.append(re.findall('\\d+', strng )[0] + re.findall('\\d+', strng )[1])\n",
    "        \n",
    "    except:\n",
    "        pass\n",
    "    \n",
    "annuals, quarters"
   ]
  },
  {
   "cell_type": "code",
   "execution_count": 7,
   "metadata": {
    "collapsed": true
   },
   "outputs": [],
   "source": [
    "#now we need to convert them into integers\n",
    "annuals = map(int, annuals)\n",
    "quarters = map(int, quarters)"
   ]
  },
  {
   "cell_type": "markdown",
   "metadata": {},
   "source": [
    "my prices are a bit skewed, so I would like to use <b>median</b> instead of the <b>average</b>."
   ]
  },
  {
   "cell_type": "markdown",
   "metadata": {},
   "source": [
    "<p>\n",
    "\n",
    "</p>\n",
    "\n",
    "$$saving = [4 * median(Quarterly Price)] - [median(Annual Price)]$$\n",
    "\n",
    "<p>\n",
    "\n",
    "</p>"
   ]
  },
  {
   "cell_type": "code",
   "execution_count": 8,
   "metadata": {
    "collapsed": true
   },
   "outputs": [],
   "source": [
    "import statistics\n",
    "\n",
    "Annual_Ticket_Cost = statistics.median(annuals)  #my yearly cost\n",
    "Quart_Ticket_Cost = statistics.median(quarters) * 4 #my yieldearly cost"
   ]
  },
  {
   "cell_type": "code",
   "execution_count": 11,
   "metadata": {},
   "outputs": [
    {
     "data": {
      "text/plain": [
       "70400.0"
      ]
     },
     "execution_count": 11,
     "metadata": {},
     "output_type": "execute_result"
    }
   ],
   "source": [
    "Annual_Ticket_Cost"
   ]
  },
  {
   "cell_type": "code",
   "execution_count": 12,
   "metadata": {},
   "outputs": [
    {
     "data": {
      "text/plain": [
       "41400"
      ]
     },
     "execution_count": 12,
     "metadata": {},
     "output_type": "execute_result"
    }
   ],
   "source": [
    "Quart_Ticket_Cost"
   ]
  },
  {
   "cell_type": "code",
   "execution_count": 10,
   "metadata": {},
   "outputs": [
    {
     "name": "stdout",
     "output_type": "stream",
     "text": [
      "29000.0\n"
     ]
    }
   ],
   "source": [
    "#This is how much we save in HUF per year!\n",
    "print(Annual_Ticket_Cost - Quart_Ticket_Cost)"
   ]
  },
  {
   "cell_type": "markdown",
   "metadata": {},
   "source": [
    "about timeit:"
   ]
  },
  {
   "cell_type": "code",
   "execution_count": 1,
   "metadata": {},
   "outputs": [
    {
     "name": "stdout",
     "output_type": "stream",
     "text": [
      "0.00010397028145603016\n"
     ]
    }
   ],
   "source": [
    "#mylist1 definition for Class2/Question2\n",
    "import timeit\n",
    "\n",
    "startingTime = timeit.default_timer()\n",
    "\n",
    "mylist1=[(x, y) for x in [1,2,3] for y in [3,1,4] if x != y]\n",
    "\n",
    "print(timeit.default_timer() - startingTime)"
   ]
  },
  {
   "cell_type": "code",
   "execution_count": 2,
   "metadata": {},
   "outputs": [
    {
     "name": "stdout",
     "output_type": "stream",
     "text": [
      "0.00038196807264512245\n"
     ]
    }
   ],
   "source": [
    "#mylist2 definition for Class2/Question2\n",
    "\n",
    "startingTime = timeit.default_timer()\n",
    "\n",
    "mylist2=[]\n",
    "for x in [1,2,3]:\n",
    "    for y in [3,1,4]:\n",
    "        if x!=y:\n",
    "            mylist2.append((x,y))\n",
    "            \n",
    "print(timeit.default_timer() - startingTime)"
   ]
  },
  {
   "cell_type": "markdown",
   "metadata": {},
   "source": [
    "As we can see from the result, list comprehension is a lot faster than an ordinary for-loop. Its because at the low computer language level list comprehensions are more optimized for efficiency. For example; when we write a for loop we are calling the append() method over and over again. I took this example from Stackoverflow website."
   ]
  },
  {
   "cell_type": "markdown",
   "metadata": {},
   "source": [
    "\n",
    "### What we will do:\n",
    "\n",
    "1) Create a different sorting function - invent one - that works with strings.\n",
    "\n",
    "2) Define a function called both_ends: Given a string s, return a string made of the first 2 and the last 2 chars of the original string, so 'spring' yields 'spng'. However, if the string length  is less than 2, return instead the empty string.\n",
    "\n",
    "2) I have hidden strings containing the family names (no accents or special characters):\n",
    "`Ang`, `Baida`, `Baroma`, `Boza`, `Chen`, `Craciun`, `Czobor`, `Dezsenyi`, `Drucker`, `Duronelly`, `Fleck`, `Gabriel`, `Juhasz`, `Karimli`, `Kattika`, `Kazmina`, `Kripalani`, `Lukacs`, `Mattos`, `Mekhrishvili`, `Menyhert`, `Molnar`, `Mark`, `Natera`, `Neri`, `Oleksandrenko`, `Strabel`, `Szabo`, `Yetkin`, `Zhu`, \n",
    "as well as the string `Sinatra.Roberta` in the html code of one the pages of my website http://www.robertasinatra.com. \n",
    "\n",
    "Write a program that:\n",
    "* crawls the html code of the homepage `http://www.robertasinatra.com/index.html`;\n",
    "* finds all other html pages that are contained in index.html and that refer to the main domain www.robertasinatra.com (e.g. `research.html`) - this step should be done automatically, you cannot list the html pages manually.\n",
    "* searches your family name, as listed above (no accents and special characters), in the html code of these pages. Should your family name not being included in the list above, search for `Sinatra.Roberta`. Note that different names are in different pages and that the name might appear in the pages in lower case, upper case or a combination of the two;\n",
    "* prints on screen ‘My family name is hidden in ...’ , where ... is substituted with the address of the html page containing your family name.\n",
    "Note: I have not hidden the name in html pages that are not linked in `index.html`, like `www.robertasinatra.com/teaching/math5027.html`.\n",
    "\n"
   ]
  },
  {
   "cell_type": "markdown",
   "metadata": {},
   "source": [
    "#<b> 1:</b>\n",
    "\n",
    "My function is called RCA which is standing for Root Cause Analysis. It is a gadget developped to address a critical issue in our system.\n",
    "\n",
    "It takes the elements coming from our database, checks if their lenghts are smaller than 4. If yes, it sorts the items of those elements according to their lenghts (descending lenght order)"
   ]
  },
  {
   "cell_type": "code",
   "execution_count": 7,
   "metadata": {},
   "outputs": [
    {
     "data": {
      "text/plain": [
       "[['a', 'b', 'a'],\n",
       " ['z'],\n",
       " ['C'],\n",
       " ['beaming_steam_vapor', 'DeD', 'e'],\n",
       " ['gravity_engine', 'gG']]"
      ]
     },
     "execution_count": 7,
     "metadata": {},
     "output_type": "execute_result"
    }
   ],
   "source": [
    "elements = ['aba', 'BccB', 'z', 'C', ['DeD', 'e', 'beaming_steam_vapor'], \n",
    "          'FFFffFF', ['gG', 'gravity_engine'], 'apocalype_monkey_device', 'anti_matter_gun']\n",
    "\n",
    "def RCA(elements):\n",
    "    return [sorted(i , key=len, reverse=1) for i in elements if len(i) < 4]\n",
    "\n",
    "#Let's do a root cause analysis for our space ship:\n",
    "\n",
    "RCA(elements)\n"
   ]
  },
  {
   "cell_type": "markdown",
   "metadata": {},
   "source": [
    "The result is as we expected thanks to our new <i>super advanced</i> algorithm!"
   ]
  },
  {
   "cell_type": "markdown",
   "metadata": {},
   "source": [
    "#<b>2 :</b>"
   ]
  },
  {
   "cell_type": "code",
   "execution_count": 8,
   "metadata": {},
   "outputs": [
    {
     "name": "stdout",
     "output_type": "stream",
     "text": [
      "spng\n",
      "\n",
      "azaz\n"
     ]
    }
   ],
   "source": [
    "#My test cases:\n",
    "test_string1 = 'spring'\n",
    "test_string2 = 'a'\n",
    "test_string3 = 'az'\n",
    "\n",
    "def both_ends(s):\n",
    "    \n",
    "    if len(s) >= 2:\n",
    "        return s[:2] + s[-2:]\n",
    "    \n",
    "    else:\n",
    "        return ''\n",
    "\n",
    "#print the test cases\n",
    "print(both_ends(test_string1))\n",
    "print(both_ends(test_string2))\n",
    "print(both_ends(test_string3))\n",
    "\n",
    "#looks like working"
   ]
  },
  {
   "cell_type": "markdown",
   "metadata": {},
   "source": [
    "#<b> crawling robertasinatra.com:</b>"
   ]
  },
  {
   "cell_type": "code",
   "execution_count": 9,
   "metadata": {},
   "outputs": [
    {
     "data": {
      "text/plain": [
       "b'<!DOCTYPE html PUBLIC \"-//W3C//DTD XHTML 1.0 Strict//EN\"\\r\\n  \"http://www.w3.org/TR/xhtml1/DTD/xhtml1-strict.dtd\"> \\r\\n<html xmlns=\"http://www.w3.org/1999/xhtml\" xml:lang=\"en\" > \\r\\n<head> \\r\\n    <meta http-equiv=\"content-type\" content=\"text/html; charset=iso-8859-1\" /> \\r\\n    <meta name=\"author\" content=\"Roberta Sinatra\" /> \\r\\n    <meta name=\"keywords\" content=\"Roberta Sinatra\" /> \\r\\n    <meta name=\"description\" content=\"Roberta Sinatra\" /> \\r\\n    <meta name=\"robots\" content=\"all\" /> \\r\\n    <title>Roberta Sinatra</title> \\r\\n \\r\\n    <style type=\"text/css\" media=\"all\"> \\r\\n        @import \"stylesheet.css\";\\r\\n    </style> \\r\\n \\r\\n<!-- Begin Google analytics code --> \\r\\n<script type=\"text/javascript\"> \\r\\n \\r\\n  var _gaq = _gaq || [];\\r\\n  _gaq.push([\\'_setAccount\\', \\'UA-18180011-2\\']);\\r\\n  _gaq.push([\\'_trackPageview\\']);\\r\\n \\r\\n  (function() {\\r\\n    var ga = document.createElement(\\'script\\'); ga.type = \\'text/javascript\\'; ga.async = true;\\r\\n    ga.src = (\\'https:\\' == document.location.protocol ? \\'https://ssl\\' : \\'http://www\\') + \\'.google-analytics.com/ga.js\\';\\r\\n    var s = document.getElementsByTagName(\\'script\\')[0]; s.parentNode.insertBefore(ga, s);\\r\\n  })();\\r\\n \\r\\n</script> \\r\\n<!-- end Google analytics code --> \\r\\n \\r\\n</head> \\r\\n \\r\\n \\r\\n \\r\\n<body> \\r\\n \\r\\n<div id=\"container\"> \\r\\n    <div id=\"pageHeader\"> \\r\\n        <div id=\"nav\"> \\r\\n            <a class=\"nav_active\" href=\"index.html\">Home</a> \\r\\n            <a class=\"nav_inactive\" href=\"bio.html\">Bio</a> \\r\\n            <a class=\"nav_inactive\" href=\"research.html\">Research</a> \\r\\n            <a class=\"nav_inactive\" href=\"publications.html\">Publications</a> \\r\\n        </div> \\r\\n    </div> \\r\\n        \\r\\n    <div id=\"contactInfo\"> \\r\\n        <p><img src=\"images/roberta.jpg\" width=\"150\" height=\"200\" alt=\"Roberta Sinatra\"><br /> \\r\\n            <script type=\"text/javascript\">\\r\\n            //<![CDATA[\\r\\n            <!--\\r\\n            var x=\"function f(x){var i,o=\\\\\"\\\\\",l=x.length;for(i=0;i<l;i+=2) {if(i+1<l)o+=\" +\\r\\n            \"x.charAt(i+1);try{o+=x.charAt(i);}catch(e){}}return o;}f(\\\\\"ufcnitnof x({)av\" +\\r\\n            \" r,i=o\\\\\\\\\\\\\"\\\\\\\\\\\\\"o,=l.xelgnhtl,o=;lhwli(e.xhcraoCedtAl(1/)3=!15{)rt{y+xx=l;=+;\" +\\r\\n            \"lc}tahce({)}}of(r=i-l;1>i0=i;--{)+ox=c.ahAr(t)i};erutnro s.buts(r,0lo;)f}\\\\\\\\\" +\\r\\n            \"\\\\\"(3)\\\\\\\\\\\\\\\\,d\\\\\\\\\\\\\"fnyu8dkw1#}14\\'7301\\\\\\\\\\\\\\\\\\\\\\\\\\\\\\\\,<?>\\'+4!gx30\\\\\\\\\\\\\\\\0a\\\\\\\\\\\\\\\\36\\\\\\\\\\\\\\\\0|\\\\\\\\\\\\\\\\\" +\\r\\n            \"S%TJ3H03\\\\\\\\\\\\\\\\\\\\\\\\\\\\\\\\30\\\\\\\\\\\\\\\\0e\\\\\\\\\\\\\\\\SM3S03\\\\\\\\\\\\\\\\\\\\\\\\\\\\\\\\VAqQNB\\\\\\\\\\\\\\\\\\\\\\\\\\\\\\\\\\\\\\\\\\\\\\\\\\\\\\\\\\\\\\\\MYCE2Z02\\\\\\\\\\\\\\\\\"+\\r\\n            \"\\\\\\\\\\\\\\\\RHMIOB03\\\\\\\\\\\\\\\\0|\\\\\\\\\\\\\\\\\\\\\\\\\\\\\"\\\\\\\\\\\\\\\\\\\\\\\\\\\\\\\\\\\\\\\\\\\\\\\\xxsnx:5${>vxxfxby nb|gkf\\\\\\\\\\\\\\\\g(\\\\\\\\\\\\\"}fo\" +\\r\\n            \";n uret}r);+)y+^(i)t(eAodrCha.c(xdeCoarChomfrg.intr=So+7;12%=;y=iy+3)==(iif\" +\\r\\n            \"){++;i<l;i=0(ior;fthnglex.l=\\\\\\\\\\\\\\\\,\\\\\\\\\\\\\\\\\\\\\\\\\\\\\"=\\\\\\\\\\\\\",o iar{vy)x,f(n ioctun\\\\\\\\\\\\\"f)\\\\\"\"+\\r\\n            \")\"                                                                           ;\\r\\n            while(x=eval(x));\\r\\n            //-->\\r\\n            //]]>\\r\\n            </script>\\r\\n\\r\\n\\t\\t<br /> \\r\\n \\t\\tAssistant Professor <br />\\r\\n        Center for Network Science and Math Department<br /> \\r\\n        Central European University<br />\\r\\n        Budapest (Hungary)<br />\\r\\n\\r\\n        </p> \\r\\n    </div> \\r\\n        \\r\\n    <div id=\"mainText\"> \\r\\n        <h1>Welcome to my homepage!</h1> \\r\\n \\r\\n        <h2>News</h2>\\r\\n         <h3><!-- <img src=\\'images/new.gif\\' width=\\'22\\' height=\\'20\\' alt=\\'New\\' style=\\'vertical-align: bottom;\\' />--> 2017-02-02: New Perspective piece in <a href=\\'http://science.sciencemag.org/content/355/6324/477\\' target=\\'_blank\\'>Science</a>! </h3> \\r\\n        <div class=\\'floatleft\\'><a href=\\'http://science.sciencemag.org/content/355/6324/477\\' target=\\'_blank\\' style=\\'border-bottom: 0px;\\'><img src=\\'images/prediction_science.png\\' width=\\'150\\' height=\\'191\\' alt=\\'Issue on Prediction\\' style=\\'border: 0px;\\' /></a></div><p>\\r\\n            <b>Can we predict discoveries? Together with <a href=\\'http://tuvalu.santafe.edu/~aaronc/\\'>Aaron Clauset</a> and <a href=\\'http://danlarremore.com/\\'>Dan Larremore</a>, we published a perspective on data-driven prediction in Science. Check it out <a href=\\'pdf/SciencePrediction2017_ClausetLarremoreSinatra.pdf\\' target=\\'_blank\\'>here</a>!\\r\\n            </p><br />\\r\\n        <br />\\r\\n        <br />\\r\\n        <br />\\r\\n\\r\\n\\r\\n        <br />\\r\\n        <br />\\r\\n        <br />\\r\\n\\r\\n        <h3>\\r\\n 2016-11-03: <i>Nature</i> story</h3>\\r\\n Our new work on \"Quantifying the evolution of individual scientific impact\" is out! Watch the <i>Nature</i> story:\\r\\n <br /> <br />\\r\\n <iframe width=\"350\" height=\"215\" src=\"https://www.youtube.com/embed/qlnxM-ld4BU\" frameborder=\"0\" allowfullscreen></iframe>\\r\\n<br />\\r\\nRead also the <a href=\"http://www.nytimes.com/2016/11/04/science/stem-careers-success-achievement.html?_r=0\" target=\\'_blank\\'>New York Times</a> coverage! <br /> <br /><br />\\r\\n\\r\\n        <h3><!-- <img src=\\'images/new.gif\\' width=\\'22\\' height=\\'20\\' alt=\\'New\\' style=\\'vertical-align: bottom;\\' />--> 2016-11-03: New paper in <a href=\\'http://science.sciencemag.org/content/354/6312/aaf5239\\' target=\\'_blank\\'>Science</a>!</h3> <br>\\r\\n        <div class=\\'floatleft\\'><a href=\\'http://www.barabasilab.com/scienceofsuccess/\\' target=\\'_blank\\' style=\\'border-bottom: 0px;\\'><img src=\\'images/Career-Lines-Linear-Perspective-Dark-Kim-Albrecht.png\\' width=\\'170\\' height=\\'200\\' alt=\\'Career Paths\\' style=\\'border: 0px;\\' /></a></div><p>\\r\\n            <b>Our new paper <a href=\"http://science.sciencemag.org/content/354/6312/aaf5239\" target=\\'_blank\\'>Quantifying the evolution of individual scientific impact</a> is published in <a href=\\'http://science.sciencemag.org/content/354/6312/aaf5239\\' target=\\'_blank\\'>Science</a>!\\r\\n            Explore the results on the <a href=\"http://www.barabasilab.com/scienceofsuccess/\" target=\\'_blank\\'>Interactive Visualization Website</a>. <br>\\r\\n            Watch the Story <a href=\"https://www.youtube.com/watch?v=qlnxM-ld4BU&feature=youtu.be\" target=\\'_blank\\'>on the Nature Youtube channel</a> and read it on <a href=\"http://www.nature.com/news/scientists-can-publish-their-best-work-at-any-age-1.20926\" target=\\'_blank\\'>Nature News</a>. <br /> <br />\\r\\n            Also featured in: <a href=\"http://www.sciencemag.org/news/2016/11/hey-scientists-how-much-your-publication-success-due-dumb-luck\" target=\\'_blank\\'>Science News</a>,  \\r\\n        <a href=\"http://www.nytimes.com/2016/11/04/science/stem-careers-success-achievement.html?_r=0\" target=\\'_blank\\'>New York Times</a>, <a href=\"https://www.wired.com/2016/11/see-scientists-influential-work-comes-waves/\" target=\\'_blank\\'>Wired</a>,  \\r\\n        <a href=\"https://blogs.scientificamerican.com/sa-visual/the-science-of-success-in-science/\" target=\\'_blank\\'>Scientific American</a>, \\r\\n        <a href=\"http://www.the-scientist.com/?articles.view/articleNo/47423/title/Predicting-Scientific-Success/\" target=\\'_blank\\'>The Scientist</a>, <a href=\"http://www.chronicle.com/article/Older-Scientists-Are-Touted-as/238307\\r\\n\" target=\\'_blank\\'>The Chronicle of Higher Education</a>, \\r\\n         <a href=\"http://www.forbes.com/sites/nextavenue/2016/11/04/study-shows-youth-isnt-the-key-to-making-a-mark/#780fd32d19c4\" target=\\'_blank\\'>Forbes</a>, \\r\\n <a href=\"http://www.huffingtonpost.com/entry/science-success-age_us_5824a19ee4b07751c390d9b2\" target=\\'_blank\\'>Huffington Post</a>,  <a href=\"http://bigthink.com/laurie-vazquez/scientists-can-succeed-at-any-age-and-so-can-you-heres-how\" target=\\'_blank\\'>Big Think</a>,  <a href=\"https://www.insidehighered.com/news/2016/11/04/paper-creativity-doesnt-have-decrease-age-scientists-have-unique-kind-iq-predicts\" target=\\'_blank\\'>Inside High Red</a>, <a href=\"http://flowingdata.com/2016/11/09/randomness-of-scientific-impact/\" target=\\'_blank\\'>Flowing Data</a>,  <a href=\"http://www.theaustralian.com.au/higher-education/breakthroughs-more-about-q-than-youth-say-researchers/news-story/c881a7758265f8c0446f2a47b19a0d51\" target=\\'_blank\\'>The Australian</a>, <a href=\"http://nymag.com/scienceofus/2016/11/can-you-be-too-old-for-success.html\" target=\\'_blank\\'>NY magazine</a>, <a href=\"http://phys.org/news/2016-11-success-age.html\" target=\\'_blank\\'>PhysOrg</a>,  <a href=\"http://cen.acs.org/articles/94/i44/Early-career-scientists-dont-necessarily.html?\" target=\\'_blank\\'>ACS</a>,  <a href=\"https://www.chemistryworld.com/news/research-uncovers-formula-for-success-in-science/1017641.article\" target=\\'_blank\\'>Chemistry World</a>, <a href=\"http://www.northeastern.edu/news/2016/11/new-study-success-can-come-at-any-age/\" target=\\'_blank\\'>Northeastern News</a>, <a href=\"https://www.ceu.edu/article/2016-11-04/ceu-network-science-research-published-science-shows-how-predict-academic-career\" target=\\'_blank\\'>CEU News</a>, <a href=\"http://insight.kellogg.northwestern.edu/article/why-a-scientists-big-break-may-be-just-around-the-corner\" target=\\'_blank\\'>Kellog Insight</a>, <a href=\"http://www.sciencealert.com/in-science-age-is-no-barrier-to-success\" target=\\'_blank\\'>Science Alert</a>, <a href=\"http://www.sciencemag.org/news/2016/11/top-stories-thinking-soil-dumb-luck-science-publishing-and-science-reporter-fumbles-his?utm_campaign=news_weekly_2016-11-04&et_rid=35094694&et_cid=963336\" target=\\'_blank\\'>Science Top Stories</a>, <a href=\"https://www.fastcodesign.com/3065365/infographic-of-the-day/scientific-proof-that-its-never-too-late-to-make-it-big\" target=\\'_blank\\'>FastCoDesign</a>, <a href=\"https://scholarlykitchen.sspnet.org/2016/11/09/is-publication-success-a-matter-of-dumb-luck/?utm_source=feedburner&utm_medium=feed&utm_campaign=Feed%3A+ScholarlyKitchen+%28The+Scholarly+Kitchen%29\" target=\\'_blank\\'>Scholarly Kitchen</a>, <a href=\"http://www.universityworldnews.com/article.php?story=20161104203714984\" target=\\'_blank\\'>University World News</a>, <a href=\"hhttp://sports.yahoo.com/news/either-trump-clinton-winner-defies-age-bias-213041043--politics.html\" target=\\'_blank\\'>Yahoo News</a>, <a href=\"http://www.heraldtribune.com/news/20161115/health-shorts-achievement-early-babies-red-light-cameras\" target=\\'_blank\\'>Herald Tribune</a>, <a href=\"http://www.universityherald.com/articles/49183/20161115/stem-researchers-discovered-when-the-eureka-moment-happens.html\" target=\\'_blank\\'>University Herald</a>,  <a href=\"http://science.orf.at/stories/2806977/\" target=\\'_blank\\'>ORF Science</a>,   <a href=\"http://www.spiegel.de/wissenschaft/mensch/wissenschaft-die-maer-von-der-genialen-jugend-a-1119383.html\" target=\\'_blank\\'>Spiegel Online</a>, <a href=\"http://www.corriere.it/cronache/16_novembre_04/lampi-genio-giovani-sessantenni-3d81798e-a20e-11e6-9c60-ebb37c98c030.shtml\" target=\\'_blank\\'>Il Corriere della Sera</a>, <a href=\"http://www.ilfattoquotidiano.it/2016/11/04/talento-produttivita-e-fortuna-la-formula-con-il-fattore-qp-per-calcolare-quando-lo-scienziato-avra-il-colpo-di-genio/3167819/\" target=\\'_blank\\'>Il Fatto Quotidiano</a>, <a href=\"http://www.internazionale.it/opinione/annamaria-testa/2016/11/07/scienza-idee-nuove-eta\" target=\\'_blank\\'>Internazionale</a>, <a href=\"http://www.panorama.it/scienza/salute/ricerca-studi-scientifici-di-successo-possibili-anche-in-eta-avanzata/\" target=\\'_blank\\'>Panorama</a>, <a href=\"http://www.adnkronos.com/salute/2016/11/04/studi-scientifici-successo-possibili-anche-eta-avanzata_aejbrOapqcNbj3JkFGWuhL.html\" target=\\'_blank\\'>Adnkronos</a>, <a href=\"http://www.padovanews.it/2016/11/04/ricerca-studi-scientifici-di-successo-possibili-anche-in-eta-avanzata/\" target=\\'_blank\\'>Padova News</a>, <a href=\"https://scienceblog.com/489343/new-study-success-can-come-age/\" target=\\'_blank\\'>Science Blog</a>, <a href=\"http://interestingengineering.com/youre-not-smart-youre-just-lucky-new-study-discovers-role-luck-plays-success/\" target=\\'_blank\\'>Interesting Engineering</a>, <a href=\"http://www.lavanguardia.com/ciencia/cuerpo-humano/20161104/411563354798/cientificos-mayores-tan-creativos-como-jovenes.html\" target=\\'_blank\\'>La Vanguardia</a>, <a href=\" http://www.abc.es/sociedad/abci-golpe-genio-puede-llegar-cualquier-edad-201611100206_noticia.html\" target=\\'_blank\\'>ABC.es</a>, <a href=\"http://www.semana.com/vida-moderna/articulo/para-tener-exito-productividad-y-determinacion-son-mas-importantes-que-juventud/505277\" target=\\'_blank\\'>Semana</a>, <a href=\"https://www.scientias.nl/eureka-moment-zich-op-leeftijd-aandienen/\" target=\\'_blank\\'>Sciencia.nl</a>, <a href=\"https://www.eldigitaldeasturias.com/noticias/la-edad-y-la-ciencia-no-van-de-la-mano/\" target=\\'_blank\\'>El Digital de Asturias</a>, <a href=\"http://www.agenciasinc.es/Noticias/Cualquier-edad-es-buena-para-hacer-grandes-descubrimientos-en-ciencia\" target=\\'_blank\\'>AgenciaSinc</a>, <a href=\"http://www.improbable.com/2016/11/04/a-randomness-to-which-of-a-scientists-publications-will-have-the-most-oomph/\" target=\\'_blank\\'>Improbable</a>, <a href=\"http://www.3quarksdaily.com/3quarksdaily/2016/11/when-it-comes-to-success-age-really-is-just-a-number.html\" target=\\'_blank\\'>3 Quarks Daily</a>, <a href=\"http://librarius.hu/2016/11/06/meg-tudjak-josolni-ki-mennyire-lesz-sikeres-a-jovoben/\" target=\\'_blank\\'>Librarius</a>, <a href=\"http://museum.breuerpress.com/2016/11/06/meg-tudjak-josolni-ki-mennyire-lesz-sikeres-a-jovoben-1478437870/\" target=\\'_blank\\'>Museum</a>.\\r\\n            </p><br />\\r\\n\\r\\n\\r\\n        <h3><!-- <img src=\\'images/new.gif\\' width=\\'22\\' height=\\'20\\' alt=\\'New\\' style=\\'vertical-align: bottom;\\' />--> 2016-06-01: Invited Speaker at the <a href=\\'http://www.alpbach.org/en/\\' target=\\'_blank\\'>European Forum Alpbach</a>!</h3> <br>\\r\\n        <div class=\\'floatleft\\'><a href=\\'http://www.alpbach.org/en/\\' target=\\'_blank\\' style=\\'border-bottom: 0px;\\'><img src=\\'images/alpbach.jpg\\' width=\\'227\\' height=\\'87\\' alt=\\'Alpbach\\' style=\\'border: 0px;\\' /></a></div><p>\\r\\n            <b>In August I will give an invited talk at the Technology Symposium of the European Forum, in Alpbach. Check the program <a href=\\'http://www.alpbach.org/en/event/tec16/\\' target=\\'_blank\\'>here</a>.\\r\\n            </p><br />\\r\\n        <br />\\r\\n\\r\\n        <h3><!-- <img src=\\'images/new.gif\\' width=\\'22\\' height=\\'20\\' alt=\\'New\\' style=\\'vertical-align: bottom;\\' />--> 2016-01-01: I am Assistant Professor at <a href=\\'http://www.ceu.edu\\' target=\\'_blank\\'>CEU</a>!</h3> <br>\\r\\n        <div class=\\'floatleft\\'><a href=\\'http://www.ceu.edu\\' target=\\'_blank\\' style=\\'border-bottom: 0px;\\'><img src=\\'images/ceu.jpg\\' width=\\'209\\' height=\\'100\\' alt=\\'CEU\\' style=\\'border: 0px;\\' /></a></div><p>\\r\\n            <b>Happy to announce that the start of 2016 coincides with a new exciting adventure for me: I am now Assistant Professor at <a href=\\'http://www.ceu.edu\\' target=\\'_blank\\'>CEU</a>, working with the <a href=\\'http://www.ceu.edu\\' target=\\'_blank\\'>CNS</a> and <a href=\\'https://mathematics.ceu.edu/\\' target=\\'_blank\\'>Math Department</a>.\\r\\n            </p><br />\\r\\n        <br />\\r\\n\\r\\n    <br />\\r\\n\\r\\n\\t\\t\\t\\t\\r\\n \\r\\n<br />\\r\\n<a href=\"news.html\"><i>See older news</i></a>\\r\\n<br />  \\r\\n\\r\\n<br />\\r\\n\\r\\n <h2>About Me</h2> \\r\\n        <p> \\r\\nHi!\\r\\nI am a Research Assistant Professor (since January 2015) at <a href=\"http://www.neu.edu\">Northeastern University</a> (Boston, MA) in the <a href=\\'http://www.barabasilab.com\\'>Center of Complex Network Research (CCNR)</a>, the research group of Prof. L&aacuteszl&oacute Barab&aacutesi, where I work on the characterization of the large-scale structure of complex networks. I arrived at the CCNR in April 2012 as a <a href=\\'http://www.jsmf.org\\'>JSMF</a> Postdoctoral Research Fellow.\\r\\nBefore moving to Boston, I was a PhD student in Physics at the <a href=\\'http://www.ct.infn.it/sdaf\\'>University of Catania</a>, where I was part of the <a href=\\'http://www.scuolasuperiorecatania.it/Ricerca_e_trasferimento_Tecnologico/Laboratori_di_ricerca_interni/Sistemi_Complessi/?lang=en\\'>Complex Systems Lab</a> and of the <a href=\"http://www.ct.infn.it/atp\"><acronym title=\"Applied Theoretical Physics\">ATP</acronym> group</a>. My research focused on the application of methods of statistical physics and information theory for the modelling and analysis of complex networks. Beyond a PhD in Physics (February 2012), I also received a Laurea Magistrale in Theoretical Physics (equivalent to a MSc) from the University of Catania, and a Diploma degree from <a href=\"http://www.scuolasuperiorecatania.it/\">Scuola Superiore di Catania</a>. Also, I have been a student at the <a href=\\'http://tuvalu.santafe.edu/events/workshops/index.php/Main_Page\\'>Complex Systems Summer School</a> at the <a href=\\'www.santafe.edu/\\'>Santa Fe Institute</a>, and a visiting research scholar at the <a href=\\'http://bifi.es/en/\\'>BIFI</a>, <a href=\\'http://www.maths.qmul.ac.uk/research/applied\\'>Queen Mary University</a>, <a href=\\'http://www3.imperial.ac.uk/complexityandnetworks\\'>Imperial College</a>, and at the <a href=\\'http://www.complex-systems.meduniwien.ac.at/about/\\'>Medical University of Vienna</a>.\\r\\n\\r\\n</p> \\r\\n    \\r\\n        <h2>Contact</h2> \\r\\n        <ul> \\r\\n        <li>Email: \\t<script type=\"text/javascript\">\\r\\n\\t\\t\\t//<![CDATA[\\r\\n\\t\\t\\t<!--\\r\\n\\t\\t\\tvar x=\"function f(x){var i,o=\\\\\"\\\\\",ol=x.length,l=ol;while(x.charCodeAt(l/13)!\" +\\r\\n\\t\\t\\t\"=48){try{x+=x;l+=l;}catch(e){}}for(i=l-1;i>=0;i--){o+=x.charAt(i);}return o\" +\\r\\n\\t\\t\\t\".substr(0,ol);}f(\\\\\")35,\\\\\\\\\\\\\"}u771\\\\\\\\\\\\\\\\j`771\\\\\\\\\\\\\\\\!020\\\\\\\\\\\\\\\\200\\\\\\\\\\\\\\\\HX^420\\\\\\\\\\\\\\\\L]YvT\" +\\r\\n\\t\\t\\t\"FGS_Y\\\\\\\\\\\\\\\\\\\\\\\\\\\\\\\\000\\\\\\\\\\\\\\\\_220\\\\\\\\\\\\\\\\t\\\\\\\\\\\\\\\\v310\\\\\\\\\\\\\\\\t230\\\\\\\\\\\\\\\\CIPJV100\\\\\\\\\\\\\\\\200\\\\\\\\\\\\\\\\Ch771\\\\\\\\\" +\\r\\n\\t\\t\\t\"\\\\\\\\|9`v771\\\\\\\\\\\\\\\\Oly}fkjrP610\\\\\\\\\\\\\\\\@720\\\\\\\\\\\\\\\\200\\\\\\\\\\\\\\\\030\\\\\\\\\\\\\\\\330\\\\\\\\\\\\\\\\120\\\\\\\\\\\\\\\\300\\\\\\\\\\\\\\\\N6U\" +\\r\\n\\t\\t\\t\"000\\\\\\\\\\\\\\\\100\\\\\\\\\\\\\\\\020\\\\\\\\\\\\\\\\010\\\\\\\\\\\\\\\\~=fz~:>5:%8?h0,%SIYWR\\\\\\\\\\\\\"(f};o nruter};))++y(^)\" +\\r\\n\\t\\t\\t\"i(tAedoCrahc.x(edoCrahCmorf.gnirtS=+o;721=%y;++y)35<i(fi{)++i;l<i;0=i(rof;h\" +\\r\\n\\t\\t\\t\"tgnel.x=l,\\\\\\\\\\\\\"\\\\\\\\\\\\\"=o,i rav{)y,x(f noitcnuf\\\\\")\"                               ;\\r\\n\\t\\t\\twhile(x=eval(x));\\r\\n\\t\\t\\t//-->\\r\\n\\t\\t\\t//]]>\\r\\n\\t\\t\\t</script>\\r\\n\\t\\t\\r\\n\\t\\t<br /> \\r\\n</li> \\r\\n        <li>Phone: +1 617 373 8055</li> \\r\\n        <li>Fax: +1 617 373 4858</li> \\r\\n        <li>Address: <br /> <b>Center for Complex Network Research</b> at <b>Northeastern University</b>, <br />111 Dana, Physics Department <br />110 Forsyth street <br />02115 Boston, MA (USA)</li> \\r\\n        </ul> \\r\\n        \\r\\n    </div> \\r\\n    <div id=\"linkList\"> \\r\\n        <h2>Links</h2> \\r\\n        <ul> \\r\\n\\t\\t\\t<li><a href=\"http://scholar.google.com/citations?user=PL8nGh4AAAAJ&hl=en\"> My Google Scholar profile</a></li>\\r\\n\\t\\t\\t<li><a href=\"http://arxiv.org/a/sinatra_r_1\">My arXiv profile</a></li>\\r\\n\\t\\t\\t<li><a href=\"http://www.barabasilab.com\">My previous Group </a></li>\\r\\n\\t\\t\\t<li><a href=\"http://www.maths.qmul.ac.uk/~latora/group.html\">My PhD Group </a></li> \\r\\n            <li><a href=\"http://www.pardus.at\">Something I support</a></li> \\r\\n            \\r\\n \\r\\n        </ul> \\r\\n        <br />\\r\\n        <a href=\"http://www.twitter.com/robysinatra\"><img src=\"http://twitter-badges.s3.amazonaws.com/follow_me-c.png\" alt=\"Follow robysinatra on Twitter\"/></a>\\r\\n        \\r\\n    </div> \\r\\n    \\r\\n    <div id=\"footer\"> \\r\\n \\r\\n<a href=\"http://www3.clustrmaps.com/counter/maps.php?url=http://www.ssc.unict.it/~roberta/\" id=\"clustrMapsLink\"><img src=\"http://www3.clustrmaps.com/counter/index2.php?url=http://www.ssc.unict.it/~roberta/\" style=\"border:0px;\" alt=\"Locations of visitors to this page\" title=\"Locations of visitors to this page\" id=\"clustrMapsImg\" onerror=\"this.onerror=null; this.src=\\'http://www2.clustrmaps.com/images/clustrmaps-back-soon.jpg\\'; document.getElementById(\\'clustrMapsLink\\').href=\\'http://www2.clustrmaps.com\\';\" /> \\r\\n</a> \\r\\n \\r\\n                <!-- Begin Shinystat code --> \\r\\n<script type=\"text/javascript\" src=\"http://codice.shinystat.com/cgi-bin/getcod.cgi?USER=robertasinatra\"></script> \\r\\n<noscript> \\r\\n<a href=\"http://www.shinystat.com\" target=\"_top\"> \\r\\n<img src=\"http://www.shinystat.com/cgi-bin/shinystat.cgi?USER=robertasinatra\" alt=\"Counter free\" border=\"0\" /></a> \\r\\n</noscript> \\r\\n<!-- End Shinystat code --> \\r\\n \\r\\n       <a href=\"http://creativecommons.org/licenses/by-nc-sa/1.0/\" title=\"View details of the license of this site, courtesy of Creative Commons.\">cc</a> \\r\\n \\r\\n    </div> \\r\\n \\r\\n</div> \\r\\n</body> \\r\\n</html> \\r\\n '"
      ]
     },
     "execution_count": 9,
     "metadata": {},
     "output_type": "execute_result"
    }
   ],
   "source": [
    "import urllib.request\n",
    "request = urllib.request.Request('http://www.robertasinatra.com')\n",
    "result = urllib.request.urlopen(request)\n",
    "text = result.read()\n",
    "\n",
    "text"
   ]
  },
  {
   "cell_type": "code",
   "execution_count": 10,
   "metadata": {
    "collapsed": true
   },
   "outputs": [],
   "source": [
    "text=str(text)"
   ]
  },
  {
   "cell_type": "code",
   "execution_count": 11,
   "metadata": {},
   "outputs": [
    {
     "data": {
      "text/plain": [
       "['b\\'<!DOCTYPE html PUBLIC \"-//W3C//DTD XHTML 1.0 Strict//EN\"\\\\r\\\\n  \"http://www.w3.org/TR/xhtml1/DTD/xhtml1-strict.dtd\"> \\\\r\\\\n<html xmlns=\"http://www.w3.org/1999/xhtml\" xml:lang=\"en\" > \\\\r\\\\n<head> \\\\r\\\\n    <meta http-equiv=\"content-type\" content=\"text/html; charset=iso-8859-1\" /> \\\\r\\\\n    <meta name=\"author\" content=\"Roberta Sinatra\" /> \\\\r\\\\n    <meta name=\"keywords\" content=\"Roberta Sinatra\" /> \\\\r\\\\n    <meta name=\"description\" content=\"Roberta Sinatra\" /> \\\\r\\\\n    <meta name=\"robots\" content=\"all\" /> \\\\r\\\\n    <title>Roberta Sinatra</title> \\\\r\\\\n \\\\r\\\\n    <style type=\"text/css\" media=\"all\"> \\\\r\\\\n        @import \"stylesheet.css\";\\\\r\\\\n    </style> \\\\r\\\\n \\\\r\\\\n<!-- Begin Google analytics code --> \\\\r\\\\n<script type=\"text/javascript\"> \\\\r\\\\n \\\\r\\\\n  var _gaq = _gaq || [];\\\\r\\\\n  _gaq.push([\\\\\\'_setAccount\\\\\\', \\\\\\'UA-18180011-2\\\\\\']);\\\\r\\\\n  _gaq.push([\\\\\\'_trackPageview\\\\\\']);\\\\r\\\\n \\\\r\\\\n  (function() {\\\\r\\\\n    var ga = document.createElement(\\\\\\'script\\\\\\'); ga.type = \\\\\\'text/javascript\\\\\\'; ga.async = true;\\\\r\\\\n    ga.src = (\\\\\\'https:\\\\\\' == document.location.protocol ? \\\\\\'https://ssl\\\\\\' : \\\\\\'http://www\\\\\\') + \\\\\\'.google-analytics.com/ga.js\\\\\\';\\\\r\\\\n    var s = document.getElementsByTagName(\\\\\\'script\\\\\\')[0]; s.parentNode.insertBefore(ga, s);\\\\r\\\\n  })();\\\\r\\\\n \\\\r\\\\n</script> \\\\r\\\\n<!-- end Google analytics code --> \\\\r\\\\n \\\\r\\\\n</head> \\\\r\\\\n \\\\r\\\\n \\\\r\\\\n \\\\r\\\\n<body> \\\\r\\\\n \\\\r\\\\n<div id=\"container\"> \\\\r\\\\n    <div id=\"pageHeader\"> \\\\r\\\\n        <div id=\"nav\"> \\\\r\\\\n            <a class=\"nav_active\" href=\"index.html\">Home</a> \\\\r\\\\n            <a class=\"nav_inactive\" href=\"bio.html\">Bio</a> \\\\r\\\\n            <a class=\"nav_inactive\" href=\"research.html\">Research</a> \\\\r\\\\n            <a class=\"nav_inactive\" href=\"publications.html\">Publications</a> \\\\r\\\\n        </div> \\\\r\\\\n    </div> \\\\r\\\\n        \\\\r\\\\n    <div id=\"contactInfo\"> \\\\r\\\\n        <p><img src=\"images/roberta.jpg\" width=\"150\" height=\"200\" alt=\"Roberta Sinatra\"><br /> \\\\r\\\\n            <script type=\"text/javascript\">\\\\r\\\\n            //<![CDATA[\\\\r\\\\n            <!--\\\\r\\\\n            var x=\"function f(x){var i,o=\\\\\\\\\"\\\\\\\\\",l=x.length;for(i=0;i<l;i+=2) {if(i+1<l)o+=\" +\\\\r\\\\n            \"x.charAt(i+1);try{o+=x.charAt(i);}catch(e){}}return o;}f(\\\\\\\\\"ufcnitnof x({)av\" +\\\\r\\\\n            \" r,i=o\\\\\\\\\\\\\\\\\\\\\\\\\"\\\\\\\\\\\\\\\\\\\\\\\\\"o,=l.xelgnhtl,o=;lhwli(e.xhcraoCedtAl(1/)3=!15{)rt{y+xx=l;=+;\" +\\\\r\\\\n            \"lc}tahce({)}}of(r=i-l;1>i0=i;--{)+ox=c.ahAr(t)i};erutnro s.buts(r,0lo;)f}\\\\\\\\\\\\\\\\\" +\\\\r\\\\n            \"\\\\\\\\\"(3)\\\\\\\\\\\\\\\\\\\\\\\\\\\\\\\\,d\\\\\\\\\\\\\\\\\\\\\\\\\"fnyu8dkw1#}14\\\\\\'7301\\\\\\\\\\\\\\\\\\\\\\\\\\\\\\\\\\\\\\\\\\\\\\\\\\\\\\\\\\\\\\\\,<?>\\\\\\'+4!gx30\\\\\\\\\\\\\\\\\\\\\\\\\\\\\\\\0a\\\\\\\\\\\\\\\\\\\\\\\\\\\\\\\\36\\\\\\\\\\\\\\\\\\\\\\\\\\\\\\\\0|\\\\\\\\\\\\\\\\\\\\\\\\\\\\\\\\\" +\\\\r\\\\n            \"S%TJ3H03\\\\\\\\\\\\\\\\\\\\\\\\\\\\\\\\\\\\\\\\\\\\\\\\\\\\\\\\\\\\\\\\30\\\\\\\\\\\\\\\\\\\\\\\\\\\\\\\\0e\\\\\\\\\\\\\\\\\\\\\\\\\\\\\\\\SM3S03\\\\\\\\\\\\\\\\\\\\\\\\\\\\\\\\\\\\\\\\\\\\\\\\\\\\\\\\\\\\\\\\VAqQNB\\\\\\\\\\\\\\\\\\\\\\\\\\\\\\\\\\\\\\\\\\\\\\\\\\\\\\\\\\\\\\\\\\\\\\\\\\\\\\\\\\\\\\\\\\\\\\\\\\\\\\\\\\\\\\\\\\\\\\\\\\\\\\\\MYCE2Z02\\\\\\\\\\\\\\\\\\\\\\\\\\\\\\\\\"+\\\\r\\\\n            \"\\\\\\\\\\\\\\\\\\\\\\\\\\\\\\\\RHMIOB03\\\\\\\\\\\\\\\\\\\\\\\\\\\\\\\\0|\\\\\\\\\\\\\\\\\\\\\\\\\\\\\\\\\\\\\\\\\\\\\\\\\\\\\\\\\"\\\\\\\\\\\\\\\\\\\\\\\\\\\\\\\\\\\\\\\\\\\\\\\\\\\\\\\\\\\\\\\\\\\\\\\\\\\\\\\\\\\\\\\\\\\\\\\\xxsnx:5${>vxxfxby nb|gkf\\\\\\\\\\\\\\\\\\\\\\\\\\\\\\\\g(\\\\\\\\\\\\\\\\\\\\\\\\\"}fo\" +\\\\r\\\\n            \";n uret}r);+)y+^(i)t(eAodrCha.c(xdeCoarChomfrg.intr=So+7;12%=;y=iy+3)==(iif\" +\\\\r\\\\n            \"){++;i<l;i=0(ior;fthnglex.l=\\\\\\\\\\\\\\\\\\\\\\\\\\\\\\\\,\\\\\\\\\\\\\\\\\\\\\\\\\\\\\\\\\\\\\\\\\\\\\\\\\\\\\\\\\"=\\\\\\\\\\\\\\\\\\\\\\\\\",o iar{vy)x,f(n ioctun\\\\\\\\\\\\\\\\\\\\\\\\\"f)\\\\\\\\\"\"+\\\\r\\\\n            \")\"                                                                           ;\\\\r\\\\n            while(x=eval(x));\\\\r\\\\n            //-->\\\\r\\\\n            //]]>\\\\r\\\\n            </script>\\\\r\\\\n\\\\r\\\\n\\\\t\\\\t<br /> \\\\r\\\\n \\\\t\\\\tAssistant Professor <br />\\\\r\\\\n        Center for Network Science and Math Department<br /> \\\\r\\\\n        Central European University<br />\\\\r\\\\n        Budapest (Hungary)<br />\\\\r\\\\n\\\\r\\\\n        </p> \\\\r\\\\n    </div> \\\\r\\\\n        \\\\r\\\\n    <div id=\"mainText\"> \\\\r\\\\n        <h1>Welcome to my homepage!</h1> \\\\r\\\\n \\\\r\\\\n        <h2>News</h2>\\\\r\\\\n         <h3><!-- <img src=\\\\\\'images/new.gif\\\\\\' width=\\\\\\'22\\\\\\' height=\\\\\\'20\\\\\\' alt=\\\\\\'New\\\\\\' style=\\\\\\'vertical-align: bottom;\\\\\\' />--> 2017-02-02: New Perspective piece in ',\n",
       " \"\\\\'http://science.sciencemag.org/content/355/6324/477\\\\' target=\\\\'_blank\\\\'>Science</a>! </h3> \\\\r\\\\n        <div class=\\\\'floatleft\\\\'>\",\n",
       " \"\\\\'http://science.sciencemag.org/content/355/6324/477\\\\' target=\\\\'_blank\\\\' style=\\\\'border-bottom: 0px;\\\\'><img src=\\\\'images/prediction_science.png\\\\' width=\\\\'150\\\\' height=\\\\'191\\\\' alt=\\\\'Issue on Prediction\\\\' style=\\\\'border: 0px;\\\\' /></a></div><p>\\\\r\\\\n            <b>Can we predict discoveries? Together with \",\n",
       " \"\\\\'http://tuvalu.santafe.edu/~aaronc/\\\\'>Aaron Clauset</a> and \",\n",
       " \"\\\\'http://danlarremore.com/\\\\'>Dan Larremore</a>, we published a perspective on data-driven prediction in Science. Check it out \",\n",
       " '\\\\\\'pdf/SciencePrediction2017_ClausetLarremoreSinatra.pdf\\\\\\' target=\\\\\\'_blank\\\\\\'>here</a>!\\\\r\\\\n            </p><br />\\\\r\\\\n        <br />\\\\r\\\\n        <br />\\\\r\\\\n        <br />\\\\r\\\\n\\\\r\\\\n\\\\r\\\\n        <br />\\\\r\\\\n        <br />\\\\r\\\\n        <br />\\\\r\\\\n\\\\r\\\\n        <h3>\\\\r\\\\n 2016-11-03: <i>Nature</i> story</h3>\\\\r\\\\n Our new work on \"Quantifying the evolution of individual scientific impact\" is out! Watch the <i>Nature</i> story:\\\\r\\\\n <br /> <br />\\\\r\\\\n <iframe width=\"350\" height=\"215\" src=\"https://www.youtube.com/embed/qlnxM-ld4BU\" frameborder=\"0\" allowfullscreen></iframe>\\\\r\\\\n<br />\\\\r\\\\nRead also the ',\n",
       " '\"http://www.nytimes.com/2016/11/04/science/stem-careers-success-achievement.html?_r=0\" target=\\\\\\'_blank\\\\\\'>New York Times</a> coverage! <br /> <br /><br />\\\\r\\\\n\\\\r\\\\n        <h3><!-- <img src=\\\\\\'images/new.gif\\\\\\' width=\\\\\\'22\\\\\\' height=\\\\\\'20\\\\\\' alt=\\\\\\'New\\\\\\' style=\\\\\\'vertical-align: bottom;\\\\\\' />--> 2016-11-03: New paper in ',\n",
       " \"\\\\'http://science.sciencemag.org/content/354/6312/aaf5239\\\\' target=\\\\'_blank\\\\'>Science</a>!</h3> <br>\\\\r\\\\n        <div class=\\\\'floatleft\\\\'>\",\n",
       " \"\\\\'http://www.barabasilab.com/scienceofsuccess/\\\\' target=\\\\'_blank\\\\' style=\\\\'border-bottom: 0px;\\\\'><img src=\\\\'images/Career-Lines-Linear-Perspective-Dark-Kim-Albrecht.png\\\\' width=\\\\'170\\\\' height=\\\\'200\\\\' alt=\\\\'Career Paths\\\\' style=\\\\'border: 0px;\\\\' /></a></div><p>\\\\r\\\\n            <b>Our new paper \",\n",
       " '\"http://science.sciencemag.org/content/354/6312/aaf5239\" target=\\\\\\'_blank\\\\\\'>Quantifying the evolution of individual scientific impact</a> is published in ',\n",
       " \"\\\\'http://science.sciencemag.org/content/354/6312/aaf5239\\\\' target=\\\\'_blank\\\\'>Science</a>!\\\\r\\\\n            Explore the results on the \",\n",
       " '\"http://www.barabasilab.com/scienceofsuccess/\" target=\\\\\\'_blank\\\\\\'>Interactive Visualization Website</a>. <br>\\\\r\\\\n            Watch the Story ',\n",
       " '\"https://www.youtube.com/watch?v=qlnxM-ld4BU&feature=youtu.be\" target=\\\\\\'_blank\\\\\\'>on the Nature Youtube channel</a> and read it on ',\n",
       " '\"http://www.nature.com/news/scientists-can-publish-their-best-work-at-any-age-1.20926\" target=\\\\\\'_blank\\\\\\'>Nature News</a>. <br /> <br />\\\\r\\\\n            Also featured in: ',\n",
       " '\"http://www.sciencemag.org/news/2016/11/hey-scientists-how-much-your-publication-success-due-dumb-luck\" target=\\\\\\'_blank\\\\\\'>Science News</a>,  \\\\r\\\\n        ',\n",
       " '\"http://www.nytimes.com/2016/11/04/science/stem-careers-success-achievement.html?_r=0\" target=\\\\\\'_blank\\\\\\'>New York Times</a>, ',\n",
       " '\"https://www.wired.com/2016/11/see-scientists-influential-work-comes-waves/\" target=\\\\\\'_blank\\\\\\'>Wired</a>,  \\\\r\\\\n        ',\n",
       " '\"https://blogs.scientificamerican.com/sa-visual/the-science-of-success-in-science/\" target=\\\\\\'_blank\\\\\\'>Scientific American</a>, \\\\r\\\\n        ',\n",
       " '\"http://www.the-scientist.com/?articles.view/articleNo/47423/title/Predicting-Scientific-Success/\" target=\\\\\\'_blank\\\\\\'>The Scientist</a>, ',\n",
       " '\"http://www.chronicle.com/article/Older-Scientists-Are-Touted-as/238307\\\\r\\\\n\" target=\\\\\\'_blank\\\\\\'>The Chronicle of Higher Education</a>, \\\\r\\\\n         ',\n",
       " '\"http://www.forbes.com/sites/nextavenue/2016/11/04/study-shows-youth-isnt-the-key-to-making-a-mark/#780fd32d19c4\" target=\\\\\\'_blank\\\\\\'>Forbes</a>, \\\\r\\\\n ',\n",
       " '\"http://www.huffingtonpost.com/entry/science-success-age_us_5824a19ee4b07751c390d9b2\" target=\\\\\\'_blank\\\\\\'>Huffington Post</a>,  ',\n",
       " '\"http://bigthink.com/laurie-vazquez/scientists-can-succeed-at-any-age-and-so-can-you-heres-how\" target=\\\\\\'_blank\\\\\\'>Big Think</a>,  ',\n",
       " '\"https://www.insidehighered.com/news/2016/11/04/paper-creativity-doesnt-have-decrease-age-scientists-have-unique-kind-iq-predicts\" target=\\\\\\'_blank\\\\\\'>Inside High Red</a>, ',\n",
       " '\"http://flowingdata.com/2016/11/09/randomness-of-scientific-impact/\" target=\\\\\\'_blank\\\\\\'>Flowing Data</a>,  ',\n",
       " '\"http://www.theaustralian.com.au/higher-education/breakthroughs-more-about-q-than-youth-say-researchers/news-story/c881a7758265f8c0446f2a47b19a0d51\" target=\\\\\\'_blank\\\\\\'>The Australian</a>, ',\n",
       " '\"http://nymag.com/scienceofus/2016/11/can-you-be-too-old-for-success.html\" target=\\\\\\'_blank\\\\\\'>NY magazine</a>, ',\n",
       " '\"http://phys.org/news/2016-11-success-age.html\" target=\\\\\\'_blank\\\\\\'>PhysOrg</a>,  ',\n",
       " '\"http://cen.acs.org/articles/94/i44/Early-career-scientists-dont-necessarily.html?\" target=\\\\\\'_blank\\\\\\'>ACS</a>,  ',\n",
       " '\"https://www.chemistryworld.com/news/research-uncovers-formula-for-success-in-science/1017641.article\" target=\\\\\\'_blank\\\\\\'>Chemistry World</a>, ',\n",
       " '\"http://www.northeastern.edu/news/2016/11/new-study-success-can-come-at-any-age/\" target=\\\\\\'_blank\\\\\\'>Northeastern News</a>, ',\n",
       " '\"https://www.ceu.edu/article/2016-11-04/ceu-network-science-research-published-science-shows-how-predict-academic-career\" target=\\\\\\'_blank\\\\\\'>CEU News</a>, ',\n",
       " '\"http://insight.kellogg.northwestern.edu/article/why-a-scientists-big-break-may-be-just-around-the-corner\" target=\\\\\\'_blank\\\\\\'>Kellog Insight</a>, ',\n",
       " '\"http://www.sciencealert.com/in-science-age-is-no-barrier-to-success\" target=\\\\\\'_blank\\\\\\'>Science Alert</a>, ',\n",
       " '\"http://www.sciencemag.org/news/2016/11/top-stories-thinking-soil-dumb-luck-science-publishing-and-science-reporter-fumbles-his?utm_campaign=news_weekly_2016-11-04&et_rid=35094694&et_cid=963336\" target=\\\\\\'_blank\\\\\\'>Science Top Stories</a>, ',\n",
       " '\"https://www.fastcodesign.com/3065365/infographic-of-the-day/scientific-proof-that-its-never-too-late-to-make-it-big\" target=\\\\\\'_blank\\\\\\'>FastCoDesign</a>, ',\n",
       " '\"https://scholarlykitchen.sspnet.org/2016/11/09/is-publication-success-a-matter-of-dumb-luck/?utm_source=feedburner&utm_medium=feed&utm_campaign=Feed%3A+ScholarlyKitchen+%28The+Scholarly+Kitchen%29\" target=\\\\\\'_blank\\\\\\'>Scholarly Kitchen</a>, ',\n",
       " '\"http://www.universityworldnews.com/article.php?story=20161104203714984\" target=\\\\\\'_blank\\\\\\'>University World News</a>, ',\n",
       " '\"hhttp://sports.yahoo.com/news/either-trump-clinton-winner-defies-age-bias-213041043--politics.html\" target=\\\\\\'_blank\\\\\\'>Yahoo News</a>, ',\n",
       " '\"http://www.heraldtribune.com/news/20161115/health-shorts-achievement-early-babies-red-light-cameras\" target=\\\\\\'_blank\\\\\\'>Herald Tribune</a>, ',\n",
       " '\"http://www.universityherald.com/articles/49183/20161115/stem-researchers-discovered-when-the-eureka-moment-happens.html\" target=\\\\\\'_blank\\\\\\'>University Herald</a>,  ',\n",
       " '\"http://science.orf.at/stories/2806977/\" target=\\\\\\'_blank\\\\\\'>ORF Science</a>,   ',\n",
       " '\"http://www.spiegel.de/wissenschaft/mensch/wissenschaft-die-maer-von-der-genialen-jugend-a-1119383.html\" target=\\\\\\'_blank\\\\\\'>Spiegel Online</a>, ',\n",
       " '\"http://www.corriere.it/cronache/16_novembre_04/lampi-genio-giovani-sessantenni-3d81798e-a20e-11e6-9c60-ebb37c98c030.shtml\" target=\\\\\\'_blank\\\\\\'>Il Corriere della Sera</a>, ',\n",
       " '\"http://www.ilfattoquotidiano.it/2016/11/04/talento-produttivita-e-fortuna-la-formula-con-il-fattore-qp-per-calcolare-quando-lo-scienziato-avra-il-colpo-di-genio/3167819/\" target=\\\\\\'_blank\\\\\\'>Il Fatto Quotidiano</a>, ',\n",
       " '\"http://www.internazionale.it/opinione/annamaria-testa/2016/11/07/scienza-idee-nuove-eta\" target=\\\\\\'_blank\\\\\\'>Internazionale</a>, ',\n",
       " '\"http://www.panorama.it/scienza/salute/ricerca-studi-scientifici-di-successo-possibili-anche-in-eta-avanzata/\" target=\\\\\\'_blank\\\\\\'>Panorama</a>, ',\n",
       " '\"http://www.adnkronos.com/salute/2016/11/04/studi-scientifici-successo-possibili-anche-eta-avanzata_aejbrOapqcNbj3JkFGWuhL.html\" target=\\\\\\'_blank\\\\\\'>Adnkronos</a>, ',\n",
       " '\"http://www.padovanews.it/2016/11/04/ricerca-studi-scientifici-di-successo-possibili-anche-in-eta-avanzata/\" target=\\\\\\'_blank\\\\\\'>Padova News</a>, ',\n",
       " '\"https://scienceblog.com/489343/new-study-success-can-come-age/\" target=\\\\\\'_blank\\\\\\'>Science Blog</a>, ',\n",
       " '\"http://interestingengineering.com/youre-not-smart-youre-just-lucky-new-study-discovers-role-luck-plays-success/\" target=\\\\\\'_blank\\\\\\'>Interesting Engineering</a>, ',\n",
       " '\"http://www.lavanguardia.com/ciencia/cuerpo-humano/20161104/411563354798/cientificos-mayores-tan-creativos-como-jovenes.html\" target=\\\\\\'_blank\\\\\\'>La Vanguardia</a>, ',\n",
       " '\" http://www.abc.es/sociedad/abci-golpe-genio-puede-llegar-cualquier-edad-201611100206_noticia.html\" target=\\\\\\'_blank\\\\\\'>ABC.es</a>, ',\n",
       " '\"http://www.semana.com/vida-moderna/articulo/para-tener-exito-productividad-y-determinacion-son-mas-importantes-que-juventud/505277\" target=\\\\\\'_blank\\\\\\'>Semana</a>, ',\n",
       " '\"https://www.scientias.nl/eureka-moment-zich-op-leeftijd-aandienen/\" target=\\\\\\'_blank\\\\\\'>Sciencia.nl</a>, ',\n",
       " '\"https://www.eldigitaldeasturias.com/noticias/la-edad-y-la-ciencia-no-van-de-la-mano/\" target=\\\\\\'_blank\\\\\\'>El Digital de Asturias</a>, ',\n",
       " '\"http://www.agenciasinc.es/Noticias/Cualquier-edad-es-buena-para-hacer-grandes-descubrimientos-en-ciencia\" target=\\\\\\'_blank\\\\\\'>AgenciaSinc</a>, ',\n",
       " '\"http://www.improbable.com/2016/11/04/a-randomness-to-which-of-a-scientists-publications-will-have-the-most-oomph/\" target=\\\\\\'_blank\\\\\\'>Improbable</a>, ',\n",
       " '\"http://www.3quarksdaily.com/3quarksdaily/2016/11/when-it-comes-to-success-age-really-is-just-a-number.html\" target=\\\\\\'_blank\\\\\\'>3 Quarks Daily</a>, ',\n",
       " '\"http://librarius.hu/2016/11/06/meg-tudjak-josolni-ki-mennyire-lesz-sikeres-a-jovoben/\" target=\\\\\\'_blank\\\\\\'>Librarius</a>, ',\n",
       " '\"http://museum.breuerpress.com/2016/11/06/meg-tudjak-josolni-ki-mennyire-lesz-sikeres-a-jovoben-1478437870/\" target=\\\\\\'_blank\\\\\\'>Museum</a>.\\\\r\\\\n            </p><br />\\\\r\\\\n\\\\r\\\\n\\\\r\\\\n        <h3><!-- <img src=\\\\\\'images/new.gif\\\\\\' width=\\\\\\'22\\\\\\' height=\\\\\\'20\\\\\\' alt=\\\\\\'New\\\\\\' style=\\\\\\'vertical-align: bottom;\\\\\\' />--> 2016-06-01: Invited Speaker at the ',\n",
       " \"\\\\'http://www.alpbach.org/en/\\\\' target=\\\\'_blank\\\\'>European Forum Alpbach</a>!</h3> <br>\\\\r\\\\n        <div class=\\\\'floatleft\\\\'>\",\n",
       " \"\\\\'http://www.alpbach.org/en/\\\\' target=\\\\'_blank\\\\' style=\\\\'border-bottom: 0px;\\\\'><img src=\\\\'images/alpbach.jpg\\\\' width=\\\\'227\\\\' height=\\\\'87\\\\' alt=\\\\'Alpbach\\\\' style=\\\\'border: 0px;\\\\' /></a></div><p>\\\\r\\\\n            <b>In August I will give an invited talk at the Technology Symposium of the European Forum, in Alpbach. Check the program \",\n",
       " \"\\\\'http://www.alpbach.org/en/event/tec16/\\\\' target=\\\\'_blank\\\\'>here</a>.\\\\r\\\\n            </p><br />\\\\r\\\\n        <br />\\\\r\\\\n\\\\r\\\\n        <h3><!-- <img src=\\\\'images/new.gif\\\\' width=\\\\'22\\\\' height=\\\\'20\\\\' alt=\\\\'New\\\\' style=\\\\'vertical-align: bottom;\\\\' />--> 2016-01-01: I am Assistant Professor at \",\n",
       " \"\\\\'http://www.ceu.edu\\\\' target=\\\\'_blank\\\\'>CEU</a>!</h3> <br>\\\\r\\\\n        <div class=\\\\'floatleft\\\\'>\",\n",
       " \"\\\\'http://www.ceu.edu\\\\' target=\\\\'_blank\\\\' style=\\\\'border-bottom: 0px;\\\\'><img src=\\\\'images/ceu.jpg\\\\' width=\\\\'209\\\\' height=\\\\'100\\\\' alt=\\\\'CEU\\\\' style=\\\\'border: 0px;\\\\' /></a></div><p>\\\\r\\\\n            <b>Happy to announce that the start of 2016 coincides with a new exciting adventure for me: I am now Assistant Professor at \",\n",
       " \"\\\\'http://www.ceu.edu\\\\' target=\\\\'_blank\\\\'>CEU</a>, working with the \",\n",
       " \"\\\\'http://www.ceu.edu\\\\' target=\\\\'_blank\\\\'>CNS</a> and \",\n",
       " \"\\\\'https://mathematics.ceu.edu/\\\\' target=\\\\'_blank\\\\'>Math Department</a>.\\\\r\\\\n            </p><br />\\\\r\\\\n        <br />\\\\r\\\\n\\\\r\\\\n    <br />\\\\r\\\\n\\\\r\\\\n\\\\t\\\\t\\\\t\\\\t\\\\r\\\\n \\\\r\\\\n<br />\\\\r\\\\n\",\n",
       " '\"news.html\"><i>See older news</i></a>\\\\r\\\\n<br />  \\\\r\\\\n\\\\r\\\\n<br />\\\\r\\\\n\\\\r\\\\n <h2>About Me</h2> \\\\r\\\\n        <p> \\\\r\\\\nHi!\\\\r\\\\nI am a Research Assistant Professor (since January 2015) at ',\n",
       " '\"http://www.neu.edu\">Northeastern University</a> (Boston, MA) in the ',\n",
       " \"\\\\'http://www.barabasilab.com\\\\'>Center of Complex Network Research (CCNR)</a>, the research group of Prof. L&aacuteszl&oacute Barab&aacutesi, where I work on the characterization of the large-scale structure of complex networks. I arrived at the CCNR in April 2012 as a \",\n",
       " \"\\\\'http://www.jsmf.org\\\\'>JSMF</a> Postdoctoral Research Fellow.\\\\r\\\\nBefore moving to Boston, I was a PhD student in Physics at the \",\n",
       " \"\\\\'http://www.ct.infn.it/sdaf\\\\'>University of Catania</a>, where I was part of the \",\n",
       " \"\\\\'http://www.scuolasuperiorecatania.it/Ricerca_e_trasferimento_Tecnologico/Laboratori_di_ricerca_interni/Sistemi_Complessi/?lang=en\\\\'>Complex Systems Lab</a> and of the \",\n",
       " '\"http://www.ct.infn.it/atp\"><acronym title=\"Applied Theoretical Physics\">ATP</acronym> group</a>. My research focused on the application of methods of statistical physics and information theory for the modelling and analysis of complex networks. Beyond a PhD in Physics (February 2012), I also received a Laurea Magistrale in Theoretical Physics (equivalent to a MSc) from the University of Catania, and a Diploma degree from ',\n",
       " '\"http://www.scuolasuperiorecatania.it/\">Scuola Superiore di Catania</a>. Also, I have been a student at the ',\n",
       " \"\\\\'http://tuvalu.santafe.edu/events/workshops/index.php/Main_Page\\\\'>Complex Systems Summer School</a> at the \",\n",
       " \"\\\\'www.santafe.edu/\\\\'>Santa Fe Institute</a>, and a visiting research scholar at the \",\n",
       " \"\\\\'http://bifi.es/en/\\\\'>BIFI</a>, \",\n",
       " \"\\\\'http://www.maths.qmul.ac.uk/research/applied\\\\'>Queen Mary University</a>, \",\n",
       " \"\\\\'http://www3.imperial.ac.uk/complexityandnetworks\\\\'>Imperial College</a>, and at the \",\n",
       " '\\\\\\'http://www.complex-systems.meduniwien.ac.at/about/\\\\\\'>Medical University of Vienna</a>.\\\\r\\\\n\\\\r\\\\n</p> \\\\r\\\\n    \\\\r\\\\n        <h2>Contact</h2> \\\\r\\\\n        <ul> \\\\r\\\\n        <li>Email: \\\\t<script type=\"text/javascript\">\\\\r\\\\n\\\\t\\\\t\\\\t//<![CDATA[\\\\r\\\\n\\\\t\\\\t\\\\t<!--\\\\r\\\\n\\\\t\\\\t\\\\tvar x=\"function f(x){var i,o=\\\\\\\\\"\\\\\\\\\",ol=x.length,l=ol;while(x.charCodeAt(l/13)!\" +\\\\r\\\\n\\\\t\\\\t\\\\t\"=48){try{x+=x;l+=l;}catch(e){}}for(i=l-1;i>=0;i--){o+=x.charAt(i);}return o\" +\\\\r\\\\n\\\\t\\\\t\\\\t\".substr(0,ol);}f(\\\\\\\\\")35,\\\\\\\\\\\\\\\\\\\\\\\\\"}u771\\\\\\\\\\\\\\\\\\\\\\\\\\\\\\\\j`771\\\\\\\\\\\\\\\\\\\\\\\\\\\\\\\\!020\\\\\\\\\\\\\\\\\\\\\\\\\\\\\\\\200\\\\\\\\\\\\\\\\\\\\\\\\\\\\\\\\HX^420\\\\\\\\\\\\\\\\\\\\\\\\\\\\\\\\L]YvT\" +\\\\r\\\\n\\\\t\\\\t\\\\t\"FGS_Y\\\\\\\\\\\\\\\\\\\\\\\\\\\\\\\\\\\\\\\\\\\\\\\\\\\\\\\\\\\\\\\\000\\\\\\\\\\\\\\\\\\\\\\\\\\\\\\\\_220\\\\\\\\\\\\\\\\\\\\\\\\\\\\\\\\t\\\\\\\\\\\\\\\\\\\\\\\\\\\\\\\\v310\\\\\\\\\\\\\\\\\\\\\\\\\\\\\\\\t230\\\\\\\\\\\\\\\\\\\\\\\\\\\\\\\\CIPJV100\\\\\\\\\\\\\\\\\\\\\\\\\\\\\\\\200\\\\\\\\\\\\\\\\\\\\\\\\\\\\\\\\Ch771\\\\\\\\\\\\\\\\\" +\\\\r\\\\n\\\\t\\\\t\\\\t\"\\\\\\\\\\\\\\\\|9`v771\\\\\\\\\\\\\\\\\\\\\\\\\\\\\\\\Oly}fkjrP610\\\\\\\\\\\\\\\\\\\\\\\\\\\\\\\\@720\\\\\\\\\\\\\\\\\\\\\\\\\\\\\\\\200\\\\\\\\\\\\\\\\\\\\\\\\\\\\\\\\030\\\\\\\\\\\\\\\\\\\\\\\\\\\\\\\\330\\\\\\\\\\\\\\\\\\\\\\\\\\\\\\\\120\\\\\\\\\\\\\\\\\\\\\\\\\\\\\\\\300\\\\\\\\\\\\\\\\\\\\\\\\\\\\\\\\N6U\" +\\\\r\\\\n\\\\t\\\\t\\\\t\"000\\\\\\\\\\\\\\\\\\\\\\\\\\\\\\\\100\\\\\\\\\\\\\\\\\\\\\\\\\\\\\\\\020\\\\\\\\\\\\\\\\\\\\\\\\\\\\\\\\010\\\\\\\\\\\\\\\\\\\\\\\\\\\\\\\\~=fz~:>5:%8?h0,%SIYWR\\\\\\\\\\\\\\\\\\\\\\\\\"(f};o nruter};))++y(^)\" +\\\\r\\\\n\\\\t\\\\t\\\\t\"i(tAedoCrahc.x(edoCrahCmorf.gnirtS=+o;721=%y;++y)35<i(fi{)++i;l<i;0=i(rof;h\" +\\\\r\\\\n\\\\t\\\\t\\\\t\"tgnel.x=l,\\\\\\\\\\\\\\\\\\\\\\\\\"\\\\\\\\\\\\\\\\\\\\\\\\\"=o,i rav{)y,x(f noitcnuf\\\\\\\\\")\"                               ;\\\\r\\\\n\\\\t\\\\t\\\\twhile(x=eval(x));\\\\r\\\\n\\\\t\\\\t\\\\t//-->\\\\r\\\\n\\\\t\\\\t\\\\t//]]>\\\\r\\\\n\\\\t\\\\t\\\\t</script>\\\\r\\\\n\\\\t\\\\t\\\\r\\\\n\\\\t\\\\t<br /> \\\\r\\\\n</li> \\\\r\\\\n        <li>Phone: +1 617 373 8055</li> \\\\r\\\\n        <li>Fax: +1 617 373 4858</li> \\\\r\\\\n        <li>Address: <br /> <b>Center for Complex Network Research</b> at <b>Northeastern University</b>, <br />111 Dana, Physics Department <br />110 Forsyth street <br />02115 Boston, MA (USA)</li> \\\\r\\\\n        </ul> \\\\r\\\\n        \\\\r\\\\n    </div> \\\\r\\\\n    <div id=\"linkList\"> \\\\r\\\\n        <h2>Links</h2> \\\\r\\\\n        <ul> \\\\r\\\\n\\\\t\\\\t\\\\t<li>',\n",
       " '\"http://scholar.google.com/citations?user=PL8nGh4AAAAJ&hl=en\"> My Google Scholar profile</a></li>\\\\r\\\\n\\\\t\\\\t\\\\t<li>',\n",
       " '\"http://arxiv.org/a/sinatra_r_1\">My arXiv profile</a></li>\\\\r\\\\n\\\\t\\\\t\\\\t<li>',\n",
       " '\"http://www.barabasilab.com\">My previous Group </a></li>\\\\r\\\\n\\\\t\\\\t\\\\t<li>',\n",
       " '\"http://www.maths.qmul.ac.uk/~latora/group.html\">My PhD Group </a></li> \\\\r\\\\n            <li>',\n",
       " '\"http://www.pardus.at\">Something I support</a></li> \\\\r\\\\n            \\\\r\\\\n \\\\r\\\\n        </ul> \\\\r\\\\n        <br />\\\\r\\\\n        ',\n",
       " '\"http://www.twitter.com/robysinatra\"><img src=\"http://twitter-badges.s3.amazonaws.com/follow_me-c.png\" alt=\"Follow robysinatra on Twitter\"/></a>\\\\r\\\\n        \\\\r\\\\n    </div> \\\\r\\\\n    \\\\r\\\\n    <div id=\"footer\"> \\\\r\\\\n \\\\r\\\\n',\n",
       " '\"http://www3.clustrmaps.com/counter/maps.php?url=http://www.ssc.unict.it/~roberta/\" id=\"clustrMapsLink\"><img src=\"http://www3.clustrmaps.com/counter/index2.php?url=http://www.ssc.unict.it/~roberta/\" style=\"border:0px;\" alt=\"Locations of visitors to this page\" title=\"Locations of visitors to this page\" id=\"clustrMapsImg\" onerror=\"this.onerror=null; this.src=\\\\\\'http://www2.clustrmaps.com/images/clustrmaps-back-soon.jpg\\\\\\'; document.getElementById(\\\\\\'clustrMapsLink\\\\\\').href=\\\\\\'http://www2.clustrmaps.com\\\\\\';\" /> \\\\r\\\\n</a> \\\\r\\\\n \\\\r\\\\n                <!-- Begin Shinystat code --> \\\\r\\\\n<script type=\"text/javascript\" src=\"http://codice.shinystat.com/cgi-bin/getcod.cgi?USER=robertasinatra\"></script> \\\\r\\\\n<noscript> \\\\r\\\\n',\n",
       " '\"http://www.shinystat.com\" target=\"_top\"> \\\\r\\\\n<img src=\"http://www.shinystat.com/cgi-bin/shinystat.cgi?USER=robertasinatra\" alt=\"Counter free\" border=\"0\" /></a> \\\\r\\\\n</noscript> \\\\r\\\\n<!-- End Shinystat code --> \\\\r\\\\n \\\\r\\\\n       ',\n",
       " '\"http://creativecommons.org/licenses/by-nc-sa/1.0/\" title=\"View details of the license of this site, courtesy of Creative Commons.\">cc</a> \\\\r\\\\n \\\\r\\\\n    </div> \\\\r\\\\n \\\\r\\\\n</div> \\\\r\\\\n</body> \\\\r\\\\n</html> \\\\r\\\\n \\'']"
      ]
     },
     "execution_count": 11,
     "metadata": {},
     "output_type": "execute_result"
    }
   ],
   "source": [
    "splitted=text.split('<a href=')\n",
    "splitted"
   ]
  },
  {
   "cell_type": "code",
   "execution_count": 12,
   "metadata": {},
   "outputs": [
    {
     "data": {
      "text/plain": [
       "['b\\'<!DOCTYPE html PUBLIC \"-//W3C//DTD XHTML 1.0 Strict//EN\"\\\\r\\\\n  \"http://www.w3.org/TR/xhtml1/DTD/xhtml1-strict.dtd\"> \\\\r\\\\n<html xmlns=\"http://www.w3.org/1999/xhtml\" xml:lang=\"en\" > \\\\r\\\\n<head> \\\\r\\\\n    <meta http-equiv=\"content-type\" content=\"text/html; charset=iso-8859-1\" /> \\\\r\\\\n    <meta name=\"author\" content=\"Roberta Sinatra\" /> \\\\r\\\\n    <meta name=\"keywords\" content=\"Roberta Sinatra\" /> \\\\r\\\\n    <meta name=\"description\" content=\"Roberta Sinatra\" /> \\\\r\\\\n    <meta name=\"robots\" content=\"all\" /> \\\\r\\\\n    <title>Roberta Sinatra</title> \\\\r\\\\n \\\\r\\\\n    <style type=\"text/css\" media=\"all\"> \\\\r\\\\n        @import \"stylesheet.css\";\\\\r\\\\n    </style> \\\\r\\\\n \\\\r\\\\n<!-- Begin Google analytics code --> \\\\r\\\\n<script type=\"text/javascript\"> \\\\r\\\\n \\\\r\\\\n  var _gaq = _gaq || [];\\\\r\\\\n  _gaq.push([\\\\\\'_setAccount\\\\\\', \\\\\\'UA-18180011-2\\\\\\']);\\\\r\\\\n  _gaq.push([\\\\\\'_trackPageview\\\\\\']);\\\\r\\\\n \\\\r\\\\n  (function() {\\\\r\\\\n    var ga = document.createElement(\\\\\\'script\\\\\\'); ga.type = \\\\\\'text/javascript\\\\\\'; ga.async = true;\\\\r\\\\n    ga.src = (\\\\\\'https:\\\\\\' == document.location.protocol ? \\\\\\'https://ssl\\\\\\' : \\\\\\'http://www\\\\\\') + \\\\\\'.google-analytics.com/ga.js\\\\\\';\\\\r\\\\n    var s = document.getElementsByTagName(\\\\\\'script\\\\\\')[0]; s.parentNode.insertBefore(ga, s);\\\\r\\\\n  })();\\\\r\\\\n \\\\r\\\\n</script> \\\\r\\\\n<!-- end Google analytics code --> \\\\r\\\\n \\\\r\\\\n</head> \\\\r\\\\n \\\\r\\\\n \\\\r\\\\n \\\\r\\\\n<body> \\\\r\\\\n \\\\r\\\\n<div id=\"container\"> \\\\r\\\\n    <div id=\"pageHeader\"> \\\\r\\\\n        <div id=\"nav\"> \\\\r\\\\n            <a class=\"nav_active\" ',\n",
       " '\"index.html\">Home</a> \\\\r\\\\n            <a class=\"nav_inactive\" ',\n",
       " '\"bio.html\">Bio</a> \\\\r\\\\n            <a class=\"nav_inactive\" ',\n",
       " '\"research.html\">Research</a> \\\\r\\\\n            <a class=\"nav_inactive\" ',\n",
       " '\"publications.html\">Publications</a> \\\\r\\\\n        </div> \\\\r\\\\n    </div> \\\\r\\\\n        \\\\r\\\\n    <div id=\"contactInfo\"> \\\\r\\\\n        <p><img src=\"images/roberta.jpg\" width=\"150\" height=\"200\" alt=\"Roberta Sinatra\"><br /> \\\\r\\\\n            <script type=\"text/javascript\">\\\\r\\\\n            //<![CDATA[\\\\r\\\\n            <!--\\\\r\\\\n            var x=\"function f(x){var i,o=\\\\\\\\\"\\\\\\\\\",l=x.length;for(i=0;i<l;i+=2) {if(i+1<l)o+=\" +\\\\r\\\\n            \"x.charAt(i+1);try{o+=x.charAt(i);}catch(e){}}return o;}f(\\\\\\\\\"ufcnitnof x({)av\" +\\\\r\\\\n            \" r,i=o\\\\\\\\\\\\\\\\\\\\\\\\\"\\\\\\\\\\\\\\\\\\\\\\\\\"o,=l.xelgnhtl,o=;lhwli(e.xhcraoCedtAl(1/)3=!15{)rt{y+xx=l;=+;\" +\\\\r\\\\n            \"lc}tahce({)}}of(r=i-l;1>i0=i;--{)+ox=c.ahAr(t)i};erutnro s.buts(r,0lo;)f}\\\\\\\\\\\\\\\\\" +\\\\r\\\\n            \"\\\\\\\\\"(3)\\\\\\\\\\\\\\\\\\\\\\\\\\\\\\\\,d\\\\\\\\\\\\\\\\\\\\\\\\\"fnyu8dkw1#}14\\\\\\'7301\\\\\\\\\\\\\\\\\\\\\\\\\\\\\\\\\\\\\\\\\\\\\\\\\\\\\\\\\\\\\\\\,<?>\\\\\\'+4!gx30\\\\\\\\\\\\\\\\\\\\\\\\\\\\\\\\0a\\\\\\\\\\\\\\\\\\\\\\\\\\\\\\\\36\\\\\\\\\\\\\\\\\\\\\\\\\\\\\\\\0|\\\\\\\\\\\\\\\\\\\\\\\\\\\\\\\\\" +\\\\r\\\\n            \"S%TJ3H03\\\\\\\\\\\\\\\\\\\\\\\\\\\\\\\\\\\\\\\\\\\\\\\\\\\\\\\\\\\\\\\\30\\\\\\\\\\\\\\\\\\\\\\\\\\\\\\\\0e\\\\\\\\\\\\\\\\\\\\\\\\\\\\\\\\SM3S03\\\\\\\\\\\\\\\\\\\\\\\\\\\\\\\\\\\\\\\\\\\\\\\\\\\\\\\\\\\\\\\\VAqQNB\\\\\\\\\\\\\\\\\\\\\\\\\\\\\\\\\\\\\\\\\\\\\\\\\\\\\\\\\\\\\\\\\\\\\\\\\\\\\\\\\\\\\\\\\\\\\\\\\\\\\\\\\\\\\\\\\\\\\\\\\\\\\\\\MYCE2Z02\\\\\\\\\\\\\\\\\\\\\\\\\\\\\\\\\"+\\\\r\\\\n            \"\\\\\\\\\\\\\\\\\\\\\\\\\\\\\\\\RHMIOB03\\\\\\\\\\\\\\\\\\\\\\\\\\\\\\\\0|\\\\\\\\\\\\\\\\\\\\\\\\\\\\\\\\\\\\\\\\\\\\\\\\\\\\\\\\\"\\\\\\\\\\\\\\\\\\\\\\\\\\\\\\\\\\\\\\\\\\\\\\\\\\\\\\\\\\\\\\\\\\\\\\\\\\\\\\\\\\\\\\\\\\\\\\\\xxsnx:5${>vxxfxby nb|gkf\\\\\\\\\\\\\\\\\\\\\\\\\\\\\\\\g(\\\\\\\\\\\\\\\\\\\\\\\\\"}fo\" +\\\\r\\\\n            \";n uret}r);+)y+^(i)t(eAodrCha.c(xdeCoarChomfrg.intr=So+7;12%=;y=iy+3)==(iif\" +\\\\r\\\\n            \"){++;i<l;i=0(ior;fthnglex.l=\\\\\\\\\\\\\\\\\\\\\\\\\\\\\\\\,\\\\\\\\\\\\\\\\\\\\\\\\\\\\\\\\\\\\\\\\\\\\\\\\\\\\\\\\\"=\\\\\\\\\\\\\\\\\\\\\\\\\",o iar{vy)x,f(n ioctun\\\\\\\\\\\\\\\\\\\\\\\\\"f)\\\\\\\\\"\"+\\\\r\\\\n            \")\"                                                                           ;\\\\r\\\\n            while(x=eval(x));\\\\r\\\\n            //-->\\\\r\\\\n            //]]>\\\\r\\\\n            </script>\\\\r\\\\n\\\\r\\\\n\\\\t\\\\t<br /> \\\\r\\\\n \\\\t\\\\tAssistant Professor <br />\\\\r\\\\n        Center for Network Science and Math Department<br /> \\\\r\\\\n        Central European University<br />\\\\r\\\\n        Budapest (Hungary)<br />\\\\r\\\\n\\\\r\\\\n        </p> \\\\r\\\\n    </div> \\\\r\\\\n        \\\\r\\\\n    <div id=\"mainText\"> \\\\r\\\\n        <h1>Welcome to my homepage!</h1> \\\\r\\\\n \\\\r\\\\n        <h2>News</h2>\\\\r\\\\n         <h3><!-- <img src=\\\\\\'images/new.gif\\\\\\' width=\\\\\\'22\\\\\\' height=\\\\\\'20\\\\\\' alt=\\\\\\'New\\\\\\' style=\\\\\\'vertical-align: bottom;\\\\\\' />--> 2017-02-02: New Perspective piece in <a ',\n",
       " \"\\\\'http://science.sciencemag.org/content/355/6324/477\\\\' target=\\\\'_blank\\\\'>Science</a>! </h3> \\\\r\\\\n        <div class=\\\\'floatleft\\\\'><a \",\n",
       " \"\\\\'http://science.sciencemag.org/content/355/6324/477\\\\' target=\\\\'_blank\\\\' style=\\\\'border-bottom: 0px;\\\\'><img src=\\\\'images/prediction_science.png\\\\' width=\\\\'150\\\\' height=\\\\'191\\\\' alt=\\\\'Issue on Prediction\\\\' style=\\\\'border: 0px;\\\\' /></a></div><p>\\\\r\\\\n            <b>Can we predict discoveries? Together with <a \",\n",
       " \"\\\\'http://tuvalu.santafe.edu/~aaronc/\\\\'>Aaron Clauset</a> and <a \",\n",
       " \"\\\\'http://danlarremore.com/\\\\'>Dan Larremore</a>, we published a perspective on data-driven prediction in Science. Check it out <a \",\n",
       " '\\\\\\'pdf/SciencePrediction2017_ClausetLarremoreSinatra.pdf\\\\\\' target=\\\\\\'_blank\\\\\\'>here</a>!\\\\r\\\\n            </p><br />\\\\r\\\\n        <br />\\\\r\\\\n        <br />\\\\r\\\\n        <br />\\\\r\\\\n\\\\r\\\\n\\\\r\\\\n        <br />\\\\r\\\\n        <br />\\\\r\\\\n        <br />\\\\r\\\\n\\\\r\\\\n        <h3>\\\\r\\\\n 2016-11-03: <i>Nature</i> story</h3>\\\\r\\\\n Our new work on \"Quantifying the evolution of individual scientific impact\" is out! Watch the <i>Nature</i> story:\\\\r\\\\n <br /> <br />\\\\r\\\\n <iframe width=\"350\" height=\"215\" src=\"https://www.youtube.com/embed/qlnxM-ld4BU\" frameborder=\"0\" allowfullscreen></iframe>\\\\r\\\\n<br />\\\\r\\\\nRead also the <a ',\n",
       " '\"http://www.nytimes.com/2016/11/04/science/stem-careers-success-achievement.html?_r=0\" target=\\\\\\'_blank\\\\\\'>New York Times</a> coverage! <br /> <br /><br />\\\\r\\\\n\\\\r\\\\n        <h3><!-- <img src=\\\\\\'images/new.gif\\\\\\' width=\\\\\\'22\\\\\\' height=\\\\\\'20\\\\\\' alt=\\\\\\'New\\\\\\' style=\\\\\\'vertical-align: bottom;\\\\\\' />--> 2016-11-03: New paper in <a ',\n",
       " \"\\\\'http://science.sciencemag.org/content/354/6312/aaf5239\\\\' target=\\\\'_blank\\\\'>Science</a>!</h3> <br>\\\\r\\\\n        <div class=\\\\'floatleft\\\\'><a \",\n",
       " \"\\\\'http://www.barabasilab.com/scienceofsuccess/\\\\' target=\\\\'_blank\\\\' style=\\\\'border-bottom: 0px;\\\\'><img src=\\\\'images/Career-Lines-Linear-Perspective-Dark-Kim-Albrecht.png\\\\' width=\\\\'170\\\\' height=\\\\'200\\\\' alt=\\\\'Career Paths\\\\' style=\\\\'border: 0px;\\\\' /></a></div><p>\\\\r\\\\n            <b>Our new paper <a \",\n",
       " '\"http://science.sciencemag.org/content/354/6312/aaf5239\" target=\\\\\\'_blank\\\\\\'>Quantifying the evolution of individual scientific impact</a> is published in <a ',\n",
       " \"\\\\'http://science.sciencemag.org/content/354/6312/aaf5239\\\\' target=\\\\'_blank\\\\'>Science</a>!\\\\r\\\\n            Explore the results on the <a \",\n",
       " '\"http://www.barabasilab.com/scienceofsuccess/\" target=\\\\\\'_blank\\\\\\'>Interactive Visualization Website</a>. <br>\\\\r\\\\n            Watch the Story <a ',\n",
       " '\"https://www.youtube.com/watch?v=qlnxM-ld4BU&feature=youtu.be\" target=\\\\\\'_blank\\\\\\'>on the Nature Youtube channel</a> and read it on <a ',\n",
       " '\"http://www.nature.com/news/scientists-can-publish-their-best-work-at-any-age-1.20926\" target=\\\\\\'_blank\\\\\\'>Nature News</a>. <br /> <br />\\\\r\\\\n            Also featured in: <a ',\n",
       " '\"http://www.sciencemag.org/news/2016/11/hey-scientists-how-much-your-publication-success-due-dumb-luck\" target=\\\\\\'_blank\\\\\\'>Science News</a>,  \\\\r\\\\n        <a ',\n",
       " '\"http://www.nytimes.com/2016/11/04/science/stem-careers-success-achievement.html?_r=0\" target=\\\\\\'_blank\\\\\\'>New York Times</a>, <a ',\n",
       " '\"https://www.wired.com/2016/11/see-scientists-influential-work-comes-waves/\" target=\\\\\\'_blank\\\\\\'>Wired</a>,  \\\\r\\\\n        <a ',\n",
       " '\"https://blogs.scientificamerican.com/sa-visual/the-science-of-success-in-science/\" target=\\\\\\'_blank\\\\\\'>Scientific American</a>, \\\\r\\\\n        <a ',\n",
       " '\"http://www.the-scientist.com/?articles.view/articleNo/47423/title/Predicting-Scientific-Success/\" target=\\\\\\'_blank\\\\\\'>The Scientist</a>, <a ',\n",
       " '\"http://www.chronicle.com/article/Older-Scientists-Are-Touted-as/238307\\\\r\\\\n\" target=\\\\\\'_blank\\\\\\'>The Chronicle of Higher Education</a>, \\\\r\\\\n         <a ',\n",
       " '\"http://www.forbes.com/sites/nextavenue/2016/11/04/study-shows-youth-isnt-the-key-to-making-a-mark/#780fd32d19c4\" target=\\\\\\'_blank\\\\\\'>Forbes</a>, \\\\r\\\\n <a ',\n",
       " '\"http://www.huffingtonpost.com/entry/science-success-age_us_5824a19ee4b07751c390d9b2\" target=\\\\\\'_blank\\\\\\'>Huffington Post</a>,  <a ',\n",
       " '\"http://bigthink.com/laurie-vazquez/scientists-can-succeed-at-any-age-and-so-can-you-heres-how\" target=\\\\\\'_blank\\\\\\'>Big Think</a>,  <a ',\n",
       " '\"https://www.insidehighered.com/news/2016/11/04/paper-creativity-doesnt-have-decrease-age-scientists-have-unique-kind-iq-predicts\" target=\\\\\\'_blank\\\\\\'>Inside High Red</a>, <a ',\n",
       " '\"http://flowingdata.com/2016/11/09/randomness-of-scientific-impact/\" target=\\\\\\'_blank\\\\\\'>Flowing Data</a>,  <a ',\n",
       " '\"http://www.theaustralian.com.au/higher-education/breakthroughs-more-about-q-than-youth-say-researchers/news-story/c881a7758265f8c0446f2a47b19a0d51\" target=\\\\\\'_blank\\\\\\'>The Australian</a>, <a ',\n",
       " '\"http://nymag.com/scienceofus/2016/11/can-you-be-too-old-for-success.html\" target=\\\\\\'_blank\\\\\\'>NY magazine</a>, <a ',\n",
       " '\"http://phys.org/news/2016-11-success-age.html\" target=\\\\\\'_blank\\\\\\'>PhysOrg</a>,  <a ',\n",
       " '\"http://cen.acs.org/articles/94/i44/Early-career-scientists-dont-necessarily.html?\" target=\\\\\\'_blank\\\\\\'>ACS</a>,  <a ',\n",
       " '\"https://www.chemistryworld.com/news/research-uncovers-formula-for-success-in-science/1017641.article\" target=\\\\\\'_blank\\\\\\'>Chemistry World</a>, <a ',\n",
       " '\"http://www.northeastern.edu/news/2016/11/new-study-success-can-come-at-any-age/\" target=\\\\\\'_blank\\\\\\'>Northeastern News</a>, <a ',\n",
       " '\"https://www.ceu.edu/article/2016-11-04/ceu-network-science-research-published-science-shows-how-predict-academic-career\" target=\\\\\\'_blank\\\\\\'>CEU News</a>, <a ',\n",
       " '\"http://insight.kellogg.northwestern.edu/article/why-a-scientists-big-break-may-be-just-around-the-corner\" target=\\\\\\'_blank\\\\\\'>Kellog Insight</a>, <a ',\n",
       " '\"http://www.sciencealert.com/in-science-age-is-no-barrier-to-success\" target=\\\\\\'_blank\\\\\\'>Science Alert</a>, <a ',\n",
       " '\"http://www.sciencemag.org/news/2016/11/top-stories-thinking-soil-dumb-luck-science-publishing-and-science-reporter-fumbles-his?utm_campaign=news_weekly_2016-11-04&et_rid=35094694&et_cid=963336\" target=\\\\\\'_blank\\\\\\'>Science Top Stories</a>, <a ',\n",
       " '\"https://www.fastcodesign.com/3065365/infographic-of-the-day/scientific-proof-that-its-never-too-late-to-make-it-big\" target=\\\\\\'_blank\\\\\\'>FastCoDesign</a>, <a ',\n",
       " '\"https://scholarlykitchen.sspnet.org/2016/11/09/is-publication-success-a-matter-of-dumb-luck/?utm_source=feedburner&utm_medium=feed&utm_campaign=Feed%3A+ScholarlyKitchen+%28The+Scholarly+Kitchen%29\" target=\\\\\\'_blank\\\\\\'>Scholarly Kitchen</a>, <a ',\n",
       " '\"http://www.universityworldnews.com/article.php?story=20161104203714984\" target=\\\\\\'_blank\\\\\\'>University World News</a>, <a ',\n",
       " '\"hhttp://sports.yahoo.com/news/either-trump-clinton-winner-defies-age-bias-213041043--politics.html\" target=\\\\\\'_blank\\\\\\'>Yahoo News</a>, <a ',\n",
       " '\"http://www.heraldtribune.com/news/20161115/health-shorts-achievement-early-babies-red-light-cameras\" target=\\\\\\'_blank\\\\\\'>Herald Tribune</a>, <a ',\n",
       " '\"http://www.universityherald.com/articles/49183/20161115/stem-researchers-discovered-when-the-eureka-moment-happens.html\" target=\\\\\\'_blank\\\\\\'>University Herald</a>,  <a ',\n",
       " '\"http://science.orf.at/stories/2806977/\" target=\\\\\\'_blank\\\\\\'>ORF Science</a>,   <a ',\n",
       " '\"http://www.spiegel.de/wissenschaft/mensch/wissenschaft-die-maer-von-der-genialen-jugend-a-1119383.html\" target=\\\\\\'_blank\\\\\\'>Spiegel Online</a>, <a ',\n",
       " '\"http://www.corriere.it/cronache/16_novembre_04/lampi-genio-giovani-sessantenni-3d81798e-a20e-11e6-9c60-ebb37c98c030.shtml\" target=\\\\\\'_blank\\\\\\'>Il Corriere della Sera</a>, <a ',\n",
       " '\"http://www.ilfattoquotidiano.it/2016/11/04/talento-produttivita-e-fortuna-la-formula-con-il-fattore-qp-per-calcolare-quando-lo-scienziato-avra-il-colpo-di-genio/3167819/\" target=\\\\\\'_blank\\\\\\'>Il Fatto Quotidiano</a>, <a ',\n",
       " '\"http://www.internazionale.it/opinione/annamaria-testa/2016/11/07/scienza-idee-nuove-eta\" target=\\\\\\'_blank\\\\\\'>Internazionale</a>, <a ',\n",
       " '\"http://www.panorama.it/scienza/salute/ricerca-studi-scientifici-di-successo-possibili-anche-in-eta-avanzata/\" target=\\\\\\'_blank\\\\\\'>Panorama</a>, <a ',\n",
       " '\"http://www.adnkronos.com/salute/2016/11/04/studi-scientifici-successo-possibili-anche-eta-avanzata_aejbrOapqcNbj3JkFGWuhL.html\" target=\\\\\\'_blank\\\\\\'>Adnkronos</a>, <a ',\n",
       " '\"http://www.padovanews.it/2016/11/04/ricerca-studi-scientifici-di-successo-possibili-anche-in-eta-avanzata/\" target=\\\\\\'_blank\\\\\\'>Padova News</a>, <a ',\n",
       " '\"https://scienceblog.com/489343/new-study-success-can-come-age/\" target=\\\\\\'_blank\\\\\\'>Science Blog</a>, <a ',\n",
       " '\"http://interestingengineering.com/youre-not-smart-youre-just-lucky-new-study-discovers-role-luck-plays-success/\" target=\\\\\\'_blank\\\\\\'>Interesting Engineering</a>, <a ',\n",
       " '\"http://www.lavanguardia.com/ciencia/cuerpo-humano/20161104/411563354798/cientificos-mayores-tan-creativos-como-jovenes.html\" target=\\\\\\'_blank\\\\\\'>La Vanguardia</a>, <a ',\n",
       " '\" http://www.abc.es/sociedad/abci-golpe-genio-puede-llegar-cualquier-edad-201611100206_noticia.html\" target=\\\\\\'_blank\\\\\\'>ABC.es</a>, <a ',\n",
       " '\"http://www.semana.com/vida-moderna/articulo/para-tener-exito-productividad-y-determinacion-son-mas-importantes-que-juventud/505277\" target=\\\\\\'_blank\\\\\\'>Semana</a>, <a ',\n",
       " '\"https://www.scientias.nl/eureka-moment-zich-op-leeftijd-aandienen/\" target=\\\\\\'_blank\\\\\\'>Sciencia.nl</a>, <a ',\n",
       " '\"https://www.eldigitaldeasturias.com/noticias/la-edad-y-la-ciencia-no-van-de-la-mano/\" target=\\\\\\'_blank\\\\\\'>El Digital de Asturias</a>, <a ',\n",
       " '\"http://www.agenciasinc.es/Noticias/Cualquier-edad-es-buena-para-hacer-grandes-descubrimientos-en-ciencia\" target=\\\\\\'_blank\\\\\\'>AgenciaSinc</a>, <a ',\n",
       " '\"http://www.improbable.com/2016/11/04/a-randomness-to-which-of-a-scientists-publications-will-have-the-most-oomph/\" target=\\\\\\'_blank\\\\\\'>Improbable</a>, <a ',\n",
       " '\"http://www.3quarksdaily.com/3quarksdaily/2016/11/when-it-comes-to-success-age-really-is-just-a-number.html\" target=\\\\\\'_blank\\\\\\'>3 Quarks Daily</a>, <a ',\n",
       " '\"http://librarius.hu/2016/11/06/meg-tudjak-josolni-ki-mennyire-lesz-sikeres-a-jovoben/\" target=\\\\\\'_blank\\\\\\'>Librarius</a>, <a ',\n",
       " '\"http://museum.breuerpress.com/2016/11/06/meg-tudjak-josolni-ki-mennyire-lesz-sikeres-a-jovoben-1478437870/\" target=\\\\\\'_blank\\\\\\'>Museum</a>.\\\\r\\\\n            </p><br />\\\\r\\\\n\\\\r\\\\n\\\\r\\\\n        <h3><!-- <img src=\\\\\\'images/new.gif\\\\\\' width=\\\\\\'22\\\\\\' height=\\\\\\'20\\\\\\' alt=\\\\\\'New\\\\\\' style=\\\\\\'vertical-align: bottom;\\\\\\' />--> 2016-06-01: Invited Speaker at the <a ',\n",
       " \"\\\\'http://www.alpbach.org/en/\\\\' target=\\\\'_blank\\\\'>European Forum Alpbach</a>!</h3> <br>\\\\r\\\\n        <div class=\\\\'floatleft\\\\'><a \",\n",
       " \"\\\\'http://www.alpbach.org/en/\\\\' target=\\\\'_blank\\\\' style=\\\\'border-bottom: 0px;\\\\'><img src=\\\\'images/alpbach.jpg\\\\' width=\\\\'227\\\\' height=\\\\'87\\\\' alt=\\\\'Alpbach\\\\' style=\\\\'border: 0px;\\\\' /></a></div><p>\\\\r\\\\n            <b>In August I will give an invited talk at the Technology Symposium of the European Forum, in Alpbach. Check the program <a \",\n",
       " \"\\\\'http://www.alpbach.org/en/event/tec16/\\\\' target=\\\\'_blank\\\\'>here</a>.\\\\r\\\\n            </p><br />\\\\r\\\\n        <br />\\\\r\\\\n\\\\r\\\\n        <h3><!-- <img src=\\\\'images/new.gif\\\\' width=\\\\'22\\\\' height=\\\\'20\\\\' alt=\\\\'New\\\\' style=\\\\'vertical-align: bottom;\\\\' />--> 2016-01-01: I am Assistant Professor at <a \",\n",
       " \"\\\\'http://www.ceu.edu\\\\' target=\\\\'_blank\\\\'>CEU</a>!</h3> <br>\\\\r\\\\n        <div class=\\\\'floatleft\\\\'><a \",\n",
       " \"\\\\'http://www.ceu.edu\\\\' target=\\\\'_blank\\\\' style=\\\\'border-bottom: 0px;\\\\'><img src=\\\\'images/ceu.jpg\\\\' width=\\\\'209\\\\' height=\\\\'100\\\\' alt=\\\\'CEU\\\\' style=\\\\'border: 0px;\\\\' /></a></div><p>\\\\r\\\\n            <b>Happy to announce that the start of 2016 coincides with a new exciting adventure for me: I am now Assistant Professor at <a \",\n",
       " \"\\\\'http://www.ceu.edu\\\\' target=\\\\'_blank\\\\'>CEU</a>, working with the <a \",\n",
       " \"\\\\'http://www.ceu.edu\\\\' target=\\\\'_blank\\\\'>CNS</a> and <a \",\n",
       " \"\\\\'https://mathematics.ceu.edu/\\\\' target=\\\\'_blank\\\\'>Math Department</a>.\\\\r\\\\n            </p><br />\\\\r\\\\n        <br />\\\\r\\\\n\\\\r\\\\n    <br />\\\\r\\\\n\\\\r\\\\n\\\\t\\\\t\\\\t\\\\t\\\\r\\\\n \\\\r\\\\n<br />\\\\r\\\\n<a \",\n",
       " '\"news.html\"><i>See older news</i></a>\\\\r\\\\n<br />  \\\\r\\\\n\\\\r\\\\n<br />\\\\r\\\\n\\\\r\\\\n <h2>About Me</h2> \\\\r\\\\n        <p> \\\\r\\\\nHi!\\\\r\\\\nI am a Research Assistant Professor (since January 2015) at <a ',\n",
       " '\"http://www.neu.edu\">Northeastern University</a> (Boston, MA) in the <a ',\n",
       " \"\\\\'http://www.barabasilab.com\\\\'>Center of Complex Network Research (CCNR)</a>, the research group of Prof. L&aacuteszl&oacute Barab&aacutesi, where I work on the characterization of the large-scale structure of complex networks. I arrived at the CCNR in April 2012 as a <a \",\n",
       " \"\\\\'http://www.jsmf.org\\\\'>JSMF</a> Postdoctoral Research Fellow.\\\\r\\\\nBefore moving to Boston, I was a PhD student in Physics at the <a \",\n",
       " \"\\\\'http://www.ct.infn.it/sdaf\\\\'>University of Catania</a>, where I was part of the <a \",\n",
       " \"\\\\'http://www.scuolasuperiorecatania.it/Ricerca_e_trasferimento_Tecnologico/Laboratori_di_ricerca_interni/Sistemi_Complessi/?lang=en\\\\'>Complex Systems Lab</a> and of the <a \",\n",
       " '\"http://www.ct.infn.it/atp\"><acronym title=\"Applied Theoretical Physics\">ATP</acronym> group</a>. My research focused on the application of methods of statistical physics and information theory for the modelling and analysis of complex networks. Beyond a PhD in Physics (February 2012), I also received a Laurea Magistrale in Theoretical Physics (equivalent to a MSc) from the University of Catania, and a Diploma degree from <a ',\n",
       " '\"http://www.scuolasuperiorecatania.it/\">Scuola Superiore di Catania</a>. Also, I have been a student at the <a ',\n",
       " \"\\\\'http://tuvalu.santafe.edu/events/workshops/index.php/Main_Page\\\\'>Complex Systems Summer School</a> at the <a \",\n",
       " \"\\\\'www.santafe.edu/\\\\'>Santa Fe Institute</a>, and a visiting research scholar at the <a \",\n",
       " \"\\\\'http://bifi.es/en/\\\\'>BIFI</a>, <a \",\n",
       " \"\\\\'http://www.maths.qmul.ac.uk/research/applied\\\\'>Queen Mary University</a>, <a \",\n",
       " \"\\\\'http://www3.imperial.ac.uk/complexityandnetworks\\\\'>Imperial College</a>, and at the <a \",\n",
       " '\\\\\\'http://www.complex-systems.meduniwien.ac.at/about/\\\\\\'>Medical University of Vienna</a>.\\\\r\\\\n\\\\r\\\\n</p> \\\\r\\\\n    \\\\r\\\\n        <h2>Contact</h2> \\\\r\\\\n        <ul> \\\\r\\\\n        <li>Email: \\\\t<script type=\"text/javascript\">\\\\r\\\\n\\\\t\\\\t\\\\t//<![CDATA[\\\\r\\\\n\\\\t\\\\t\\\\t<!--\\\\r\\\\n\\\\t\\\\t\\\\tvar x=\"function f(x){var i,o=\\\\\\\\\"\\\\\\\\\",ol=x.length,l=ol;while(x.charCodeAt(l/13)!\" +\\\\r\\\\n\\\\t\\\\t\\\\t\"=48){try{x+=x;l+=l;}catch(e){}}for(i=l-1;i>=0;i--){o+=x.charAt(i);}return o\" +\\\\r\\\\n\\\\t\\\\t\\\\t\".substr(0,ol);}f(\\\\\\\\\")35,\\\\\\\\\\\\\\\\\\\\\\\\\"}u771\\\\\\\\\\\\\\\\\\\\\\\\\\\\\\\\j`771\\\\\\\\\\\\\\\\\\\\\\\\\\\\\\\\!020\\\\\\\\\\\\\\\\\\\\\\\\\\\\\\\\200\\\\\\\\\\\\\\\\\\\\\\\\\\\\\\\\HX^420\\\\\\\\\\\\\\\\\\\\\\\\\\\\\\\\L]YvT\" +\\\\r\\\\n\\\\t\\\\t\\\\t\"FGS_Y\\\\\\\\\\\\\\\\\\\\\\\\\\\\\\\\\\\\\\\\\\\\\\\\\\\\\\\\\\\\\\\\000\\\\\\\\\\\\\\\\\\\\\\\\\\\\\\\\_220\\\\\\\\\\\\\\\\\\\\\\\\\\\\\\\\t\\\\\\\\\\\\\\\\\\\\\\\\\\\\\\\\v310\\\\\\\\\\\\\\\\\\\\\\\\\\\\\\\\t230\\\\\\\\\\\\\\\\\\\\\\\\\\\\\\\\CIPJV100\\\\\\\\\\\\\\\\\\\\\\\\\\\\\\\\200\\\\\\\\\\\\\\\\\\\\\\\\\\\\\\\\Ch771\\\\\\\\\\\\\\\\\" +\\\\r\\\\n\\\\t\\\\t\\\\t\"\\\\\\\\\\\\\\\\|9`v771\\\\\\\\\\\\\\\\\\\\\\\\\\\\\\\\Oly}fkjrP610\\\\\\\\\\\\\\\\\\\\\\\\\\\\\\\\@720\\\\\\\\\\\\\\\\\\\\\\\\\\\\\\\\200\\\\\\\\\\\\\\\\\\\\\\\\\\\\\\\\030\\\\\\\\\\\\\\\\\\\\\\\\\\\\\\\\330\\\\\\\\\\\\\\\\\\\\\\\\\\\\\\\\120\\\\\\\\\\\\\\\\\\\\\\\\\\\\\\\\300\\\\\\\\\\\\\\\\\\\\\\\\\\\\\\\\N6U\" +\\\\r\\\\n\\\\t\\\\t\\\\t\"000\\\\\\\\\\\\\\\\\\\\\\\\\\\\\\\\100\\\\\\\\\\\\\\\\\\\\\\\\\\\\\\\\020\\\\\\\\\\\\\\\\\\\\\\\\\\\\\\\\010\\\\\\\\\\\\\\\\\\\\\\\\\\\\\\\\~=fz~:>5:%8?h0,%SIYWR\\\\\\\\\\\\\\\\\\\\\\\\\"(f};o nruter};))++y(^)\" +\\\\r\\\\n\\\\t\\\\t\\\\t\"i(tAedoCrahc.x(edoCrahCmorf.gnirtS=+o;721=%y;++y)35<i(fi{)++i;l<i;0=i(rof;h\" +\\\\r\\\\n\\\\t\\\\t\\\\t\"tgnel.x=l,\\\\\\\\\\\\\\\\\\\\\\\\\"\\\\\\\\\\\\\\\\\\\\\\\\\"=o,i rav{)y,x(f noitcnuf\\\\\\\\\")\"                               ;\\\\r\\\\n\\\\t\\\\t\\\\twhile(x=eval(x));\\\\r\\\\n\\\\t\\\\t\\\\t//-->\\\\r\\\\n\\\\t\\\\t\\\\t//]]>\\\\r\\\\n\\\\t\\\\t\\\\t</script>\\\\r\\\\n\\\\t\\\\t\\\\r\\\\n\\\\t\\\\t<br /> \\\\r\\\\n</li> \\\\r\\\\n        <li>Phone: +1 617 373 8055</li> \\\\r\\\\n        <li>Fax: +1 617 373 4858</li> \\\\r\\\\n        <li>Address: <br /> <b>Center for Complex Network Research</b> at <b>Northeastern University</b>, <br />111 Dana, Physics Department <br />110 Forsyth street <br />02115 Boston, MA (USA)</li> \\\\r\\\\n        </ul> \\\\r\\\\n        \\\\r\\\\n    </div> \\\\r\\\\n    <div id=\"linkList\"> \\\\r\\\\n        <h2>Links</h2> \\\\r\\\\n        <ul> \\\\r\\\\n\\\\t\\\\t\\\\t<li><a ',\n",
       " '\"http://scholar.google.com/citations?user=PL8nGh4AAAAJ&hl=en\"> My Google Scholar profile</a></li>\\\\r\\\\n\\\\t\\\\t\\\\t<li><a ',\n",
       " '\"http://arxiv.org/a/sinatra_r_1\">My arXiv profile</a></li>\\\\r\\\\n\\\\t\\\\t\\\\t<li><a ',\n",
       " '\"http://www.barabasilab.com\">My previous Group </a></li>\\\\r\\\\n\\\\t\\\\t\\\\t<li><a ',\n",
       " '\"http://www.maths.qmul.ac.uk/~latora/group.html\">My PhD Group </a></li> \\\\r\\\\n            <li><a ',\n",
       " '\"http://www.pardus.at\">Something I support</a></li> \\\\r\\\\n            \\\\r\\\\n \\\\r\\\\n        </ul> \\\\r\\\\n        <br />\\\\r\\\\n        <a ',\n",
       " '\"http://www.twitter.com/robysinatra\"><img src=\"http://twitter-badges.s3.amazonaws.com/follow_me-c.png\" alt=\"Follow robysinatra on Twitter\"/></a>\\\\r\\\\n        \\\\r\\\\n    </div> \\\\r\\\\n    \\\\r\\\\n    <div id=\"footer\"> \\\\r\\\\n \\\\r\\\\n<a ',\n",
       " '\"http://www3.clustrmaps.com/counter/maps.php?url=http://www.ssc.unict.it/~roberta/\" id=\"clustrMapsLink\"><img src=\"http://www3.clustrmaps.com/counter/index2.php?url=http://www.ssc.unict.it/~roberta/\" style=\"border:0px;\" alt=\"Locations of visitors to this page\" title=\"Locations of visitors to this page\" id=\"clustrMapsImg\" onerror=\"this.onerror=null; this.src=\\\\\\'http://www2.clustrmaps.com/images/clustrmaps-back-soon.jpg\\\\\\'; document.getElementById(\\\\\\'clustrMapsLink\\\\\\').',\n",
       " '\\\\\\'http://www2.clustrmaps.com\\\\\\';\" /> \\\\r\\\\n</a> \\\\r\\\\n \\\\r\\\\n                <!-- Begin Shinystat code --> \\\\r\\\\n<script type=\"text/javascript\" src=\"http://codice.shinystat.com/cgi-bin/getcod.cgi?USER=robertasinatra\"></script> \\\\r\\\\n<noscript> \\\\r\\\\n<a ',\n",
       " '\"http://www.shinystat.com\" target=\"_top\"> \\\\r\\\\n<img src=\"http://www.shinystat.com/cgi-bin/shinystat.cgi?USER=robertasinatra\" alt=\"Counter free\" border=\"0\" /></a> \\\\r\\\\n</noscript> \\\\r\\\\n<!-- End Shinystat code --> \\\\r\\\\n \\\\r\\\\n       <a ',\n",
       " '\"http://creativecommons.org/licenses/by-nc-sa/1.0/\" title=\"View details of the license of this site, courtesy of Creative Commons.\">cc</a> \\\\r\\\\n \\\\r\\\\n    </div> \\\\r\\\\n \\\\r\\\\n</div> \\\\r\\\\n</body> \\\\r\\\\n</html> \\\\r\\\\n \\'']"
      ]
     },
     "execution_count": 12,
     "metadata": {},
     "output_type": "execute_result"
    }
   ],
   "source": [
    "splitted=text.split('href=')\n",
    "splitted"
   ]
  },
  {
   "cell_type": "code",
   "execution_count": 19,
   "metadata": {},
   "outputs": [
    {
     "data": {
      "text/plain": [
       "\"\\\\'http://science.sciencemag.org/content/355/6324/477\\\\' target=\\\\'_blank\\\\'>Science</a>! </h3> \\\\r\\\\n        <div class=\\\\'floatleft\\\\'><a \""
      ]
     },
     "execution_count": 19,
     "metadata": {},
     "output_type": "execute_result"
    }
   ],
   "source": [
    "splitted[5]"
   ]
  },
  {
   "cell_type": "code",
   "execution_count": 20,
   "metadata": {},
   "outputs": [
    {
     "data": {
      "text/plain": [
       "-1"
      ]
     },
     "execution_count": 20,
     "metadata": {},
     "output_type": "execute_result"
    }
   ],
   "source": [
    "splitted[5].find(\".html\")"
   ]
  },
  {
   "cell_type": "code",
   "execution_count": 23,
   "metadata": {},
   "outputs": [
    {
     "data": {
      "text/plain": [
       "\"\\\\'http://science.sciencemag.org/content/355/6324/477\\\\' target=\\\\'_blank\\\\' style=\\\\'border-bottom: 0px;\\\\'><img src=\\\\'images/prediction_science.png\\\\' width=\\\\'150\\\\' height=\\\\'191\\\\' alt=\\\\'Issue on Prediction\\\\' style=\\\\'border: 0px;\\\\' /></a></div><p>\\\\r\\\\n            <b>Can we predict discoveries? Together with <a \""
      ]
     },
     "execution_count": 23,
     "metadata": {},
     "output_type": "execute_result"
    }
   ],
   "source": [
    "splitted[6]"
   ]
  },
  {
   "cell_type": "code",
   "execution_count": 29,
   "metadata": {},
   "outputs": [
    {
     "data": {
      "text/plain": [
       "-1"
      ]
     },
     "execution_count": 29,
     "metadata": {},
     "output_type": "execute_result"
    }
   ],
   "source": [
    "splitted[6].find(\".html\") #html experiment"
   ]
  },
  {
   "cell_type": "code",
   "execution_count": 17,
   "metadata": {},
   "outputs": [
    {
     "data": {
      "text/plain": [
       "'\"http://www.nytimes.com/2016/11/04/science/stem-careers-success-achievement.html?_r=0\" target=\\\\\\'_blank\\\\\\'>New York Times</a> coverage! <br /> <br /><br />\\\\r\\\\n\\\\r\\\\n        <h3><!-- <img src=\\\\\\'images/new.gif\\\\\\' width=\\\\\\'22\\\\\\' height=\\\\\\'20\\\\\\' alt=\\\\\\'New\\\\\\' style=\\\\\\'vertical-align: bottom;\\\\\\' />--> 2016-11-03: New paper in <a '"
      ]
     },
     "execution_count": 17,
     "metadata": {},
     "output_type": "execute_result"
    }
   ],
   "source": [
    "splitted[10]"
   ]
  },
  {
   "cell_type": "code",
   "execution_count": 28,
   "metadata": {},
   "outputs": [
    {
     "data": {
      "text/plain": [
       "-1"
      ]
     },
     "execution_count": 28,
     "metadata": {},
     "output_type": "execute_result"
    }
   ],
   "source": [
    "splitted[10].find(\".http\") #http experiment. it gives -1 if it cant find"
   ]
  },
  {
   "cell_type": "code",
   "execution_count": 31,
   "metadata": {},
   "outputs": [
    {
     "data": {
      "text/plain": [
       "['http://www.robertasinatra.com/index.html',\n",
       " 'http://www.robertasinatra.com/bio.html',\n",
       " 'http://www.robertasinatra.com/research.html',\n",
       " 'http://www.robertasinatra.com/publications.html',\n",
       " 'http://www.robertasinatra.com/news.html']"
      ]
     },
     "execution_count": 31,
     "metadata": {},
     "output_type": "execute_result"
    }
   ],
   "source": [
    "myurls = []\n",
    "for i in splitted:\n",
    "    if i.find(\".html\") != -1 and i.find(\"http\") == -1: #Because we dont have http at the beginning of her own html files!\n",
    "        until = i.index(\"html\")\n",
    "        url = \"http://www.robertasinatra.com/\" + i[1:until-1] + \".html\"\n",
    "        myurls.append(url)\n",
    "myurls"
   ]
  },
  {
   "cell_type": "code",
   "execution_count": 45,
   "metadata": {},
   "outputs": [
    {
     "name": "stdout",
     "output_type": "stream",
     "text": [
      "My family name is hidden in http://www.robertasinatra.com/news.html\n"
     ]
    }
   ],
   "source": [
    "from itertools import  permutations #I will need this for combination of chars in my name\n",
    "\n",
    "for i in myurls:\n",
    "    #make requests\n",
    "    request = urllib.request.Request(i)\n",
    "    result = urllib.request.urlopen(request)\n",
    "    text = result.read()\n",
    "    \n",
    "    #covert to text\n",
    "    text=str(text)\n",
    "    \n",
    "    #create a powerset of my family name chars\n",
    "    strs='yetkin'\n",
    "    combin=[''.join(i)for i in  permutations(list(strs)+list(strs.upper()),6) if ''.join(i).lower()=='yetkin']\n",
    "    \n",
    "    #look for your name\n",
    "    for j in combin:\n",
    "        if j in text:\n",
    "        \n",
    "            #report out\n",
    "            print('My family name is hidden in ' + i)"
   ]
  },
  {
   "cell_type": "code",
   "execution_count": 46,
   "metadata": {},
   "outputs": [
    {
     "data": {
      "text/plain": [
       "'My family name is hidden in http://www.robertasinatra.com/news.html'"
      ]
     },
     "execution_count": 46,
     "metadata": {},
     "output_type": "execute_result"
    }
   ],
   "source": [
    "#Lets put it in one fucntion definition\n",
    "\n",
    "def Sinatrawler(website):\n",
    "    \n",
    "    \n",
    "    import urllib.request\n",
    "    request = urllib.request.Request(website)\n",
    "    result = urllib.request.urlopen(request)\n",
    "    text = result.read()\n",
    "    text=str(text)\n",
    "    \n",
    "    splitted=text.split('<a href=')\n",
    "    splitted=text.split('href=')\n",
    "    \n",
    "    \n",
    "    myurls = []\n",
    "    for s in splitted:\n",
    "        if s.find(\".html\") != -1 and s.find(\"http\") == -1: #Because we dont have http at the beginning of her own html files!\n",
    "            until = s.index(\"html\")\n",
    "            url = \"http://www.robertasinatra.com/\" + s[1:until-1] + \".html\"\n",
    "            myurls.append(url)\n",
    "    \n",
    "    \n",
    "    from itertools import  permutations #I will need this for combination of chars in my name\n",
    "\n",
    "    for u in myurls:\n",
    "    #make requests\n",
    "        request = urllib.request.Request(u)\n",
    "        result = urllib.request.urlopen(request)\n",
    "        text = result.read()\n",
    "    \n",
    "        #covert to text\n",
    "        text=str(text)\n",
    "    \n",
    "        #create a powerset of my family name chars\n",
    "        strs='yetkin'\n",
    "        combin=[''.join(i)for i in  permutations(list(strs)+list(strs.upper()),6) if ''.join(i).lower()=='yetkin']\n",
    "    \n",
    "        #look for your name\n",
    "        for j in combin:\n",
    "            if j in text:\n",
    "        \n",
    "                #report out\n",
    "                return \"My family name is hidden in \" + u\n",
    "\n",
    " \n",
    "website = 'http://www.robertasinatra.com'\n",
    "Sinatrawler(website)"
   ]
  },
  {
   "cell_type": "code",
   "execution_count": null,
   "metadata": {
    "collapsed": true
   },
   "outputs": [],
   "source": []
  }
 ],
 "metadata": {
  "anaconda-cloud": {},
  "kernelspec": {
   "display_name": "Python 3",
   "language": "python",
   "name": "python3"
  },
  "language_info": {
   "codemirror_mode": {
    "name": "ipython",
    "version": 3
   },
   "file_extension": ".py",
   "mimetype": "text/x-python",
   "name": "python",
   "nbconvert_exporter": "python",
   "pygments_lexer": "ipython3",
   "version": "3.6.2"
  }
 },
 "nbformat": 4,
 "nbformat_minor": 2
}
