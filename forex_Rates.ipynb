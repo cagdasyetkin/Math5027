{
 "cells": [
  {
   "cell_type": "markdown",
   "metadata": {},
   "source": [
    "<div class=\"frontmatter text-center\">\n",
    "<h2> MATH5027 Scientific Python, Fall 2017</h2>\n",
    "<h2> Homework 3, Due: Tuesday October 17th, 3pm </h2>\n",
    "</div>\n",
    "\n",
    "Instructions: complete the selection of exercises from the week's class notebooks. Use markdown cells between code examples to explain."
   ]
  },
  {
   "cell_type": "markdown",
   "metadata": {},
   "source": [
    "## Questions \n",
    "### From Class 5:\n",
    "\n",
    "\n",
    "1) Write a Python program (function!) to subtract five days from current date\n",
    "\n",
    "2) Write a Python program (function!) to add 5 seconds with current time\n",
    "\n",
    "3) Write a Python program (function!) to get a list of dates between two dates\n",
    "\n",
    "4) Calculate the difference (function!) in days between the unix Epoch and your birthdate"
   ]
  },
  {
   "cell_type": "code",
   "execution_count": 1,
   "metadata": {
    "collapsed": true
   },
   "outputs": [],
   "source": [
    "import datetime\n",
    "#first 4 questions goes like:"
   ]
  },
  {
   "cell_type": "code",
   "execution_count": 53,
   "metadata": {},
   "outputs": [
    {
     "data": {
      "text/plain": [
       "'5 days ago it was 2017-10-12 12:43:06, Marti!'"
      ]
     },
     "execution_count": 53,
     "metadata": {},
     "output_type": "execute_result"
    }
   ],
   "source": [
    "def DeLorean():\n",
    "    #a time machine default setup 5 days backwards \n",
    "    import datetime\n",
    "    FiveDaysBefore = datetime.datetime.now() - datetime.timedelta(5)\n",
    "    return (\"5 days ago it was \" + str(FiveDaysBefore.strftime(\"%Y-%m-%d %H:%M:%S\")) + \", Marti!\")\n",
    "\n",
    "DeLorean()"
   ]
  },
  {
   "cell_type": "code",
   "execution_count": 54,
   "metadata": {},
   "outputs": [
    {
     "data": {
      "text/plain": [
       "'5 seconds from now will be 2017-10-17 12:43:28, Marti!'"
      ]
     },
     "execution_count": 54,
     "metadata": {},
     "output_type": "execute_result"
    }
   ],
   "source": [
    "def DeLorean2():\n",
    "    #a time machine going back to the future \n",
    "    import datetime\n",
    "    FiveSecsForwards = datetime.datetime.now() + datetime.timedelta(seconds = 5)\n",
    "    return (\"5 seconds from now will be \" + str(FiveSecsForwards.strftime(\"%Y-%m-%d %H:%M:%S\")) + \", Marti!\")\n",
    "\n",
    "\n",
    "DeLorean2()\n",
    "\n"
   ]
  },
  {
   "cell_type": "code",
   "execution_count": 55,
   "metadata": {},
   "outputs": [
    {
     "name": "stdout",
     "output_type": "stream",
     "text": [
      "1965-05-15\n",
      "##################\n",
      "1985-05-15\n"
     ]
    }
   ],
   "source": [
    "import datetime\n",
    "\n",
    "date1 = datetime.date(1965, 5, 15)\n",
    "date2 = datetime.date(1985, 5, 15)\n",
    "\n",
    "def DeLorean3(date1, date2):\n",
    "    import datetime\n",
    "    #Flux Capacitor: input your dates and it returns a list of dates between them\n",
    "    destination_time    = date1 \n",
    "    date_of_time_travel = date2 \n",
    "\n",
    "    delta = date_of_time_travel - destination_time\n",
    "\n",
    "    date_list = [destination_time + datetime.timedelta(days=i) for i in range(delta.days + 1)]\n",
    "    return date_list\n",
    "\n",
    "print(DeLorean3(date1, date2)[0])\n",
    "print(\"##################\")\n",
    "print(DeLorean3(date1, date2)[-1])\n"
   ]
  },
  {
   "cell_type": "code",
   "execution_count": 56,
   "metadata": {},
   "outputs": [
    {
     "name": "stdout",
     "output_type": "stream",
     "text": [
      "4174 days, 0:00:00\n"
     ]
    }
   ],
   "source": [
    "def BirthUnixDays():\n",
    "    import datetime\n",
    "    # Calculate the difference (function!) in days between the unix Epoch and your birthdate\n",
    "    # or what was the unix count on your birthday\n",
    "    # we know the epoch date, it is default Thursday, 1 January 1970\n",
    "    epoch = datetime.date(1970, 1, 1)\n",
    "    birth = datetime.date(1981, 6, 6)\n",
    "\n",
    "    delta = birth - epoch\n",
    "    return print(delta)\n",
    "\n",
    "BirthUnixDays()"
   ]
  },
  {
   "cell_type": "markdown",
   "metadata": {},
   "source": [
    "### From Class 6:\n",
    "\n",
    "1) Create a for loop over all years and months between 2010 and 2011, in each loop download the json exchange data for each month, and save it to a big dictionary called ``time2data``, where keys are (year,month) tuples.\n",
    "*Important*: It should take only a few seconds. If you are not sure your code works, test only with a few months, as you can reach the rate limit.\n",
    "\n",
    "2) Register for the API, and create your own app_id key\n",
    "\n",
    "3) Get the exchange rate HUF vs USD from 2000 to 2010, but every six months. Plot it on a plot.\n",
    "\n",
    "4) Get the exchange rate EUR vs USD from 2000 to 2010 monthly (careful with API rate limits! Test with, say, one year of data, and then request the rest). Plot it.\n",
    "\n",
    "5) Combine the two previous trends in one plot: put EUR vs USD in the main plot and HUF vs USD in an insert. Use different colors, and different symbols.\n",
    "\n"
   ]
  },
  {
   "cell_type": "markdown",
   "metadata": {},
   "source": [
    "Answers From Class 6:"
   ]
  },
  {
   "cell_type": "markdown",
   "metadata": {},
   "source": [
    "1)"
   ]
  },
  {
   "cell_type": "markdown",
   "metadata": {},
   "source": [
    "In the following questions I will use some functions to get the list of dates. However, in this first one I want to use the method I have created myself"
   ]
  },
  {
   "cell_type": "code",
   "execution_count": 2,
   "metadata": {
    "collapsed": true
   },
   "outputs": [],
   "source": [
    "#Libraries I will use:\n",
    "import urllib.request\n",
    "import json\n",
    "\n",
    "#We will do this in 6 steps\n",
    "\n",
    "#First, create a datelist covering the time period of interest.\n",
    "datelist = ['']*12\n",
    "year1 = [\"2010-0%s-01\" % str(i+1) if i < 9 else \"2010-%s-01\" % str(i+1) for i in range(len(datelist))]\n",
    "year2 = [\"2011-0%s-01\" % str(i+1) if i < 9 else \"2011-%s-01\" % str(i+1) for i in range(len(datelist))]\n",
    "\n",
    "datelist = year1 + year2\n",
    "\n",
    "#Second, my own app_id, I already created it\n",
    "app_id = open(\"C:/Users/Cagdas/OneDrive/CEU/OneDrive - Central European University/Fall 2017/Python/class6/api_id.txt\").read().strip()\n",
    "\n",
    "#Third, get the url list \n",
    "url_list = []\n",
    "for date in datelist:   \n",
    "    base_url = \"http://openexchangerates.org/api\"\n",
    "    id_str   = \"app_id=%s\" % app_id\n",
    "    url_list.append(\"%s/historical/%s.json?%s\" % (base_url, date, id_str))\n",
    "\n",
    "#Fourth, make requests and get the text files\n",
    "text_files = []\n",
    "for url in url_list:   \n",
    "    request = urllib.request.Request(url)\n",
    "    result = urllib.request.urlopen(request)\n",
    "    text_files.append(result.read())\n",
    "    \n",
    "#Fifth, json loads\n",
    "data = [json.loads(text_files[i]) for i in range(len(text_files))]\n",
    "\n",
    "#Sixth, creation of time2data dict\n",
    "time2data = {}\n",
    "for i in range(len(datelist)):\n",
    "    time2data[(datelist[i][:4], datelist[i][5:7])] = data[i]\n",
    "\n"
   ]
  },
  {
   "cell_type": "code",
   "execution_count": 3,
   "metadata": {},
   "outputs": [
    {
     "data": {
      "text/plain": [
       "0.719823"
      ]
     },
     "execution_count": 3,
     "metadata": {},
     "output_type": "execute_result"
    }
   ],
   "source": [
    "#query one of the dates.. Looks good!\n",
    "time2data[('2010', '11')]['rates']['EUR']"
   ]
  },
  {
   "cell_type": "markdown",
   "metadata": {
    "collapsed": true
   },
   "source": [
    "2) Register for the API, and create your own app_id key. <b>I have already done it and used it in the first question"
   ]
  },
  {
   "cell_type": "markdown",
   "metadata": {
    "collapsed": true
   },
   "source": [
    "3) Get the exchange rate HUF vs USD from 2000 to 2010, but every six months. Plot it on a plot. "
   ]
  },
  {
   "cell_type": "code",
   "execution_count": 2,
   "metadata": {
    "collapsed": true
   },
   "outputs": [],
   "source": [
    "#I will use this function this time, not DeLorean3, i was surfing internet for a more efficient way.\n",
    "from datetime import date, datetime, timedelta\n",
    "import urllib.request\n",
    "import json\n",
    "\n",
    "def perdelta(start, end, delta):\n",
    "    curr = start\n",
    "    while curr < end:\n",
    "        yield curr\n",
    "        curr += delta\n",
    "\n",
    "datelist = []\n",
    "for result in perdelta(date(2000, 1, 1), date(2010, 12, 12), timedelta(days=180)):\n",
    "    datelist.append(result)\n",
    "    \n",
    "\n",
    "app_id = open(\"C:/Users/Cagdas/OneDrive/CEU/OneDrive - Central European University/Fall 2017/Python/class6/api_id.txt\").read().strip()\n",
    "\n",
    "\n",
    "url_list = []\n",
    "for date in datelist:   \n",
    "    base_url = \"http://openexchangerates.org/api\"\n",
    "    id_str   = \"app_id=%s\" % app_id\n",
    "    url_list.append(\"%s/historical/%s.json?%s\" % (base_url, date, id_str))\n",
    "\n",
    "\n",
    "text_files = []\n",
    "for url in url_list:   \n",
    "    request = urllib.request.Request(url)\n",
    "    result = urllib.request.urlopen(request)\n",
    "    text_files.append(result.read())\n",
    "    \n",
    "\n",
    "data = [json.loads(text_files[i]) for i in range(len(text_files))]\n",
    "\n",
    "dic = {}\n",
    "for i in range(len(datelist)):\n",
    "    dic[(datelist[i].year, datelist[i].month)] = data[i]\n",
    "    \n"
   ]
  },
  {
   "cell_type": "code",
   "execution_count": 5,
   "metadata": {},
   "outputs": [
    {
     "data": {
      "text/plain": [
       "204.074257"
      ]
     },
     "execution_count": 5,
     "metadata": {},
     "output_type": "execute_result"
    }
   ],
   "source": [
    "dic[(2005, 6)]['rates']['HUF'] # i have a value for every 180 days"
   ]
  },
  {
   "cell_type": "code",
   "execution_count": 6,
   "metadata": {},
   "outputs": [
    {
     "name": "stdout",
     "output_type": "stream",
     "text": [
      "2005-06-03\n"
     ]
    }
   ],
   "source": [
    "import datetime\n",
    "print(datetime.datetime.fromtimestamp(int(dic[(2005, 6)]['timestamp'])).strftime('%Y-%m-%d'))\n",
    "\n",
    "#dic[(2005, 6)]['timestamp']"
   ]
  },
  {
   "cell_type": "code",
   "execution_count": 27,
   "metadata": {
    "collapsed": true
   },
   "outputs": [],
   "source": [
    "from datetime import datetime\n",
    "HUFlist = []\n",
    "HUFdates = []\n",
    "for key in dic:\n",
    "    HUFlist.append((dic[key][\"rates\"][\"HUF\"]))\n",
    "    HUFdates.append(datetime.fromtimestamp(dic[key][\"timestamp\"]))\n",
    "\n",
    "\n"
   ]
  },
  {
   "cell_type": "code",
   "execution_count": 15,
   "metadata": {
    "collapsed": true
   },
   "outputs": [],
   "source": [
    "import matplotlib.dates\n",
    "import matplotlib.pyplot as plt\n",
    "import matplotlib\n",
    "%matplotlib inline"
   ]
  },
  {
   "cell_type": "code",
   "execution_count": 48,
   "metadata": {},
   "outputs": [
    {
     "data": {
      "image/png": "[encoded data removed]",
      "text/plain": [
       "<matplotlib.figure.Figure at 0x21a56c9a470>"
      ]
     },
     "metadata": {},
     "output_type": "display_data"
    }
   ],
   "source": [
    "plt.plot(HUFdates, HUFlist, '-o')\n",
    "plt.title(\"half yearly HUF VS USD\")\n",
    "plt.ylabel(\"HUF\")\n",
    "plt.show()"
   ]
  },
  {
   "cell_type": "markdown",
   "metadata": {},
   "source": [
    "4) Get the exchange rate EUR vs USD from 2000 to 2010 monthly (careful with API rate limits! Test with, say, one year of data, and then request the rest). Plot it."
   ]
  },
  {
   "cell_type": "code",
   "execution_count": 29,
   "metadata": {
    "collapsed": true
   },
   "outputs": [],
   "source": [
    "#use the same perdelta fucntion for 30 days interval\n",
    "from datetime import date, datetime, timedelta\n",
    "def perdelta(start, end, delta):\n",
    "    curr = start\n",
    "    while curr < end:\n",
    "        yield curr\n",
    "        curr += delta\n",
    "        \n",
    "datelist = []\n",
    "for result in perdelta(date(2000, 1, 1), date(2010, 12, 12), timedelta(days=30)):\n",
    "    datelist.append(result)\n",
    "    \n",
    "\n",
    "app_id = open(\"C:/Users/Cagdas/OneDrive/CEU/OneDrive - Central European University/Fall 2017/Python/class6/api_id.txt\").read().strip()\n",
    "\n",
    "\n",
    "url_list = []\n",
    "for date in datelist:   \n",
    "    base_url = \"http://openexchangerates.org/api\"\n",
    "    id_str   = \"app_id=%s\" % app_id\n",
    "    url_list.append(\"%s/historical/%s.json?%s\" % (base_url, date, id_str))\n",
    "\n",
    "\n",
    "text_files = []\n",
    "for url in url_list:   \n",
    "    request = urllib.request.Request(url)\n",
    "    result = urllib.request.urlopen(request)\n",
    "    text_files.append(result.read())\n",
    "    \n",
    "\n",
    "data = [json.loads(text_files[i]) for i in range(len(text_files))]\n",
    "\n",
    "dic2 = {}\n",
    "for i in range(len(datelist)):\n",
    "    dic2[(datelist[i].year, datelist[i].month)] = data[i]\n"
   ]
  },
  {
   "cell_type": "code",
   "execution_count": 30,
   "metadata": {},
   "outputs": [
    {
     "data": {
      "text/plain": [
       "0.77092"
      ]
     },
     "execution_count": 30,
     "metadata": {},
     "output_type": "execute_result"
    }
   ],
   "source": [
    "dic2[(2005, 2)]['rates']['EUR'] #test"
   ]
  },
  {
   "cell_type": "code",
   "execution_count": 31,
   "metadata": {
    "collapsed": true
   },
   "outputs": [],
   "source": [
    "EURlist = []\n",
    "EURdates = []\n",
    "for key in dic2:\n",
    "    \n",
    "    EURlist.append((dic2[key][\"rates\"][\"EUR\"]))\n",
    "    EURdates.append(datetime.fromtimestamp(dic2[key][\"timestamp\"]))\n",
    "\n"
   ]
  },
  {
   "cell_type": "code",
   "execution_count": 47,
   "metadata": {},
   "outputs": [
    {
     "data": {
      "image/png": "[encoded data removed]",
      "text/plain": [
       "<matplotlib.figure.Figure at 0x21a55961c88>"
      ]
     },
     "metadata": {},
     "output_type": "display_data"
    }
   ],
   "source": [
    "plt.plot(EURdates, EURlist, '-o')\n",
    "plt.title(\"monthly EUR VS USD\")\n",
    "plt.ylabel(\"EUR\")\n",
    "plt.show()"
   ]
  },
  {
   "cell_type": "markdown",
   "metadata": {},
   "source": [
    "5) Combine the two previous trends in one plot: put EUR vs USD in the main plot and HUF vs USD in an insert. Use different colors, and different symbols."
   ]
  },
  {
   "cell_type": "code",
   "execution_count": 38,
   "metadata": {},
   "outputs": [
    {
     "data": {
      "image/png": "[encoded data removed]",
      "text/plain": [
       "<matplotlib.figure.Figure at 0x21a549c8780>"
      ]
     },
     "metadata": {},
     "output_type": "display_data"
    }
   ],
   "source": [
    "#this one is a trial plot, i wanted to experiment on axes\n",
    "\n",
    "ax = plt.gca()\n",
    "ax2 = ax.twinx()\n",
    "\n",
    "ax.plot(HUFdates, HUFlist, color = 'green')\n",
    "ax2.plot(EURdates, EURlist)\n",
    "ax.set_ylabel(\"HUF\",fontsize=14,color='red')\n",
    "ax2.set_ylabel(\"EUR\",fontsize=14,color='blue')\n",
    "\n",
    "plt.title(\"HUF and EUR prices vs USD\", fontsize=20,color='black')\n",
    "\n",
    "plt.show()\n",
    "\n"
   ]
  },
  {
   "cell_type": "code",
   "execution_count": 49,
   "metadata": {},
   "outputs": [
    {
     "data": {
      "image/png": "[encoded data removed]",
      "text/plain": [
       "<matplotlib.figure.Figure at 0x21a56c9ceb8>"
      ]
     },
     "metadata": {},
     "output_type": "display_data"
    }
   ],
   "source": [
    "#of course it is possible to plot them like mainplot and subplot\n",
    "\n",
    "\n",
    "plt.figure(1, figsize=(10, 5))\n",
    "plt.subplot(211)\n",
    "plt.plot(HUFdates, HUFlist, color = 'green')\n",
    "plt.ylabel(\"HUF vs USD\")\n",
    "\n",
    "plt.subplot(212)\n",
    "plt.plot(EURdates, EURlist)\n",
    "plt.ylabel(\"EUR vs USD\")\n",
    "\n",
    "plt.show()\n"
   ]
  },
  {
   "cell_type": "code",
   "execution_count": null,
   "metadata": {
    "collapsed": true
   },
   "outputs": [],
   "source": []
  }
 ],
 "metadata": {
  "kernelspec": {
   "display_name": "Python 3",
   "language": "python",
   "name": "python3"
  },
  "language_info": {
   "codemirror_mode": {
    "name": "ipython",
    "version": 3
   },
   "file_extension": ".py",
   "mimetype": "text/x-python",
   "name": "python",
   "nbconvert_exporter": "python",
   "pygments_lexer": "ipython3",
   "version": "3.6.2"
  }
 },
 "nbformat": 4,
 "nbformat_minor": 2
}
