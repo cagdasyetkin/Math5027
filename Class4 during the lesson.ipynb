{
 "cells": [
  {
   "cell_type": "markdown",
   "metadata": {},
   "source": [
    "1) Like lists, we can use a dictionary comprehension to create a dictionary. Look up online how to do a dictionary comprehension. Create a dictionary d where you have letters from 'a' to 'z' associated to increasing integer numbers (that is, a:1, b:2, etc). Create then a filtered dictionary, where you keep items associated with odd numbers. Create both dictionaries with a dictionary comprehension."
   ]
  },
  {
   "cell_type": "code",
   "execution_count": 3,
   "metadata": {},
   "outputs": [],
   "source": [
    "import string\n",
    "#string.ascii_lowercase\n",
    "alp = list(string.ascii_lowercase)"
   ]
  },
  {
   "cell_type": "code",
   "execution_count": 7,
   "metadata": {},
   "outputs": [],
   "source": [
    "d={ alp[i]:i for i in range(len(alp)) }"
   ]
  },
  {
   "cell_type": "code",
   "execution_count": 8,
   "metadata": {},
   "outputs": [
    {
     "data": {
      "text/plain": [
       "{'a': 0,\n",
       " 'b': 1,\n",
       " 'c': 2,\n",
       " 'd': 3,\n",
       " 'e': 4,\n",
       " 'f': 5,\n",
       " 'g': 6,\n",
       " 'h': 7,\n",
       " 'i': 8,\n",
       " 'j': 9,\n",
       " 'k': 10,\n",
       " 'l': 11,\n",
       " 'm': 12,\n",
       " 'n': 13,\n",
       " 'o': 14,\n",
       " 'p': 15,\n",
       " 'q': 16,\n",
       " 'r': 17,\n",
       " 's': 18,\n",
       " 't': 19,\n",
       " 'u': 20,\n",
       " 'v': 21,\n",
       " 'w': 22,\n",
       " 'x': 23,\n",
       " 'y': 24,\n",
       " 'z': 25}"
      ]
     },
     "execution_count": 8,
     "metadata": {},
     "output_type": "execute_result"
    }
   ],
   "source": [
    "d"
   ]
  },
  {
   "cell_type": "code",
   "execution_count": 31,
   "metadata": {},
   "outputs": [],
   "source": [
    "#d_new = {d[i]: d.get['i'] for i in range(len(d)) if d.get['i'] % 2 == 1}"
   ]
  },
  {
   "cell_type": "code",
   "execution_count": 48,
   "metadata": {},
   "outputs": [
    {
     "data": {
      "text/plain": [
       "{'b': 1,\n",
       " 'd': 3,\n",
       " 'f': 5,\n",
       " 'h': 7,\n",
       " 'j': 9,\n",
       " 'l': 11,\n",
       " 'n': 13,\n",
       " 'p': 15,\n",
       " 'r': 17,\n",
       " 't': 19,\n",
       " 'v': 21,\n",
       " 'x': 23,\n",
       " 'z': 25}"
      ]
     },
     "execution_count": 48,
     "metadata": {},
     "output_type": "execute_result"
    }
   ],
   "source": [
    "d_new = {key:value for key,value in d.items() if value % 2 == 1}\n",
    "d_new"
   ]
  },
  {
   "cell_type": "code",
   "execution_count": 52,
   "metadata": {},
   "outputs": [
    {
     "data": {
      "text/plain": [
       "[5, 15, 25, 35, 45]"
      ]
     },
     "execution_count": 52,
     "metadata": {},
     "output_type": "execute_result"
    }
   ],
   "source": [
    "[i*5 for i in range(10) if i % 2 == 1]"
   ]
  },
  {
   "cell_type": "code",
   "execution_count": 46,
   "metadata": {},
   "outputs": [
    {
     "name": "stdout",
     "output_type": "stream",
     "text": [
      "b = 1\n",
      "d = 3\n",
      "f = 5\n",
      "h = 7\n",
      "j = 9\n",
      "l = 11\n",
      "n = 13\n",
      "p = 15\n",
      "r = 17\n",
      "t = 19\n",
      "v = 21\n",
      "x = 23\n",
      "z = 25\n"
     ]
    }
   ],
   "source": [
    "for key, value in d.items():\n",
    "    if value % 2 == 1:\n",
    "        \n",
    "        print(key + \" = \" + str(value))"
   ]
  },
  {
   "cell_type": "markdown",
   "metadata": {},
   "source": [
    "3) Write a Python program to map two lists into a dictionary. For example: keys = ['red', 'green', 'blue']  \n",
    "values = ['#FF0000','#008000', '#0000FF']\n",
    "should become: {'blue': '#0000FF', 'green': '#008000', 'red': '#FF0000'}\n",
    "Try to use a dictionary comprehension."
   ]
  },
  {
   "cell_type": "code",
   "execution_count": 62,
   "metadata": {},
   "outputs": [
    {
     "data": {
      "text/plain": [
       "{'blue': '#0000FF', 'green': '#008000', 'red': '#FF0000'}"
      ]
     },
     "execution_count": 62,
     "metadata": {},
     "output_type": "execute_result"
    }
   ],
   "source": [
    "keys = ['red', 'green', 'blue']\n",
    "values = ['#FF0000','#008000', '#0000FF']\n",
    "# {'blue': '#0000FF', 'green': '#008000', 'red': '#FF0000'}\n",
    "\n",
    "\n",
    "finalDict = {}\n",
    "for key, value in zip(keys, values):\n",
    "    finalDict[key] = value\n",
    "\n",
    "finalDict"
   ]
  },
  {
   "cell_type": "code",
   "execution_count": null,
   "metadata": {
    "collapsed": true
   },
   "outputs": [],
   "source": []
  },
  {
   "cell_type": "markdown",
   "metadata": {},
   "source": [
    "2) Write a Python program to concatenate following dictionaries to create a new one.\n",
    "Sample Dictionary:\n",
    "dic1={1:10, 2:20} \n",
    "dic2={3:30, 4:40} \n",
    "dic3={5:50,6:60}\n",
    "Hint: Have a look at the documentation for dict.update()."
   ]
  },
  {
   "cell_type": "code",
   "execution_count": 19,
   "metadata": {
    "collapsed": true
   },
   "outputs": [],
   "source": [
    "dic1={1:10, 2:20} \n",
    "dic2={3:30, 4:40} \n",
    "dic3={5:50,6:60}"
   ]
  },
  {
   "cell_type": "code",
   "execution_count": 20,
   "metadata": {},
   "outputs": [
    {
     "data": {
      "text/plain": [
       "{1: 10, 2: 20, 3: 30, 4: 40, 5: 50, 6: 60}"
      ]
     },
     "execution_count": 20,
     "metadata": {},
     "output_type": "execute_result"
    }
   ],
   "source": [
    "def Dictator(x, y, z):\n",
    "    x.update(y)\n",
    "    x.update(z)\n",
    "    return x\n",
    "\n",
    "Dictator(dic1, dic2, dic3)"
   ]
  },
  {
   "cell_type": "markdown",
   "metadata": {},
   "source": [
    "* Explain the line of code ```mykey,myvalue=line.strip().split()``` you find in one of the cells above\n",
    "\n",
    "* Implement a code that takes as input a file, and counts how often each word appears in the input file and prints it on an outputfile as:\n",
    "\n",
    "    ```word1 count1\n",
    "    word2 count2\n",
    "    ...```\n",
    "\n",
    "    Print all the pairs sorted by word (python will sort punctuation to come before letters -- that's fine). Store all the words as lowercase, so 'The' and 'the' count as the same word. Use this code first on the file ```small.txt``` and then on ```alice.txt```, provided in the folder with this notebook.\n",
    "\n",
    "    _Hint_: don't build the whole program at once. Get it to an intermediate\n",
    "milestone and print your data structure. When that's working, move to the next step.\n"
   ]
  },
  {
   "cell_type": "code",
   "execution_count": 1,
   "metadata": {},
   "outputs": [
    {
     "name": "stdout",
     "output_type": "stream",
     "text": [
      "We are not what we should be\n",
      "\n",
      "We are not what we need to be\n",
      "\n",
      "But at least we are not what we used to be\n",
      "\n",
      "  -- Football Coach\n",
      "\n",
      "\n",
      "\n"
     ]
    }
   ],
   "source": [
    "f=open('small.txt','r')\n",
    "\n",
    "mydict = {}\n",
    "for i in f:\n",
    "    print(i)\n",
    "\n",
    "\n",
    "f.close()"
   ]
  },
  {
   "cell_type": "code",
   "execution_count": 5,
   "metadata": {},
   "outputs": [
    {
     "ename": "ValueError",
     "evalue": "too many values to unpack (expected 2)",
     "output_type": "error",
     "traceback": [
      "\u001b[1;31m---------------------------------------------------------------------------\u001b[0m",
      "\u001b[1;31mValueError\u001b[0m                                Traceback (most recent call last)",
      "\u001b[1;32m<ipython-input-5-19d2bfd8d634>\u001b[0m in \u001b[0;36m<module>\u001b[1;34m()\u001b[0m\n\u001b[0;32m      3\u001b[0m \u001b[0mmydict\u001b[0m \u001b[1;33m=\u001b[0m \u001b[1;33m{\u001b[0m\u001b[1;33m}\u001b[0m\u001b[1;33m\u001b[0m\u001b[0m\n\u001b[0;32m      4\u001b[0m \u001b[1;32mfor\u001b[0m \u001b[0mi\u001b[0m \u001b[1;32min\u001b[0m \u001b[0mf\u001b[0m\u001b[1;33m:\u001b[0m\u001b[1;33m\u001b[0m\u001b[0m\n\u001b[1;32m----> 5\u001b[1;33m     \u001b[0mmykey\u001b[0m\u001b[1;33m,\u001b[0m\u001b[0mmyvalue\u001b[0m\u001b[1;33m=\u001b[0m\u001b[0mi\u001b[0m\u001b[1;33m.\u001b[0m\u001b[0mstrip\u001b[0m\u001b[1;33m(\u001b[0m\u001b[1;33m)\u001b[0m\u001b[1;33m\u001b[0m\u001b[0m\n\u001b[0m\u001b[0;32m      6\u001b[0m     \u001b[0mmydict\u001b[0m\u001b[1;33m[\u001b[0m\u001b[0mmykey\u001b[0m\u001b[1;33m]\u001b[0m\u001b[1;33m=\u001b[0m\u001b[0mmyvalue\u001b[0m\u001b[1;33m\u001b[0m\u001b[0m\n\u001b[0;32m      7\u001b[0m \u001b[1;33m\u001b[0m\u001b[0m\n",
      "\u001b[1;31mValueError\u001b[0m: too many values to unpack (expected 2)"
     ]
    }
   ],
   "source": [
    "f=open('small.txt','r')\n",
    "\n",
    "mydict = {}\n",
    "for i in f:\n",
    "    mykey,myvalue=i.strip()\n",
    "    mydict[mykey]=myvalue\n",
    "\n",
    "f.close()\n",
    "\n",
    "print(mydict)"
   ]
  },
  {
   "cell_type": "code",
   "execution_count": null,
   "metadata": {
    "collapsed": true
   },
   "outputs": [],
   "source": []
  }
 ],
 "metadata": {
  "kernelspec": {
   "display_name": "Python 3",
   "language": "python",
   "name": "python3"
  },
  "language_info": {
   "codemirror_mode": {
    "name": "ipython",
    "version": 3
   },
   "file_extension": ".py",
   "mimetype": "text/x-python",
   "name": "python",
   "nbconvert_exporter": "python",
   "pygments_lexer": "ipython3",
   "version": "3.6.1"
  }
 },
 "nbformat": 4,
 "nbformat_minor": 2
}
