{
 "cells": [
  {
   "cell_type": "markdown",
   "metadata": {},
   "source": [
    "<div class=\"frontmatter text-center\">\n",
    "<h2> MATH5027 Scientific Python, Fall 2017</h2>\n",
    "<h2> Homework 3, Due: Tuesday October 10th, 3pm </h2>\n",
    "</div>\n",
    "\n",
    "Instructions: complete the selection of exercises from the week's class notebooks. Use markdown cells between code examples to explain."
   ]
  },
  {
   "cell_type": "markdown",
   "metadata": {},
   "source": [
    "## Questions \n",
    "### From Class 4:\n",
    "\n",
    "1) Write a Python program to concatenate following dictionaries to create a new one.\n",
    "\n",
    "Sample Dictionary: \n",
    "\n",
    "``dic1={1:10, 2:20} \n",
    "dic2={3:30, 4:40} \n",
    "dic3={5:50,6:60} ``\n",
    "\n",
    "_Hint_: Have a look at the documentation for dict.update().\n",
    "\n",
    "2) Write a Python program to map two lists into a dictionary. For example:\n",
    "```keys = ['red', 'green', 'blue']  \n",
    "values = ['#FF0000','#008000', '#0000FF']  ```\n",
    "\n",
    "should become:\n",
    "```{'blue': '#0000FF', 'green': '#008000', 'red': '#FF0000'}```\n",
    "\n",
    "Try to use a dictionary comprehension.\n",
    "\n",
    "3) Write a Python program to multiply all the values in a dictionary, assuming you have a dictionary with floats or ints as your values.\n",
    "\n",
    "4) Write a ***function*** to print keys and values of a dictionary:\n",
    "* sorted by key\n",
    "* sorted by value\n",
    "\n",
    "_Hint_: there are many ways to do this, but give it a try with lambda functions."
   ]
  },
  {
   "cell_type": "markdown",
   "metadata": {},
   "source": [
    "<h2>Answers from Class 4</h2>"
   ]
  },
  {
   "cell_type": "markdown",
   "metadata": {},
   "source": [
    "1) concat the dicts"
   ]
  },
  {
   "cell_type": "code",
   "execution_count": 1,
   "metadata": {},
   "outputs": [
    {
     "data": {
      "text/plain": [
       "{1: 10, 2: 20, 3: 30, 4: 40, 5: 50, 6: 60}"
      ]
     },
     "execution_count": 1,
     "metadata": {},
     "output_type": "execute_result"
    }
   ],
   "source": [
    "dic1={1:10, 2:20} \n",
    "dic2={3:30, 4:40} \n",
    "dic3={5:50,6:60}\n",
    "\n",
    "def DoomsDayDevice(x, y, z):\n",
    "    x.update(y)\n",
    "    x.update(z)\n",
    "    return x\n",
    "\n",
    "DoomsDayDevice(dic1, dic2, dic3)"
   ]
  },
  {
   "cell_type": "markdown",
   "metadata": {},
   "source": [
    "2) map the lists into a dict"
   ]
  },
  {
   "cell_type": "code",
   "execution_count": 2,
   "metadata": {},
   "outputs": [
    {
     "data": {
      "text/plain": [
       "{'blue': '#0000FF', 'green': '#008000', 'red': '#FF0000'}"
      ]
     },
     "execution_count": 2,
     "metadata": {},
     "output_type": "execute_result"
    }
   ],
   "source": [
    "keys = ['red', 'green', 'blue']\n",
    "values = ['#FF0000','#008000', '#0000FF']\n",
    "# {'blue': '#0000FF', 'green': '#008000', 'red': '#FF0000'}\n",
    "\n",
    "\n",
    "finalDict = {}\n",
    "for key, value in zip(keys, values):\n",
    "    finalDict[key] = value\n",
    "\n",
    "finalDict"
   ]
  },
  {
   "cell_type": "code",
   "execution_count": 5,
   "metadata": {},
   "outputs": [
    {
     "data": {
      "text/plain": [
       "{'blue': '#0000FF', 'green': '#008000', 'red': '#FF0000'}"
      ]
     },
     "execution_count": 5,
     "metadata": {},
     "output_type": "execute_result"
    }
   ],
   "source": [
    "# trying the same question with dict comprehension\n",
    "keys = ['red', 'green', 'blue']\n",
    "values = ['#FF0000','#008000', '#0000FF']\n",
    "# {'blue': '#0000FF', 'green': '#008000', 'red': '#FF0000'}\n",
    "\n",
    "\n",
    "finalDict = {key : value for key,value in zip(keys, values)}\n",
    "\n",
    "finalDict"
   ]
  },
  {
   "cell_type": "markdown",
   "metadata": {},
   "source": [
    "\n",
    "### From Class 5:\n",
    "\n",
    "1) Create the list flips with a one-liner (hint: use list comprehension and google how to use if/else statements within the comprehension).\n",
    "\n",
    "2) What type of variable is run2count? Can you do casting (i.e. can you change the type to something more familiar)?\n",
    "\n",
    "3) Write code to create a dictionary like run2count, without using Counter\n",
    "\n",
    "4) Take the logarithms of the number of runs and plot that vs run length\n",
    "_Note_: writing ```log(count)``` will return an error. The goal of the exercise is to find the solution to this :)\n",
    "\n",
    "5) Use ```semilogy``` to put the y-axis in a log scale\n",
    "\n",
    "6) Figure out how to plot the x-axis in log scale, then both axes.\n"
   ]
  },
  {
   "cell_type": "markdown",
   "metadata": {},
   "source": [
    "<h2>Answers from Class 4</h2>"
   ]
  },
  {
   "cell_type": "markdown",
   "metadata": {},
   "source": [
    "1) flips with list comprehension"
   ]
  },
  {
   "cell_type": "code",
   "execution_count": 2,
   "metadata": {},
   "outputs": [
    {
     "data": {
      "text/plain": [
       "['H', 'H', 'T', 'H', 'T', 'T', 'H', 'H', 'H', 'T']"
      ]
     },
     "execution_count": 2,
     "metadata": {},
     "output_type": "execute_result"
    }
   ],
   "source": [
    "import random\n",
    "p = 0.7\n",
    "\n",
    "flips = [\"H\" if random.random() < p else \"T\" for i in range(1000)]\n",
    "flips[:10] # lets check the first elements of the list"
   ]
  },
  {
   "cell_type": "markdown",
   "metadata": {},
   "source": [
    "2) variable is run2count"
   ]
  },
  {
   "cell_type": "code",
   "execution_count": 3,
   "metadata": {},
   "outputs": [
    {
     "name": "stdout",
     "output_type": "stream",
     "text": [
      "Counter({1: 64, 2: 50, 4: 24, 3: 21, 5: 11, 6: 9, 7: 8, 8: 8, 11: 4, 9: 2, 10: 2, 14: 2, 13: 1, 17: 1, 12: 1})\n"
     ]
    }
   ],
   "source": [
    "from collections import Counter\n",
    "\n",
    "S = \"\".join( flips )\n",
    "heads_runs = S.split(\"T\")\n",
    "run_lengths = [ len(run) for run in heads_runs if run ]\n",
    "\n",
    "run2count = Counter(run_lengths)\n",
    "print(run2count)"
   ]
  },
  {
   "cell_type": "code",
   "execution_count": 4,
   "metadata": {},
   "outputs": [
    {
     "data": {
      "text/plain": [
       "collections.Counter"
      ]
     },
     "execution_count": 4,
     "metadata": {},
     "output_type": "execute_result"
    }
   ],
   "source": [
    "type(run2count)"
   ]
  },
  {
   "cell_type": "markdown",
   "metadata": {},
   "source": [
    "from official documentation:\n",
    "Collections module implements specialized container datatypes providing alternatives to Python’s general purpose built-in containers, dict, list, set, and tuple.\n",
    "\n",
    "Counter method creates dict subclass for counting a hashable object. In this case our object is run_lenghts and we got ourselves a Counter.\n",
    "\n",
    "Let's see if we can cast it to a different type which is more familiar"
   ]
  },
  {
   "cell_type": "code",
   "execution_count": 5,
   "metadata": {},
   "outputs": [
    {
     "data": {
      "text/plain": [
       "[2, 1, 3, 6, 13, 5, 7, 8, 4, 11, 9, 17, 10, 14, 12]"
      ]
     },
     "execution_count": 5,
     "metadata": {},
     "output_type": "execute_result"
    }
   ],
   "source": [
    "list(run2count) #keys are returned however the values are not coming. Might be useful if I was only interested in keys."
   ]
  },
  {
   "cell_type": "code",
   "execution_count": 6,
   "metadata": {},
   "outputs": [
    {
     "data": {
      "text/plain": [
       "{1: 64,\n",
       " 2: 50,\n",
       " 3: 21,\n",
       " 4: 24,\n",
       " 5: 11,\n",
       " 6: 9,\n",
       " 7: 8,\n",
       " 8: 8,\n",
       " 9: 2,\n",
       " 10: 2,\n",
       " 11: 4,\n",
       " 12: 1,\n",
       " 13: 1,\n",
       " 14: 2,\n",
       " 17: 1}"
      ]
     },
     "execution_count": 6,
     "metadata": {},
     "output_type": "execute_result"
    }
   ],
   "source": [
    "dict(run2count) #both keys and values are returned. This is a good one."
   ]
  },
  {
   "cell_type": "code",
   "execution_count": 7,
   "metadata": {},
   "outputs": [
    {
     "data": {
      "text/plain": [
       "(2, 1, 3, 6, 13, 5, 7, 8, 4, 11, 9, 17, 10, 14, 12)"
      ]
     },
     "execution_count": 7,
     "metadata": {},
     "output_type": "execute_result"
    }
   ],
   "source": [
    "tuple(run2count) #again keys are returned but values are not"
   ]
  },
  {
   "cell_type": "code",
   "execution_count": 8,
   "metadata": {},
   "outputs": [
    {
     "ename": "TypeError",
     "evalue": "int() argument must be a string, a bytes-like object or a number, not 'Counter'",
     "output_type": "error",
     "traceback": [
      "\u001b[1;31m---------------------------------------------------------------------------\u001b[0m",
      "\u001b[1;31mTypeError\u001b[0m                                 Traceback (most recent call last)",
      "\u001b[1;32m<ipython-input-8-bad934669abd>\u001b[0m in \u001b[0;36m<module>\u001b[1;34m()\u001b[0m\n\u001b[1;32m----> 1\u001b[1;33m \u001b[0mint\u001b[0m\u001b[1;33m(\u001b[0m\u001b[0mrun2count\u001b[0m\u001b[1;33m)\u001b[0m\u001b[1;33m\u001b[0m\u001b[0m\n\u001b[0m",
      "\u001b[1;31mTypeError\u001b[0m: int() argument must be a string, a bytes-like object or a number, not 'Counter'"
     ]
    }
   ],
   "source": [
    "int(run2count) #this operation doesnt make sense however I would like to show what happens:"
   ]
  },
  {
   "cell_type": "markdown",
   "metadata": {},
   "source": [
    "3) Write code to <b>create a dictionary</b> like run2count, without using Counter"
   ]
  },
  {
   "cell_type": "code",
   "execution_count": 14,
   "metadata": {},
   "outputs": [
    {
     "name": "stdout",
     "output_type": "stream",
     "text": [
      "[2, 1, 3, 1, 6, 1, 2, 13, 5, 7, 3, 1, 8, 1, 4, 1, 2, 3, 5, 2, 1, 8, 8, 1, 2, 1, 2, 2, 2, 1, 4, 1, 1, 2, 1, 1, 1, 4, 2, 2, 4, 1, 4, 2, 11, 1, 9, 3, 1, 2, 3, 1, 3, 1, 3, 4, 9, 7, 1, 2, 4, 3, 7, 2, 4, 1, 2, 1, 2, 3, 8, 2, 1, 6, 17, 2, 4, 7, 1, 1, 1, 3, 6, 4, 2, 11, 1, 2, 5, 10, 3, 1, 5, 1, 5, 1, 1, 6, 2, 1, 1, 2, 2, 4, 5, 2, 4, 3, 1, 3, 2, 1, 3, 3, 2, 6, 3, 5, 7, 7, 6, 4, 2, 4, 2, 2, 1, 2, 4, 4, 1, 3, 1, 8, 1, 6, 1, 2, 1, 1, 1, 1, 2, 5, 4, 7, 2, 1, 2, 8, 4, 4, 2, 7, 2, 1, 3, 2, 1, 1, 2, 2, 1, 14, 1, 1, 4, 1, 14, 1, 8, 4, 2, 1, 2, 8, 2, 1, 3, 1, 1, 1, 1, 3, 11, 11, 5, 10, 6, 3, 2, 4, 2, 4, 1, 1, 1, 2, 6, 1, 2, 4, 12, 2, 5, 5, 2, 2]\n",
      "***********************************************************************************\n",
      "{2: 50, 1: 64, 3: 21, 6: 9, 13: 1, 5: 11, 7: 8, 8: 8, 4: 24, 11: 4, 9: 2, 17: 1, 10: 2, 14: 2, 12: 1}\n"
     ]
    }
   ],
   "source": [
    "S = \"\".join( flips )\n",
    "heads_runs = S.split(\"T\")\n",
    "run_lengths = [ len(run) for run in heads_runs if run ]\n",
    "\n",
    "print(run_lengths)\n",
    "print(\"***********************************************************************************\")\n",
    "\n",
    "d = {}\n",
    "for i in run_lengths:\n",
    "    \n",
    "    if i in d:\n",
    "        d[i] = d[i] + 1\n",
    "    else:\n",
    "        d[i] = 1\n",
    "\n",
    "print(d)\n"
   ]
  },
  {
   "cell_type": "markdown",
   "metadata": {},
   "source": [
    "4) Take the logarithms of the number of runs and plot that vs run length Note: writing log(count) will return an error. The goal of the exercise is to find the solution to this :)"
   ]
  },
  {
   "cell_type": "code",
   "execution_count": 25,
   "metadata": {
    "collapsed": true
   },
   "outputs": [],
   "source": [
    "import matplotlib\n",
    "import matplotlib.pyplot as plt\n",
    "import math\n",
    "%matplotlib inline"
   ]
  },
  {
   "cell_type": "code",
   "execution_count": 41,
   "metadata": {},
   "outputs": [
    {
     "data": {
      "text/plain": [
       "<matplotlib.text.Text at 0x2a7156a5128>"
      ]
     },
     "execution_count": 41,
     "metadata": {},
     "output_type": "execute_result"
    },
    {
     "data": {
      "image/png": "[encoded data removed]",
      "text/plain": [
       "<matplotlib.figure.Figure at 0x2a714f001d0>"
      ]
     },
     "metadata": {},
     "output_type": "display_data"
    }
   ],
   "source": [
    "#run lenghts are 2,1,3,6,13... y axis\n",
    "#number of runs are 50, 64, 21, 9, 1... take the log of these.. x axis\n",
    "\n",
    "# split run and count into separate lists:\n",
    "run_count_sorted=sorted(d.items(), key=lambda x: x[0])\n",
    "run,count = zip(*run_count_sorted) \n",
    "#print(run, count)\n",
    "\n",
    "log_count = [round(math.log(i), 2) for i in count]\n",
    "\n",
    "\n",
    "'''\n",
    "fig = plt.figure()\n",
    "axes = fig.add_axes([0.1, 0.1, 0.8, 0.8]) # left, bottom, width, height (range 0 to 1)\n",
    "\n",
    "axes.plot(log_count, run, 'r')\n",
    "\n",
    "axes.set_xlabel('log(number of runs)')\n",
    "axes.set_ylabel('run_lenghts')\n",
    "axes.set_title('log(number of runs) vs. run_lenghts')\n",
    "\n",
    "'''\n"
   ]
  },
  {
   "cell_type": "code",
   "execution_count": null,
   "metadata": {
    "collapsed": true
   },
   "outputs": [],
   "source": []
  }
 ],
 "metadata": {
  "kernelspec": {
   "display_name": "Python 3",
   "language": "python",
   "name": "python3"
  },
  "language_info": {
   "codemirror_mode": {
    "name": "ipython",
    "version": 3
   },
   "file_extension": ".py",
   "mimetype": "text/x-python",
   "name": "python",
   "nbconvert_exporter": "python",
   "pygments_lexer": "ipython3",
   "version": "3.6.2"
  }
 },
 "nbformat": 4,
 "nbformat_minor": 2
}
